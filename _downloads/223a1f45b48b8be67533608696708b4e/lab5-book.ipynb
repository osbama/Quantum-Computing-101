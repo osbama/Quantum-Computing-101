{
 "cells": [
  {
   "cell_type": "markdown",
   "id": "079a7bf9",
   "metadata": {},
   "source": [
    "# Learning Outcomes\n",
    "- Some clarification about SWAP gate\n",
    "- No-clonning theorem\n",
    "- Density matrix formalism\n",
    "- Partial trace\n",
    "- Schmidt Decomposition"
   ]
  },
  {
   "attachments": {
    "image.png": {
     "image/png": "[encoded data removed]"
    }
   },
   "cell_type": "markdown",
   "id": "9d68782f",
   "metadata": {},
   "source": [
    "# SWAP Gate\n",
    "\n",
    "As you may remember from our previous labs we had defined a SWAP gate which basically swaps the contents of two qubits. We also provided the following decomposition of the SWAP gate:\n",
    "\n",
    "![image.png](attachment:image.png)\n",
    "\n",
    "Now, after reading your homeworks I realized that some of you understood the action of this gate incompletely. When one of the qubits in state $|0\\rangle$ and the other one is in $|1\\rangle$, after applying the SWAP gate it is clear that their contents are exchanged. However, if they are both in arbitrary superposition states $|\\psi\\rangle = a_0 |0\\rangle + a_1 |1 \\rangle $ and $|\\phi \\rangle = b_0 |0\\rangle + b_1 |1 \\rangle$, this gate will also exchange these two states."
   ]
  },
  {
   "cell_type": "markdown",
   "id": "f5251174",
   "metadata": {},
   "source": [
    "# Exercise 1\n",
    "\n",
    "Show that acting $CX_{0,1} CX_{1,0} CX_{0,1}$ to state $|\\psi\\rangle \\otimes |\\phi \\rangle$ produces $|\\phi\\rangle \\otimes |\\psi\\rangle$, where $|\\psi\\rangle = a_0 |0\\rangle + a_1 |1 \\rangle $ and $|\\phi \\rangle = b_0 |0\\rangle + b_1 |1 \\rangle$."
   ]
  },
  {
   "cell_type": "markdown",
   "id": "c9afaa5a",
   "metadata": {},
   "source": [
    "# Answer \n",
    "\n",
    "?"
   ]
  },
  {
   "cell_type": "markdown",
   "id": "509d3411",
   "metadata": {},
   "source": [
    "# No Clonning Theorem\n",
    "\n",
    "Given an arbitrary quantum state, which we don't know exactly, is it possible to copy it without disturbing the wave function? It should be clear to you that we can not perform any measurements on the quantum state since measuring it will cause wave function to collapse. \n",
    "\n",
    "$$ |\\psi \\rangle = a_0 |0 \\rangle + a_1 |1 \\rangle$$ \n",
    "\n",
    "That is, if we go and measure our qubit initialized to this arbitrary state, we will either get 0 or 1. We will not learn any thing about the unknown coefficients and we will have destroyed it.\n",
    "\n",
    "Let's try something different. Let's say we have a unitary transformation that does the following:\n",
    "\n",
    "$$ U |\\psi \\rangle |e \\rangle = |\\psi \\rangle |\\psi \\rangle $$\n",
    "\n",
    "It simply copies the content of the first qubit to the zeroth qubit, which is initialized to an empty state. That is, it doesn't matter what is in the zeroth qubit, it goes ahead and does this. Now for this operator to be realizable, it has to be unitary and all unitary operators are linear. So let's see if this operator works as intended.\n",
    "\n",
    "$$ U |0 \\rangle | e \\rangle = |0 \\rangle | e \\rangle $$\n",
    "\n",
    "$$ U |1 \\rangle | e \\rangle = |1 \\rangle | e \\rangle $$\n",
    "\n",
    "$$ U |\\psi\\rangle |e \\rangle = U(a_0 |0 \\rangle + a_1 | 1 \\rangle ) |e \\rangle ) = a_0 U|0\\rangle|e\\rangle + a_1U|1\\rangle |e\\rangle$$\n",
    "\n",
    "$$ U |\\psi \\rangle |e \\rangle = a_0 |0 \\rangle |0 \\rangle + a_1 |1 \\rangle |1 \\rangle \\neq |\\psi\\rangle |\\psi \\rangle $$\n",
    "\n",
    "So we reach a contraction. Which proves that such a machine can not exist! "
   ]
  },
  {
   "cell_type": "markdown",
   "id": "34ab8afe",
   "metadata": {},
   "source": [
    "# Exercise 2\n",
    "\n",
    "What is $|\\psi \\rangle |\\psi \\rangle$ for $|\\psi \\rangle = a_0 |0\\rangle + a_1 |1 \\rangle $?\n"
   ]
  },
  {
   "cell_type": "markdown",
   "id": "ea07e05e",
   "metadata": {},
   "source": [
    "# Answer\n",
    "\n",
    "?"
   ]
  },
  {
   "cell_type": "markdown",
   "id": "abdaec3b",
   "metadata": {},
   "source": [
    "# Exercise 3\n",
    "\n",
    "What do you think no-clonning theorem implies for quantum computers? If a universal quantum computer were to be built, do you think it would have a RAM ?"
   ]
  },
  {
   "cell_type": "markdown",
   "id": "dedd94eb",
   "metadata": {},
   "source": [
    "# Answer\n",
    "\n",
    "?"
   ]
  },
  {
   "cell_type": "markdown",
   "id": "5f5ea5c1",
   "metadata": {},
   "source": [
    "# Density Matrix Formalism\n",
    "\n",
    "Density matrix, or density operator, is an alternative way to describe a given quantum system. For some cases, though, it can be more useful than the state vector formalism. For example, let's say we are given an ensemble of quantum states. That is, our quantum system is in state $|\\psi_i\\rangle$ with probability $p_i$. Than we can define the following operator as the density matrix describing the system:\n",
    "\n",
    "$$ \\rho = \\sum_i p_i |\\psi_i \\rangle \\langle \\psi_i | $$\n",
    "\n",
    "These kind of states are called mixed states, and if $p_i = 1$ for some i, that is the density matrix is as follows:\n",
    "\n",
    "$$ \\rho = |\\psi_i \\rangle \\langle \\psi_i |$$\n",
    "\n",
    "it is called a pure state.\n",
    "\n",
    "Let's now show how we formulate postulates of quantum mechanics using the density matrix formalism. Let's say $U$ describes the time evolution of a ket. Then we know that time evolved version of $|\\psi_i\\rangle$ can be found easily:\n",
    "\n",
    "$$ | \\psi_i(t) \\rangle = U |\\psi_i \\rangle $$\n",
    "\n",
    "Now if $\\rho_0 = \\sum_i p_i |\\psi_i \\rangle \\langle \\psi_i | $ than the density matrix's time evolution can be found easily:\n",
    "\n",
    "$$ \\rho(t) = \\sum_i p_i |\\psi_i(t) \\rangle \\langle \\psi_i(t) | = \\sum_i p_i U |\\psi_i\\rangle\\langle\\psi_i|U^\\dagger = U \\rho U^\\dagger $$\n"
   ]
  },
  {
   "cell_type": "markdown",
   "id": "9ffb491f",
   "metadata": {},
   "source": [
    "We can also write down the measurement operator in density matrix language easily. If you remember, given a measurement operator $M_m$ and a state $|\\psi_i\\rangle$, probability of measuring $m$ was:\n",
    "\n",
    "$$ p(m|i) = \\langle \\psi_i | M_m^\\dagger M_m | \\psi_i \\rangle = tr(M_m^\\dagger M_m |\\psi_i\\rangle\\langle\\psi_i|)$$\n",
    "\n",
    "So if we are given a measurement operator $M_m$ and a density matrix $\\rho$ we can write down the probability of measuring $m$ as:\n",
    "\n",
    "$$ p(m) = tr(M_m^\\dagger M_m \\rho ) $$\n",
    "\n",
    "Some nice properties of trace operation is:\n",
    "\n",
    "$$ tr(A |i\\rangle \\langle j|) = \\langle j | A |i \\rangle $$\n",
    "\n",
    "$$ tr(ABC) = tr(BCA) = tr(CAB) $$\n",
    "\n",
    "After performing a measurement $M_m$ on a state $|\\psi_i\\rangle$ the system collapses to the following state:\n",
    "\n",
    "$$ |\\psi_i^m \\rangle = \\frac{M_m |\\psi_i\\rangle} {\\sqrt{\\langle \\psi_i | M_m^\\dagger M_m | \\psi_i \\rangle} } $$\n",
    "\n",
    "In density matrix formalism, we have the following density matrix after the measurement:\n",
    "\n",
    "$$ \\rho_m = \\frac{ M_m \\rho M_m^\\dagger } {tr(M_m \\rho M_m^\\dagger )} $$"
   ]
  },
  {
   "cell_type": "markdown",
   "id": "0b48a011",
   "metadata": {},
   "source": [
    "Not much changes when you combine multiple quantum systems together. For example, let's say $|\\psi_0\\rangle$, and $|\\psi_1 \\rangle$ describes the state of two qubits. When we want to describe both qubit as a single system, we use the tensor product. So the state is described by $|\\psi_0 \\rangle \\otimes | \\psi_1 \\rangle $. Similar situation occurs for density matrices too! Given two density matrices $\\rho_0$ and $\\rho_1$, combined system is described by $\\rho_0 \\otimes \\rho_1 $."
   ]
  },
  {
   "cell_type": "markdown",
   "id": "988bfde3",
   "metadata": {},
   "source": [
    "# Exercise 4\n",
    "\n",
    "Let's say $\\rho = \\frac{1}{2} |0\\rangle \\langle 0 | + \\frac{1}{2} |1\\rangle \\langle 1 |$, $M_0 = |0\\rangle \\langle 0|$ and $M_1 = | 1 \\rangle \\langle 1 | $. Answer the following:\n",
    "\n",
    "- What is the probability that $M$ measurement yields 0? That is, $p(0) = tr(M_0^\\dagger M_0 \\rho)$.\n",
    "- What will the density matrix be after the measurement yields 0?\n",
    "- What is the probability that $M$ measurement yields 1? That is, $p(1) = tr(M_1^\\dagger M_1 \\rho)$.\n",
    "- What will the density matrix be after the measurement yields 1?"
   ]
  },
  {
   "cell_type": "markdown",
   "id": "31546cd0",
   "metadata": {},
   "source": [
    "# Answer\n",
    "\n",
    "?"
   ]
  },
  {
   "cell_type": "markdown",
   "id": "57184415",
   "metadata": {},
   "source": [
    "# Properties of Density Operator\n",
    "\n",
    "Well, the density operator has trace equal to 1. This is quite easy to prove actually:\n",
    "\n",
    "$$ tr(\\rho) = tr( \\sum_i p_i | \\psi_i \\rangle \\langle \\psi_i | ) = \\sum_i p_i \\langle \\psi_i | \\psi_i \\rangle = \\sum_i p_i = 1 $$.\n",
    "\n",
    "$\\rho$ is a positive operator. This is also quite easy to prove, given an arbitary state $|x\\rangle$:\n",
    "\n",
    "$$ \\langle x | \\rho | x \\rangle = \\sum_i p_i \\langle x | \\psi_i \\rangle \\langle \\psi_i | x \\rangle = \\sum_i p_i |\\langle x | \\psi_i \\rangle |^2  \\geq 0 $$\n",
    "\n",
    "Actually, any matrix that has trace 1 and is positive can be considered as a density matrix. One neat thing about being a positive operator is that we can write it's spectral decomposition as follows:\n",
    "\n",
    "$$ \\rho = \\sum_j \\lambda_j |j \\rangle \\langle j | $$\n",
    "\n",
    "where $\\lambda_j$ are real, non-negative eigenvalues of $\\rho$ and $|j\\rangle$ are orthogonal to each other.\n",
    "\n",
    "One other thing that is quite important about density matrices is the fact that two different ensembles can give rise to the same density matrix.\n",
    "\n",
    "Finally, we can have a look at $tr(\\rho^2)$ to see if the system described by $\\rho$ is a mixed or a pure state. $tr(\\rho^2) = 1$ if and only if $\\rho$ describes a pure state."
   ]
  },
  {
   "cell_type": "markdown",
   "id": "5d550d40",
   "metadata": {},
   "source": [
    "# Exercise 5\n",
    "\n",
    "Let $\\rho = \\frac{3}{4} | 0 \\rangle \\langle 0 | + \\frac{1}{4} |1 \\rangle \\langle 1 |$. Show that $\\rho' = \\frac{1}{2} |a \\rangle \\langle a + \\frac{1}{2} | b \\rangle \\langle b| $ is equal to $\\rho$ where:\n",
    "\n",
    "$$ |a \\rangle = \\sqrt{\\frac{3}{4} } |0 \\rangle + \\sqrt{\\frac{1}{4} } |1 \\rangle $$ \n",
    "$$ |b \\rangle = \\sqrt{\\frac{3}{4} } |0 \\rangle - \\sqrt{\\frac{1}{4} } |1 \\rangle $$ \n"
   ]
  },
  {
   "cell_type": "markdown",
   "id": "d750f5e9",
   "metadata": {},
   "source": [
    "# Answer\n",
    "\n",
    "?"
   ]
  },
  {
   "cell_type": "markdown",
   "id": "6de19c2b",
   "metadata": {},
   "source": [
    "# Exercise 6\n",
    "\n",
    "Let $\\rho_0 = \\frac{1}{2} | 0 \\rangle \\langle 0 | + \\frac{1}{2} |1 \\rangle \\langle 1 |$ and $\\rho_1 = \\frac{1}{2} | + \\rangle \\langle + | + \\frac{1}{2} |- \\rangle \\langle - |$. Is $\\rho_0$ equal to $\\rho_1$? What kind of a physical system does $\\rho_0$ describes if $|0\\rangle$ represent spin up along Z axis, $|1 \\rangle$ represents spin down along Z axis, $|+\\rangle$ represents spin up along X axis, and $|-\\rangle$ represents spin down along X axis?"
   ]
  },
  {
   "cell_type": "markdown",
   "id": "d6d7c6c9",
   "metadata": {},
   "source": [
    "# Answer\n",
    "\n",
    "?"
   ]
  },
  {
   "cell_type": "markdown",
   "id": "0907e810",
   "metadata": {},
   "source": [
    "# Reduced Density Operator\n",
    "\n",
    "Let's say $\\rho^{AB}$ describes a composite quantum system AB. Then the reduced density operator for system A is defined by:\n",
    "\n",
    "$$ \\rho^A = tr_B(\\rho^{AB}) $$\n",
    "\n",
    "$$ tr_B( |a_1 \\rangle \\langle a_2 \\otimes | b_1 \\rangle \\langle b_2 | ) = |a_1 \\rangle \\langle a_2 | tr(|b_1\\rangle \\langle b_2 | ) $$\n",
    "\n",
    "It may look a bit confusing, but it is quite straigh forward actually. Let's say $\\rho$ describes the quantum system A, and $\\sigma$ describes the quantum system B. In order to describe the combined system we use $\\phi = \\rho \\otimes \\sigma$. Reduced density operator is just a way to go back from this combined system to the smaller system. So we can apply the reduced density operator definiton to $\\phi$ to go get the density matrix for A, let's say:\n",
    "\n",
    "$$ \\rho_A = tr_B( \\phi ) = tr_B ( \\rho \\otimes \\sigma) = \\rho tr(\\sigma) = \\rho $$.\n",
    "\n"
   ]
  },
  {
   "cell_type": "markdown",
   "id": "52390b88",
   "metadata": {},
   "source": [
    "# Exercise 7\n",
    "\n",
    "Let's say we are given the following Bell state:\n",
    "\n",
    "$$ |\\psi \\rangle = \\frac{1}{\\sqrt{2}} | 00 \\rangle + \\frac{1}{\\sqrt{2}} | 11 \\rangle $$.\n",
    "\n",
    "- Write down the density matrix $\\rho$ describing the state. ( Hint: |psi><psi| )\n",
    "- Calculate the reduced density matrix for the 1st qubit. Hint: page 106 of our bible \n",
    "- Is the system described by the reduced density matrix you just calculated a mixed state or a pure state ? "
   ]
  },
  {
   "cell_type": "markdown",
   "id": "c0c97f72",
   "metadata": {},
   "source": [
    "# Answer\n",
    "\n",
    "?"
   ]
  },
  {
   "cell_type": "markdown",
   "id": "af2c4420",
   "metadata": {},
   "source": [
    "# Schmidt Decomposition\n",
    "\n",
    "Now, let's move on to something a little more interesting. Given a bipartite pure quantum state $|\\psi\\rangle$, how can we determine if it is entangled or not? One way we to do it would be to write it as tensor product of two states and if succesful we can say that it is a product state. \n",
    "\n",
    "$$ |\\psi \\rangle = \\frac{1}{\\sqrt{2}} ( |0 \\rangle | 0 \\rangle + |0 \\rangle | 1 \\rangle ) $$\n",
    "$$ |\\psi \\rangle = |0 \\rangle \\otimes \\frac{1}{\\sqrt{2}} ( |0\\rangle + |1 \\rangle ) $$ \n",
    "\n",
    "But it is not always to see that it could be the case. For example, let's look at the following state:\n",
    "\n",
    "$$ |\\psi \\rangle = \\frac{1}{2} ( |00\\rangle + |01\\rangle + |10 \\rangle + |11 \\rangle )$$\n",
    "\n",
    "This is also a product state. More specifically, it is $|+\\rangle \\otimes |+\\rangle$."
   ]
  },
  {
   "cell_type": "markdown",
   "id": "1343e7f4",
   "metadata": {},
   "source": [
    "# Exercise 8\n",
    "\n",
    "Show that $|+\\rangle \\otimes |+\\rangle$ is equal to  $\\frac{1}{2} ( |00\\rangle + |01\\rangle + |10 \\rangle + |11 \\rangle )$.\n"
   ]
  },
  {
   "cell_type": "markdown",
   "id": "8f7414ab",
   "metadata": {},
   "source": [
    "# Answer\n",
    "\n",
    "?"
   ]
  },
  {
   "cell_type": "markdown",
   "id": "d6a30aae",
   "metadata": {},
   "source": [
    "Schmidt decomposition theorem states that any bipartite pure quantum state can be written as follows:\n",
    "\n",
    "$$ |\\psi\\rangle_{AB} = \\sum_i^{\\text{min($d_A,d_B$)}} \\lambda_i |u_i\\rangle_A \\otimes |v_i\\rangle_B$$\n",
    "\n",
    "where $d_A$ and $d_B$ are the dimensions of the subsystems A,B, $|u_i\\rangle$ and $|v_i\\rangle$ are orthonormal basis for these subsystems, and finally $\\lambda_i \\geq 0$.\n",
    "\n",
    "$\\lambda_i$ are called Schmidt coefficients and they are useful for determining if a state is entangled or not. We define the Schmidt rank as the number of $\\lambda_i$ that are not equal to zero. If the Schmidt rank of a system is 1, then it is a product state, if it is greater than 1 it is an entangled state.\n",
    "\n"
   ]
  },
  {
   "cell_type": "markdown",
   "id": "5712226a",
   "metadata": {},
   "source": [
    "Let's do an example to clarify what we said. Let's take the following Bell state and write it in Schmidt decomposition:\n",
    "\n",
    "$$ |\\psi \\rangle = \\frac{1}{\\sqrt{2}} |00\\rangle + \\frac{1}{\\sqrt{2}} |11\\rangle $$\n",
    "$$ |\\psi \\rangle = \\frac{1}{\\sqrt{2}} |0\\rangle\\otimes |0\\rangle + \\frac{1}{\\sqrt{2}} |1\\rangle \\otimes |1\\rangle $$\n",
    "\n",
    "So we have two Schmidt coefficients  both equal to $1/\\sqrt{2}$, hence Schmidt rank of the system is 2."
   ]
  },
  {
   "cell_type": "markdown",
   "id": "dc2806fc",
   "metadata": {},
   "source": [
    "# Exercise 9\n",
    "\n",
    "Write the following state in Schmidt decomposition form:\n",
    "\n",
    "$$ |\\psi \\rangle = \\frac{1}{2} ( |00\\rangle - |01\\rangle - |10 \\rangle + |11 \\rangle ) $$\n",
    "\n",
    "Is it a product or an entangled state? (Hintminus)"
   ]
  },
  {
   "cell_type": "markdown",
   "id": "ada62e5c",
   "metadata": {},
   "source": [
    "# Answer"
   ]
  },
  {
   "cell_type": "code",
   "execution_count": null,
   "id": "5cacbafd",
   "metadata": {},
   "outputs": [],
   "source": []
  }
 ],
 "metadata": {
  "kernelspec": {
   "display_name": "Python 3",
   "language": "python",
   "name": "python3"
  },
  "language_info": {
   "codemirror_mode": {
    "name": "ipython",
    "version": 3
   },
   "file_extension": ".py",
   "mimetype": "text/x-python",
   "name": "python",
   "nbconvert_exporter": "python",
   "pygments_lexer": "ipython3",
   "version": "3.8.8"
  }
 },
 "nbformat": 4,
 "nbformat_minor": 5
}
