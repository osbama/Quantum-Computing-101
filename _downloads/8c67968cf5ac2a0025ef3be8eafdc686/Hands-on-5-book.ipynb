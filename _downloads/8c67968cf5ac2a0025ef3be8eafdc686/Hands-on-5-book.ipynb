{
 "cells": [
  {
   "cell_type": "markdown",
   "id": "9528aa08",
   "metadata": {
    "id": "TJDBzM7PFsQN",
    "pycharm": {
     "name": "#%% md\n"
    }
   },
   "source": [
    "# Hands-on 5\n",
    "\n"
   ]
  },
  {
   "cell_type": "code",
   "execution_count": 1,
   "outputs": [
    {
     "data": {
      "text/plain": "<IPython.core.display.HTML object>",
      "text/html": "<h3>Version Information</h3><table><tr><th>Qiskit Software</th><th>Version</th></tr><tr><td><code>qiskit-terra</code></td><td>0.19.2</td></tr><tr><td><code>qiskit-aer</code></td><td>0.10.3</td></tr><tr><td><code>qiskit-ignis</code></td><td>0.7.0</td></tr><tr><td><code>qiskit-ibmq-provider</code></td><td>0.18.3</td></tr><tr><td><code>qiskit</code></td><td>0.34.2</td></tr><tr><td><code>qiskit-nature</code></td><td>0.3.1</td></tr><tr><td><code>qiskit-optimization</code></td><td>0.3.1</td></tr><tr><td><code>qiskit-machine-learning</code></td><td>0.3.1</td></tr><tr><th>System information</th></tr><tr><td>Python version</td><td>3.8.12</td></tr><tr><td>Python compiler</td><td>GCC 7.5.0</td></tr><tr><td>Python build</td><td>default, Oct 12 2021 13:49:34</td></tr><tr><td>OS</td><td>Linux</td></tr><tr><td>CPUs</td><td>24</td></tr><tr><td>Memory (Gb)</td><td>62.71326446533203</td></tr><tr><td colspan='2'>Wed Apr 13 13:54:45 2022 +03</td></tr></table>"
     },
     "metadata": {},
     "output_type": "display_data"
    }
   ],
   "source": [
    "import qiskit.tools.jupyter\n",
    "%qiskit_version_table"
   ],
   "metadata": {
    "collapsed": false,
    "pycharm": {
     "name": "#%%\n"
    }
   }
  },
  {
   "cell_type": "markdown",
   "source": [
    "\n",
    "\n",
    "##  Quantum Coin Game\n",
    "\n",
    "Please check [Ted talk by Sohini Ghosh](https://www.ted.com/talks/shohini_ghose_a_beginner_s_guide_to_quantum_computing#t-208006) and Quantum Coin Flipping from [Wikipedia](https://en.wikipedia.org/wiki/Quantum_coin_flipping) first.\n",
    "\n",
    "Quantum Coin Game is one of the fundamental concept of quantum computing, which uses simple implementation of quantum gates or more precisely uses the wierdness of quantum mechanics, to win about 97% of the time, when played against an opponent. Flipping of coin and say heads or tails. The concept of Quantum Coin Game came from the idea of classical coin game which can only show heads and tails. But since the game utilizes the concepts of quantum mechanics, it would be interesting to see what could be the outcome of the whole experiment. The main concept of this game is how the quantum computer uses the power of quantum superposition, which tells an object can exists in 2 different states at the same time, to win absolutely everytime.\n",
    "\n",
    " ### What are the rules of this game ?\n",
    " 1. Quantum Computer plays a move but it is not revealed to the Opponent(Human).\n",
    " 2. Opponent(Human) plays a move and it is also not revealed to the Quantum Computer.\n",
    " 3. Finally Quantum Computer plays a move.\n",
    " 4. Results are shown. If its heads, then Quantum Computer wins. Else, Opponent(Human) wins.\n",
    "\n",
    "**NOTE**: \"Playing a move\" refers to \"Flipping the coin\" and we consider the coin as fair coin.\n"
   ],
   "metadata": {
    "collapsed": false,
    "pycharm": {
     "name": "#%% md\n"
    }
   }
  },
  {
   "cell_type": "code",
   "execution_count": 2,
   "id": "b8474d7b",
   "metadata": {
    "pycharm": {
     "name": "#%%\n"
    }
   },
   "outputs": [
    {
     "data": {
      "text/plain": "VBox(children=(Dropdown(description='Choice: ', options=(('Identity', 'i'), ('Bit Flip', 'x')), value='i'), Bu…",
      "application/vnd.jupyter.widget-view+json": {
       "version_major": 2,
       "version_minor": 0,
       "model_id": "d3219e82a0fd4ca1b8d5ee149522628d"
      }
     },
     "metadata": {},
     "output_type": "display_data"
    }
   ],
   "source": [
    "# Importing all the necessary library\n",
    "from qiskit import QuantumCircuit, Aer, IBMQ, QuantumRegister, ClassicalRegister, execute\n",
    "from qiskit.tools.jupyter import *\n",
    "from qiskit.visualization import *\n",
    "import qiskit.tools.jupyter\n",
    "import ipywidgets as widgets\n",
    "\n",
    "# Layout\n",
    "button_p = widgets.Button(\n",
    "    description='Play')\n",
    "gate_p = widgets.Dropdown(\n",
    "    options=[('Identity', 'i'), ('Bit Flip', 'x')],\n",
    "    description='Choice: ',\n",
    "    disabled=False,\n",
    ")\n",
    "out_p = widgets.Output()\n",
    "def on_button_clicked(b):\n",
    "    with out_p:\n",
    "        \n",
    "        # Initial Circuit\n",
    "        circuit_p = QuantumRegister(1, 'circuit')\n",
    "        measure_p = ClassicalRegister(1, 'result')\n",
    "        qc_p = QuantumCircuit(circuit_p, measure_p)\n",
    "        \n",
    "        # Turn 1\n",
    "        qc_p.h(circuit_p[0])\n",
    "        \n",
    "        # Turn 2\n",
    "        if gate_p.value == 'i':\n",
    "            qc_p.i(circuit_p[0])\n",
    "        if gate_p.value == 'x':\n",
    "            qc_p.x(circuit_p[0])\n",
    "        \n",
    "        # Turn 3\n",
    "        qc_p.h(circuit_p[0])\n",
    "        \n",
    "        # Measure  \n",
    "        qc_p.measure(circuit_p, measure_p)\n",
    "        \n",
    "        # QASM\n",
    "        backend_p = Aer.get_backend('aer_simulator')\n",
    "        job_p = execute(qc_p, backend_p, shots=8192)\n",
    "        res_p = job_p.result().get_counts()\n",
    "        \n",
    "        # Result\n",
    "        if len(res_p) == 1 and list(res_p.keys())[0] == '0':\n",
    "            print(\"You Lose to Quantum. Quantum Computer Wins\")\n",
    "        if len(res_p) == 1 and list(res_p.keys())[0] == '1':\n",
    "            print(\"You Win against Quantum Computer\")\n",
    "        if len(res_p) == 2:\n",
    "            print(\"Either Quantum or You Wins\")\n",
    "\n",
    "button_p.on_click(on_button_clicked)\n",
    "widgets.VBox([gate_p, button_p, out_p])"
   ]
  },
  {
   "cell_type": "markdown",
   "id": "a7cbcd28",
   "metadata": {
    "id": "TMsXKAxk6-dt",
    "pycharm": {
     "name": "#%% md\n"
    }
   },
   "source": [
    "### Analogy <a id=\"analogy\"></a>\n",
    "\n",
    "Now that we know what is a quantum coin game, what is it based on and most importantly what are the rules of this game, lets convert the concept of this game in quantum computing terminology.\n",
    "\n",
    "* The 'coin' in flipping a coin we referring here is a 'single qubit gate'.\n",
    "\n",
    "$$\n",
    "      |\\psi\\rangle=\\begin{bmatrix}\\alpha \\\\ \\beta\\end{bmatrix}\n",
    "$$\n",
    "\n",
    "  where $\\alpha, \\beta \\in \\mathbb{C}$ and $|\\alpha|^2 + |\\beta|^2 = 1$\n",
    "\n",
    "\n",
    "* \"Flipping\" the coin is application of the bit-flip operator\n",
    "\n",
    "$$\n",
    "  X = \\begin{bmatrix} 0 & 1 \\\\ 1 & 0 \\end{bmatrix}\n",
    "$$\n",
    "\n",
    "* The \"heads\" state is defined as \n",
    "$$\n",
    "|0\\rangle = \\begin{bmatrix} 1 \\\\ 0 \\end{bmatrix}\n",
    "$$ and \"tails\" as \n",
    "$$\n",
    "|1\\rangle = \\begin{bmatrix} 0 \\\\ 1 \\end{bmatrix}\n",
    "$$\n",
    "\n",
    "* The quantum computer \"plays\" by applying the Hadamard $H$ operator \n",
    "$$\n",
    "H = \\frac{1}{\\sqrt{2}} \\begin{bmatrix}  1 & 1 \\\\ 1 & -1 \\end{bmatrix}\n",
    "$$\n"
   ]
  },
  {
   "cell_type": "markdown",
   "id": "14066634",
   "metadata": {
    "id": "PdPizFWxBr5m",
    "pycharm": {
     "name": "#%% md\n"
    }
   },
   "source": [
    "### Approach <a id=\"approach\"></a>\n",
    "\n",
    "Lets see how to approach the game in quantum computing terminology-\n",
    "\n",
    "* The coin is initialized to the $|0\\rangle$ \"heads\" state.\n",
    "\n",
    "* The computer plays, applying the Hadamard $H$ operator to the coin (operators are applied using matrix multiplication). \n",
    "$$\n",
    "H|0\\rangle = \\frac{1}{\\sqrt2}(|0\\rangle + |1\\rangle)\n",
    "$$\n",
    "The coin enters the \n",
    "$$\n",
    "H|0\\rangle = |+\\rangle = \\frac{1}{\\sqrt{2}} \\begin{bmatrix}  1 \\\\ 1 \\end{bmatrix}\n",
    "$$\n",
    "state.\n",
    "\n",
    "\n",
    "* The human plays, choosing whether to flip the coin (apply the $X$ operator) or do nothing (apply the $I$ operator). However, since the $X$ operator just flips the state vector upside down, $X$ has no effect. Same goes for $I$.\n",
    "$$\n",
    "X|+\\rangle=|+\\rangle \n",
    "$$\n",
    "$$\n",
    "I|+\\rangle=|+\\rangle \n",
    "$$\n",
    "No matter what, the state is $|+\\rangle$ after the human plays.\n",
    "\n",
    "* The computer plays, applying the Hadamard $H$ operator again, taking the coin to the $|0⟩$ \"heads\" state.\n",
    "$$\n",
    "H|+\\rangle = |0\\rangle\n",
    "$$"
   ]
  },
  {
   "cell_type": "code",
   "execution_count": 3,
   "id": "aa5a026d",
   "metadata": {
    "id": "mEDO89d8L1pG",
    "pycharm": {
     "name": "#%%\n"
    }
   },
   "outputs": [],
   "source": [
    "# Importing all the necessary library\n",
    "\n",
    "from qiskit import QuantumCircuit, Aer, IBMQ, QuantumRegister, ClassicalRegister, execute\n",
    "from qiskit.tools.jupyter import *\n",
    "from qiskit.visualization import *\n",
    "import qiskit.tools.jupyter\n",
    "import ipywidgets as widgets"
   ]
  },
  {
   "cell_type": "code",
   "execution_count": 4,
   "id": "5c132150",
   "metadata": {
    "pycharm": {
     "name": "#%%\n"
    }
   },
   "outputs": [],
   "source": [
    "# Building the initial circuit\n",
    "\n",
    "def initial_circuit():\n",
    "    circuit = QuantumRegister(1, 'circuit')\n",
    "    measure = ClassicalRegister(1, 'result')\n",
    "    qc = QuantumCircuit(circuit, measure)\n",
    "    qc.draw('mpl')\n",
    "    return qc, circuit, measure"
   ]
  },
  {
   "cell_type": "code",
   "execution_count": 5,
   "id": "a0bdf0dc",
   "metadata": {
    "pycharm": {
     "name": "#%%\n"
    }
   },
   "outputs": [],
   "source": [
    "# Widget Initialization\n",
    "\n",
    "gate = widgets.Dropdown(\n",
    "    options=[('Identity', 'i'), ('Bit Flip', 'x')],\n",
    "    description='Choice: ',\n",
    "    disabled=False,\n",
    ")"
   ]
  },
  {
   "cell_type": "markdown",
   "id": "51292438",
   "metadata": {
    "pycharm": {
     "name": "#%% md\n"
    }
   },
   "source": [
    "### Optimal Strategy\n",
    "\n",
    "Using the above approach the possibility table reduces to-\n",
    "\n",
    "<table>\n",
    "<tr>\n",
    "    <th>Start State</th>\n",
    "    <th>Quantum</th>\n",
    "    <th>Classical</th>\n",
    "    <th>Quantum</th>\n",
    "    <th>Result</th>\n",
    "    <th>Who Wins?</th>\n",
    "</tr>\n",
    "<tr>\n",
    "    <td>$|0\\rangle$</td>\n",
    "    <td>$H$</td>\n",
    "    <td>$I$</td>\n",
    "    <td>$H$</td>\n",
    "    <td>$|0\\rangle$</td>\n",
    "    <td>Quantum</td>\n",
    "</tr>\n",
    "<tr>\n",
    "    <td>$|0\\rangle$</td>\n",
    "    <td>$H$</td>\n",
    "    <td>$X$</td>\n",
    "    <td>$H$</td>\n",
    "    <td>$|0\\rangle$</td>\n",
    "    <td>Quantum</td>\n",
    "</tr>\n",
    "</table>\n",
    "\n",
    "Now lets look at the possibilities-\n",
    "\n",
    "\n",
    "1. Quantum Computer Wins ( $|0\\rangle$ ):\n",
    "\n",
    "$$\n",
    "\\frac{2}{2} = 100 \\%\n",
    "$$\n",
    "\n",
    "2. Classical Human Wins ( $|1\\rangle$ ):\n",
    "\n",
    "$$\n",
    "  \\frac{0}{2} = 0 \\%\n",
    "$$\n",
    "\n",
    "3. Either Quantum Computer or Classical Human Wins ( $|0\\rangle + |1\\rangle$ ):\n",
    "\n",
    "$$\n",
    "  \\frac{0}{2} = 0 \\%\n",
    "$$"
   ]
  },
  {
   "cell_type": "markdown",
   "id": "c6ac8039",
   "metadata": {
    "pycharm": {
     "name": "#%% md\n"
    }
   },
   "source": [
    "This table shows the quantum computer wins $100\\%$ of the time. But in Shohini's talk it is $~97\\%$, due to errors."
   ]
  },
  {
   "cell_type": "markdown",
   "id": "b3fbf470",
   "metadata": {
    "pycharm": {
     "name": "#%% md\n"
    }
   },
   "source": [
    "### Lets play this version using Qiskit"
   ]
  },
  {
   "cell_type": "markdown",
   "id": "e8fa09d1",
   "metadata": {
    "pycharm": {
     "name": "#%% md\n"
    }
   },
   "source": [
    "#### Building the initial circuit"
   ]
  },
  {
   "cell_type": "code",
   "execution_count": 6,
   "id": "1becf96d",
   "metadata": {
    "pycharm": {
     "name": "#%%\n"
    }
   },
   "outputs": [],
   "source": [
    "qc, circuit, measure = initial_circuit()"
   ]
  },
  {
   "cell_type": "markdown",
   "id": "50761468",
   "metadata": {
    "pycharm": {
     "name": "#%% md\n"
    }
   },
   "source": [
    "#### **Turn 1. Quantum Computer**"
   ]
  },
  {
   "cell_type": "code",
   "execution_count": 7,
   "id": "5b020ed0",
   "metadata": {
    "scrolled": true,
    "pycharm": {
     "name": "#%%\n"
    }
   },
   "outputs": [
    {
     "data": {
      "text/plain": "<Figure size 184.874x144.48 with 1 Axes>",
      "image/png": "[encoded data removed]"
     },
     "execution_count": 7,
     "metadata": {},
     "output_type": "execute_result"
    }
   ],
   "source": [
    "# Use H Gate\n",
    "\n",
    "qc.h(circuit[0])\n",
    "qc.draw('mpl')"
   ]
  },
  {
   "cell_type": "markdown",
   "id": "9460c1ed",
   "metadata": {
    "pycharm": {
     "name": "#%% md\n"
    }
   },
   "source": [
    "#### **Turn 2. Classical Human**"
   ]
  },
  {
   "cell_type": "code",
   "execution_count": 8,
   "id": "9937d190",
   "metadata": {
    "pycharm": {
     "name": "#%%\n"
    }
   },
   "outputs": [
    {
     "data": {
      "text/plain": "<Figure size 245.074x144.48 with 1 Axes>",
      "image/png": "[encoded data removed]"
     },
     "execution_count": 8,
     "metadata": {},
     "output_type": "execute_result"
    }
   ],
   "source": [
    "if gate.value == 'i':\n",
    "    qc.i(circuit[0])\n",
    "if gate.value == 'x':\n",
    "    qc.x(circuit[0])\n",
    "\n",
    "qc.draw('mpl')"
   ]
  },
  {
   "cell_type": "markdown",
   "id": "eaa49c0a",
   "metadata": {
    "pycharm": {
     "name": "#%% md\n"
    }
   },
   "source": [
    "#### **Turn 3. Quantum Computer**"
   ]
  },
  {
   "cell_type": "markdown",
   "id": "62201773",
   "metadata": {
    "pycharm": {
     "name": "#%% md\n"
    }
   },
   "source": [
    "Quantum Computer uses Hadamard $H$ on its first turn"
   ]
  },
  {
   "cell_type": "code",
   "execution_count": 9,
   "id": "7871350a",
   "metadata": {
    "scrolled": true,
    "pycharm": {
     "name": "#%%\n"
    }
   },
   "outputs": [
    {
     "data": {
      "text/plain": "<Figure size 305.274x144.48 with 1 Axes>",
      "image/png": "[encoded data removed]"
     },
     "execution_count": 9,
     "metadata": {},
     "output_type": "execute_result"
    }
   ],
   "source": [
    "# Used H Gate\n",
    "\n",
    "qc.h(circuit[0])\n",
    "qc.draw('mpl')"
   ]
  },
  {
   "cell_type": "markdown",
   "id": "0dcf9d65",
   "metadata": {
    "pycharm": {
     "name": "#%% md\n"
    }
   },
   "source": [
    "#### **Measurement** <a id=\"quantum_measurement\"></a>"
   ]
  },
  {
   "cell_type": "code",
   "execution_count": 10,
   "id": "1af614ff",
   "metadata": {
    "pycharm": {
     "name": "#%%\n"
    }
   },
   "outputs": [
    {
     "data": {
      "text/plain": "<Figure size 365.474x144.48 with 1 Axes>",
      "image/png": "[encoded data removed]"
     },
     "execution_count": 10,
     "metadata": {},
     "output_type": "execute_result"
    }
   ],
   "source": [
    "qc.measure(circuit, measure)\n",
    "qc.draw('mpl')"
   ]
  },
  {
   "cell_type": "markdown",
   "id": "db5bf662",
   "metadata": {
    "pycharm": {
     "name": "#%% md\n"
    }
   },
   "source": [
    "#### **QASM_Simulator** <a id=\"quantum_qasm\"></a>"
   ]
  },
  {
   "cell_type": "code",
   "execution_count": 11,
   "id": "01ec610d",
   "metadata": {
    "pycharm": {
     "name": "#%%\n"
    }
   },
   "outputs": [
    {
     "name": "stdout",
     "output_type": "stream",
     "text": [
      "{'0': 8192}\n"
     ]
    },
    {
     "data": {
      "text/plain": "<Figure size 504x360 with 1 Axes>",
      "image/png": "[encoded data removed]"
     },
     "execution_count": 11,
     "metadata": {},
     "output_type": "execute_result"
    }
   ],
   "source": [
    "backend = Aer.get_backend('aer_simulator')\n",
    "job = execute(qc, backend, shots=8192)\n",
    "res = job.result().get_counts()\n",
    "print(res)\n",
    "plot_histogram(res)"
   ]
  },
  {
   "cell_type": "markdown",
   "id": "14223907",
   "metadata": {
    "tags": [],
    "pycharm": {
     "name": "#%% md\n"
    }
   },
   "source": [
    "#### **Lets see who wins** <a id=\"quantum_wins\"></a>"
   ]
  },
  {
   "cell_type": "code",
   "execution_count": 12,
   "id": "4f2c0789",
   "metadata": {
    "pycharm": {
     "name": "#%%\n"
    }
   },
   "outputs": [
    {
     "name": "stdout",
     "output_type": "stream",
     "text": [
      "Quantum Computer Wins\n"
     ]
    }
   ],
   "source": [
    "if len(res) == 1 and list(res.keys())[0] == '0':\n",
    "    print(\"Quantum Computer Wins\")\n",
    "if len(res) == 1 and list(res.keys())[0] == '1':\n",
    "    print(\"Classical Human Wins\")\n",
    "if len(res) == 2:\n",
    "    print(\"Either Quantum Computer or Classical Human Wins\")"
   ]
  },
  {
   "cell_type": "markdown",
   "id": "a3e5831d",
   "metadata": {
    "tags": [],
    "pycharm": {
     "name": "#%% md\n"
    }
   },
   "source": [
    "#### **Running on Quantum Computer** <a id=\"real_qc\"></a>"
   ]
  },
  {
   "cell_type": "code",
   "execution_count": 13,
   "id": "308b15a2",
   "metadata": {
    "tags": [
     "uses-hardware"
    ],
    "pycharm": {
     "name": "#%%\n"
    }
   },
   "outputs": [
    {
     "ename": "IBMQAccountCredentialsNotFound",
     "evalue": "'No IBM Quantum Experience credentials found.'",
     "output_type": "error",
     "traceback": [
      "\u001B[0;31m---------------------------------------------------------------------------\u001B[0m",
      "\u001B[0;31mIBMQAccountCredentialsNotFound\u001B[0m            Traceback (most recent call last)",
      "Input \u001B[0;32mIn [13]\u001B[0m, in \u001B[0;36m<cell line: 1>\u001B[0;34m()\u001B[0m\n\u001B[0;32m----> 1\u001B[0m provider \u001B[38;5;241m=\u001B[39m \u001B[43mIBMQ\u001B[49m\u001B[38;5;241;43m.\u001B[39;49m\u001B[43mload_account\u001B[49m\u001B[43m(\u001B[49m\u001B[43m)\u001B[49m\n\u001B[1;32m      2\u001B[0m backend_real \u001B[38;5;241m=\u001B[39m provider\u001B[38;5;241m.\u001B[39mget_backend(\u001B[38;5;124m'\u001B[39m\u001B[38;5;124mibmq_manila\u001B[39m\u001B[38;5;124m'\u001B[39m)\n\u001B[1;32m      3\u001B[0m job_real \u001B[38;5;241m=\u001B[39m execute(qc, backend_real, shots\u001B[38;5;241m=\u001B[39m\u001B[38;5;241m8192\u001B[39m)\n",
      "File \u001B[0;32m~/Prog/miniconda3/envs/QisKit/lib/python3.8/site-packages/qiskit/providers/ibmq/ibmqfactory.py:167\u001B[0m, in \u001B[0;36mIBMQFactory.load_account\u001B[0;34m(self)\u001B[0m\n\u001B[1;32m    164\u001B[0m credentials_list \u001B[38;5;241m=\u001B[39m \u001B[38;5;28mlist\u001B[39m(stored_credentials\u001B[38;5;241m.\u001B[39mvalues())\n\u001B[1;32m    166\u001B[0m \u001B[38;5;28;01mif\u001B[39;00m \u001B[38;5;129;01mnot\u001B[39;00m credentials_list:\n\u001B[0;32m--> 167\u001B[0m     \u001B[38;5;28;01mraise\u001B[39;00m IBMQAccountCredentialsNotFound(\n\u001B[1;32m    168\u001B[0m         \u001B[38;5;124m'\u001B[39m\u001B[38;5;124mNo IBM Quantum Experience credentials found.\u001B[39m\u001B[38;5;124m'\u001B[39m)\n\u001B[1;32m    170\u001B[0m \u001B[38;5;28;01mif\u001B[39;00m \u001B[38;5;28mlen\u001B[39m(credentials_list) \u001B[38;5;241m>\u001B[39m \u001B[38;5;241m1\u001B[39m:\n\u001B[1;32m    171\u001B[0m     \u001B[38;5;28;01mraise\u001B[39;00m IBMQAccountMultipleCredentialsFound(\n\u001B[1;32m    172\u001B[0m         \u001B[38;5;124m'\u001B[39m\u001B[38;5;124mMultiple IBM Quantum Experience credentials found. \u001B[39m\u001B[38;5;124m'\u001B[39m \u001B[38;5;241m+\u001B[39m UPDATE_ACCOUNT_TEXT)\n",
      "\u001B[0;31mIBMQAccountCredentialsNotFound\u001B[0m: 'No IBM Quantum Experience credentials found.'"
     ]
    }
   ],
   "source": [
    "provider = IBMQ.load_account()\n",
    "backend_real = provider.get_backend('ibmq_manila')\n",
    "job_real = execute(qc, backend_real, shots=8192)\n",
    "res_real = job_real.result().get_counts()\n",
    "print(res_real)\n",
    "plot_histogram(res_real)"
   ]
  },
  {
   "cell_type": "markdown",
   "id": "f8be92c9",
   "metadata": {
    "pycharm": {
     "name": "#%% md\n"
    }
   },
   "source": [
    "Unlike the perfect simulation, the real quantum computer only wins ~$99\\ \\%$ of the time, the $1\\ \\%$ in which it loses is due to errors. Quantum computers have improved a bit since [Shohini's talk](#conclusion) where the error is closer to $3\\ \\%$."
   ]
  },
  {
   "cell_type": "markdown",
   "id": "52f27e41",
   "metadata": {
    "pycharm": {
     "name": "#%% md\n"
    }
   },
   "source": [
    "### Conclusion\n",
    "\n",
    "This simple and yet fun little game shows the basic quantum states $|0\\rangle$, $|1\\rangle$, $|+\\rangle$ and $|−\\rangle$, plus the common ways of moving between them with the $X$, $H$, $I$, $Z$ gates."
   ]
  },
  {
   "cell_type": "markdown",
   "id": "a4fc3c5c",
   "metadata": {
    "pycharm": {
     "name": "#%% md\n"
    }
   },
   "source": [
    "### Send it after class 1:\n",
    "\n",
    "Think of other variations of the game, and tweak the game as follows\n",
    "\n",
    "1. What if, instead of quantum computer taking first turn, the classical human take the first turn ?\n",
    "2. What if, instead of representing head as $|0\\rangle$, the tail is represented as $|0\\rangle$ ?\n",
    "3. What if, instead of using fair coin, we used unfair coin ?\n",
    "4. What if, instead of playing against a classical human, the quantum computer plays with another quantum computer ?\n",
    "5. What if, instead of having 3 turns, there are $n$ number of turns ?\n",
    "6. What if, instead of using all gates, restrict the use of some gates ?\n",
    "\n",
    "how did the results change?"
   ]
  },
  {
   "cell_type": "markdown",
   "id": "50307881",
   "metadata": {
    "pycharm": {
     "name": "#%% md\n"
    }
   },
   "source": [
    "## Local Reality and the CHSH inequality\n",
    "\n",
    "We have seen in a previous module how quantum entanglement results in strong correlations in a multi-partite system. In fact these correlations appear to be stronger than anything that could be explained using classical physics.\n",
    "\n",
    "The historical development of quantum mechanics is filled with agitated discussions about the true nature of reality and the extent to which quantum mechanics can explain it. Given the spectacular empirical success of quantum mechanics, it was going to be clear that people would not simply give it up just because some of its aspects were hard to reconcile with intuition.\n",
    "\n",
    "At the root of these different points of views was the question of the nature of measurement. We know there is an element of randomness in quantum measurements, but is that really so? Is there a sneaky way by which the Universe has already decided beforehand which value a given measurement is going to yield at a future time? This hypothesis was the basis for different _hidden variable_ theories. But these theories did not only need to explain randomness at the single particle level. They also needed to explain what happens when different observers measure different parts of a multi-partite entangled system! This went beyond just hidden variable theories. Now a local hidden variable theory was needed in order to reconcile the observations of quantum mechanics with a Universe in which local reality was valid.\n",
    "\n",
    "What is local reality? In an Universe where locality holds, it should be possible to separate two systems so far in space that they could not interact with each other. The concept of reality is related to whether a measurable quantity holds a particular value _in the absence of any future measurement_. \n",
    "\n",
    "In 1963, John Stewart Bell published what could be argued as one of the most profound discoveries in the history of science. Bell stated that any theory invoking local hidden variables could be experimentally ruled out. In this section we are going to see how, and we will run a real experiment that demonstrates so! (with some remaining loopholes to close...)"
   ]
  },
  {
   "cell_type": "markdown",
   "id": "393c4477",
   "metadata": {
    "pycharm": {
     "name": "#%% md\n"
    }
   },
   "source": [
    "### The CHSH inequality\n",
    "\n",
    "Imagine Alice and Bob are given each one part of a bipartite entangled system. Each of them then performs two measurements on their part in two different bases. Let's call Alice's bases _A_ and _a_ and Bob's _B_ and _b_. What is the expectation value of the quantity $\\langle CHSH \\rangle = \\langle AB \\rangle - \\langle Ab \\rangle + \\langle aB \\rangle + \\langle ab \\rangle$ ? \n",
    "\n",
    "Now, Alice and Bob have one qubit each, so any measurement they perform on their system (qubit) can only yield one of two possible outcomes: +1 or -1. Note that whereas we typically refer to the two qubit states as $|0\\rangle$ and $|1\\rangle$, these are *eigenstates*, and a projective measurement will yield their *eigenvalues*, +1 and -1, respectively. \n",
    "\n",
    "Therefore, if any measurement of _A_, _a_, _B_, and _b_ can only yield $\\pm 1$, the quantities $(B-b)$ and $(B+b)$ can only be 0 or $\\pm2$. And thus, the quantity $A(B-b) + a(B+b)$ can only be either +2 or -2, which means that there should be a bound for the expectation value of the quantity we have called $|\\langle CHSH \\rangle| =|\\langle AB \\rangle - \\langle Ab \\rangle + \\langle aB \\rangle + \\langle ab \\rangle| \\leq 2$.\n",
    "\n",
    "Now, the above discussion is oversimplified, because we could consider that the outcome on any set of measurements from Alice and Bob could depend on a set of local hidden variables, but it can be shown with some math that, even when that is the case, the expectation value of the quantity $CHSH$ should be bounded by 2 if local realism held.\n",
    "\n",
    "But what happens when we do these experiments with an entangled system? Let's try it!"
   ]
  },
  {
   "cell_type": "code",
   "execution_count": 14,
   "id": "350a1a98",
   "metadata": {
    "pycharm": {
     "name": "#%%\n"
    }
   },
   "outputs": [],
   "source": [
    "#import qiskit tools\n",
    "import qiskit\n",
    "from qiskit import QuantumCircuit, ClassicalRegister, QuantumRegister, transpile, Aer, IBMQ\n",
    "from qiskit.tools.visualization import circuit_drawer\n",
    "from qiskit.tools.monitor import job_monitor, backend_monitor, backend_overview\n",
    "from qiskit.providers.aer import noise\n",
    "\n",
    "#import python stuff\n",
    "import matplotlib.pyplot as plt\n",
    "import numpy as np\n",
    "import time"
   ]
  },
  {
   "cell_type": "code",
   "execution_count": null,
   "id": "8a084c54",
   "metadata": {
    "tags": [
     "uses-hardware"
    ],
    "pycharm": {
     "name": "#%%\n"
    }
   },
   "outputs": [],
   "source": [
    "# Set devices, if using a real device\n",
    "IBMQ.load_account()\n",
    "provider = IBMQ.get_provider('ibm-q')\n",
    "quito = provider.get_backend('ibmq_quito')"
   ]
  },
  {
   "cell_type": "code",
   "execution_count": null,
   "id": "5c7a87c7",
   "metadata": {
    "pycharm": {
     "name": "#%%\n"
    }
   },
   "outputs": [],
   "source": [
    "sim = Aer.get_backend('aer_simulator')"
   ]
  },
  {
   "cell_type": "markdown",
   "id": "a9d70842",
   "metadata": {
    "pycharm": {
     "name": "#%% md\n"
    }
   },
   "source": [
    "First we are going to define a function to create our CHSH circuits. We are going to choose, without loss of generality, that Bob always uses the computational ($Z$) and the $X$ bases for his $B$ and $b$ measurements, respectively, whereas Alice chooses also orthogonal bases but whose angle we are going to vary between $0$ and $2\\pi$ with respect to Bob's bases. This set of angles is going to be the input argument to our $CHSH$ circuit building function."
   ]
  },
  {
   "cell_type": "code",
   "execution_count": null,
   "id": "6c1de1e7",
   "metadata": {
    "pycharm": {
     "name": "#%%\n"
    }
   },
   "outputs": [],
   "source": [
    "def make_chsh_circuit(theta_vec):\n",
    "    \"\"\"Return a list of QuantumCircuits for use in a CHSH experiemnt\n",
    "    (one for each value of theta in theta_vec)\n",
    "    \n",
    "        Args:\n",
    "            theta_vec (list): list of values of angles between the bases of Alice and Bob\n",
    "        \n",
    "        Returns:\n",
    "            List[QuantumCircuit]: CHSH QuantumCircuits for each value of theta\n",
    "    \"\"\"\n",
    "    chsh_circuits = []\n",
    "    \n",
    "    for theta in theta_vec:\n",
    "        obs_vec = ['00', '01', '10', '11']\n",
    "        for el in obs_vec:\n",
    "            qc = QuantumCircuit(2,2)\n",
    "            qc.h(0)\n",
    "            qc.cx(0, 1)\n",
    "            qc.ry(theta, 0)\n",
    "            for a in range(2):\n",
    "                if el[a] == '1':\n",
    "                    qc.h(a) \n",
    "            qc.measure(range(2),range(2))\n",
    "            chsh_circuits.append(qc)\n",
    "\n",
    "    return chsh_circuits  "
   ]
  },
  {
   "cell_type": "markdown",
   "id": "190dbf81",
   "metadata": {
    "pycharm": {
     "name": "#%% md\n"
    }
   },
   "source": [
    "Next, we are going to define a function for estimating the quantity $\\langle CHSH \\rangle$. One can define two of such quantities, actually, $\\langle CHSH1 \\rangle = \\langle AB \\rangle - \\langle Ab \\rangle + \\langle aB \\rangle + \\langle ab \\rangle$ and $\\langle CHSH2 \\rangle = \\langle AB \\rangle + \\langle Ab \\rangle - \\langle aB \\rangle + \\langle ab \\rangle$. Once chosen the corresponding measurement axes for both parties, each expectation value can be simply estimated by adding the counts from the output bitstrings with the appropriate sign (plus for the even terms $00$ and $11$ and minus for odd terms $01$ and $10$."
   ]
  },
  {
   "cell_type": "code",
   "execution_count": null,
   "id": "c6e3e3be",
   "metadata": {
    "pycharm": {
     "name": "#%%\n"
    }
   },
   "outputs": [],
   "source": [
    "def compute_chsh_witness(counts):\n",
    "    \"\"\"Computes expectation values for the CHSH inequality, for each\n",
    "    angle (theta) between measurement axis.\n",
    "\n",
    "        Args: counts (list[dict]): dict of counts for each experiment\n",
    "              (4 per value of theta)\n",
    "\n",
    "        Returns:\n",
    "            Tuple(List, List): Tuple of lists with the two CHSH witnesses\n",
    "    \"\"\"\n",
    "    # Order is ZZ,ZX,XZ,XX\n",
    "    \n",
    "    CHSH1 = []\n",
    "    CHSH2 = []\n",
    "    # Divide the list of dictionaries in sets of 4\n",
    "    for i in range(0, len(counts), 4):  \n",
    "        theta_dict = counts[i:i + 4]\n",
    "        zz = theta_dict[0]\n",
    "        zx = theta_dict[1]\n",
    "        xz = theta_dict[2]\n",
    "        xx = theta_dict[3]\n",
    "\n",
    "        no_shots = sum(xx[y] for y in xx)\n",
    "\n",
    "        chsh1 = 0\n",
    "        chsh2 = 0\n",
    "\n",
    "        for element in zz:\n",
    "            parity = (-1)**(int(element[0])+int(element[1]))\n",
    "            chsh1+= parity*zz[element]\n",
    "            chsh2+= parity*zz[element]\n",
    "\n",
    "        for element in zx:\n",
    "            parity = (-1)**(int(element[0])+int(element[1]))\n",
    "            chsh1+= parity*zx[element]\n",
    "            chsh2-= parity*zx[element]\n",
    "\n",
    "        for element in xz:\n",
    "            parity = (-1)**(int(element[0])+int(element[1]))\n",
    "            chsh1-= parity*xz[element]\n",
    "            chsh2+= parity*xz[element]\n",
    "\n",
    "        for element in xx:\n",
    "            parity = (-1)**(int(element[0])+int(element[1]))\n",
    "            chsh1+= parity*xx[element]\n",
    "            chsh2+= parity*xx[element]\n",
    "\n",
    "        CHSH1.append(chsh1/no_shots)\n",
    "        CHSH2.append(chsh2/no_shots)\n",
    "    \n",
    "    return CHSH1, CHSH2"
   ]
  },
  {
   "cell_type": "markdown",
   "id": "a217dc49",
   "metadata": {
    "pycharm": {
     "name": "#%% md\n"
    }
   },
   "source": [
    "Finally, we are going to split the interval $[0, 2\\pi)$ into 15 angles and will build the corresponding set of $CHSH$ circuits."
   ]
  },
  {
   "cell_type": "code",
   "execution_count": null,
   "id": "af544f5c",
   "metadata": {
    "pycharm": {
     "name": "#%%\n"
    }
   },
   "outputs": [],
   "source": [
    "number_of_thetas = 15\n",
    "theta_vec = np.linspace(0,2*np.pi,number_of_thetas)\n",
    "my_chsh_circuits = make_chsh_circuit(theta_vec)"
   ]
  },
  {
   "cell_type": "markdown",
   "id": "c21b67b4",
   "metadata": {
    "pycharm": {
     "name": "#%% md\n"
    }
   },
   "source": [
    "Now, let's have a brief look at how four of these circuits look like for a given $\\theta$."
   ]
  },
  {
   "cell_type": "code",
   "execution_count": null,
   "id": "2ae3d3aa",
   "metadata": {
    "pycharm": {
     "name": "#%%\n"
    }
   },
   "outputs": [],
   "source": [
    "my_chsh_circuits[4].draw()"
   ]
  },
  {
   "cell_type": "code",
   "execution_count": null,
   "id": "28fc7631",
   "metadata": {
    "pycharm": {
     "name": "#%%\n"
    }
   },
   "outputs": [],
   "source": [
    "my_chsh_circuits[5].draw()"
   ]
  },
  {
   "cell_type": "code",
   "execution_count": null,
   "id": "e06c5583",
   "metadata": {
    "pycharm": {
     "name": "#%%\n"
    }
   },
   "outputs": [],
   "source": [
    "my_chsh_circuits[6].draw()"
   ]
  },
  {
   "cell_type": "code",
   "execution_count": null,
   "id": "f11dd72c",
   "metadata": {
    "pycharm": {
     "name": "#%%\n"
    }
   },
   "outputs": [],
   "source": [
    "my_chsh_circuits[7].draw()"
   ]
  },
  {
   "cell_type": "markdown",
   "id": "198541f1",
   "metadata": {
    "pycharm": {
     "name": "#%% md\n"
    }
   },
   "source": [
    "These circuits are simply creating a Bell pair, and then measuring each party in a different basis. While Bob ($q_1$) always measures either in the computational basis or the $X$ basis, Alice's measurement basis rotates by the angle $\\theta$ with respect to Bob's."
   ]
  },
  {
   "cell_type": "code",
   "execution_count": null,
   "id": "f9708e78",
   "metadata": {
    "scrolled": true,
    "tags": [
     "uses-hardware"
    ],
    "pycharm": {
     "name": "#%%\n"
    }
   },
   "outputs": [],
   "source": [
    "# Execute and get counts\n",
    "result_ideal = sim.run(my_chsh_circuits).result()\n",
    "\n",
    "tic = time.time()\n",
    "transpiled_circuits = transpile(my_chsh_circuits, quito)\n",
    "job_real = quito.run(transpiled_circuits, shots=8192)\n",
    "job_monitor(job_real)\n",
    "result_real = job_real.result()\n",
    "toc = time.time()\n",
    "\n",
    "print(toc-tic)"
   ]
  },
  {
   "cell_type": "code",
   "execution_count": null,
   "id": "28306b4d",
   "metadata": {
    "tags": [
     "uses-hardware"
    ],
    "pycharm": {
     "name": "#%%\n"
    }
   },
   "outputs": [],
   "source": [
    "CHSH1_ideal, CHSH2_ideal = compute_chsh_witness(result_ideal.get_counts())\n",
    "CHSH1_real, CHSH2_real = compute_chsh_witness(result_real.get_counts())"
   ]
  },
  {
   "cell_type": "markdown",
   "id": "a71408d4",
   "metadata": {
    "pycharm": {
     "name": "#%% md\n"
    }
   },
   "source": [
    "Now we plot the results."
   ]
  },
  {
   "cell_type": "code",
   "execution_count": null,
   "id": "ad28a672",
   "metadata": {
    "tags": [
     "uses-hardware"
    ],
    "pycharm": {
     "name": "#%%\n"
    }
   },
   "outputs": [],
   "source": [
    "plt.figure(figsize=(12,8))\n",
    "plt.rcParams.update({'font.size': 22})\n",
    "plt.plot(theta_vec,CHSH1_ideal,'o-',label = 'CHSH1 Noiseless')\n",
    "plt.plot(theta_vec,CHSH2_ideal,'o-',label = 'CHSH2 Noiseless')\n",
    "\n",
    "plt.plot(theta_vec,CHSH1_real,'x-',label = 'CHSH1 Quito')\n",
    "plt.plot(theta_vec,CHSH2_real,'x-',label = 'CHSH2 Quito')\n",
    "\n",
    "plt.grid(which='major',axis='both')\n",
    "plt.rcParams.update({'font.size': 16})\n",
    "plt.legend()\n",
    "plt.axhline(y=2, color='r', linestyle='-')\n",
    "plt.axhline(y=-2, color='r', linestyle='-')\n",
    "plt.axhline(y=np.sqrt(2)*2, color='k', linestyle='-.')\n",
    "plt.axhline(y=-np.sqrt(2)*2, color='k', linestyle='-.')\n",
    "plt.xlabel('Theta')\n",
    "plt.ylabel('CHSH witness')"
   ]
  },
  {
   "cell_type": "markdown",
   "id": "95416cc3",
   "metadata": {
    "pycharm": {
     "name": "#%% md\n"
    }
   },
   "source": [
    "Note what happened! There are some particular combination of measurement bases for which $|CHSH| \\geq 2$. How is this possible? Let's look at our entangled bipartite system. It is easy to show that if $|\\psi \\rangle = 1/\\sqrt{2} (|00\\rangle + |11\\rangle)$, then the expectation value $\\langle AB \\rangle = \\langle \\psi|A \\otimes B| \\psi \\rangle = -\\cos \\theta_{AB}$ where $\\theta_{AB}$ is the angle between the measurement bases $A$ and $B$. Therefore, for the particular choice of bases $A = 1/\\sqrt{2}(\\sigma_z - \\sigma_x)$ and $a = 1/\\sqrt{2}(\\sigma_z + \\sigma_x)$, letting Bob measure with $B=\\sigma_z$ and $b=\\sigma_x$, we see that $|\\langle CHSH1 \\rangle| = 2\\sqrt{2} > 2$. It can also be shown that $2\\sqrt{2}$ is the maximum possible value attainable, even in the quantum case (dash-dotted line in the plot).\n",
    "\n",
    "The above inequality is called CHSH after Clauser, Horne, Shimony, and Holt, and it is the most popular way of presenting the original inequality from Bell.\n",
    "\n",
    "The fact that we violated the CHSH inequality in our real device is of significance. Just a decade ago such an experiment would have been of great impact. Nowadays, quantum devices have become significantly better and these results can be replicated easily in state-of-the-art hardware. However, there are a number of loopholes that have to be closed when violating the inequality in order to claim that either locality or realism have been disproven. These are the detection loophole (where our detector is faulty and fails to provide meaningful statistics) and the locality/causality loophole (where the two parts of the entangled system are separated by a distance smaller than the distance covered by the light in the time it takes to perform a measurement). Given we can generate entangled pairs with high fidelity and every measurement yields a result (this is, no measured particle is \"lost\"), we have closed the detection loophole in our experiments above. However, given the distance between our qubits (a few mm) and the time it takes to perform a measurement (order of $\\mu$s), we cannot claim we closed the causality loophole."
   ]
  },
  {
   "cell_type": "markdown",
   "id": "892fdd27",
   "metadata": {
    "pycharm": {
     "name": "#%% md\n"
    }
   },
   "source": [
    "### Send it after class 2\n",
    "\n",
    "Consider a game where Alice and Bob are put in separate rooms and each is given a bit $x$ and $y$, respectively. These bits are chosen at random and independently of each other. On receiving the bit each of them replies with a bit of their own, $a$ and $b$. Now, Alice and Bob win the game if $a$ and $b$ are different whenever $x=y=1$ and equal otherwise. It is easy to see that the best possible strategy for Alice and Bob is to always give $a=b=0$ (or $1$). With this strategy, Alice and Bob can win the game at most 75% of the time. \n",
    "\n",
    "Imagine Alice and Bob are allowed to share an entangled two-qubit state. Is there a strategy they can use that would give them a better chance of winning than 75%? (Remember that they can agree upon any strategy beforehand, but once they are given the random bits they cannot communicate anymore. They can take their respective parts of the entangled pair with them at all times, of course.)"
   ]
  },
  {
   "cell_type": "code",
   "execution_count": null,
   "outputs": [],
   "source": [],
   "metadata": {
    "collapsed": false,
    "pycharm": {
     "name": "#%%\n"
    }
   }
  }
 ],
 "metadata": {
  "colab": {
   "collapsed_sections": [],
   "name": "Quantum Coin Game.ipynb",
   "provenance": []
  },
  "kernelspec": {
   "display_name": "Python 3",
   "language": "python",
   "name": "python3"
  },
  "language_info": {
   "codemirror_mode": {
    "name": "ipython",
    "version": 3
   },
   "file_extension": ".py",
   "mimetype": "text/x-python",
   "name": "python",
   "nbconvert_exporter": "python",
   "pygments_lexer": "ipython3",
   "version": "3.7.7"
  },
  "widgets": {
   "application/vnd.jupyter.widget-state+json": {
    "state": {
     "01a62c207172470d84d72adbbc3c1f6a": {
      "model_module": "@jupyter-widgets/controls",
      "model_module_version": "1.5.0",
      "model_name": "VBoxModel",
      "state": {
       "children": [
        "IPY_MODEL_da8765f98a9040d88199ec80d9880ad1",
        "IPY_MODEL_2e32ca6bd09a438cb43eff219e4aa96f",
        "IPY_MODEL_77cfbbe414c54f3a878a004edc59afb6"
       ],
       "layout": "IPY_MODEL_84f716ec9dad49c59bc8d791e10db408"
      }
     },
     "01bc28e42d9d4f40951e7cdda0ce587a": {
      "model_module": "@jupyter-widgets/base",
      "model_module_version": "1.2.0",
      "model_name": "LayoutModel",
      "state": {
       "grid_area": "right",
       "padding": "0px 0px 0px 0px",
       "width": "70px"
      }
     },
     "03b33d61dc464070913d1efaf58553cf": {
      "model_module": "@jupyter-widgets/controls",
      "model_module_version": "1.5.0",
      "model_name": "ButtonStyleModel",
      "state": {}
     },
     "03eb9fa8297845e6b414558d9bd09c46": {
      "model_module": "@jupyter-widgets/base",
      "model_module_version": "1.2.0",
      "model_name": "LayoutModel",
      "state": {
       "overflow_x": "scroll"
      }
     },
     "0448304521d943fd8a7f2d8e67ebc8ee": {
      "model_module": "@jupyter-widgets/base",
      "model_module_version": "1.2.0",
      "model_name": "LayoutModel",
      "state": {}
     },
     "0478e7f6ce70479f9a49a3a55e077d84": {
      "model_module": "@jupyter-widgets/output",
      "model_module_version": "1.0.0",
      "model_name": "OutputModel",
      "state": {
       "layout": "IPY_MODEL_74890b5a9711449998df991738fe1a90",
       "outputs": [
        {
         "name": "stdout",
         "output_type": "stream",
         "text": "You Lose to Quantum. Quantum Computer Wins\n"
        }
       ]
      }
     },
     "053ccc96af5c4d978bee350e914fe021": {
      "model_module": "@jupyter-widgets/controls",
      "model_module_version": "1.5.0",
      "model_name": "ButtonStyleModel",
      "state": {}
     },
     "05ae3f115652443c9a27869971ae2a7e": {
      "model_module": "@jupyter-widgets/controls",
      "model_module_version": "1.5.0",
      "model_name": "ButtonModel",
      "state": {
       "description": "Play",
       "layout": "IPY_MODEL_191b621ace7a41e49eb647866965a147",
       "style": "IPY_MODEL_683bab658b5e4846bfbde53ca2cceb10"
      }
     },
     "0b81d9b497b8480bb8bb1e185281d9c0": {
      "model_module": "@jupyter-widgets/base",
      "model_module_version": "1.2.0",
      "model_name": "LayoutModel",
      "state": {
       "width": "145px"
      }
     },
     "0c86578e5316497b9de1266da6de23be": {
      "model_module": "@jupyter-widgets/base",
      "model_module_version": "1.2.0",
      "model_name": "LayoutModel",
      "state": {
       "width": "190px"
      }
     },
     "191b621ace7a41e49eb647866965a147": {
      "model_module": "@jupyter-widgets/base",
      "model_module_version": "1.2.0",
      "model_name": "LayoutModel",
      "state": {}
     },
     "196db6cfb19f490b87d5409ca64b06ba": {
      "model_module": "@jupyter-widgets/base",
      "model_module_version": "1.2.0",
      "model_name": "LayoutModel",
      "state": {}
     },
     "1dd2c7840a794a62b90ba4c02c3a90dd": {
      "model_module": "@jupyter-widgets/controls",
      "model_module_version": "1.5.0",
      "model_name": "HBoxModel",
      "state": {
       "children": [
        "IPY_MODEL_e914c289e95a4f3cb07bede7a2098461",
        "IPY_MODEL_ce10d71b75f048f89234c986099f5a27",
        "IPY_MODEL_e173cd5a413d49279f05cc4f195c1839",
        "IPY_MODEL_1ff3ccd7937f4f10875c71a88156b04a",
        "IPY_MODEL_d021ac1bdcb34bc4ae96e0183abe9ebf",
        "IPY_MODEL_6645ab0809fc4d059c50da1b499e2022"
       ],
       "layout": "IPY_MODEL_b73c7e5f0d5d4cb79e9f4838e42ceb10"
      }
     },
     "1ff3ccd7937f4f10875c71a88156b04a": {
      "model_module": "@jupyter-widgets/controls",
      "model_module_version": "1.5.0",
      "model_name": "HTMLModel",
      "state": {
       "layout": "IPY_MODEL_55b5117639594882870839360383c397",
       "style": "IPY_MODEL_2bc695f8bfc747f4b1dded9757658db6",
       "value": "<font style='color:#34BC6E'>DONE</font>"
      }
     },
     "2b22dbc942ab4a1794d51eb601dc9ca8": {
      "model_module": "@jupyter-widgets/base",
      "model_module_version": "1.2.0",
      "model_name": "LayoutModel",
      "state": {}
     },
     "2bc695f8bfc747f4b1dded9757658db6": {
      "model_module": "@jupyter-widgets/controls",
      "model_module_version": "1.5.0",
      "model_name": "DescriptionStyleModel",
      "state": {
       "description_width": ""
      }
     },
     "2c6741cbbfd34db6982bf4e6e524848a": {
      "model_module": "@jupyter-widgets/base",
      "model_module_version": "1.2.0",
      "model_name": "LayoutModel",
      "state": {}
     },
     "2cce4c0e0cd64ab1805a046de3a66989": {
      "model_module": "@jupyter-widgets/controls",
      "model_module_version": "1.5.0",
      "model_name": "DescriptionStyleModel",
      "state": {
       "description_width": ""
      }
     },
     "2d030b8fe69d441587c97ec7f65068e1": {
      "model_module": "@jupyter-widgets/controls",
      "model_module_version": "1.5.0",
      "model_name": "DescriptionStyleModel",
      "state": {
       "description_width": ""
      }
     },
     "2e32ca6bd09a438cb43eff219e4aa96f": {
      "model_module": "@jupyter-widgets/controls",
      "model_module_version": "1.5.0",
      "model_name": "ButtonModel",
      "state": {
       "description": "Play",
       "layout": "IPY_MODEL_fe415236e1734fa59b45ab5c9b763db3",
       "style": "IPY_MODEL_053ccc96af5c4d978bee350e914fe021"
      }
     },
     "3288755f614d4c2e9795445bbf3eec12": {
      "model_module": "@jupyter-widgets/controls",
      "model_module_version": "1.5.0",
      "model_name": "DescriptionStyleModel",
      "state": {
       "description_width": ""
      }
     },
     "342234c953e0463b8fbaadac92b61889": {
      "model_module": "@jupyter-widgets/controls",
      "model_module_version": "1.5.0",
      "model_name": "ButtonModel",
      "state": {
       "button_style": "primary",
       "description": "Clear",
       "layout": "IPY_MODEL_01bc28e42d9d4f40951e7cdda0ce587a",
       "style": "IPY_MODEL_03b33d61dc464070913d1efaf58553cf"
      }
     },
     "365869ea575940f68fda6fe7093df22b": {
      "model_module": "@jupyter-widgets/controls",
      "model_module_version": "1.5.0",
      "model_name": "DescriptionStyleModel",
      "state": {
       "description_width": ""
      }
     },
     "3ae4fb83e9194b808f40e71d31f2843d": {
      "model_module": "@jupyter-widgets/base",
      "model_module_version": "1.2.0",
      "model_name": "LayoutModel",
      "state": {}
     },
     "3c8cef63d8264756b3bca74a439fd099": {
      "model_module": "@jupyter-widgets/controls",
      "model_module_version": "1.5.0",
      "model_name": "HTMLModel",
      "state": {
       "layout": "IPY_MODEL_93728906009e449fa7384e3e5f03ca3c",
       "style": "IPY_MODEL_3288755f614d4c2e9795445bbf3eec12",
       "value": "<h5>Queue</h5>"
      }
     },
     "3d631bd23a114b22b102a6055db89b5d": {
      "model_module": "@jupyter-widgets/controls",
      "model_module_version": "1.5.0",
      "model_name": "DescriptionStyleModel",
      "state": {
       "description_width": ""
      }
     },
     "40538262773c49ed95e70d3b3939dc92": {
      "model_module": "@jupyter-widgets/controls",
      "model_module_version": "1.5.0",
      "model_name": "VBoxModel",
      "state": {
       "children": [
        "IPY_MODEL_d2fbc71995f04e9a8c02d82cd6f180e9",
        "IPY_MODEL_9a5184a37f064635a0b0d62aa994c8d3",
        "IPY_MODEL_fde4561e190a4ca6b2d164d0cbda3f32"
       ],
       "layout": "IPY_MODEL_589c1fd70d4a431293839c8954dc12d5"
      }
     },
     "435d562fcd4d4d349f0021be283c5d21": {
      "model_module": "@jupyter-widgets/output",
      "model_module_version": "1.0.0",
      "model_name": "OutputModel",
      "state": {
       "layout": "IPY_MODEL_90aabd6397ea47d3a6adbcc7d2a7bfec",
       "outputs": [
        {
         "name": "stdout",
         "output_type": "stream",
         "text": "You Lose to Quantum. Quantum Computer Wins\n"
        }
       ]
      }
     },
     "5269a726ec3c4793af9983e1a215334e": {
      "model_module": "@jupyter-widgets/base",
      "model_module_version": "1.2.0",
      "model_name": "LayoutModel",
      "state": {}
     },
     "528d9873782f4b99984121119ecf401b": {
      "model_module": "@jupyter-widgets/controls",
      "model_module_version": "1.5.0",
      "model_name": "DescriptionStyleModel",
      "state": {
       "description_width": ""
      }
     },
     "53ad95a97e7248e7b7cc9cdd83b293fb": {
      "model_module": "@jupyter-widgets/controls",
      "model_module_version": "1.5.0",
      "model_name": "ButtonStyleModel",
      "state": {}
     },
     "55b5117639594882870839360383c397": {
      "model_module": "@jupyter-widgets/base",
      "model_module_version": "1.2.0",
      "model_name": "LayoutModel",
      "state": {
       "width": "95px"
      }
     },
     "572d7eb7cb1b4dba96a2619fc623006f": {
      "model_module": "@jupyter-widgets/controls",
      "model_module_version": "1.5.0",
      "model_name": "DescriptionStyleModel",
      "state": {
       "description_width": ""
      }
     },
     "57c7c54217214d729f6aeaa14459dd1f": {
      "model_module": "@jupyter-widgets/controls",
      "model_module_version": "1.5.0",
      "model_name": "VBoxModel",
      "state": {
       "children": [
        "IPY_MODEL_dd9542c6d8cd469db4312806671512a7",
        "IPY_MODEL_d083e9725115477db5cdc021f73d211d",
        "IPY_MODEL_435d562fcd4d4d349f0021be283c5d21"
       ],
       "layout": "IPY_MODEL_2c6741cbbfd34db6982bf4e6e524848a"
      }
     },
     "589c1fd70d4a431293839c8954dc12d5": {
      "model_module": "@jupyter-widgets/base",
      "model_module_version": "1.2.0",
      "model_name": "LayoutModel",
      "state": {}
     },
     "58eb76353b464b6481224a2e32164265": {
      "model_module": "@jupyter-widgets/controls",
      "model_module_version": "1.5.0",
      "model_name": "VBoxModel",
      "state": {
       "children": [
        "IPY_MODEL_80c2815cc3a04879bbefb72b001750ac",
        "IPY_MODEL_e4bc260f61094e69bc88a1a0e5a87f61",
        "IPY_MODEL_62c6020a0da540199509b60ccb0d1da8"
       ],
       "layout": "IPY_MODEL_3ae4fb83e9194b808f40e71d31f2843d"
      }
     },
     "5e3434e1002e4daebf41e9c29f086e3c": {
      "model_module": "@jupyter-widgets/controls",
      "model_module_version": "1.5.0",
      "model_name": "ButtonModel",
      "state": {
       "description": "Play",
       "layout": "IPY_MODEL_f75222f6b3c54714a15840936f4d6b74",
       "style": "IPY_MODEL_ce35f199e6914651afed0e64df53fe61"
      }
     },
     "62c6020a0da540199509b60ccb0d1da8": {
      "model_module": "@jupyter-widgets/output",
      "model_module_version": "1.0.0",
      "model_name": "OutputModel",
      "state": {
       "layout": "IPY_MODEL_9a20f7f7880e4e2da24433ffa07631d2",
       "outputs": [
        {
         "name": "stdout",
         "output_type": "stream",
         "text": "You Lose to Quantum. Quantum Computer Wins\n"
        }
       ]
      }
     },
     "652c10c995ae496e80e8f449c2c3826e": {
      "model_module": "@jupyter-widgets/controls",
      "model_module_version": "1.5.0",
      "model_name": "DescriptionStyleModel",
      "state": {
       "description_width": ""
      }
     },
     "6645ab0809fc4d059c50da1b499e2022": {
      "model_module": "@jupyter-widgets/controls",
      "model_module_version": "1.5.0",
      "model_name": "HTMLModel",
      "state": {
       "layout": "IPY_MODEL_03eb9fa8297845e6b414558d9bd09c46",
       "style": "IPY_MODEL_572d7eb7cb1b4dba96a2619fc623006f",
       "value": "job has successfully run"
      }
     },
     "683bab658b5e4846bfbde53ca2cceb10": {
      "model_module": "@jupyter-widgets/controls",
      "model_module_version": "1.5.0",
      "model_name": "ButtonStyleModel",
      "state": {}
     },
     "68f85bd7bb95430da6bae7d567d1aa5e": {
      "model_module": "@jupyter-widgets/controls",
      "model_module_version": "1.5.0",
      "model_name": "ButtonStyleModel",
      "state": {
       "button_color": "white"
      }
     },
     "6936f974ce7c4601b3fdb9aee9ed2c6b": {
      "model_module": "@jupyter-widgets/controls",
      "model_module_version": "1.5.0",
      "model_name": "DescriptionStyleModel",
      "state": {
       "description_width": ""
      }
     },
     "6aaed55c18b34a7fa6f79f993bcc84be": {
      "model_module": "@jupyter-widgets/base",
      "model_module_version": "1.2.0",
      "model_name": "LayoutModel",
      "state": {}
     },
     "6b23b533b1d846109bdfe46cd82689ca": {
      "model_module": "@jupyter-widgets/controls",
      "model_module_version": "1.5.0",
      "model_name": "VBoxModel",
      "state": {
       "children": [
        "IPY_MODEL_cfd86107c41646329e199665b279dc8e",
        "IPY_MODEL_5e3434e1002e4daebf41e9c29f086e3c",
        "IPY_MODEL_d5122f465fab4a02a8a5796c2c4bc56b"
       ],
       "layout": "IPY_MODEL_6aaed55c18b34a7fa6f79f993bcc84be"
      }
     },
     "6f5ce4eb3afb4ad08427358d8ebb4566": {
      "model_module": "@jupyter-widgets/base",
      "model_module_version": "1.2.0",
      "model_name": "LayoutModel",
      "state": {}
     },
     "70085ae15e1e4c5797129eddb1f2fb23": {
      "model_module": "@jupyter-widgets/controls",
      "model_module_version": "1.5.0",
      "model_name": "DescriptionStyleModel",
      "state": {
       "description_width": ""
      }
     },
     "717323311da04f32a1b1384b475d43d7": {
      "model_module": "@jupyter-widgets/controls",
      "model_module_version": "1.5.0",
      "model_name": "DropdownModel",
      "state": {
       "_options_labels": [
        "Identity",
        "Bit Flip"
       ],
       "description": "Choice: ",
       "index": 0,
       "layout": "IPY_MODEL_6f5ce4eb3afb4ad08427358d8ebb4566",
       "style": "IPY_MODEL_365869ea575940f68fda6fe7093df22b"
      }
     },
     "74890b5a9711449998df991738fe1a90": {
      "model_module": "@jupyter-widgets/base",
      "model_module_version": "1.2.0",
      "model_name": "LayoutModel",
      "state": {}
     },
     "77cfbbe414c54f3a878a004edc59afb6": {
      "model_module": "@jupyter-widgets/output",
      "model_module_version": "1.0.0",
      "model_name": "OutputModel",
      "state": {
       "layout": "IPY_MODEL_83a3fc05ac5e4cf9b3295d3444e6607c",
       "outputs": [
        {
         "name": "stdout",
         "output_type": "stream",
         "text": "You Lose to Quantum. Quantum Computer Wins\n"
        }
       ]
      }
     },
     "7b014028164749a2a0fe5a04c9d6a0a9": {
      "model_module": "@jupyter-widgets/base",
      "model_module_version": "1.2.0",
      "model_name": "LayoutModel",
      "state": {}
     },
     "7d3adf44a91d47d1a8f25c83558264cd": {
      "model_module": "@jupyter-widgets/controls",
      "model_module_version": "1.5.0",
      "model_name": "VBoxModel",
      "state": {
       "children": [
        "IPY_MODEL_fdc4bf91456e49cba58402e1954b3f36",
        "IPY_MODEL_05ae3f115652443c9a27869971ae2a7e",
        "IPY_MODEL_0478e7f6ce70479f9a49a3a55e077d84"
       ],
       "layout": "IPY_MODEL_af07cb4b1d374ffaae4f318825278c4d"
      }
     },
     "80310b15c8884a88b9f0962deee8f216": {
      "model_module": "@jupyter-widgets/base",
      "model_module_version": "1.2.0",
      "model_name": "LayoutModel",
      "state": {}
     },
     "80c2815cc3a04879bbefb72b001750ac": {
      "model_module": "@jupyter-widgets/controls",
      "model_module_version": "1.5.0",
      "model_name": "DropdownModel",
      "state": {
       "_options_labels": [
        "Identity",
        "Bit Flip"
       ],
       "description": "Choice: ",
       "index": 1,
       "layout": "IPY_MODEL_80310b15c8884a88b9f0962deee8f216",
       "style": "IPY_MODEL_cbcd1500f93a4087ad732d0958720f75"
      }
     },
     "83a3fc05ac5e4cf9b3295d3444e6607c": {
      "model_module": "@jupyter-widgets/base",
      "model_module_version": "1.2.0",
      "model_name": "LayoutModel",
      "state": {}
     },
     "84f716ec9dad49c59bc8d791e10db408": {
      "model_module": "@jupyter-widgets/base",
      "model_module_version": "1.2.0",
      "model_name": "LayoutModel",
      "state": {}
     },
     "85b9b3ca14364341bde467b2aa26c6d1": {
      "model_module": "@jupyter-widgets/controls",
      "model_module_version": "1.5.0",
      "model_name": "DescriptionStyleModel",
      "state": {
       "description_width": ""
      }
     },
     "898d18e6a4294bffb658ffa39ddfaffb": {
      "model_module": "@jupyter-widgets/base",
      "model_module_version": "1.2.0",
      "model_name": "LayoutModel",
      "state": {
       "margin": "0px 0px 10px 0px"
      }
     },
     "8f8fe3ec13204582b50285b6d6ea17a7": {
      "model_module": "@jupyter-widgets/base",
      "model_module_version": "1.2.0",
      "model_name": "LayoutModel",
      "state": {
       "width": "95px"
      }
     },
     "90aabd6397ea47d3a6adbcc7d2a7bfec": {
      "model_module": "@jupyter-widgets/base",
      "model_module_version": "1.2.0",
      "model_name": "LayoutModel",
      "state": {}
     },
     "923031195ab44ccdb5904dd4f274b5f0": {
      "model_module": "@jupyter-widgets/controls",
      "model_module_version": "1.5.0",
      "model_name": "HTMLModel",
      "state": {
       "layout": "IPY_MODEL_196db6cfb19f490b87d5409ca64b06ba",
       "style": "IPY_MODEL_f442eda3e4794d559e86e30723b2c747",
       "value": "<h5>Message</h5>"
      }
     },
     "93728906009e449fa7384e3e5f03ca3c": {
      "model_module": "@jupyter-widgets/base",
      "model_module_version": "1.2.0",
      "model_name": "LayoutModel",
      "state": {
       "width": "70px"
      }
     },
     "98082b3f782449b8b96335f4b0e8830f": {
      "model_module": "@jupyter-widgets/controls",
      "model_module_version": "1.5.0",
      "model_name": "DescriptionStyleModel",
      "state": {
       "description_width": ""
      }
     },
     "980b17d01f50455f9b8958128067a377": {
      "model_module": "@jupyter-widgets/output",
      "model_module_version": "1.0.0",
      "model_name": "OutputModel",
      "state": {
       "layout": "IPY_MODEL_5269a726ec3c4793af9983e1a215334e",
       "outputs": [
        {
         "name": "stdout",
         "output_type": "stream",
         "text": "You Lose to Quantum. Quantum Computer Wins\n"
        }
       ]
      }
     },
     "98882cd70ddf4ff6ab911380fc7307b6": {
      "model_module": "@jupyter-widgets/controls",
      "model_module_version": "1.5.0",
      "model_name": "DescriptionStyleModel",
      "state": {
       "description_width": ""
      }
     },
     "989eac56a2454be7a93d3aec19ffa692": {
      "model_module": "@jupyter-widgets/controls",
      "model_module_version": "1.5.0",
      "model_name": "HBoxModel",
      "state": {
       "children": [
        "IPY_MODEL_c51f1248b8434d94a9accc727a8c23c1",
        "IPY_MODEL_f1f0ed9b405e44a590a7a8eef8da2fb0",
        "IPY_MODEL_f6edca1b09d447b5ac43989ef77e86cb",
        "IPY_MODEL_3c8cef63d8264756b3bca74a439fd099",
        "IPY_MODEL_923031195ab44ccdb5904dd4f274b5f0"
       ],
       "layout": "IPY_MODEL_fc80fe51e04642cd84647aab61e217ad"
      }
     },
     "9a20f7f7880e4e2da24433ffa07631d2": {
      "model_module": "@jupyter-widgets/base",
      "model_module_version": "1.2.0",
      "model_name": "LayoutModel",
      "state": {}
     },
     "9a5184a37f064635a0b0d62aa994c8d3": {
      "model_module": "@jupyter-widgets/controls",
      "model_module_version": "1.5.0",
      "model_name": "ButtonModel",
      "state": {
       "description": "Play",
       "layout": "IPY_MODEL_ea06afdb343342459435207e1ba31636",
       "style": "IPY_MODEL_53ad95a97e7248e7b7cc9cdd83b293fb"
      }
     },
     "a5de6d8c45ce46e082fc446dc109ab00": {
      "model_module": "@jupyter-widgets/controls",
      "model_module_version": "1.5.0",
      "model_name": "HTMLModel",
      "state": {
       "layout": "IPY_MODEL_898d18e6a4294bffb658ffa39ddfaffb",
       "style": "IPY_MODEL_85b9b3ca14364341bde467b2aa26c6d1",
       "value": "<p style='font-family: IBM Plex Sans, Arial, Helvetica, sans-serif; font-size: 20px; font-weight: medium;'>Circuit Properties</p>"
      }
     },
     "a67632a767f1458793dbfd92e85fc41f": {
      "model_module": "@jupyter-widgets/base",
      "model_module_version": "1.2.0",
      "model_name": "LayoutModel",
      "state": {
       "width": "190px"
      }
     },
     "af07cb4b1d374ffaae4f318825278c4d": {
      "model_module": "@jupyter-widgets/base",
      "model_module_version": "1.2.0",
      "model_name": "LayoutModel",
      "state": {}
     },
     "af5062ee9f9a4f418d2aaf521ed93c8b": {
      "model_module": "@jupyter-widgets/base",
      "model_module_version": "1.2.0",
      "model_name": "LayoutModel",
      "state": {}
     },
     "b54e8bd452394ee3b8e6e812701f2cc8": {
      "model_module": "@jupyter-widgets/controls",
      "model_module_version": "1.5.0",
      "model_name": "ButtonModel",
      "state": {
       "description": "Play",
       "layout": "IPY_MODEL_d22ebc5c93e74a359cc835785c3be648",
       "style": "IPY_MODEL_c0319703dfdd416bb49ab92908bc6ce9"
      }
     },
     "b5fbdda1533949c4a76d4630c053f8f4": {
      "model_module": "@jupyter-widgets/base",
      "model_module_version": "1.2.0",
      "model_name": "LayoutModel",
      "state": {}
     },
     "b6ac952e0f2c4faa92fe0d5a23204208": {
      "model_module": "@jupyter-widgets/controls",
      "model_module_version": "1.5.0",
      "model_name": "DropdownModel",
      "state": {
       "_options_labels": [
        "Identity",
        "Bit Flip"
       ],
       "description": "Choice: ",
       "index": 1,
       "layout": "IPY_MODEL_7b014028164749a2a0fe5a04c9d6a0a9",
       "style": "IPY_MODEL_fbb01be3599d4f41856ce2647461d6d5"
      }
     },
     "b73c7e5f0d5d4cb79e9f4838e42ceb10": {
      "model_module": "@jupyter-widgets/base",
      "model_module_version": "1.2.0",
      "model_name": "LayoutModel",
      "state": {
       "max_width": "700px",
       "min_width": "700px"
      }
     },
     "b8a01452bad14535bde6c9855bea131c": {
      "model_module": "@jupyter-widgets/controls",
      "model_module_version": "1.5.0",
      "model_name": "DescriptionStyleModel",
      "state": {
       "description_width": ""
      }
     },
     "bb5086ab27c546d09d8f445068ffaf40": {
      "model_module": "@jupyter-widgets/base",
      "model_module_version": "1.2.0",
      "model_name": "LayoutModel",
      "state": {
       "width": "70px"
      }
     },
     "c02f07b0a1d74313a8a997abba4e785b": {
      "model_module": "@jupyter-widgets/base",
      "model_module_version": "1.2.0",
      "model_name": "LayoutModel",
      "state": {}
     },
     "c0319703dfdd416bb49ab92908bc6ce9": {
      "model_module": "@jupyter-widgets/controls",
      "model_module_version": "1.5.0",
      "model_name": "ButtonStyleModel",
      "state": {}
     },
     "c182934fc5524febb1c9ca5acbe4b85a": {
      "model_module": "@jupyter-widgets/base",
      "model_module_version": "1.2.0",
      "model_name": "LayoutModel",
      "state": {}
     },
     "c2e507f9e6a64e7293c189d63134d684": {
      "model_module": "@jupyter-widgets/base",
      "model_module_version": "1.2.0",
      "model_name": "LayoutModel",
      "state": {
       "grid_template_areas": "\n                                       \". . . . right \"\n                                        ",
       "grid_template_columns": "20% 20% 20% 20% 20%",
       "width": "100%"
      }
     },
     "c51f1248b8434d94a9accc727a8c23c1": {
      "model_module": "@jupyter-widgets/controls",
      "model_module_version": "1.5.0",
      "model_name": "HTMLModel",
      "state": {
       "layout": "IPY_MODEL_a67632a767f1458793dbfd92e85fc41f",
       "style": "IPY_MODEL_dd3233e0650448dd817bff4212aa438e",
       "value": "<h5>Job ID</h5>"
      }
     },
     "c7e051d2c75f432f86270885529f91ca": {
      "model_module": "@jupyter-widgets/controls",
      "model_module_version": "1.5.0",
      "model_name": "VBoxModel",
      "state": {
       "children": [
        "IPY_MODEL_b6ac952e0f2c4faa92fe0d5a23204208",
        "IPY_MODEL_b54e8bd452394ee3b8e6e812701f2cc8",
        "IPY_MODEL_980b17d01f50455f9b8958128067a377"
       ],
       "layout": "IPY_MODEL_c182934fc5524febb1c9ca5acbe4b85a"
      }
     },
     "cbcd1500f93a4087ad732d0958720f75": {
      "model_module": "@jupyter-widgets/controls",
      "model_module_version": "1.5.0",
      "model_name": "DescriptionStyleModel",
      "state": {
       "description_width": ""
      }
     },
     "cbd5689b098b4b9d982448d1aed983f9": {
      "model_module": "@jupyter-widgets/base",
      "model_module_version": "1.2.0",
      "model_name": "LayoutModel",
      "state": {
       "margin": "0px 5px 0px 0px",
       "width": "32px"
      }
     },
     "cc58125c46644e6eae7c4676218ae569": {
      "model_module": "@jupyter-widgets/base",
      "model_module_version": "1.2.0",
      "model_name": "LayoutModel",
      "state": {}
     },
     "ce10d71b75f048f89234c986099f5a27": {
      "model_module": "@jupyter-widgets/controls",
      "model_module_version": "1.5.0",
      "model_name": "HTMLModel",
      "state": {
       "layout": "IPY_MODEL_0c86578e5316497b9de1266da6de23be",
       "style": "IPY_MODEL_98882cd70ddf4ff6ab911380fc7307b6",
       "value": "615596f61961d1acb74484f9"
      }
     },
     "ce35f199e6914651afed0e64df53fe61": {
      "model_module": "@jupyter-widgets/controls",
      "model_module_version": "1.5.0",
      "model_name": "ButtonStyleModel",
      "state": {}
     },
     "cfb8891445614e5bb17ea3672650e650": {
      "model_module": "@jupyter-widgets/controls",
      "model_module_version": "1.5.0",
      "model_name": "GridBoxModel",
      "state": {
       "children": [
        "IPY_MODEL_342234c953e0463b8fbaadac92b61889"
       ],
       "layout": "IPY_MODEL_c2e507f9e6a64e7293c189d63134d684"
      }
     },
     "cfd86107c41646329e199665b279dc8e": {
      "model_module": "@jupyter-widgets/controls",
      "model_module_version": "1.5.0",
      "model_name": "DropdownModel",
      "state": {
       "_options_labels": [
        "Identity",
        "Bit Flip"
       ],
       "description": "Choice: ",
       "index": 0,
       "layout": "IPY_MODEL_af5062ee9f9a4f418d2aaf521ed93c8b",
       "style": "IPY_MODEL_2d030b8fe69d441587c97ec7f65068e1"
      }
     },
     "d021ac1bdcb34bc4ae96e0183abe9ebf": {
      "model_module": "@jupyter-widgets/controls",
      "model_module_version": "1.5.0",
      "model_name": "HTMLModel",
      "state": {
       "layout": "IPY_MODEL_bb5086ab27c546d09d8f445068ffaf40",
       "style": "IPY_MODEL_2cce4c0e0cd64ab1805a046de3a66989",
       "value": "-"
      }
     },
     "d083e9725115477db5cdc021f73d211d": {
      "model_module": "@jupyter-widgets/controls",
      "model_module_version": "1.5.0",
      "model_name": "ButtonModel",
      "state": {
       "description": "Play",
       "layout": "IPY_MODEL_ec527b21288f49f09b3bacee8a34cd20",
       "style": "IPY_MODEL_ff656ad353b14ac9bc4091cdb5a666a0"
      }
     },
     "d22ebc5c93e74a359cc835785c3be648": {
      "model_module": "@jupyter-widgets/base",
      "model_module_version": "1.2.0",
      "model_name": "LayoutModel",
      "state": {}
     },
     "d2fbc71995f04e9a8c02d82cd6f180e9": {
      "model_module": "@jupyter-widgets/controls",
      "model_module_version": "1.5.0",
      "model_name": "DropdownModel",
      "state": {
       "_options_labels": [
        "Identity",
        "Bit Flip"
       ],
       "description": "Choice: ",
       "index": 1,
       "layout": "IPY_MODEL_d8008ff5f0d94886974b76ddb053c561",
       "style": "IPY_MODEL_98082b3f782449b8b96335f4b0e8830f"
      }
     },
     "d3ff854eb038405193661d319de9c4ee": {
      "model_module": "@jupyter-widgets/controls",
      "model_module_version": "1.5.0",
      "model_name": "DropdownModel",
      "state": {
       "_options_labels": [
        "Identity",
        "Bit Flip"
       ],
       "description": "Choice: ",
       "index": 0,
       "layout": "IPY_MODEL_d513ca3226c440199d29ef1ac8d6bb03",
       "style": "IPY_MODEL_528d9873782f4b99984121119ecf401b"
      }
     },
     "d5122f465fab4a02a8a5796c2c4bc56b": {
      "model_module": "@jupyter-widgets/output",
      "model_module_version": "1.0.0",
      "model_name": "OutputModel",
      "state": {
       "layout": "IPY_MODEL_fb797982ee4542ed8d85c76e9227d913"
      }
     },
     "d513ca3226c440199d29ef1ac8d6bb03": {
      "model_module": "@jupyter-widgets/base",
      "model_module_version": "1.2.0",
      "model_name": "LayoutModel",
      "state": {}
     },
     "d8008ff5f0d94886974b76ddb053c561": {
      "model_module": "@jupyter-widgets/base",
      "model_module_version": "1.2.0",
      "model_name": "LayoutModel",
      "state": {}
     },
     "da8765f98a9040d88199ec80d9880ad1": {
      "model_module": "@jupyter-widgets/controls",
      "model_module_version": "1.5.0",
      "model_name": "DropdownModel",
      "state": {
       "_options_labels": [
        "Identity",
        "Bit Flip"
       ],
       "description": "Choice: ",
       "index": 1,
       "layout": "IPY_MODEL_2b22dbc942ab4a1794d51eb601dc9ca8",
       "style": "IPY_MODEL_3d631bd23a114b22b102a6055db89b5d"
      }
     },
     "dd3233e0650448dd817bff4212aa438e": {
      "model_module": "@jupyter-widgets/controls",
      "model_module_version": "1.5.0",
      "model_name": "DescriptionStyleModel",
      "state": {
       "description_width": ""
      }
     },
     "dd9542c6d8cd469db4312806671512a7": {
      "model_module": "@jupyter-widgets/controls",
      "model_module_version": "1.5.0",
      "model_name": "DropdownModel",
      "state": {
       "_options_labels": [
        "Identity",
        "Bit Flip"
       ],
       "description": "Choice: ",
       "index": 1,
       "layout": "IPY_MODEL_cc58125c46644e6eae7c4676218ae569",
       "style": "IPY_MODEL_b8a01452bad14535bde6c9855bea131c"
      }
     },
     "e173cd5a413d49279f05cc4f195c1839": {
      "model_module": "@jupyter-widgets/controls",
      "model_module_version": "1.5.0",
      "model_name": "HTMLModel",
      "state": {
       "layout": "IPY_MODEL_0b81d9b497b8480bb8bb1e185281d9c0",
       "style": "IPY_MODEL_70085ae15e1e4c5797129eddb1f2fb23",
       "value": "ibmq_manila"
      }
     },
     "e4bc260f61094e69bc88a1a0e5a87f61": {
      "model_module": "@jupyter-widgets/controls",
      "model_module_version": "1.5.0",
      "model_name": "ButtonModel",
      "state": {
       "description": "Play",
       "layout": "IPY_MODEL_c02f07b0a1d74313a8a997abba4e785b",
       "style": "IPY_MODEL_fbbcd70d86b2427cb70d1a185a5c3b8d"
      }
     },
     "e549659a79c046b486751d468e0fe6fb": {
      "model_module": "@jupyter-widgets/controls",
      "model_module_version": "1.5.0",
      "model_name": "DescriptionStyleModel",
      "state": {
       "description_width": ""
      }
     },
     "e73cdb901d904440ab4dac4c886feb63": {
      "model_module": "@jupyter-widgets/base",
      "model_module_version": "1.2.0",
      "model_name": "LayoutModel",
      "state": {
       "width": "145px"
      }
     },
     "e914c289e95a4f3cb07bede7a2098461": {
      "model_module": "@jupyter-widgets/controls",
      "model_module_version": "1.5.0",
      "model_name": "ButtonModel",
      "state": {
       "icon": "close",
       "layout": "IPY_MODEL_cbd5689b098b4b9d982448d1aed983f9",
       "style": "IPY_MODEL_68f85bd7bb95430da6bae7d567d1aa5e"
      }
     },
     "ea06afdb343342459435207e1ba31636": {
      "model_module": "@jupyter-widgets/base",
      "model_module_version": "1.2.0",
      "model_name": "LayoutModel",
      "state": {}
     },
     "ec527b21288f49f09b3bacee8a34cd20": {
      "model_module": "@jupyter-widgets/base",
      "model_module_version": "1.2.0",
      "model_name": "LayoutModel",
      "state": {}
     },
     "f1f0ed9b405e44a590a7a8eef8da2fb0": {
      "model_module": "@jupyter-widgets/controls",
      "model_module_version": "1.5.0",
      "model_name": "HTMLModel",
      "state": {
       "layout": "IPY_MODEL_e73cdb901d904440ab4dac4c886feb63",
       "style": "IPY_MODEL_6936f974ce7c4601b3fdb9aee9ed2c6b",
       "value": "<h5>Backend</h5>"
      }
     },
     "f442eda3e4794d559e86e30723b2c747": {
      "model_module": "@jupyter-widgets/controls",
      "model_module_version": "1.5.0",
      "model_name": "DescriptionStyleModel",
      "state": {
       "description_width": ""
      }
     },
     "f6edca1b09d447b5ac43989ef77e86cb": {
      "model_module": "@jupyter-widgets/controls",
      "model_module_version": "1.5.0",
      "model_name": "HTMLModel",
      "state": {
       "layout": "IPY_MODEL_8f8fe3ec13204582b50285b6d6ea17a7",
       "style": "IPY_MODEL_652c10c995ae496e80e8f449c2c3826e",
       "value": "<h5>Status</h5>"
      }
     },
     "f75222f6b3c54714a15840936f4d6b74": {
      "model_module": "@jupyter-widgets/base",
      "model_module_version": "1.2.0",
      "model_name": "LayoutModel",
      "state": {}
     },
     "fb797982ee4542ed8d85c76e9227d913": {
      "model_module": "@jupyter-widgets/base",
      "model_module_version": "1.2.0",
      "model_name": "LayoutModel",
      "state": {}
     },
     "fbb01be3599d4f41856ce2647461d6d5": {
      "model_module": "@jupyter-widgets/controls",
      "model_module_version": "1.5.0",
      "model_name": "DescriptionStyleModel",
      "state": {
       "description_width": ""
      }
     },
     "fbbcd70d86b2427cb70d1a185a5c3b8d": {
      "model_module": "@jupyter-widgets/controls",
      "model_module_version": "1.5.0",
      "model_name": "ButtonStyleModel",
      "state": {}
     },
     "fc80fe51e04642cd84647aab61e217ad": {
      "model_module": "@jupyter-widgets/base",
      "model_module_version": "1.2.0",
      "model_name": "LayoutModel",
      "state": {
       "margin": "0px 0px 0px 37px",
       "width": "600px"
      }
     },
     "fdc4bf91456e49cba58402e1954b3f36": {
      "model_module": "@jupyter-widgets/controls",
      "model_module_version": "1.5.0",
      "model_name": "DropdownModel",
      "state": {
       "_options_labels": [
        "Identity",
        "Bit Flip"
       ],
       "description": "Choice: ",
       "index": 1,
       "layout": "IPY_MODEL_b5fbdda1533949c4a76d4630c053f8f4",
       "style": "IPY_MODEL_e549659a79c046b486751d468e0fe6fb"
      }
     },
     "fde4561e190a4ca6b2d164d0cbda3f32": {
      "model_module": "@jupyter-widgets/output",
      "model_module_version": "1.0.0",
      "model_name": "OutputModel",
      "state": {
       "layout": "IPY_MODEL_0448304521d943fd8a7f2d8e67ebc8ee",
       "outputs": [
        {
         "name": "stdout",
         "output_type": "stream",
         "text": "You Lose to Quantum. Quantum Computer Wins\n"
        }
       ]
      }
     },
     "fe415236e1734fa59b45ab5c9b763db3": {
      "model_module": "@jupyter-widgets/base",
      "model_module_version": "1.2.0",
      "model_name": "LayoutModel",
      "state": {}
     },
     "ff656ad353b14ac9bc4091cdb5a666a0": {
      "model_module": "@jupyter-widgets/controls",
      "model_module_version": "1.5.0",
      "model_name": "ButtonStyleModel",
      "state": {}
     }
    },
    "version_major": 2,
    "version_minor": 0
   }
  }
 },
 "nbformat": 4,
 "nbformat_minor": 5
}