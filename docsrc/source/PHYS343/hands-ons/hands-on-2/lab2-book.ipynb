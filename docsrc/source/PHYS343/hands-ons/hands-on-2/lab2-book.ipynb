{
 "cells": [
  {
   "cell_type": "markdown",
   "id": "overall-convert",
   "metadata": {},
   "source": [
    "# Learning Outcomes \n",
    "- Performing basis changes and measurements in other bases.\n",
    "- Visualization of qubits and the action of single qubit quantum gates on Bloch sphere.\n",
    "- Representing multiple qubit states using tensor products.\n",
    "- Entangled states and interesting CNOT operations."
   ]
  },
  {
   "cell_type": "code",
   "execution_count": 31,
   "id": "homeless-pregnancy",
   "metadata": {},
   "outputs": [],
   "source": [
    "from qiskit import QuantumCircuit, Aer, assemble\n",
    "from qiskit_textbook.tools import array_to_latex\n",
    "from qiskit.visualization import plot_bloch_multivector, plot_histogram\n",
    "from qiskit_textbook.widgets import gate_demo\n",
    "#array_to_latex(unitary, pretext=\"\\\\text{Circuit = }\\n\")"
   ]
  },
  {
   "cell_type": "markdown",
   "id": "horizontal-broadcast",
   "metadata": {},
   "source": [
    "# Non-standard Basis\n",
    "\n",
    "We call the basis $\\{ |0 \\rangle, |1 \\rangle \\} $ the standard, or computational basis. As you may have noticed this is the eigenbasis for $Z$ operator. When we call $\\textit{measure()}$ method in Qiskit, we perform measurement in the computational basis. However, there are ways to perform measurements in other bases as well, kind of.\n"
   ]
  },
  {
   "cell_type": "markdown",
   "id": "trying-negative",
   "metadata": {},
   "source": [
    "We define $\\textit{sign basis}$, $|+\\rangle,|-\\rangle$ as follows:\n",
    "\n",
    "$$ | + \\rangle = \\begin{bmatrix} \\frac{1}{\\sqrt{2}} \\\\ \\frac{1}{\\sqrt{2}}  \\end{bmatrix} $$\n",
    "\n",
    "$$ | - \\rangle = \\begin{bmatrix} \\frac{1}{\\sqrt{2}} \\\\ -\\frac{1}{\\sqrt{2}}  \\end{bmatrix} $$"
   ]
  },
  {
   "cell_type": "markdown",
   "id": "premier-coordinator",
   "metadata": {},
   "source": [
    "# Exercise 1\n",
    "\n",
    "How can we perform a measurement in the sign basis using Qiskit? "
   ]
  },
  {
   "cell_type": "markdown",
   "id": "cooked-champagne",
   "metadata": {},
   "source": [
    "# Answer\n",
    "?"
   ]
  },
  {
   "cell_type": "markdown",
   "id": "native-cassette",
   "metadata": {},
   "source": [
    "Let's visualize the action of the single qubit gates we have learned so far to get a better understanding of this process."
   ]
  },
  {
   "cell_type": "markdown",
   "id": "outside-flush",
   "metadata": {},
   "source": [
    "So Hadamard gate performs the following transformation:\n",
    "$$ |0 \\rangle \\leftrightarrow |+ \\rangle $$\n",
    "$$ |1 \\rangle \\leftrightarrow |- \\rangle $$"
   ]
  },
  {
   "cell_type": "markdown",
   "id": "dedicated-hamburg",
   "metadata": {},
   "source": [
    "Therefore, if we apply a $H$ gate just before the measurement, we will practically be measuring with respect to the sign basis."
   ]
  },
  {
   "cell_type": "markdown",
   "id": "precious-depth",
   "metadata": {},
   "source": [
    "# Exercise 2\n",
    "\n",
    "Write a function that takes in a QuantumCircuit and performs a measurement in the sign basis on all the qubits."
   ]
  },
  {
   "cell_type": "code",
   "execution_count": 32,
   "id": "abroad-helicopter",
   "metadata": {},
   "outputs": [],
   "source": [
    "def sign_measure_all(qc):\n",
    "    '''\n",
    "        Adds a measurement gate in sign basis to all qubits.\n",
    "    '''\n",
    "    for i in range(qc.num_qubits):\n",
    "        qc.h(i)\n",
    "    qc.measure_all()\n",
    "    \n",
    "\n",
    "    "
   ]
  },
  {
   "cell_type": "code",
   "execution_count": 33,
   "id": "treated-machinery",
   "metadata": {},
   "outputs": [
    {
     "data": {
      "image/png": "[encoded data removed]",
      "text/plain": [
       "<Figure size 206.997x264.88 with 1 Axes>"
      ]
     },
     "execution_count": 33,
     "metadata": {},
     "output_type": "execute_result"
    }
   ],
   "source": [
    "qc = QuantumCircuit(4)\n",
    "# Let's transform our qubits to the state |++-->\n",
    "# all qubits are initialized to |0> state, so we must transform the first two qubits to |1> \n",
    "# state before transforming all of them to the sign basis.\n",
    "qc.x([0,1])\n",
    "qc.h([0,1,2,3])\n",
    "qc.draw()"
   ]
  },
  {
   "cell_type": "code",
   "execution_count": 34,
   "id": "competitive-height",
   "metadata": {},
   "outputs": [],
   "source": [
    "qasmsim = Aer.get_backend('qasm_simulator')\n",
    "unisim = Aer.get_backend('unitary_simulator')\n",
    "svsim = Aer.get_backend('statevector_simulator')"
   ]
  },
  {
   "cell_type": "code",
   "execution_count": 35,
   "id": "burning-collins",
   "metadata": {},
   "outputs": [
    {
     "data": {
      "image/png": "[encoded data removed]",
      "text/plain": [
       "<Figure size 658.679x325.08 with 1 Axes>"
      ]
     },
     "execution_count": 35,
     "metadata": {},
     "output_type": "execute_result"
    }
   ],
   "source": [
    "# Let's see if the function is working\n",
    "qc.barrier()\n",
    "sign_measure_all(qc)\n",
    "qc.draw()\n"
   ]
  },
  {
   "cell_type": "code",
   "execution_count": 36,
   "id": "empty-massachusetts",
   "metadata": {},
   "outputs": [
    {
     "data": {
      "image/png": "[encoded data removed]",
      "text/plain": [
       "<Figure size 504x360 with 1 Axes>"
      ]
     },
     "execution_count": 36,
     "metadata": {},
     "output_type": "execute_result"
    }
   ],
   "source": [
    "counts = qasmsim.run(assemble(qc),shots=1000).result().get_counts()\n",
    "plot_histogram(counts)"
   ]
  },
  {
   "cell_type": "markdown",
   "id": "cathedral-oakland",
   "metadata": {},
   "source": [
    "# Exercise 3\n",
    "\n",
    "Write a function that takes in a QuantumCircuit and performs a measurement in the y basis on all the qubits."
   ]
  },
  {
   "cell_type": "code",
   "execution_count": null,
   "id": "acquired-trainer",
   "metadata": {},
   "outputs": [],
   "source": [
    "def y_measure_all(qc):\n",
    "    '''\n",
    "        Adds a measurement gate in Y-basis to all qubits.hes\n",
    "    '''\n"
   ]
  },
  {
   "cell_type": "markdown",
   "id": "applied-regard",
   "metadata": {},
   "source": [
    "# Exercise 3.2 \n",
    "\n",
    "Write a function that takes in a quantum circuit with two qubits and performs a measurement in the following basis:\n",
    "\n",
    "$$ | \\Psi^+ \\rangle = \\frac{1}{\\sqrt{2}} | 00 \\rangle + \\frac{1}{\\sqrt{2}} | 11 \\rangle $$"
   ]
  },
  {
   "cell_type": "code",
   "execution_count": 18,
   "id": "digital-plant",
   "metadata": {},
   "outputs": [],
   "source": [
    "def bell_measurement(qc):\n",
    "    '''\n",
    "        Adds a measurement in Bell basis to qc.\n",
    "        Hint: Do you remember how we initialized this state? \n",
    "    '''\n",
    "    qc.cx(0,1)\n",
    "    qc.h(0)\n",
    "    qc.measure_all()\n"
   ]
  },
  {
   "cell_type": "code",
   "execution_count": 37,
   "id": "existing-israel",
   "metadata": {},
   "outputs": [
    {
     "name": "stdout",
     "output_type": "stream",
     "text": [
      "welldone!\n"
     ]
    },
    {
     "data": {
      "text/plain": [
       "{'00': 1000}"
      ]
     },
     "execution_count": 37,
     "metadata": {},
     "output_type": "execute_result"
    }
   ],
   "source": [
    "qc = QuantumCircuit(2)\n",
    "qc.h(0)\n",
    "qc.cx(0,1)\n",
    "\n",
    "bell_measurement(qc)\n",
    "counts = qasmsim.run(assemble(qc),shots=1000).result().get_counts()\n",
    "if counts == {'00':1000}:\n",
    "    print(\"welldone!\")\n",
    "else:\n",
    "    print(\"Your function is not running properly.\")\n",
    "counts"
   ]
  },
  {
   "cell_type": "markdown",
   "id": "catholic-poland",
   "metadata": {},
   "source": [
    "# Multiple Qubit States\n",
    "\n",
    "We can represent any single qubit pure quantum state as:\n",
    "\n",
    "$$ |\\Psi \\rangle = \\alpha | 0 \\rangle + \\beta | 1 \\rangle $$\n",
    "\n",
    "How do we represent multiple qubit pure quantum states? \n",
    "We use tensor products. For example, if we have a two qubit quantum state, then there are four possible state for our qubits. Namely, {00,01,10,11}. We represent an arbitrary superposition as:\n",
    "\n",
    "$$ |q_1 \\rangle \\otimes | q_2 \\rangle = a_{00}|00 \\rangle + a_{01}|01 \\rangle + a_{10}|10 \\rangle + a_{11}|11 \\rangle   = \\begin{bmatrix} a_{00} \\\\ a_{01} \\\\ a_{10} \\\\ a_{11}\\end{bmatrix} $$\n"
   ]
  },
  {
   "cell_type": "markdown",
   "id": "medieval-specialist",
   "metadata": {},
   "source": [
    "# Exercise 4\n",
    "\n",
    "If we have n qubits, what is the dimension of a statevector in this Hilbert space?\n"
   ]
  },
  {
   "cell_type": "markdown",
   "id": "bigger-devices",
   "metadata": {},
   "source": [
    "# Answer \n",
    "?"
   ]
  },
  {
   "cell_type": "markdown",
   "id": "unnecessary-source",
   "metadata": {},
   "source": [
    "One good thing about using little-endian representation, the one which Qiskit uses, is that we can consider each bitstring as representing a decimal number and the corresponding index will simply be this number. For example, when we are asked how can we get the amplitude of $|010\\rangle$ state in a given statevector, we can simply check $2^{nd}$ element of the statevector."
   ]
  },
  {
   "cell_type": "markdown",
   "id": "miniature-backup",
   "metadata": {},
   "source": [
    "# Exercise 5\n",
    "\n",
    "Let's say we are representing each amplitude with a complex number in Python, and each complex number takes up 80 Bytes of memory. Then, how many bytes do we need to represent a quantum state describing a quantum circuit with 10 qubits?"
   ]
  },
  {
   "cell_type": "markdown",
   "id": "harmful-chosen",
   "metadata": {},
   "source": [
    "# Answer\n",
    "\n",
    "$$ 80 \\text{ bytes} * 2*^{10} = 82000 \\text{ bytes} = 0.082 \\text{ Megabytes} $$\n"
   ]
  },
  {
   "cell_type": "markdown",
   "id": "korean-teach",
   "metadata": {},
   "source": [
    "# Exercise 6\n",
    "\n",
    "Let's say we are trying to simulate the action of a Hamiltonian on a large quantum system, and let's say this Hamiltonian acts on 30 qubits. Let's say we are using something like C, instead of Python, to make a better use of the memory. Therefore, let's say each complex number requires not 80 Bytes, but simply 8 bytes. Then answer the following questions:\n",
    "- What is the size of a statevector in this Hilbert space?\n",
    "- What are the dimensions of the Hamiltonian matrix ?\n",
    "- How many bytes are required to represent a statevector ? Is it of the order of Megabytes,Gigabytes, or something else ?\n",
    "- How many bytes are required to represent the Hamiltonian matrix assuming that we need a complex number for each element in the matrix ? Is it of the order of Megabytes, Gigabytes, or something else ?\n",
    "- Can you store both the Hamiltonian matrix and the statevector in your own computer?"
   ]
  },
  {
   "cell_type": "markdown",
   "id": "collaborative-record",
   "metadata": {},
   "source": [
    "# Answers\n",
    "- \n",
    "- \n",
    "- \n",
    "- \n",
    "-\n"
   ]
  },
  {
   "cell_type": "markdown",
   "id": "killing-recommendation",
   "metadata": {},
   "source": [
    "Answering the questions above should give you a clear idea about the computing power of a quantum computer, and why we can't simply use classical computers to simulate them."
   ]
  },
  {
   "cell_type": "markdown",
   "id": "cleared-protest",
   "metadata": {},
   "source": [
    "# Product and Entangled States\n",
    "\n",
    "Not all multiple qubit states can be represented as tensor products. For example, let's take the following state:\n",
    "\n",
    "$$ | \\Phi^+ \\rangle = \\frac{1}{\\sqrt{2}} | 00 \\rangle + \\frac{1}{\\sqrt{2}} | 11 \\rangle  $$ \n",
    "\n",
    "We can't write it down as a tensor product of two states. We can make a proof by contraction to prove this. Let's assume that we can actually write it down:\n",
    "\n",
    "$$ | \\Phi^+ \\rangle = (a_0 |0 \\rangle + a_1 |1 \\rangle ) \\otimes (b_0 | 0 \\rangle + b_1 |1 \\rangle) $$\n",
    "\n",
    "Since the tensor product operator is a linear operator, we can distribute it:\n",
    "\n",
    "$$ \\frac{1}{\\sqrt{2}} | 00 \\rangle + \\frac{1}{\\sqrt{2}} | 11 \\rangle = a_0 b_0 |00 \\rangle + a_0 b_1 |01 \\rangle + a_1 b_0 | 10 \\rangle + a_1 b_1 | 11 \\rangle $$ \n",
    "\n",
    "Well, the coefficients should be the same for both states since they are equal. If we try to equate the coefficient of $ | 01 \\rangle $ to zero we get the following logical chains:\n",
    "\n",
    "$$ a_0 \\neq 0  \\rightarrow b_1 = 0 \\rightarrow \\text{coeff of } |11 \\rangle = 0$$\n",
    "\n",
    "$$ b_1 \\neq 0 \\rightarrow  a_0 = 0 \\rightarrow \\text{coeff of } |00 \\rangle = 0 $$\n",
    "\n",
    "Which entails a contradiction, implying that our inital assumption that $| \\Phi^+ \\rangle$ could be written as tensor product of two states."
   ]
  },
  {
   "cell_type": "markdown",
   "id": "interpreted-island",
   "metadata": {},
   "source": [
    "# Exercise 7\n",
    "\n",
    "Write the following state as the tensor product of two states:\n",
    "\n",
    "$$ | \\Psi \\rangle = \\frac{1}{\\sqrt{2}} | 00 \\rangle + \\frac{i}{\\sqrt{2}} | 01 \\rangle $$  "
   ]
  },
  {
   "cell_type": "markdown",
   "id": "local-shanghai",
   "metadata": {},
   "source": [
    "# Answer\n",
    "\n",
    "$$ (a_0 |0 \\rangle + a_1 |1 \\rangle ) \\otimes ( b_0 |0 \\rangle + b_1 |1 \\rangle )  $$\n",
    "$$ a_0 b_0 |00 \\rangle + a_0 b_1 |01 \\rangle + a_1 b_0 | 10 \\rangle + a_1 b_1 | 11 \\rangle $$ \n",
    "$$ |0 \\rangle \\otimes \\bigg( \\frac{1}{\\sqrt{2}} |0 \\rangle + \\frac{i}{\\sqrt{2}} |1 \\rangle \\bigg)  $$\n"
   ]
  },
  {
   "cell_type": "markdown",
   "id": "renewable-camel",
   "metadata": {},
   "source": [
    "# Exercise 8\n",
    "\n",
    "Is it possible to write down the following state as the tensor product of three quantum states? If yes, prove that that can't be the case. If no, show that it can be the case. \n",
    "\n",
    "$$ | W \\rangle = \\frac{1}{\\sqrt{2}} | 000 \\rangle + \\frac{1}{\\sqrt{2}} | 111 \\rangle $$ "
   ]
  },
  {
   "cell_type": "markdown",
   "id": "compressed-chicken",
   "metadata": {},
   "source": [
    "# Answer \n",
    "\n",
    "?\n"
   ]
  },
  {
   "cell_type": "markdown",
   "id": "unusual-script",
   "metadata": {},
   "source": [
    "We can use tensor products to represent the action of a set of quantum gates on qubits as well. For example, if we have the following circuit:"
   ]
  },
  {
   "cell_type": "code",
   "execution_count": 23,
   "id": "incident-landscape",
   "metadata": {},
   "outputs": [
    {
     "data": {
      "image/png": "[encoded data removed]",
      "text/plain": [
       "<Figure size 146.652x144.48 with 1 Axes>"
      ]
     },
     "execution_count": 23,
     "metadata": {},
     "output_type": "execute_result"
    }
   ],
   "source": [
    "qc=QuantumCircuit(2)\n",
    "qc.x(0)\n",
    "qc.h(1)\n",
    "qc.draw()"
   ]
  },
  {
   "cell_type": "markdown",
   "id": "growing-toyota",
   "metadata": {},
   "source": [
    "We can represent the action of these two gates as:\n",
    "\n",
    "$$ H \\otimes X $$ \n",
    "\n",
    "Again, careful with the little-endian representation! That is, the correct representation is not $ X \\otimes H $."
   ]
  },
  {
   "cell_type": "markdown",
   "id": "weighted-senator",
   "metadata": {},
   "source": [
    "# Exercise 9\n",
    "\n",
    "Let's say we have the following quantum circuit. How can we represent it as a tensor product?\n"
   ]
  },
  {
   "cell_type": "code",
   "execution_count": 24,
   "id": "premier-mandate",
   "metadata": {},
   "outputs": [
    {
     "data": {
      "image/png": "[encoded data removed]",
      "text/plain": [
       "<Figure size 146.652x144.48 with 1 Axes>"
      ]
     },
     "execution_count": 24,
     "metadata": {},
     "output_type": "execute_result"
    }
   ],
   "source": [
    "qc=QuantumCircuit(2)\n",
    "qc.x(0)\n",
    "qc.draw()"
   ]
  },
  {
   "cell_type": "markdown",
   "id": "wooden-radiation",
   "metadata": {},
   "source": [
    "# Answer\n",
    "\n",
    "$$I \\otimes X $$\n"
   ]
  },
  {
   "cell_type": "markdown",
   "id": "unlike-breed",
   "metadata": {},
   "source": [
    "# CNOT Gate\n",
    "\n",
    "We define the action of CNOT, or CX, gate as applying an X gate to the target qubit when the control qubit is in $| 1 \\rangle $ state.\n",
    "\n",
    "$$ CNOT(1,0) |00\\rangle = |00 \\rangle, \\quad  CNOT(1,0) |01 \\rangle = |01 \\rangle $$\n",
    "$$ CNOT(1,0) |10\\rangle = |11 \\rangle, \\quad  CNOT(1,0) |11 \\rangle = |10 \\rangle $$\n",
    "\n",
    "Note that CNOT gate is mainly used for creating entanglement between two qubits. But it does not create entanglement on all the cases."
   ]
  },
  {
   "cell_type": "markdown",
   "id": "literary-academy",
   "metadata": {},
   "source": [
    "# Exercise 10\n",
    "\n",
    "We define CY gate just like we defined CX gate, it applies a Y gate to the target qubit when the control qubit is in state $| 1 \\rangle $. \n",
    "\n",
    "- Write down the action of $CY(1,0), 1^{st}$ qubit is the control, $0^{th}$ qubit is the target qubit, on the two dimensional computational basis states, $\\{ |00\\rangle,|01\\rangle,|10\\rangle,|11\\rangle \\}$ \n",
    "- Construct the matrix for $CY(1,0)$ gate. "
   ]
  },
  {
   "cell_type": "markdown",
   "id": "serial-satellite",
   "metadata": {},
   "source": [
    "# Answer\n",
    "\n",
    "$$ CY(1,0) |00\\rangle = |00\\rangle, \\quad  CY(1,0) |01 \\rangle = |01\\rangle $$\n",
    "$$ CY(1,0) |10\\rangle = |?\\rangle, \\quad  CY(1,0) |11 \\rangle = |?\\rangle $$\n",
    "\n",
    "$$ CY(1,0) = \\begin{bmatrix} ? & ? & ? & ? \\\\ \n",
    "                             ? & ? & ? & ? \\\\\n",
    "                             ? & ? & ? & ? \\\\\n",
    "                             ? & ? & ? & ? \\end{bmatrix}$$\n"
   ]
  },
  {
   "cell_type": "markdown",
   "id": "higher-rendering",
   "metadata": {},
   "source": [
    "$CNOT$ gate is one of the most powerful tools in quantum computation. Combining $CNOT$ gate with some basic single qubit gates, we can aproximate any unitary transformation into a set of gates up to arbitrary error. This provides a way for us to prove that quantum computation can perform any computation a classical computer can. It also makes way for some interesting homework questions as well!"
   ]
  },
  {
   "cell_type": "markdown",
   "id": "absolute-david",
   "metadata": {},
   "source": [
    "# Exercise 11\n",
    "\n",
    "Let's define a more interesting $CX$ gate, call it $C0X$ gate. It acts just like a $CX$ gate, but kind of in reverse. That is, $C0X$ applies an $X$ gate to the target qubit when the control qubit is in $|0\\rangle$ state. \n",
    "- Write down the action of $C0X(1,0)$ gate on basis states.\n",
    "- Write down the matrix representation for $C0X(1,0)$ gate.\n",
    "- Write down a function that takes in a QuantumCircuit, a control and a target qubit index, and applies a $C0X$ gate. Hint: You can do this using $X$ and $CNOT$ gates.\n"
   ]
  },
  {
   "cell_type": "markdown",
   "id": "french-focus",
   "metadata": {},
   "source": [
    "# Answer\n",
    "$$ C0X(1,0) |00\\rangle = |01\\rangle, \\quad  C0X(1,0) |01 \\rangle = |?\\rangle $$\n",
    "$$ C0X(1,0) |10\\rangle = |10\\rangle, \\quad  C0X(1,0) |11 \\rangle = |?\\rangle $$\n",
    "\n",
    "$$ C0X(1,0) = \\begin{bmatrix} ? & ? & ? & ? \\\\ \n",
    "                             ? & ? & ? & ? \\\\\n",
    "                             ? & ? & ? & ? \\\\\n",
    "                             ? & ? & ? & ? \\end{bmatrix}$$"
   ]
  },
  {
   "cell_type": "code",
   "execution_count": 26,
   "id": "working-crack",
   "metadata": {},
   "outputs": [],
   "source": [
    "def c0x(qc,c,t):\n",
    "    '''\n",
    "    Args:\n",
    "        qc: QuantumCircuit\n",
    "        c : control qubit index\n",
    "        t : target qubit index\n",
    "    Returns:\n",
    "        Applies a c0x(c,t) gate to the circuit, returns nothing.\n",
    "    '''\n"
   ]
  },
  {
   "cell_type": "code",
   "execution_count": 27,
   "id": "labeled-charm",
   "metadata": {},
   "outputs": [
    {
     "data": {
      "text/latex": [
       "$\\displaystyle \n",
       "C0X(1,0)= \\begin{bmatrix}\n",
       "1 & 0 & 0 & 0  \\\\\n",
       "0 & 1 & 0 & 0  \\\\\n",
       "0 & 0 & 1 & 0  \\\\\n",
       "0 & 0 & 0 & 1  \\\\\n",
       "\\end{bmatrix}\n",
       "$$\n",
       "$"
      ],
      "text/plain": [
       "<IPython.core.display.Math object>"
      ]
     },
     "metadata": {},
     "output_type": "display_data"
    }
   ],
   "source": [
    "# You can test your function by calling this cell, then comparing the printed matrix with the \n",
    "# matrix representation you found in the previous part.\n",
    "from numpy.random import randint\n",
    "from random import sample\n",
    "qc = QuantumCircuit(2)\n",
    "c0x(qc,1,0)\n",
    "from qiskit import Aer,assemble\n",
    "from qiskit_textbook.tools import array_to_latex\n",
    "unisim = Aer.get_backend('unitary_simulator')\n",
    "unitary = unisim.run(assemble(qc)).result().get_unitary()\n",
    "array_to_latex(unitary,pretext=\"C0X(1,0)= \")"
   ]
  },
  {
   "cell_type": "markdown",
   "id": "scientific-oracle",
   "metadata": {},
   "source": [
    "# Exercise 12\n",
    "\n",
    "Let's define a way more interesting controlled gate, we call it $C0H$ gate. It acts just like a $C0X$ gate, but instead of applying an $H$ gate to the target qubit when the control qubit is in state $|0\\rangle$, it applies a $H$ gate.  \n",
    "- Write down the action of $C0H(1,0)$ gate on basis states. For simplification purposes, I suggest you to use $|+\\rangle$ and $|-\\rangle$. \n",
    "- Write down the matrix representation for $C0H(1,0)$ gate.\n",
    "- Write down a function that takes in a QuantumCircuit, a control and a target qubit index, and applies a $C0H$ gate. \n",
    "\n"
   ]
  },
  {
   "cell_type": "markdown",
   "id": "invisible-housing",
   "metadata": {},
   "source": [
    "# Answer\n",
    "\n",
    "$$ C0H(1,0) |00\\rangle = |0+\\rangle, \\quad  C0H(1,0) |01 \\rangle = |?\\rangle $$\n",
    "$$ C0H(1,0) |10\\rangle = |10\\rangle, \\quad  C0H(1,0) |11 \\rangle = |?\\rangle $$\n",
    "\n",
    "$$ C0H(1,0) = \\begin{bmatrix} ? & ? & ? & ? \\\\ \n",
    "                             ? & ? & ? & ? \\\\\n",
    "                             ? & ? & ? & ? \\\\\n",
    "                             ? & ? & ? & ? \\end{bmatrix}$$"
   ]
  },
  {
   "cell_type": "code",
   "execution_count": 28,
   "id": "rubber-poison",
   "metadata": {},
   "outputs": [],
   "source": [
    "def c0h(qc,c,t):\n",
    "    '''\n",
    "    Args:\n",
    "        qc: QuantumCircuit\n",
    "        c : control qubit index\n",
    "        t : target qubit index\n",
    "    Returns:\n",
    "        Applies a c0x(c,t) gate to the circuit, returns nothing.\n",
    "    '''\n"
   ]
  },
  {
   "cell_type": "code",
   "execution_count": 29,
   "id": "treated-people",
   "metadata": {},
   "outputs": [
    {
     "data": {
      "text/latex": [
       "$\\displaystyle \n",
       "C0H(1,0)= \\begin{bmatrix}\n",
       "1 & 0 & 0 & 0  \\\\\n",
       "0 & 1 & 0 & 0  \\\\\n",
       "0 & 0 & 1 & 0  \\\\\n",
       "0 & 0 & 0 & 1  \\\\\n",
       "\\end{bmatrix}\n",
       "$$\n",
       "$"
      ],
      "text/plain": [
       "<IPython.core.display.Math object>"
      ]
     },
     "metadata": {},
     "output_type": "display_data"
    }
   ],
   "source": [
    "# You can test your function by calling this cell, then comparing the printed matrix with the \n",
    "# matrix representation you found in the previous part.\n",
    "from numpy.random import randint\n",
    "from random import sample\n",
    "qc = QuantumCircuit(2)\n",
    "c0h(qc,1,0)\n",
    "from qiskit import Aer,assemble\n",
    "from qiskit_textbook.tools import array_to_latex\n",
    "unisim = Aer.get_backend('unitary_simulator')\n",
    "unitary = unisim.run(assemble(qc)).result().get_unitary()\n",
    "array_to_latex(unitary,pretext=\"C0H(1,0)= \")"
   ]
  },
  {
   "cell_type": "code",
   "execution_count": 30,
   "id": "a76754d3",
   "metadata": {},
   "outputs": [
    {
     "data": {
      "image/png": "[encoded data removed]",
      "text/plain": [
       "<Figure size 116.552x144.48 with 1 Axes>"
      ]
     },
     "execution_count": 30,
     "metadata": {},
     "output_type": "execute_result"
    }
   ],
   "source": [
    "qc.draw()"
   ]
  },
  {
   "cell_type": "markdown",
   "id": "healthy-peeing",
   "metadata": {},
   "source": [
    "# Exercise 13\n",
    "\n",
    "Given an arbitrary unitary transformation $U$, can we construct its controlled version using only single qubit gates and a CNOT ? Please explain your reasoning tentatively.\n"
   ]
  },
  {
   "cell_type": "markdown",
   "id": "solid-channels",
   "metadata": {},
   "source": [
    "# Answer\n",
    "\n"
   ]
  }
 ],
 "metadata": {
  "kernelspec": {
   "display_name": "Python 3",
   "language": "python",
   "name": "python3"
  },
  "language_info": {
   "codemirror_mode": {
    "name": "ipython",
    "version": 3
   },
   "file_extension": ".py",
   "mimetype": "text/x-python",
   "name": "python",
   "nbconvert_exporter": "python",
   "pygments_lexer": "ipython3",
   "version": "3.8.8"
  }
 },
 "nbformat": 4,
 "nbformat_minor": 5
}
