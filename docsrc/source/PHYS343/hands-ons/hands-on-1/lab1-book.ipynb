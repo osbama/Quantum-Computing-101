{
 "cells": [
  {
   "cell_type": "markdown",
   "metadata": {},
   "source": [
    "# Learning Outcomes\n",
    "\n",
    "- What is unitary transformation and why do we require our quantum gates to be unitary?\n",
    "- Given the action of a quantum gate on $\\langle 0 |$ and $| 1 \\rangle$, how to construct its matrix ?\n",
    "- How to design and run quantum circuits using Qiskit? \n",
    "- How to read Qiskit documentation? \n",
    "- Exercises for using the gates learned in the class. Namely, X,Y,Z,H,Rz,Swap,CNOT,Toffoli,Fredkin.\n",
    "\n"
   ]
  },
  {
   "cell_type": "markdown",
   "metadata": {},
   "source": [
    "# Single Qubit Quantum Gates\n",
    "\n",
    "We have Pauli gates $I,X,Y$ and $Z$ whose action on the basis states are as follows:\n",
    "\n",
    "$$I | 0 \\rangle = | 0 \\rangle,\\quad I | 1 \\rangle = | 1 \\rangle$$ \n",
    "\n",
    "$$X | 0 \\rangle = | 1 \\rangle,\\quad X | 1 \\rangle = | 0 \\rangle$$ \n",
    "\n",
    "$$Y | 0 \\rangle = i| 1 \\rangle,\\quad Y | 1 \\rangle = -i| 0 \\rangle$$ \n",
    "\n",
    "$$Z | 0 \\rangle = | 0 \\rangle,\\quad Z | 1 \\rangle = -| 1 \\rangle$$ \n"
   ]
  },
  {
   "cell_type": "markdown",
   "metadata": {},
   "source": [
    "# Exercise 1\n",
    "\n",
    "If we define $| 0 \\rangle = \\begin{bmatrix} 1 \\\\ 0 \\end{bmatrix}$ and $| 1 \\rangle = \\begin{bmatrix} 0 \\\\ 1 \\end{bmatrix}$, how do we represent $X,Y,Z$ and $I$ in this basis ? "
   ]
  },
  {
   "cell_type": "markdown",
   "metadata": {},
   "source": [
    "# Answer\n",
    " \n",
    "$$ I = \\begin{bmatrix} ? & ?\\\\ ? & ? \\end{bmatrix} $$\n",
    "\n",
    "$$ X = \\begin{bmatrix} ? & ?\\\\ ? & ? \\end{bmatrix} $$\n",
    "\n",
    "$$ Y = \\begin{bmatrix} ? & ?\\\\ ? & ? \\end{bmatrix} $$\n",
    "\n",
    "$$ Z = \\begin{bmatrix} ? & ?\\\\ ? & ? \\end{bmatrix} $$"
   ]
  },
  {
   "cell_type": "markdown",
   "metadata": {},
   "source": [
    "We also have fancier single qubit gates, such as $H$ and $R_\\phi$ whose action on basis kets are defined as:\n",
    "\n",
    "$$H | 0 \\rangle = \\frac{1}{\\sqrt{2}}| 0 \\rangle + \\frac{1}{\\sqrt{2}}| 1 \\rangle ,\\quad H | 1 \\rangle =  \\frac{1}{\\sqrt{2}}| 0 \\rangle - \\frac{1}{\\sqrt{2}}| 1 \\rangle$$ \n",
    "\n",
    "$$R_\\phi | 0 \\rangle = | 0 \\rangle, \\quad R_\\phi | 1 \\rangle = e^{i\\phi} | 1 \\rangle $$\n"
   ]
  },
  {
   "cell_type": "markdown",
   "metadata": {},
   "source": [
    "# Exercise 2\n",
    "\n",
    "If we define $| 0 \\rangle$ and $| 1 \\rangle$ as in the previous exercise, how do we represent $H$ and $R_\\phi$ gates in matrix form?"
   ]
  },
  {
   "cell_type": "markdown",
   "metadata": {},
   "source": [
    "# Answer\n",
    "\n",
    "$$ H = \\begin{bmatrix} H_{11} & H_{12}\\\\ H_{21} & H_{22} \\end{bmatrix} $$\n",
    "\n",
    "$$ R_\\phi = \\begin{bmatrix} R_{11} & R_{12}\\\\ R_{21} & R_{22} \\end{bmatrix} $$"
   ]
  },
  {
   "cell_type": "markdown",
   "metadata": {},
   "source": [
    "# Exercise 3\n",
    "\n",
    "Can we treat any 2 by 2 matrix as a quantum gate? If not, what are the restrictions for an operator to be a valid quantum gate?"
   ]
  },
  {
   "cell_type": "markdown",
   "metadata": {},
   "source": [
    "# Answer\n",
    "\n",
    "??"
   ]
  },
  {
   "cell_type": "markdown",
   "metadata": {},
   "source": [
    "# Using Qiskit\n",
    "\n",
    "Now that we know a little bit about quantum gates, it is time for us to learn how to use Qiskit for designing and running quantum circuits.\n",
    "\n",
    "Every Qiskit program we will be writing will more or less have the following structure:\n",
    "- Importing the necessary packages\n",
    "- Initializing quantum/classic registers and/or quantum circuit.\n",
    "- Designing your quantum circuit.\n",
    "- Choosing and running it on one of the provided backends.\n",
    "- Analysing the results.\n"
   ]
  },
  {
   "cell_type": "code",
   "execution_count": 86,
   "metadata": {},
   "outputs": [],
   "source": [
    "# So let's start by importing the necessary packages\n",
    "from qiskit import QuantumCircuit, QuantumRegister, ClassicalRegister, assemble, Aer, execute\n",
    "from qiskit.visualization import plot_histogram\n"
   ]
  },
  {
   "cell_type": "code",
   "execution_count": 2,
   "metadata": {},
   "outputs": [],
   "source": [
    "# Initiaizing a quantum circuit\n",
    "# There is more than one way to initialize a quantum circuit.\n",
    "# One way is to simply initialize it by giving the number of qubits as an argument\n",
    "qc1 = QuantumCircuit(5)\n",
    "# Well, we might also need to save our results to some classical register.\n",
    "qc2 = QuantumCircuit(5,5)"
   ]
  },
  {
   "cell_type": "code",
   "execution_count": 3,
   "metadata": {},
   "outputs": [
    {
     "data": {
      "text/html": [
       "<pre style=\"word-wrap: normal;white-space: pre;background: #fff0;line-height: 1.1;font-family: &quot;Courier New&quot;,Courier,monospace\">     \n",
       "q_0: \n",
       "     \n",
       "q_1: \n",
       "     \n",
       "q_2: \n",
       "     \n",
       "q_3: \n",
       "     \n",
       "q_4: \n",
       "     </pre>"
      ],
      "text/plain": [
       "     \n",
       "q_0: \n",
       "     \n",
       "q_1: \n",
       "     \n",
       "q_2: \n",
       "     \n",
       "q_3: \n",
       "     \n",
       "q_4: \n",
       "     "
      ]
     },
     "execution_count": 3,
     "metadata": {},
     "output_type": "execute_result"
    }
   ],
   "source": [
    "# Let's see if they are different from each other.\n",
    "qc1.draw()"
   ]
  },
  {
   "cell_type": "code",
   "execution_count": 4,
   "metadata": {},
   "outputs": [
    {
     "data": {
      "text/html": [
       "<pre style=\"word-wrap: normal;white-space: pre;background: #fff0;line-height: 1.1;font-family: &quot;Courier New&quot;,Courier,monospace\">     \n",
       "q_0: \n",
       "     \n",
       "q_1: \n",
       "     \n",
       "q_2: \n",
       "     \n",
       "q_3: \n",
       "     \n",
       "q_4: \n",
       "     \n",
       "c: 5/\n",
       "     </pre>"
      ],
      "text/plain": [
       "     \n",
       "q_0: \n",
       "     \n",
       "q_1: \n",
       "     \n",
       "q_2: \n",
       "     \n",
       "q_3: \n",
       "     \n",
       "q_4: \n",
       "     \n",
       "c: 5/\n",
       "     "
      ]
     },
     "execution_count": 4,
     "metadata": {},
     "output_type": "execute_result"
    }
   ],
   "source": [
    "qc2.draw()"
   ]
  },
  {
   "cell_type": "code",
   "execution_count": 6,
   "metadata": {},
   "outputs": [
    {
     "data": {
      "text/html": [
       "<pre style=\"word-wrap: normal;white-space: pre;background: #fff0;line-height: 1.1;font-family: &quot;Courier New&quot;,Courier,monospace\">      \n",
       "q0_0: \n",
       "      \n",
       "q0_1: \n",
       "      \n",
       "q0_2: \n",
       "      \n",
       "c0: 3/\n",
       "      </pre>"
      ],
      "text/plain": [
       "      \n",
       "q0_0: \n",
       "      \n",
       "q0_1: \n",
       "      \n",
       "q0_2: \n",
       "      \n",
       "c0: 3/\n",
       "      "
      ]
     },
     "execution_count": 6,
     "metadata": {},
     "output_type": "execute_result"
    }
   ],
   "source": [
    "# Another way to initialize a quantum circuit is by specifying the quantum and classical registers as follows.\n",
    "qreg = QuantumRegister(3)\n",
    "creg = ClassicalRegister(3)\n",
    "qc3 = QuantumCircuit(qreg,creg)\n",
    "qc3.draw()"
   ]
  },
  {
   "cell_type": "markdown",
   "metadata": {},
   "source": [
    "As you can see there are many ways to do the same operation. Most of the time the choice is arbitrary and we choose whichever is more convenient. The important lesson here is the fact that Qiskit defined QuantumCircuit,QuantumRegister and many other thing as \"objects\", and there are methods and attributes of each object which we can use for our purposes."
   ]
  },
  {
   "cell_type": "code",
   "execution_count": null,
   "metadata": {},
   "outputs": [],
   "source": [
    "# Here I will show the documentation and how to understand what it is talking about."
   ]
  },
  {
   "cell_type": "code",
   "execution_count": 53,
   "metadata": {},
   "outputs": [
    {
     "data": {
      "text/html": [
       "<pre style=\"word-wrap: normal;white-space: pre;background: #fff0;line-height: 1.1;font-family: &quot;Courier New&quot;,Courier,monospace\">          \n",
       "q_0: ─────\n",
       "          \n",
       "q_1: ─────\n",
       "     ┌───┐\n",
       "q_2: ┤ X ├\n",
       "     └───┘\n",
       "c: 3/═════\n",
       "          </pre>"
      ],
      "text/plain": [
       "          \n",
       "q_0: ─────\n",
       "          \n",
       "q_1: ─────\n",
       "     ┌───┐\n",
       "q_2: ┤ X ├\n",
       "     └───┘\n",
       "c: 3/═════\n",
       "          "
      ]
     },
     "execution_count": 53,
     "metadata": {},
     "output_type": "execute_result"
    }
   ],
   "source": [
    "# Next we design our first quantum circuit.\n",
    "qc = QuantumCircuit(3,3)\n",
    "qc.x(0)\n",
    "qc.x(2)\n",
    "qc.draw()"
   ]
  },
  {
   "cell_type": "code",
   "execution_count": 54,
   "metadata": {},
   "outputs": [
    {
     "data": {
      "text/html": [
       "<pre style=\"word-wrap: normal;white-space: pre;background: #fff0;line-height: 1.1;font-family: &quot;Courier New&quot;,Courier,monospace\">          ┌─┐      \n",
       "q_0: ─────┤M├──────\n",
       "          └╥┘┌─┐   \n",
       "q_1: ──────╫─┤M├───\n",
       "     ┌───┐ ║ └╥┘┌─┐\n",
       "q_2: ┤ X ├─╫──╫─┤M├\n",
       "     └───┘ ║  ║ └╥┘\n",
       "c: 3/══════╩══╩══╩═\n",
       "           0  1  2 </pre>"
      ],
      "text/plain": [
       "          ┌─┐      \n",
       "q_0: ─────┤M├──────\n",
       "          └╥┘┌─┐   \n",
       "q_1: ──────╫─┤M├───\n",
       "     ┌───┐ ║ └╥┘┌─┐\n",
       "q_2: ┤ X ├─╫──╫─┤M├\n",
       "     └───┘ ║  ║ └╥┘\n",
       "c: 3/══════╩══╩══╩═\n",
       "           0  1  2 "
      ]
     },
     "execution_count": 54,
     "metadata": {},
     "output_type": "execute_result"
    }
   ],
   "source": [
    "# Now we measure our qubits.\n",
    "#qc.measure_all()\n",
    "qc.measure([0,1,2],[0,1,2])\n",
    "qc.draw()"
   ]
  },
  {
   "cell_type": "code",
   "execution_count": 55,
   "metadata": {},
   "outputs": [
    {
     "data": {
      "text/plain": [
       "[QasmSimulator(\n",
       " backend_name='qasm_simulator', provider=AerProvider()),\n",
       " StatevectorSimulator(\n",
       " backend_name='statevector_simulator', provider=AerProvider()),\n",
       " UnitarySimulator(\n",
       " backend_name='unitary_simulator', provider=AerProvider()),\n",
       " PulseSimulator(\n",
       " backend_name='pulse_simulator', provider=AerProvider())]"
      ]
     },
     "execution_count": 55,
     "metadata": {},
     "output_type": "execute_result"
    }
   ],
   "source": [
    "# Let's look at the backends provided by qiskit.Aer.\n",
    "Aer.backends()"
   ]
  },
  {
   "cell_type": "code",
   "execution_count": 56,
   "metadata": {},
   "outputs": [],
   "source": [
    "svsim = Aer.get_backend('statevector_simulator')\n",
    "qasmsim = Aer.get_backend('qasm_simulator')\n",
    "unisim = Aer.get_backend('unitary_simulator')"
   ]
  },
  {
   "cell_type": "code",
   "execution_count": 57,
   "metadata": {},
   "outputs": [],
   "source": [
    "# This turns our circuit into some kind of assembly code for quantum computers.\n",
    "qobj = assemble(qc)"
   ]
  },
  {
   "cell_type": "code",
   "execution_count": 58,
   "metadata": {},
   "outputs": [],
   "source": [
    "result_qasm = qasmsim.run(qobj,shots=1000).result()\n",
    "result_sv = svsim.run(qobj).result()\n",
    "result_uni = unisim.run(qobj).result()"
   ]
  },
  {
   "cell_type": "code",
   "execution_count": 59,
   "metadata": {},
   "outputs": [
    {
     "data": {
      "text/plain": [
       "Result(backend_name='statevector_simulator', backend_version='0.7.1', qobj_id='24a54026-fe90-4b6f-abb0-0f7a91936339', job_id='3763c8c6-698a-4b61-83f9-c219697719e3', success=True, results=[ExperimentResult(shots=1000, success=True, meas_level=MeasLevel.CLASSIFIED, data=ExperimentResultData(counts={'0x4': 1}, statevector=[0.+0.j 0.+0.j 0.+0.j 0.+0.j 1.+0.j 0.+0.j 0.+0.j 0.+0.j]), header=QobjExperimentHeader(clbit_labels=[['c', 0], ['c', 1], ['c', 2]], creg_sizes=[['c', 3]], global_phase=0.0, memory_slots=3, n_qubits=3, name='circuit19', qreg_sizes=[['q', 3]], qubit_labels=[['q', 0], ['q', 1], ['q', 2]]), status=DONE, seed_simulator=2378394817, time_taken=0.000145393, metadata={'parallel_shots': 1, 'parallel_state_update': 4})], date=2021-04-02T23:22:05.218620, status=COMPLETED, metadata={'max_memory_mb': 4096, 'omp_enabled': True, 'parallel_experiments': 1, 'time_taken': 0.000278402}, time_taken=0.0007009506225585938)"
      ]
     },
     "execution_count": 59,
     "metadata": {},
     "output_type": "execute_result"
    }
   ],
   "source": [
    "result_sv"
   ]
  },
  {
   "cell_type": "code",
   "execution_count": 60,
   "metadata": {},
   "outputs": [
    {
     "data": {
      "text/plain": [
       "{'100': 1000}"
      ]
     },
     "execution_count": 60,
     "metadata": {},
     "output_type": "execute_result"
    }
   ],
   "source": [
    "# That's all good but we can't really use these Result objects directly. Let's see what kind of methods they have.\n",
    "result_qasm."
   ]
  },
  {
   "cell_type": "markdown",
   "metadata": {},
   "source": [
    "# Important Remarks about Backends\n",
    "\n",
    "- Qasm simulator simulates the quantum computer, but we can't access the full state vector. \n",
    "- In order to get the full state vector, we should use statevector_simulator backend, which is slower than qasm_simulator.\n",
    "- If we would like to obtain the unitary matrix representing the full operation of the quantum circuit, then we should use unitary_simulator.\n",
    "- While using the unitary_simulator, be careful not the include any measurements at the end. Otherwise, you will get an error. Why do you think? "
   ]
  },
  {
   "cell_type": "code",
   "execution_count": 61,
   "metadata": {},
   "outputs": [
    {
     "data": {
      "image/png": "[encoded data removed]",
      "text/plain": [
       "<Figure size 504x360 with 1 Axes>"
      ]
     },
     "execution_count": 61,
     "metadata": {},
     "output_type": "execute_result"
    }
   ],
   "source": [
    "# Allrighty, now we have our Result object coming from our simulators. What can we do with them?\n",
    "counts = result_qasm.get_counts()\n",
    "plot_histogram(counts)"
   ]
  },
  {
   "cell_type": "code",
   "execution_count": 74,
   "metadata": {},
   "outputs": [
    {
     "data": {
      "text/html": [
       "<pre style=\"word-wrap: normal;white-space: pre;background: #fff0;line-height: 1.1;font-family: &quot;Courier New&quot;,Courier,monospace\">        ┌───┐ ░ ┌─┐\n",
       "   q_0: ┤ H ├─░─┤M├\n",
       "        └───┘ ░ └╥┘\n",
       "meas: 1/═════════╩═\n",
       "                 0 </pre>"
      ],
      "text/plain": [
       "        ┌───┐ ░ ┌─┐\n",
       "   q_0: ┤ H ├─░─┤M├\n",
       "        └───┘ ░ └╥┘\n",
       "meas: 1/═════════╩═\n",
       "                 0 "
      ]
     },
     "execution_count": 74,
     "metadata": {},
     "output_type": "execute_result"
    }
   ],
   "source": [
    "# Let's now see the effect of Hadamard gate.\n",
    "qch = QuantumCircuit(1)\n",
    "qch.h(0)\n",
    "qch.measure_all()\n",
    "counts2 = qasmsim.run(assemble(qch)).result().get_counts()\n",
    "qch.draw()"
   ]
  },
  {
   "cell_type": "code",
   "execution_count": 75,
   "metadata": {
    "scrolled": true
   },
   "outputs": [
    {
     "data": {
      "image/png": "[encoded data removed]",
      "text/plain": [
       "<Figure size 504x360 with 1 Axes>"
      ]
     },
     "execution_count": 75,
     "metadata": {},
     "output_type": "execute_result"
    }
   ],
   "source": [
    "plot_histogram(counts2)"
   ]
  },
  {
   "cell_type": "code",
   "execution_count": 77,
   "metadata": {},
   "outputs": [],
   "source": [
    "# Let's now see the effect of Hadamard gate with statevector_simulator and unitary simulator\n",
    "qch = QuantumCircuit(1)\n",
    "qch.h(0)\n",
    "sv = svsim.run(assemble(qch)).result().get_statevector()\n",
    "un = unisim.run(assemble(qch)).result().get_unitary()\n"
   ]
  },
  {
   "cell_type": "code",
   "execution_count": 78,
   "metadata": {},
   "outputs": [
    {
     "data": {
      "text/plain": [
       "array([0.70710678+0.j, 0.70710678+0.j])"
      ]
     },
     "execution_count": 78,
     "metadata": {},
     "output_type": "execute_result"
    }
   ],
   "source": [
    "sv"
   ]
  },
  {
   "cell_type": "code",
   "execution_count": 79,
   "metadata": {},
   "outputs": [
    {
     "data": {
      "text/plain": [
       "array([[ 0.70710678+0.00000000e+00j,  0.70710678-8.65956056e-17j],\n",
       "       [ 0.70710678+0.00000000e+00j, -0.70710678+8.65956056e-17j]])"
      ]
     },
     "execution_count": 79,
     "metadata": {},
     "output_type": "execute_result"
    }
   ],
   "source": [
    "un"
   ]
  },
  {
   "cell_type": "markdown",
   "metadata": {},
   "source": [
    "# Important Remarks about Results\n",
    "- Qiskit uses little-endian representation. That is when you refer to some qubit, you start counting from the right, \"..543210\". \n",
    "- Although we are simulating a quantum computer, we shouldn't expect to get 50:50 from applying Hadamard gate. \n"
   ]
  },
  {
   "cell_type": "markdown",
   "metadata": {},
   "source": [
    "# Congratulations\n",
    "\n",
    "Well, that's about all we need to learn about the functionalities provided by Qiskit at this point. Now it's time to do some exercises."
   ]
  },
  {
   "cell_type": "markdown",
   "metadata": {},
   "source": [
    "# Exercise 4\n",
    "\n",
    "Write a function that takes a quantum circuit and a backend as arguments, and runs the circuit on the backend and returns the result object."
   ]
  },
  {
   "cell_type": "code",
   "execution_count": 83,
   "metadata": {},
   "outputs": [],
   "source": [
    "def simplerun(qc,back):\n",
    "    '''\n",
    "        This function takes in a quantum circuit and a backend and returns a Results object.\n",
    "    '''\n",
    "    #return back.run(assemble(qc)).result()"
   ]
  },
  {
   "cell_type": "code",
   "execution_count": null,
   "metadata": {},
   "outputs": [],
   "source": []
  },
  {
   "cell_type": "markdown",
   "metadata": {},
   "source": [
    "# Exercise 5\n",
    "\n",
    "Fill in the function below according to the specification."
   ]
  },
  {
   "cell_type": "code",
   "execution_count": 82,
   "metadata": {},
   "outputs": [],
   "source": [
    "def num2qc(num):\n",
    "    '''\n",
    "    This function takes a decimal number num and returns a quantum circuit which initializes the qubits to the \n",
    "        representation of num.\n",
    "    Args: \n",
    "        num: a decimal number.\n",
    "    Returns:\n",
    "        QuantumCircuit\n",
    "    '''\n",
    "    # Let's first convert num to binary string.\n",
    "    \n",
    "    \n",
    "    \n",
    "    # We have our binary number in string format, let's initialize our quantum circuit and do the necessary operations.\n",
    "    # How many qubits do we need ?\n",
    "    # Which gates should we apply to obtain the necessary circuit?\n",
    "    "
   ]
  },
  {
   "cell_type": "code",
   "execution_count": 7,
   "metadata": {},
   "outputs": [
    {
     "data": {
      "text/plain": [
       "'0b10111'"
      ]
     },
     "execution_count": 7,
     "metadata": {},
     "output_type": "execute_result"
    }
   ],
   "source": [
    "# Now, let's test our function.\n",
    "number = 21\n",
    "qc21 = num2qc(number)\n",
    "qc21.draw()"
   ]
  },
  {
   "cell_type": "markdown",
   "metadata": {},
   "source": [
    "# Exercise 6\n",
    "\n",
    "Design a quantum circuit which initializes the state:\n",
    "\n",
    "$$ | \\Phi^+\\rangle = \\frac{1}{\\sqrt{2}} |00\\langle + \\frac{1}{\\sqrt{2}} |11\\rangle$$"
   ]
  },
  {
   "cell_type": "code",
   "execution_count": null,
   "metadata": {},
   "outputs": [],
   "source": [
    "def bell_1():\n",
    "    '''\n",
    "    Returns a quantum circuit initializing one of the Bell states.\n",
    "    '''"
   ]
  },
  {
   "cell_type": "code",
   "execution_count": null,
   "metadata": {},
   "outputs": [],
   "source": []
  },
  {
   "cell_type": "markdown",
   "metadata": {},
   "source": [
    "# Exercise 7\n",
    "Design a quantum circuit which initializes the state:\n",
    "\n",
    "$$ |\\Psi^-\\rangle = \\frac{1}{\\sqrt{2}} |01\\rangle - \\frac{1}{\\sqrt{2}} |10\\rangle$$"
   ]
  },
  {
   "cell_type": "code",
   "execution_count": null,
   "metadata": {},
   "outputs": [],
   "source": [
    "def bell_2():\n",
    "    \n",
    "    "
   ]
  },
  {
   "cell_type": "code",
   "execution_count": null,
   "metadata": {},
   "outputs": [],
   "source": []
  },
  {
   "cell_type": "markdown",
   "metadata": {},
   "source": [
    "# Exercise 8\n",
    "\n",
    "Design a quantum circuit which initializes the state:\n",
    "\n",
    "$$ |W\\rangle = \\frac{1}{\\sqrt{2}} |000\\rangle + \\frac{1}{\\sqrt{2}} |111\\rangle$$"
   ]
  },
  {
   "cell_type": "code",
   "execution_count": null,
   "metadata": {},
   "outputs": [],
   "source": [
    "def ghz():\n",
    "    "
   ]
  },
  {
   "cell_type": "code",
   "execution_count": null,
   "metadata": {},
   "outputs": [],
   "source": []
  },
  {
   "cell_type": "markdown",
   "metadata": {},
   "source": [
    "# Exercise 9\n",
    "\n",
    "Now, we will design a classical NOT gate using quantum gates we have learned so far. "
   ]
  },
  {
   "cell_type": "code",
   "execution_count": 87,
   "metadata": {},
   "outputs": [],
   "source": [
    "def NOT(inp):\n",
    "    \"\"\"An NOT gate.\n",
    "    \n",
    "    Parameters:\n",
    "        inp (str): Input, encoded in qubit 0.\n",
    "        \n",
    "    Returns:\n",
    "        QuantumCircuit: Output NOT circuit.\n",
    "        str: Output value measured from qubit 0.\n",
    "    \"\"\"\n",
    "\n",
    "    qc = QuantumCircuit(1, 1) # A quantum circuit with a single qubit and a single classical bit\n",
    "    qc.reset(0)\n",
    "    \n",
    "    # We encode '0' as the qubit state |0⟩, and '1' as |1⟩\n",
    "    # Since the qubit is initially |0⟩, we don't need to do anything for an input of '0'\n",
    "    # For an input of '1', we do an x to rotate the |0⟩ to |1⟩\n",
    "    if inp=='1':\n",
    "        qc.x(0)\n",
    "        \n",
    "    # barrier between input state and gate operation \n",
    "    qc.barrier()\n",
    "    \n",
    "    # Now we've encoded the input, we can do a NOT on it using x\n",
    "    qc.x(0)\n",
    "    \n",
    "    #barrier between gate operation and measurement\n",
    "    qc.barrier()\n",
    "    \n",
    "    # Finally, we extract the |0⟩/|1⟩ output of the qubit and encode it in the bit c[0]\n",
    "    qc.measure(0,0)\n",
    "    qc.draw()\n",
    "    \n",
    "    # We'll run the program on a simulator\n",
    "    backend = Aer.get_backend('qasm_simulator')\n",
    "    # Since the output will be deterministic, we can use just a single shot to get it\n",
    "    job = execute(qc, backend, shots=1, memory=True)\n",
    "    output = job.result().get_memory()[0]\n",
    "    \n",
    "    return qc, output"
   ]
  },
  {
   "cell_type": "code",
   "execution_count": 91,
   "metadata": {},
   "outputs": [
    {
     "data": {
      "text/plain": [
       "'1'"
      ]
     },
     "execution_count": 91,
     "metadata": {},
     "output_type": "execute_result"
    }
   ],
   "source": [
    "qc, out = NOT('0')"
   ]
  },
  {
   "cell_type": "code",
   "execution_count": null,
   "metadata": {},
   "outputs": [],
   "source": []
  }
 ],
 "metadata": {
  "kernelspec": {
   "display_name": "Python 3",
   "language": "python",
   "name": "python3"
  },
  "language_info": {
   "codemirror_mode": {
    "name": "ipython",
    "version": 3
   },
   "file_extension": ".py",
   "mimetype": "text/x-python",
   "name": "python",
   "nbconvert_exporter": "python",
   "pygments_lexer": "ipython3",
   "version": "3.9.1"
  }
 },
 "nbformat": 4,
 "nbformat_minor": 4
}
