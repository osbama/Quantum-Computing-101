{
 "cells": [
  {
   "cell_type": "code",
   "execution_count": 1,
   "metadata": {
    "collapsed": false
   },
   "outputs": [],
   "source": [
    "%matplotlib inline"
   ]
  },
  {
   "cell_type": "markdown",
   "source": [
    "# Parameter-shift rules\n",
    "\n",
    "The output of a variational circuit (i.e., the expectation of an observable) can be written as a “quantum function” $f(\\theta)$ parametrized by $\\theta = \\theta_1, \\theta_2, \\dots$. The partial derivative of $f(\\theta)$ can in many cases be expressed as a linear combination of other quantum functions. Importantly, these other quantum functions typically use the same circuit, differing only in a shift of the argument. This means that partial derivatives of a variational circuit can be computed by using the same variational circuit architecture.\n",
    "\n",
    "Recipes of how to get partial derivatives by evaluated parameter-shifted instances of a variational circuit are called parameter-shift rules, and have been first introduced to quantum machine learning in Mitarai et al. (2018), and extended in Schuld et al. (2018).\n",
    "\n",
    "![](images/gradients2.png)\n",
    "\n"
   ],
   "metadata": {
    "collapsed": false
   }
  },
  {
   "cell_type": "markdown",
   "source": [
    "\n",
    "\n",
    "Making a rough analogy to classically computable functions, this is similar to how the derivative of the function $f(x)=\\sin(x)$ is identical to $\\frac{1}{2}\\sin(x+\\frac{\\pi}{2}) - \\frac{1}{2}\\sin(x-\\frac{\\pi}{2})$. So the same underlying algorithm can be reused to compute both $\\sin(x)$ and its derivative (by evaluating at $x\\pm\\frac{\\pi}{2}$). This intuition holds for many quantum functions of interest: the same circuit can be used to compute both the quantum function and the gradient of the quantum function (This should be contrasted with software which can perform automatic differentiation on classical simulations of quantum circuits, such as Strawberry Fields).\n",
    "\n",
    "\n",
    "## A more technical explanation\n",
    "\n",
    "Quantum circuits are specified by a sequence of gates. The unitary transformation carried out by the circuit can thus be broken down into a product of unitaries:\n",
    "\n",
    "$$\n",
    "U(x; \\theta) = U_N(\\theta_{N}) U_{N-1}(\\theta_{N-1}) \\cdots U_i(\\theta_i) \\cdots U_1(\\theta_1) U_0(x).\n",
    "$$\n",
    "\n",
    "Each of these gates is unitary, and therefore must have the form $U_{j}(\\gamma_j)=\\exp{(i\\gamma_j H_j)}$ where $H_j$ is a Hermitian operator which generates the gate and $\\gamma_j$ is the gate parameter. We have omitted which wire each unitary acts on, since it is not necessary for the following discussion.\n",
    "\n",
    "Note:\n",
    "\n",
    "In this example, we have used the input $x$ as the argument for gate $U_0$ and the parameters $\\theta$ for the remaining gates. This is not required. Inputs and parameters can be arbitrarily assigned to different gates."
   ],
   "metadata": {
    "collapsed": false
   }
  },
  {
   "cell_type": "markdown",
   "source": [
    "\n",
    "### A single parameterized gate\n",
    "\n",
    "Let us single out a single parameter $\\theta_i$ and its associated gate $U_i(\\theta_i)$. For simplicity, we remove all gates except $U_i(\\theta_i)$ and $U_0(x)$ for the moment. In this case, we have a simplified quantum circuit function\n",
    "\n",
    "$$\n",
    "f(x; \\theta_i) = \\langle 0 | U_0^\\dagger(x)U_i^\\dagger(\\theta_i)\\hat{B}U_i(\\theta_i)U_0(x) | 0 \\rangle = \\langle x | U_i^\\dagger(\\theta_i)\\hat{B}U_i(\\theta_i) | x \\rangle.\n",
    "$$\n",
    "\n",
    "For convenience, we rewrite the unitary conjugation as a linear transformation $\\mathcal{M}_{\\theta_i}$ acting on the operator $\\hat{B}$:\n",
    "\n",
    "$$\n",
    "U_i^\\dagger(\\theta_i)\\hat{B}U_i(\\theta_i) = \\mathcal{M}_{\\theta_i}(\\hat{B}).\n",
    "$$\n",
    "\n",
    "The transformation $\\mathcal{M}_{\\theta_i}$ depends smoothly on the parameter $\\theta_i$, so this quantum function will have a well-defined gradient:\n",
    "\n",
    "$$\n",
    "\\nabla_{\\theta_i}f(x; \\theta_i) = \\langle x | \\nabla_{\\theta_i}\\mathcal{M}_{\\theta_i}(\\hat{B}) | x \\rangle \\in \\mathbb{R}.\n",
    "$$\n",
    "\n",
    "The key insight is that we can, in many cases of interest, express this gradient as a linear combination of the same transformation $\\mathcal{M}$, but with different parameters. Namely,\n",
    "\n",
    "$$\n",
    "\\nabla_{\\theta_i}\\mathcal{M}_{\\theta_i}(\\hat{B}) = c[\\mathcal{M}_{\\theta_i + s}(\\hat{B}) - \\mathcal{M}_{\\theta_i - s}(\\hat{B})],\n",
    "$$\n",
    "\n",
    "where the multiplier $c$ and the shift $s$ are determined completely by the type of transformation $\\mathcal{M}$ and independent of the value of $\\theta_i$.\n",
    "\n",
    "Note\n",
    "\n",
    "While this construction bears some resemblance to the numerical finite-difference method for computing derivatives, here $s$ is finite rather than infinitesimal."
   ],
   "metadata": {
    "collapsed": false
   }
  },
  {
   "cell_type": "markdown",
   "source": [
    "### Multiple parameterized gates\n",
    "\n",
    "To complete the story, we now go back to the case where there are many gates in the circuit. We can absorb any gates applied before gate i into the initial state: |\\psi_{i-1}\\rangle = U_{i-1}(\\theta_{i-1}) \\cdots U_{1}(\\theta_{1})U_{0}(x)|0\\rangle. Similarly, any gates applied after gate i are combined with the observable $\\hat{B}: \\hat{B}_{i+1} = U_{N}^\\dagger(\\theta_{N}) \\cdots U_{i+1}^\\dagger(\\theta_{i+1}) \\hat{B} U_{i+1}(\\theta_{i+1}) \\cdots U_{N}(\\theta_{N})$.\n",
    "\n",
    "With this simplification, the quantum circuit function becomes\n",
    "\n",
    "$$\n",
    "f(x; \\theta) = \\langle \\psi_{i-1} | U_i^\\dagger(\\theta_i) \\hat{B}_{i+1} U_i(\\theta_i) | \\psi_{i-1} \\rangle = \\langle \\psi_{i-1} | \\mathcal{M}_{\\theta_i} (\\hat{B}_{i+1}) | \\psi_{i-1} \\rangle,\n",
    "$$\n",
    "\n",
    "and its gradient is\n",
    "\n",
    "$$\n",
    "\\nabla_{\\theta_i}f(x; \\theta) = \\langle \\psi_{i-1} | \\nabla_{\\theta_i}\\mathcal{M}_{\\theta_i} (\\hat{B}_{i+1}) | \\psi_{i-1} \\rangle.\n",
    "$$\n",
    "\n",
    "This gradient has the exact same form as the single-gate case, except we modify the state $|x\\rangle \\rightarrow |\\psi_{i-1}\\rangle$ and the measurement operator $\\hat{B}\\rightarrow\\hat{B}_{i+1}$. In terms of the circuit, this means we can leave all other gates as they are, and only modify gate $U(\\theta_i)$ when we want to differentiate with respect to the parameter $\\theta_i$.\n",
    "\n",
    "Note\n",
    "\n",
    "Sometimes we may want to use the same classical parameter with multiple gates in the circuit. Due to the product rule, the total gradient will then involve contributions from each gate that uses that parameter."
   ],
   "metadata": {
    "collapsed": false
   }
  },
  {
   "cell_type": "markdown",
   "source": [
    "\n",
    "### Pauli gate example\n",
    "\n",
    "Consider a quantum computer with parameterized gates of the form\n",
    "\n",
    "$$\n",
    "U_i(\\theta_i)=\\exp\\left(-i\\tfrac{\\theta_i}{2}\\hat{P}_i\\right),\n",
    "$$\n",
    "\n",
    "where $\\hat{P}_i=\\hat{P}_i^\\dagger$ is a Pauli operator.\n",
    "\n",
    "The gradient of this unitary is\n",
    "\n",
    "$$\n",
    "\\nabla_{\\theta_i}U_i(\\theta_i) = -\\tfrac{i}{2}\\hat{P}_i U_i(\\theta_i) = -\\tfrac{i}{2}U_i(\\theta_i)\\hat{P}_i .\n",
    "$$\n",
    "\n",
    "Substituting this into the quantum circuit function $f(x; \\theta)$, we get\n",
    "\n",
    "$$\n",
    "\\begin{align}\n",
    "    \\nabla_{\\theta_i}f(x; \\theta) = &\n",
    "    \\frac{i}{2}\\langle \\psi_{i-1} | U_i^\\dagger(\\theta_i) \\left( P_i \\hat{B}_{i+1} - \\hat{B}_{i+1} P_i \\right) U_i(\\theta_i)| \\psi_{i-1} \\rangle \\\\\n",
    "    = & \\frac{i}{2}\\langle \\psi_{i-1} | U_i^\\dagger(\\theta_i) \\left[P_i, \\hat{B}_{i+1}\\right]U_i(\\theta_i) | \\psi_{i-1} \\rangle,\n",
    "\\end{align}\n",
    "$$\n",
    "\n",
    "where $[X,Y]=XY-YX$ is the commutator.\n",
    "\n",
    "We now make use of the following mathematical identity for commutators involving Pauli operators (Mitarai et al. (2018)):\n",
    "\n",
    "$$\n",
    "\\left[ \\hat{P}_i, \\hat{B} \\right] = -i\\left(U_i^\\dagger\\left(\\tfrac{\\pi}{2}\\right)\\hat{B}U_i\\left(\\tfrac{\\pi}{2}\\right) - U_i^\\dagger\\left(-\\tfrac{\\pi}{2}\\right)\\hat{B}U_i\\left(-\\tfrac{\\pi}{2}\\right) \\right).\n",
    "$$\n",
    "\n",
    "Substituting this into the previous equation, we obtain the gradient expression\n",
    "\n",
    "$$\n",
    "\\begin{align}\n",
    "    \\nabla_{\\theta_i}f(x; \\theta) = & \\hphantom{-} \\tfrac{1}{2} \\langle \\psi_{i-1} | U_i^\\dagger\\left(\\theta_i + \\tfrac{\\pi}{2} \\right) \\hat{B}_{i+1} U_i\\left(\\theta_i + \\tfrac{\\pi}{2} \\right) | \\psi_{i-1} \\rangle \\\\\n",
    "    & - \\tfrac{1}{2} \\langle \\psi_{i-1} | U_i^\\dagger\\left(\\theta_i - \\tfrac{\\pi}{2} \\right) \\hat{B}_{i+1} U_i\\left(\\theta_i - \\tfrac{\\pi}{2} \\right) | \\psi_{i-1} \\rangle.\n",
    "\\end{align}\n",
    "$$\n",
    "\n",
    "Finally, we can rewrite this in terms of quantum functions:\n",
    "\n",
    "$$\n",
    "\\nabla_{\\theta}f(x; \\theta) = \\tfrac{1}{2}\\left[ f(x; \\theta + \\tfrac{\\pi}{2}) - f(x; \\theta - \\tfrac{\\pi}{2}) \\right].\n",
    "$$"
   ],
   "metadata": {
    "collapsed": false
   }
  },
  {
   "cell_type": "markdown",
   "source": [
    "\n",
    "### Gaussian gate example\n",
    "\n",
    "For quantum devices with continuous-valued operators, such as photonic quantum computers, it is convenient to employ the Heisenberg picture, i.e., to track how the gates $U_i(\\theta_i)$ transform the final measurement operator $\\hat{B}$.\n",
    "\n",
    "As an example, we consider the Squeezing gate. In the Heisenberg picture, the Squeezing gate causes the quadrature operators \\hat{x} and \\hat{p} to become rescaled:\n",
    "\n",
    "$$\n",
    "\\begin{align}\n",
    "    \\mathcal{M}^S_r(\\hat{x}) = & S^\\dagger(r)\\hat{x}S(r) \\\\\n",
    "                                = & e^{-r}\\hat{x}\n",
    "\\end{align}\n",
    "$$\n",
    "\n",
    "and\n",
    "\n",
    "$$\n",
    "\\begin{align}\n",
    "    \\mathcal{M}^S_r(\\hat{p}) = & S^\\dagger(r)\\hat{p}S(r) \\\\\n",
    "                                = & e^{r}\\hat{p}.\n",
    "\\end{align}\n",
    "$$\n",
    "\n",
    "Expressing this in matrix notation, we have\n",
    "\n",
    "$$\n",
    "\\begin{align}\n",
    "    \\begin{bmatrix}\n",
    "        \\hat{x} \\\\\n",
    "        \\hat{p}\n",
    "    \\end{bmatrix}\n",
    "    \\rightarrow\n",
    "    \\begin{bmatrix}\n",
    "       e^{-r} & 0 \\\\\n",
    "       0      & e^r\n",
    "    \\end{bmatrix}\n",
    "    \\begin{bmatrix}\n",
    "        \\hat{x} \\\\\n",
    "        \\hat{p}\n",
    "    \\end{bmatrix}.\n",
    "\\end{align}\n",
    "$$\n",
    "\n",
    "The gradient of this transformation can easily be found:\n",
    "\n",
    "$$\n",
    "\\begin{align}\n",
    "    \\nabla_r\n",
    "    \\begin{bmatrix}\n",
    "        e^{-r} & 0 \\\\\n",
    "        0 & e^r\n",
    "    \\end{bmatrix}\n",
    "    =\n",
    "    \\begin{bmatrix}\n",
    "        -e^{-r} & 0 \\\\\n",
    "        0 & e^r\n",
    "    \\end{bmatrix}.\n",
    "\\end{align}\n",
    "$$\n",
    "\n",
    "We notice that this can be rewritten this as a linear combination of squeeze operations:\n",
    "\n",
    "$$\n",
    "\\begin{align}\n",
    "    \\begin{bmatrix}\n",
    "        -e^{-r} & 0 \\\\\n",
    "        0 & e^r\n",
    "    \\end{bmatrix}\n",
    "    =\n",
    "    \\frac{1}{2\\sinh(s)}\n",
    "    \\left(\n",
    "    \\begin{bmatrix}\n",
    "        e^{-(r+s)} & 0 \\\\\n",
    "        0 & e^{r+s}\n",
    "    \\end{bmatrix}\n",
    "    -\n",
    "    \\begin{bmatrix}\n",
    "        e^{-(r-s)} & 0 \\\\\n",
    "        0 & e^{r-s}\n",
    "    \\end{bmatrix}\n",
    "    \\right),\n",
    "\\end{align}\n",
    "$$\n",
    "\n",
    "where $s$ is an arbitrary nonzero shift (Note: In situations where no formula for automatic quantum gradients is known, one can fall back to approximate gradient estimation using numerical methods.\n",
    ").\n",
    "\n",
    "As before, assume that an input y has already been embedded into a quantum state $|y\\rangle = U_0(y)|0\\rangle$ before we apply the squeeze gate. If we measure the $\\hat{x}$ operator, we will have the following quantum circuit function:\n",
    "\n",
    "$$\n",
    "f(y;r) = \\langle y | \\mathcal{M}^S_r (\\hat{x}) | y \\rangle.\n",
    "$$\n",
    "\n",
    "Finally, its gradient can be expressed as\n",
    "\n",
    "$$\n",
    "\\begin{align}\n",
    "    \\nabla_r f(y;r) = &  \\frac{1}{2\\sinh(s)} \\left[\n",
    "                         \\langle y | \\mathcal{M}^S_{r+s} (\\hat{x}) | y \\rangle\n",
    "                        -\\langle y | \\mathcal{M}^S_{r-s} (\\hat{x}) | y \\rangle \\right] \\\\\n",
    "                    = & \\frac{1}{2\\sinh(s)}\\left[f(y; r+s) - f(y; r-s)\\right].\n",
    "\\end{align}\n",
    "$$\n",
    "\n",
    "Note\n",
    "\n",
    "For simplicity of the discussion, we have set the phase angle of the Squeezing gate to be zero. In the general case, Squeezing is a two-parameter gate, containing a squeezing magnitude and a squeezing angle. However, we can always decompose the two-parameter form into a Squeezing gate like the one above, followed by a Rotation gate.\n",
    "\n",
    "In physical experiments, it is beneficial to choose s so that the additional squeezing is small. However, there is a tradeoff, because we also want to make sure $\\frac{1}{2\\sinh(s)}$ does not blow up numerically.\n"
   ],
   "metadata": {
    "collapsed": false
   }
  },
  {
   "cell_type": "markdown",
   "metadata": {},
   "source": [
    "# Quantum gradients with backpropagation\n",
    "\n",
    "\n",
    "Using backpropagation can speed up training of quantum circuits compared to the parameter-shift rule---if you are using a simulator.\n",
    "\n",
    "\n",
    "In PennyLane, any quantum device, whether a hardware device or a\n",
    "simulator, can be trained using the parameter shift rule to compute quantum gradients. Indeed, the parameter-shift\n",
    "rule is ideally suited to hardware devices, as it does not require any knowledge about the internal workings of the device; it is sufficient to treat the device as a \\'black box\\', and to query it with different\n",
    "input values in order to determine the gradient.\n",
    "\n",
    "When working with simulators, however, we *do* have access to the internal (classical) computations being performed. This allows us to take advantage of other methods of computing the gradient, such as\n",
    "backpropagation, which may be advantageous in certain regimes. In this tutorial, we will compare and contrast the parameter-shift rule against backpropagation, using the PennyLane\n",
    "`default.qubit <pennylane.devices.default_qubit>` device."
   ],
   "outputs": []
  },
  {
   "cell_type": "markdown",
   "source": [
    "\n",
    "## The parameter-shift rule example\n",
    "\n",
    "The parameter-shift rule states that, given a variational quantum circuit $U(\\boldsymbol \\theta)$ composed of parametrized Pauli rotations, and some measured\n",
    "observable $\\hat{B}$, the derivative of the expectation value\n",
    "\n",
    "$$\\langle \\hat{B} \\rangle (\\boldsymbol\\theta) =\n",
    "\\langle 0 \\vert U(\\boldsymbol\\theta)^\\dagger \\hat{B} U(\\boldsymbol\\theta) \\vert 0\\rangle$$\n",
    "\n",
    "with respect to the input circuit parameters $\\boldsymbol{\\theta}$ is\n",
    "given by\n",
    "\n",
    "$$\\nabla_{\\theta_i}\\langle \\hat{B} \\rangle(\\boldsymbol\\theta)\n",
    "   =  \\frac{1}{2}\n",
    "         \\left[\n",
    "             \\langle \\hat{B} \\rangle\\left(\\boldsymbol\\theta + \\frac{\\pi}{2}\\hat{\\mathbf{e}}_i\\right)\n",
    "           - \\langle \\hat{B} \\rangle\\left(\\boldsymbol\\theta - \\frac{\\pi}{2}\\hat{\\mathbf{e}}_i\\right)\n",
    "         \\right].$$\n",
    "\n",
    "Thus, the gradient of the expectation value can be calculated by\n",
    "evaluating the same variational quantum circuit, but with shifted\n",
    "parameter values (hence the name, parameter-shift rule!).\n",
    "\n",
    "Let\\'s have a go implementing the parameter-shift rule manually in\n",
    "PennyLane.\n"
   ],
   "metadata": {
    "collapsed": false
   }
  },
  {
   "cell_type": "code",
   "execution_count": 3,
   "metadata": {
    "collapsed": false
   },
   "outputs": [],
   "source": [
    "import pennylane as qml\n",
    "from pennylane import numpy as np\n",
    "from matplotlib import pyplot as plt\n",
    "\n",
    "# set the random seed\n",
    "np.random.seed(42)\n",
    "\n",
    "# create a device to execute the circuit on\n",
    "dev = qml.device(\"default.qubit\", wires=3)\n",
    "\n",
    "@qml.qnode(dev, diff_method=\"parameter-shift\")\n",
    "def circuit(params):\n",
    "    qml.RX(params[0], wires=0)\n",
    "    qml.RY(params[1], wires=1)\n",
    "    qml.RZ(params[2], wires=2)\n",
    "\n",
    "    qml.broadcast(qml.CNOT, wires=[0, 1, 2], pattern=\"ring\")\n",
    "\n",
    "    qml.RX(params[3], wires=0)\n",
    "    qml.RY(params[4], wires=1)\n",
    "    qml.RZ(params[5], wires=2)\n",
    "\n",
    "    qml.broadcast(qml.CNOT, wires=[0, 1, 2], pattern=\"ring\")\n",
    "    return qml.expval(qml.PauliY(0) @ qml.PauliZ(2))"
   ]
  },
  {
   "cell_type": "markdown",
   "metadata": {},
   "source": [
    "Let\\'s test the variational circuit evaluation with some parameter\n",
    "input:\n"
   ]
  },
  {
   "cell_type": "code",
   "execution_count": 4,
   "metadata": {
    "collapsed": false
   },
   "outputs": [
    {
     "name": "stdout",
     "output_type": "stream",
     "text": [
      "Parameters: [0.37454012 0.95071431 0.73199394 0.59865848 0.15601864 0.15599452]\n",
      "Expectation value: -0.11971365706871566\n"
     ]
    }
   ],
   "source": [
    "# initial parameters\n",
    "params = np.random.random([6], requires_grad=True)\n",
    "\n",
    "print(\"Parameters:\", params)\n",
    "print(\"Expectation value:\", circuit(params))"
   ]
  },
  {
   "cell_type": "markdown",
   "metadata": {},
   "source": [
    "We can also draw the executed quantum circuit:\n"
   ]
  },
  {
   "cell_type": "code",
   "execution_count": 5,
   "metadata": {
    "collapsed": false
   },
   "outputs": [
    {
     "data": {
      "text/plain": "<Figure size 1100x400 with 1 Axes>",
      "image/png": "[encoded data removed]"
     },
     "metadata": {},
     "output_type": "display_data"
    }
   ],
   "source": [
    "fig, ax = qml.draw_mpl(circuit, decimals=2)(params)\n",
    "plt.show()"
   ]
  },
  {
   "cell_type": "markdown",
   "metadata": {},
   "source": [
    "Now that we have defined our variational circuit QNode, we can construct\n",
    "a function that computes the gradient of the $i\\text{th}$ parameter\n",
    "using the parameter-shift rule.\n"
   ]
  },
  {
   "cell_type": "code",
   "execution_count": 6,
   "metadata": {
    "collapsed": false
   },
   "outputs": [
    {
     "name": "stdout",
     "output_type": "stream",
     "text": [
      "-0.06518877224958124\n"
     ]
    }
   ],
   "source": [
    "def parameter_shift_term(qnode, params, i):\n",
    "    shifted = params.copy()\n",
    "    shifted[i] += np.pi/2\n",
    "    forward = qnode(shifted)  # forward evaluation\n",
    "\n",
    "    shifted[i] -= np.pi\n",
    "    backward = qnode(shifted) # backward evaluation\n",
    "\n",
    "    return 0.5 * (forward - backward)\n",
    "\n",
    "# gradient with respect to the first parameter\n",
    "print(parameter_shift_term(circuit, params, 0))"
   ]
  },
  {
   "cell_type": "markdown",
   "metadata": {},
   "source": [
    "In order to compute the gradient with respect to *all* parameters, we\n",
    "need to loop over the index `i`:\n"
   ]
  },
  {
   "cell_type": "code",
   "execution_count": 7,
   "metadata": {
    "collapsed": false
   },
   "outputs": [
    {
     "name": "stdout",
     "output_type": "stream",
     "text": [
      "[-6.51887722e-02 -2.72891905e-02  0.00000000e+00 -9.33934621e-02\n",
      " -7.61067572e-01  4.16333634e-17]\n"
     ]
    }
   ],
   "source": [
    "def parameter_shift(qnode, params):\n",
    "    gradients = np.zeros([len(params)])\n",
    "\n",
    "    for i in range(len(params)):\n",
    "        gradients[i] = parameter_shift_term(qnode, params, i)\n",
    "\n",
    "    return gradients\n",
    "\n",
    "print(parameter_shift(circuit, params))"
   ]
  },
  {
   "cell_type": "markdown",
   "metadata": {},
   "source": [
    "We can compare this to PennyLane\\'s *built-in* quantum gradient support\n",
    "by using the `qml.grad <pennylane.grad>`\n",
    "function, which allows us to compute gradients of hybrid\n",
    "quantum-classical cost functions. Remember, when we defined the QNode,\n",
    "we specified that we wanted it to be differentiable using the\n",
    "parameter-shift method (`diff_method=\"parameter-shift\"`).\n"
   ]
  },
  {
   "cell_type": "code",
   "execution_count": 8,
   "metadata": {
    "collapsed": false
   },
   "outputs": [
    {
     "name": "stdout",
     "output_type": "stream",
     "text": [
      "-0.06518877224958125\n"
     ]
    }
   ],
   "source": [
    "grad_function = qml.grad(circuit)\n",
    "print(grad_function(params)[0])"
   ]
  },
  {
   "cell_type": "markdown",
   "metadata": {},
   "source": [
    "Alternatively, we can directly compute quantum gradients of QNodes using\n",
    "PennyLane\\'s built in\n",
    "`qml.gradients <pennylane.gradients>`\n",
    "module:\n"
   ]
  },
  {
   "cell_type": "code",
   "execution_count": 9,
   "metadata": {
    "collapsed": false
   },
   "outputs": [
    {
     "name": "stdout",
     "output_type": "stream",
     "text": [
      "[-6.51887722e-02 -2.72891905e-02 -2.77555756e-17 -9.33934621e-02\n",
      " -7.61067572e-01  4.16333634e-17]\n"
     ]
    }
   ],
   "source": [
    "print(qml.gradients.param_shift(circuit)(params))"
   ]
  },
  {
   "cell_type": "markdown",
   "metadata": {},
   "source": [
    "If you count the number of quantum evaluations, you will notice that we\n",
    "had to evaluate the circuit `2*len(params)` number of times in order to\n",
    "compute the quantum gradient with respect to all parameters. While\n",
    "reasonably fast for a small number of parameters, as the number of\n",
    "parameters in our quantum circuit grows, so does both\n",
    "\n",
    "1.  the circuit depth (and thus the time taken to evaluate each\n",
    "    expectation value or \\'forward\\' pass), and\n",
    "2.  the number of parameter-shift evaluations required.\n",
    "\n",
    "Both of these factors increase the time taken to compute the gradient\n",
    "with respect to all parameters.\n",
    "\n",
    "### Benchmarking\n",
    "\n",
    "Let\\'s consider an example with a significantly larger number of\n",
    "parameters. We\\'ll make use of the\n",
    "`~pennylane.StronglyEntanglingLayers`\n",
    "template to make a more complicated QNode.\n"
   ]
  },
  {
   "cell_type": "code",
   "execution_count": 10,
   "metadata": {
    "collapsed": false
   },
   "outputs": [
    {
     "name": "stdout",
     "output_type": "stream",
     "text": [
      "180\n",
      "0.8947771876917631\n"
     ]
    }
   ],
   "source": [
    "dev = qml.device(\"default.qubit\", wires=4)\n",
    "\n",
    "@qml.qnode(dev, diff_method=\"parameter-shift\")\n",
    "def circuit(params):\n",
    "    qml.StronglyEntanglingLayers(params, wires=[0, 1, 2, 3])\n",
    "    return qml.expval(qml.PauliZ(0) @ qml.PauliZ(1) @ qml.PauliZ(2) @ qml.PauliZ(3))\n",
    "\n",
    "# initialize circuit parameters\n",
    "param_shape = qml.StronglyEntanglingLayers.shape(n_wires=4, n_layers=15)\n",
    "params = np.random.normal(scale=0.1, size=param_shape, requires_grad=True)\n",
    "print(params.size)\n",
    "print(circuit(params))"
   ]
  },
  {
   "cell_type": "markdown",
   "metadata": {},
   "source": [
    "This circuit has 180 parameters. Let\\'s see how long it takes to perform\n",
    "a forward pass of the circuit.\n"
   ]
  },
  {
   "cell_type": "code",
   "execution_count": 11,
   "metadata": {
    "collapsed": false
   },
   "outputs": [
    {
     "name": "stdout",
     "output_type": "stream",
     "text": [
      "Forward pass (best of 3): 0.01652761589939473 sec per loop\n"
     ]
    }
   ],
   "source": [
    "import timeit\n",
    "\n",
    "reps = 3\n",
    "num = 10\n",
    "times = timeit.repeat(\"circuit(params)\", globals=globals(), number=num, repeat=reps)\n",
    "forward_time = min(times) / num\n",
    "\n",
    "print(f\"Forward pass (best of {reps}): {forward_time} sec per loop\")"
   ]
  },
  {
   "cell_type": "markdown",
   "metadata": {},
   "source": [
    "We can now estimate the time taken to compute the full gradient vector,\n",
    "and see how this compares.\n"
   ]
  },
  {
   "cell_type": "code",
   "execution_count": 12,
   "metadata": {
    "collapsed": false
   },
   "outputs": [
    {
     "name": "stdout",
     "output_type": "stream",
     "text": [
      "Gradient computation (best of 3): 6.592562994100445 sec per loop\n"
     ]
    }
   ],
   "source": [
    "# create the gradient function\n",
    "grad_fn = qml.grad(circuit)\n",
    "\n",
    "times = timeit.repeat(\"grad_fn(params)\", globals=globals(), number=num, repeat=reps)\n",
    "backward_time = min(times) / num\n",
    "\n",
    "print(f\"Gradient computation (best of {reps}): {backward_time} sec per loop\")"
   ]
  },
  {
   "cell_type": "markdown",
   "metadata": {},
   "source": [
    "Based on the parameter-shift rule, we expect that the amount of time to compute the quantum gradients should be approximately $2p\\Delta t_{f}$ where $p$ is the number of parameters and $\\Delta t_{f}$ if the time\n",
    "taken for the forward pass. Let\\'s verify this:\n"
   ]
  },
  {
   "cell_type": "code",
   "execution_count": 13,
   "metadata": {
    "collapsed": false
   },
   "outputs": [
    {
     "name": "stdout",
     "output_type": "stream",
     "text": [
      "5.9499417237821035\n"
     ]
    }
   ],
   "source": [
    "print(2 * forward_time * params.size)"
   ]
  },
  {
   "cell_type": "markdown",
   "metadata": {},
   "source": [
    "## Backpropagation example\n",
    "\n",
    "\n",
    "An alternative to the parameter-shift rule for computing gradients is [reverse-mode\n",
    "autodifferentiation](https://en.wikipedia.org/wiki/Reverse_accumulation). Unlike the parameter-shift method, which requires $2p$ circuit evaluations for $p$ parameters, reverse-mode requires only a *single* forward pass of the differentiable function to compute the gradient of all variables, at the expense of increased memory usage. During the forward pass, the results of all intermediate subexpressions are stored; the computation is then traversed *in reverse*, with the gradient computed by repeatedly applying the chain rule. In most classical machine learning settings (where we are training scalar loss functions consisting of a large number of parameters), reverse-mode\n",
    "autodifferentiation is the preferred method of autodifferentiation\\-\\--the reduction in computational time enables larger and more complex models to be successfully trained. The\n",
    "backpropagation algorithm is a particular special-case of reverse-mode autodifferentiation, which has helped lead to the machine learning explosion we see today.\n",
    "\n",
    "In quantum machine learning, however, the inability to store and utilize the results of *intermediate* quantum operations on hardware remains a barrier to using backprop; while reverse-mode autodifferentiation works\n",
    "fine for small quantum simulations, only the parameter-shift rule can be used to compute gradients on quantum hardware directly. Nevertheless, when training quantum models via classical simulation, it\\'s useful to\n",
    "explore the regimes where reverse-mode differentiation may be a better choice than the parameter-shift rule.\n",
    "\n",
    "### Benchmarking\n",
    "\n",
    "\n",
    "When creating a QNode, `PennyLane supports various methods of differentiation\n",
    "<code/api/pennylane.qnode>`, including `\"parameter-shift\"` (which we used previously), `\"finite-diff\"`, `\"reversible\"`, and `\"backprop\"`. While `\"parameter-shift\"` works with all devices (simulator or hardware), `\"backprop\"` will only work for specific simulator devices that are designed to support backpropagation.\n",
    "\n",
    "One such device is `default.qubit <pennylane.devices.DefaultQubit>`. It has backends written using TensorFlow, JAX, and\n",
    "Autograd, so when used with the TensorFlow, JAX, and Autograd interfaces respectively, supports backpropagation. In this demo, we will use the default Autograd interface.\n"
   ]
  },
  {
   "cell_type": "code",
   "execution_count": null,
   "metadata": {
    "collapsed": false
   },
   "outputs": [],
   "source": [
    "dev = qml.device(\"default.qubit\", wires=4)"
   ]
  },
  {
   "cell_type": "markdown",
   "metadata": {},
   "source": [
    "When defining the QNode, we specify `diff_method=\"backprop\"` to ensure that we are using backpropagation mode. Note that this is the *default differentiation mode* for the `default.qubit` device.\n"
   ]
  },
  {
   "cell_type": "code",
   "execution_count": null,
   "metadata": {
    "collapsed": false
   },
   "outputs": [],
   "source": [
    "@qml.qnode(dev, diff_method=\"backprop\")\n",
    "def circuit(params):\n",
    "    qml.StronglyEntanglingLayers(params, wires=[0, 1, 2, 3])\n",
    "    return qml.expval(qml.PauliZ(0) @ qml.PauliZ(1) @ qml.PauliZ(2) @ qml.PauliZ(3))\n",
    "\n",
    "# initialize circuit parameters\n",
    "param_shape = qml.StronglyEntanglingLayers.shape(n_wires=4, n_layers=15)\n",
    "params = np.random.normal(scale=0.1, size=param_shape, requires_grad=True)\n",
    "print(circuit(params))"
   ]
  },
  {
   "cell_type": "markdown",
   "metadata": {},
   "source": [
    "Let\\'s see how long it takes to perform a forward pass of the circuit.\n"
   ]
  },
  {
   "cell_type": "code",
   "execution_count": null,
   "metadata": {
    "collapsed": false
   },
   "outputs": [],
   "source": [
    "import timeit\n",
    "\n",
    "reps = 3\n",
    "num = 10\n",
    "times = timeit.repeat(\"circuit(params)\", globals=globals(), number=num, repeat=reps)\n",
    "forward_time = min(times) / num\n",
    "print(f\"Forward pass (best of {reps}): {forward_time} sec per loop\")"
   ]
  },
  {
   "cell_type": "markdown",
   "metadata": {},
   "source": [
    "Comparing this to the forward pass from `default.qubit`, we note that there is some potential overhead from using backpropagation. We can now time how long it takes to perform a gradient computation via\n",
    "backpropagation:\n"
   ]
  },
  {
   "cell_type": "code",
   "execution_count": null,
   "metadata": {
    "collapsed": false
   },
   "outputs": [],
   "source": [
    "times = timeit.repeat(\"qml.grad(circuit)(params)\", globals=globals(), number=num, repeat=reps)\n",
    "backward_time = min(times) / num\n",
    "print(f\"Backward pass (best of {reps}): {backward_time} sec per loop\")"
   ]
  },
  {
   "cell_type": "markdown",
   "metadata": {},
   "source": [
    "Unlike with the parameter-shift rule, the time taken to perform the backwards pass appears of the order of a single forward pass! The can significantly speed up training of simulated circuits with many\n",
    "parameters.\n",
    "\n",
    "## Send it after class: Time comparison\n",
    "\n",
    "\n",
    "Let\\'s compare the two differentiation approaches as the number of trainable parameters in the variational circuit increases, by timing both the forward pass and the gradient computation as the number of\n",
    "layers is allowed to increase.\n"
   ]
  },
  {
   "cell_type": "code",
   "execution_count": null,
   "metadata": {
    "collapsed": false
   },
   "outputs": [],
   "source": [
    "dev = qml.device(\"default.qubit\", wires=4)\n",
    "\n",
    "def circuit(params):\n",
    "    qml.StronglyEntanglingLayers(params, wires=[0, 1, 2, 3])\n",
    "    return qml.expval(qml.PauliZ(0) @ qml.PauliZ(1) @ qml.PauliZ(2) @ qml.PauliZ(3))"
   ]
  },
  {
   "cell_type": "markdown",
   "metadata": {},
   "source": [
    "We\\'ll continue to use the same ansatz as before, but to reduce the time taken to collect the data, we\\'ll reduce the number and repetitions of timings per data point. Below, we loop over a variational circuit depth ranging from 0 (no gates/ trainable parameters) to 20. Each layer will contain $3N$ parameters, where $N$ is the number of wires (in this case, we have $N=4$).\n"
   ]
  },
  {
   "cell_type": "code",
   "execution_count": null,
   "metadata": {
    "collapsed": false
   },
   "outputs": [],
   "source": [
    "reps = #fill me\n",
    "num = #fill me\n",
    "\n",
    "forward_shift = []\n",
    "gradient_shift = []\n",
    "forward_backprop = []\n",
    "gradient_backprop = []\n",
    "\n",
    "for depth in range(0, -fill me-):\n",
    "    param_shape = qml.StronglyEntanglingLayers.shape(n_wires=4, n_layers=depth)\n",
    "    params = np.random.normal(scale=0.1, size=param_shape, requires_grad=True)\n",
    "    num_params = params.size\n",
    "\n",
    "    # forward pass timing\n",
    "    # ===================\n",
    "\n",
    "    qnode_shift = #fill me\n",
    "    qnode_backprop = #fill me\n",
    "\n",
    "    # parameter-shift\n",
    "    t = timeit.repeat(\"qnode_shift(params)\", globals=globals(), number=num, repeat=reps)\n",
    "    forward_shift.append([num_params, min(t) / num])\n",
    "\n",
    "    # backprop\n",
    "    t = timeit.repeat(\"qnode_backprop(params)\", globals=globals(), number=num, repeat=reps)\n",
    "    forward_backprop.append([num_params, min(t) / num])\n",
    "\n",
    "    if num_params == 0:\n",
    "        continue\n",
    "\n",
    "    # Gradient timing\n",
    "    # ===============\n",
    "\n",
    "    qnode_shift = #fill me\n",
    "    qnode_backprop = #fill me\n",
    "\n",
    "    # parameter-shift\n",
    "    t = timeit.repeat(\"qml.grad(qnode_shift)(params)\", globals=globals(), number=num, repeat=reps)\n",
    "    gradient_shift.append([num_params, min(t) / num])\n",
    "\n",
    "    # backprop\n",
    "    t = timeit.repeat(\"qml.grad(qnode_backprop)(params)\", globals=globals(), number=num, repeat=reps)\n",
    "    gradient_backprop.append([num_params, min(t) / num])\n",
    "\n",
    "gradient_shift = np.array(gradient_shift).T\n",
    "gradient_backprop = np.array(gradient_backprop).T\n",
    "forward_shift = np.array(forward_shift).T\n",
    "forward_backprop = np.array(forward_backprop).T"
   ]
  },
  {
   "cell_type": "markdown",
   "metadata": {},
   "source": [
    "We now import matplotlib, and plot the results.\n"
   ]
  },
  {
   "cell_type": "code",
   "execution_count": null,
   "metadata": {
    "collapsed": false
   },
   "outputs": [],
   "source": [
    "plt.style.use(\"bmh\")\n",
    "\n",
    "fig, ax = plt.subplots(1, 1, figsize=(6, 4))\n",
    "\n",
    "ax.plot(*gradient_shift, '.-', label=\"Parameter-shift\")\n",
    "ax.plot(*gradient_backprop, '.-', label=\"Backprop\")\n",
    "ax.set_ylabel(\"Time (s)\")\n",
    "ax.set_xlabel(\"Number of parameters\")\n",
    "ax.legend()\n",
    "\n",
    "plt.show()"
   ]
  },
  {
   "cell_type": "markdown",
   "metadata": {},
   "source": [
    "We can see that the computational time for the parameter-shift rule increases with increasing number of parameters, as expected, whereas the computational time for backpropagation appears much more constant, with\n",
    "perhaps a minute linear increase with $p$. Note that the plots are not perfectly linear, with some \\'bumpiness\\' or noisiness. This is likely due to low-level operating system jitter, and other environmental\n",
    "fluctuations\\-\\--increasing the number of repeats can help smooth out the plot.\n",
    "\n",
    "For a better comparison, we can scale the time required for computing the quantum gradients against the time taken for the corresponding forward pass:\n"
   ]
  },
  {
   "cell_type": "code",
   "execution_count": null,
   "metadata": {
    "collapsed": false
   },
   "outputs": [],
   "source": [
    "gradient_shift[1] /= forward_shift[1, 1:]\n",
    "gradient_backprop[1] /= forward_backprop[1, 1:]\n",
    "\n",
    "fig, ax = plt.subplots(1, 1, figsize=(6, 4))\n",
    "\n",
    "ax.plot(*gradient_shift, '.-', label=\"Parameter-shift\")\n",
    "ax.plot(*gradient_backprop, '.-', label=\"Backprop\")\n",
    "\n",
    "# perform a least squares regression to determine the linear best fit/gradient\n",
    "# for the normalized time vs. number of parameters\n",
    "x = gradient_shift[0]\n",
    "m_shift, c_shift = np.polyfit(*gradient_shift, deg=1)\n",
    "m_back, c_back = np.polyfit(*gradient_backprop, deg=1)\n",
    "\n",
    "ax.plot(x, m_shift * x + c_shift, '--', label=f\"{m_shift:.2f}p{c_shift:+.2f}\")\n",
    "ax.plot(x, m_back * x + c_back, '--', label=f\"{m_back:.2f}p{c_back:+.2f}\")\n",
    "\n",
    "ax.set_ylabel(\"Normalized time\")\n",
    "ax.set_xlabel(\"Number of parameters\")\n",
    "ax.set_xscale(\"log\")\n",
    "ax.set_yscale(\"log\")\n",
    "ax.legend()\n",
    "\n",
    "plt.show()"
   ]
  },
  {
   "cell_type": "markdown",
   "metadata": {},
   "source": [
    "We can now see clearly that there is constant overhead for backpropagation with `default.qubit`, but the parameter-shift rule scales as $\\sim 2p$."
   ]
  }
 ],
 "metadata": {
  "kernelspec": {
   "display_name": "Python 3",
   "language": "python",
   "name": "python3"
  },
  "language_info": {
   "codemirror_mode": {
    "name": "ipython",
    "version": 2
   },
   "file_extension": ".py",
   "mimetype": "text/x-python",
   "name": "python",
   "nbconvert_exporter": "python",
   "pygments_lexer": "ipython2",
   "version": "2.7.6"
  }
 },
 "nbformat": 4,
 "nbformat_minor": 0
}
