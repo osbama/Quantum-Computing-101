{
 "cells": [
  {
   "cell_type": "code",
   "execution_count": 1,
   "metadata": {
    "collapsed": false
   },
   "outputs": [],
   "source": [
    "# This cell is added by sphinx-gallery\n",
    "# It can be customized to whatever you like\n",
    "%matplotlib inline"
   ]
  },
  {
   "cell_type": "markdown",
   "metadata": {},
   "source": [
    "# Training and evaluating quantum kernels\n",
    "\n",
    "\n",
    "Kernel methods are one of the cornerstones of classical machine learning. Here we are concerned with kernels that can be evaluated on quantum computers, *quantum kernels* for short. In this tutorial you will learn how to evaluate kernels, use them for classification and train them with gradient-based optimization, and all that using the functionality of PennyLane\\'s [kernels module](https://pennylane.readthedocs.io/en/latest/code/qml_kernels.html).\n",
    "\n",
    "## What are kernel methods?\n",
    "\n",
    "\n",
    "To understand what a kernel method does, let\\'s first revisit one of the simplest methods to assign binary labels to datapoints: linear classification.\n",
    "\n",
    "Imagine we want to discern two different classes of points that lie in different corners of the plane. A linear classifier corresponds to drawing a line and assigning different labels to the regions on opposing\n",
    "sides of the line:\n",
    "\n",
    "![](images/linear_classification.png)\n",
    "\n",
    "We can mathematically formalize this by assigning the label $y$ via\n",
    "\n",
    "$$y(\\boldsymbol{x}) = \\operatorname{sgn}(\\langle \\boldsymbol{w}, \\boldsymbol{x}\\rangle + b).$$\n",
    "\n",
    "The vector $\\boldsymbol{w}$ points perpendicular to the line and thus determine its slope. The independent term $b$ specifies the position on the plane. In this form, linear classification can also be extended to higher dimensional vectors $\\boldsymbol{x}$, where a line does not divide the entire space into two regions anymore. Instead one needs a *hyperplane*. It is immediately clear that this method is not very powerful, as datasets that are not separable by a hyperplane can\\'t be classified without error.\n",
    "\n",
    "We can actually sneak around this limitation by performing a neat trick: if we define some map $\\phi(\\boldsymbol{x})$ that *embeds* our datapoints into a larger *feature space* and then perform linear\n",
    "classification there, we could actually realise non-linear classification in our original space!\n",
    "\n",
    "![](images/embedding_nonlinear_classification.png)\n",
    "\n",
    "If we go back to the expression for our prediction and include the embedding, we get\n",
    "\n",
    "$$y(\\boldsymbol{x}) = \\operatorname{sgn}(\\langle \\boldsymbol{w}, \\phi(\\boldsymbol{x})\\rangle + b).$$\n",
    "\n",
    "We will forgo one tiny step, but it can be shown that for the purpose of optimal classification, we can choose the vector defining the decision boundary as a linear combination of the embedded datapoints\n",
    "$\\boldsymbol{w} = \\sum_i \\alpha_i \\phi(\\boldsymbol{x}_i)$. Putting this into the formula yields\n",
    "\n",
    "$$y(\\boldsymbol{x}) = \\operatorname{sgn}\\left(\\sum_i \\alpha_i \\langle \\phi(\\boldsymbol{x}_i), \\phi(\\boldsymbol{x})\\rangle + b\\right).$$\n",
    "\n",
    "This rewriting might not seem useful at first, but notice the above formula only contains inner products between vectors in the embedding space:\n",
    "\n",
    "$$k(\\boldsymbol{x}_i, \\boldsymbol{x}_j) = \\langle \\phi(\\boldsymbol{x}_i), \\phi(\\boldsymbol{x}_j)\\rangle.$$\n",
    "\n",
    "We call this function the *kernel*. It provides the advantage that we can often find an explicit formula for the kernel $k$ that makes it superfluous to actually perform the (potentially expensive) embedding $\\phi$. Consider for example the following embedding and the associated kernel:\n",
    "\n",
    "$$\\begin{aligned}\n",
    "\\phi((x_1, x_2)) &= (x_1^2, \\sqrt{2} x_1 x_2, x_2^2) \\\\\n",
    "k(\\boldsymbol{x}, \\boldsymbol{y}) &= x_1^2 y_1^2 + 2 x_1 x_2 y_1 y_2 + x_2^2 y_2^2 = \\langle \\boldsymbol{x}, \\boldsymbol{y} \\rangle^2.\n",
    "\\end{aligned}$$\n",
    "\n",
    "This means by just replacing the regular scalar product in our linear classification with the map $k$, we can actually express much more intricate decision boundaries!\n",
    "\n",
    "This is very important, because in many interesting cases the embedding $\\phi$ will be much costlier to compute than the kernel $k$.\n",
    "\n",
    "In this demo, we will explore one particular kind of kernel that can be realized on near-term quantum computers, namely *Quantum Embedding Kernels (QEKs)*. These are kernels that arise from embedding data into\n",
    "the space of quantum states. We formalize this by considering a parameterised quantum circuit $U(\\boldsymbol{x})$ that maps a datapoint $\\boldsymbol{x}$ to the state\n",
    "\n",
    "$$|\\psi(\\boldsymbol{x})\\rangle = U(\\boldsymbol{x}) |0 \\rangle.$$\n",
    "\n",
    "The kernel value is then given by the *overlap* of the associated embedded quantum states\n",
    "\n",
    "$$k(\\boldsymbol{x}_i, \\boldsymbol{x}_j) = | \\langle\\psi(\\boldsymbol{x}_i)|\\psi(\\boldsymbol{x}_j)\\rangle|^2.$$\n"
   ]
  },
  {
   "cell_type": "markdown",
   "metadata": {},
   "source": [
    "## A toy problem\n",
    "\n",
    "\n",
    "In this demo, we will treat a toy problem that showcases the inner workings of classification with quantum embedding kernels, training variational embedding kernels and the available functionalities to do both in PennyLane. We of course need to start with some imports:\n"
   ]
  },
  {
   "cell_type": "code",
   "execution_count": 2,
   "metadata": {
    "collapsed": false
   },
   "outputs": [],
   "source": [
    "from pennylane import numpy as np\n",
    "import matplotlib as mpl\n",
    "\n",
    "np.random.seed(1359)"
   ]
  },
  {
   "cell_type": "markdown",
   "metadata": {},
   "source": [
    "And we proceed right away to create a dataset to work with, the `DoubleCake` dataset. Firstly, we define two functions to enable us to generate the data. The details of these functions are not essential for understanding the demo, so don\\'t mind them if they are confusing.\n"
   ]
  },
  {
   "cell_type": "code",
   "execution_count": 3,
   "metadata": {
    "collapsed": false
   },
   "outputs": [],
   "source": [
    "def _make_circular_data(num_sectors):\n",
    "    \"\"\"Generate datapoints arranged in an even circle.\"\"\"\n",
    "    center_indices = np.array(range(0, num_sectors))\n",
    "    sector_angle = 2 * np.pi / num_sectors\n",
    "    angles = (center_indices + 0.5) * sector_angle\n",
    "    x = 0.7 * np.cos(angles)\n",
    "    y = 0.7 * np.sin(angles)\n",
    "    labels = 2 * np.remainder(np.floor_divide(angles, sector_angle), 2) - 1\n",
    "\n",
    "    return x, y, labels\n",
    "\n",
    "\n",
    "def make_double_cake_data(num_sectors):\n",
    "    x1, y1, labels1 = _make_circular_data(num_sectors)\n",
    "    x2, y2, labels2 = _make_circular_data(num_sectors)\n",
    "\n",
    "    # x and y coordinates of the datapoints\n",
    "    x = np.hstack([x1, 0.5 * x2])\n",
    "    y = np.hstack([y1, 0.5 * y2])\n",
    "\n",
    "    # Canonical form of dataset\n",
    "    X = np.vstack([x, y]).T\n",
    "\n",
    "    labels = np.hstack([labels1, -1 * labels2])\n",
    "\n",
    "    # Canonical form of labels\n",
    "    Y = labels.astype(int)\n",
    "\n",
    "    return X, Y"
   ]
  },
  {
   "cell_type": "markdown",
   "metadata": {},
   "source": [
    "Next, we define a function to help plot the `DoubleCake` data:\n"
   ]
  },
  {
   "cell_type": "code",
   "execution_count": 4,
   "metadata": {
    "collapsed": false
   },
   "outputs": [],
   "source": [
    "def plot_double_cake_data(X, Y, ax, num_sectors=None):\n",
    "    \"\"\"Plot double cake data and corresponding sectors.\"\"\"\n",
    "    x, y = X.T\n",
    "    cmap = mpl.colors.ListedColormap([\"#FF0000\", \"#0000FF\"])\n",
    "    ax.scatter(x, y, c=Y, cmap=cmap, s=25, marker=\"s\")\n",
    "\n",
    "    if num_sectors is not None:\n",
    "        sector_angle = 360 / num_sectors\n",
    "        for i in range(num_sectors):\n",
    "            color = [\"#FF0000\", \"#0000FF\"][(i % 2)]\n",
    "            other_color = [\"#FF0000\", \"#0000FF\"][((i + 1) % 2)]\n",
    "            ax.add_artist(\n",
    "                mpl.patches.Wedge(\n",
    "                    (0, 0),\n",
    "                    1,\n",
    "                    i * sector_angle,\n",
    "                    (i + 1) * sector_angle,\n",
    "                    lw=0,\n",
    "                    color=color,\n",
    "                    alpha=0.1,\n",
    "                    width=0.5,\n",
    "                )\n",
    "            )\n",
    "            ax.add_artist(\n",
    "                mpl.patches.Wedge(\n",
    "                    (0, 0),\n",
    "                    0.5,\n",
    "                    i * sector_angle,\n",
    "                    (i + 1) * sector_angle,\n",
    "                    lw=0,\n",
    "                    color=other_color,\n",
    "                    alpha=0.1,\n",
    "                )\n",
    "            )\n",
    "            ax.set_xlim(-1, 1)\n",
    "\n",
    "    ax.set_ylim(-1, 1)\n",
    "    ax.set_aspect(\"equal\")\n",
    "    ax.axis(\"off\")\n",
    "\n",
    "    return ax"
   ]
  },
  {
   "cell_type": "markdown",
   "metadata": {},
   "source": [
    "Let\\'s now have a look at our dataset. In our example, we will work with\n",
    "3 sectors:\n"
   ]
  },
  {
   "cell_type": "code",
   "execution_count": 5,
   "metadata": {
    "collapsed": false
   },
   "outputs": [
    {
     "data": {
      "text/plain": "<Figure size 640x480 with 1 Axes>",
      "image/png": "[encoded data removed]"
     },
     "metadata": {},
     "output_type": "display_data"
    }
   ],
   "source": [
    "import matplotlib.pyplot as plt\n",
    "\n",
    "num_sectors = 3\n",
    "X, Y = make_double_cake_data(num_sectors)\n",
    "\n",
    "ax = plot_double_cake_data(X, Y, plt.gca(), num_sectors=num_sectors)"
   ]
  },
  {
   "cell_type": "markdown",
   "metadata": {},
   "source": [
    "## Defining a Quantum Embedding Kernel\n",
    "\n",
    "\n",
    "PennyLane\\'s [kernels module](https://pennylane.readthedocs.io/en/latest/code/qml_kernels.html) allows for a particularly simple implementation of Quantum Embedding Kernels. The first ingredient we need for this is an *ansatz*, which we will construct by repeating a layer as building block. Let\\'s start by defining this layer:\n"
   ]
  },
  {
   "cell_type": "code",
   "execution_count": 6,
   "metadata": {
    "collapsed": false
   },
   "outputs": [],
   "source": [
    "import pennylane as qml\n",
    "\n",
    "\n",
    "def layer(x, params, wires, i0=0, inc=1):\n",
    "    \"\"\"Building block of the embedding ansatz\"\"\"\n",
    "    i = i0\n",
    "    for j, wire in enumerate(wires):\n",
    "        qml.Hadamard(wires=[wire])\n",
    "        qml.RZ(x[i % len(x)], wires=[wire])\n",
    "        i += inc\n",
    "        qml.RY(params[0, j], wires=[wire])\n",
    "\n",
    "    qml.broadcast(unitary=qml.CRZ, pattern=\"ring\", wires=wires, parameters=params[1])"
   ]
  },
  {
   "cell_type": "markdown",
   "metadata": {},
   "source": [
    "To construct the ansatz, this layer is repeated multiple times, reusing the datapoint `x` but feeding different variational parameters `params` into each of them. Together, the datapoint and the variational\n",
    "parameters fully determine the embedding ansatz $U(\\boldsymbol{x})$. In order to construct the full kernel circuit, we also require its adjoint $U(\\boldsymbol{x})^\\dagger$, which we can obtain via `qml.adjoint`.\n"
   ]
  },
  {
   "cell_type": "code",
   "execution_count": 7,
   "metadata": {
    "collapsed": false
   },
   "outputs": [],
   "source": [
    "def ansatz(x, params, wires):\n",
    "    \"\"\"The embedding ansatz\"\"\"\n",
    "    for j, layer_params in enumerate(params):\n",
    "        layer(x, layer_params, wires, i0=j * len(wires))\n",
    "\n",
    "\n",
    "adjoint_ansatz = qml.adjoint(ansatz)\n",
    "\n",
    "\n",
    "def random_params(num_wires, num_layers):\n",
    "    \"\"\"Generate random variational parameters in the shape for the ansatz.\"\"\"\n",
    "    return np.random.uniform(0, 2 * np.pi, (num_layers, 2, num_wires), requires_grad=True)"
   ]
  },
  {
   "cell_type": "markdown",
   "metadata": {},
   "source": [
    "Together with the ansatz we only need a device to run the quantum circuit on. For the purpose of this tutorial we will use PennyLane\\'s `default.qubit` device with 5 wires in analytic mode.\n"
   ]
  },
  {
   "cell_type": "code",
   "execution_count": 8,
   "metadata": {
    "collapsed": false
   },
   "outputs": [],
   "source": [
    "dev = qml.device(\"default.qubit\", wires=5, shots=None)\n",
    "wires = dev.wires.tolist()"
   ]
  },
  {
   "cell_type": "markdown",
   "metadata": {},
   "source": [
    "Let us now define the quantum circuit that realizes the kernel. We will compute the overlap of the quantum states by first applying the embedding of the first datapoint and then the adjoint of the embedding\n",
    "of the second datapoint. We finally extract the probabilities of observing each basis state.\n"
   ]
  },
  {
   "cell_type": "code",
   "execution_count": 9,
   "metadata": {
    "collapsed": false
   },
   "outputs": [],
   "source": [
    "@qml.qnode(dev)\n",
    "def kernel_circuit(x1, x2, params):\n",
    "    ansatz(x1, params, wires=wires)\n",
    "    adjoint_ansatz(x2, params, wires=wires)\n",
    "    return qml.probs(wires=wires)"
   ]
  },
  {
   "cell_type": "markdown",
   "metadata": {},
   "source": [
    "The kernel function itself is now obtained by looking at the probability of observing the all-zero state at the end of the kernel circuit \\-- because of the ordering in `qml.probs`, this is the first entry:\n"
   ]
  },
  {
   "cell_type": "code",
   "execution_count": 10,
   "metadata": {
    "collapsed": false
   },
   "outputs": [],
   "source": [
    "def kernel(x1, x2, params):\n",
    "    return kernel_circuit(x1, x2, params)[0]"
   ]
  },
  {
   "cell_type": "markdown",
   "metadata": {},
   "source": [
    "Note\n",
    "\n",
    "An alternative way to set up the kernel circuit in PennyLane would be to use the observable type [Projector](https://pennylane.readthedocs.io/en/latest/code/api/pennylane.Projector.html).\n",
    "This is shown in the [demo on kernel-based training of quantum models](https://pennylane.ai/qml/demos/tutorial_kernel_based_training.html), where you will also find more background information on the kernel circuit structure itself.\n",
    "\n",
    "Before focusing on the kernel values we have to provide values for the\n",
    "variational parameters. At this point we fix the number of layers in the\n",
    "ansatz circuit to $6$.\n"
   ]
  },
  {
   "cell_type": "code",
   "execution_count": 11,
   "metadata": {
    "collapsed": false
   },
   "outputs": [],
   "source": [
    "init_params = random_params(num_wires=5, num_layers=6)"
   ]
  },
  {
   "cell_type": "markdown",
   "metadata": {},
   "source": [
    "Now we can have a look at the kernel value between the first and the\n",
    "second datapoint:\n"
   ]
  },
  {
   "cell_type": "code",
   "execution_count": 12,
   "metadata": {
    "collapsed": false
   },
   "outputs": [
    {
     "name": "stdout",
     "output_type": "stream",
     "text": [
      "The kernel value between the first and second datapoint is 0.093\n"
     ]
    }
   ],
   "source": [
    "kernel_value = kernel(X[0], X[1], init_params)\n",
    "print(f\"The kernel value between the first and second datapoint is {kernel_value:.3f}\")"
   ]
  },
  {
   "cell_type": "markdown",
   "metadata": {},
   "source": [
    "The mutual kernel values between all elements of the dataset form the\n",
    "*kernel matrix*. We can inspect it via the\n",
    "`qml.kernels.square_kernel_matrix` method, which makes use of symmetry\n",
    "of the kernel,\n",
    "$k(\\boldsymbol{x}_i,\\boldsymbol{x}_j) = k(\\boldsymbol{x}_j, \\boldsymbol{x}_i)$.\n",
    "In addition, the option `assume_normalized_kernel=True` ensures that we\n",
    "do not calculate the entries between the same datapoints, as we know\n",
    "them to be 1 for our noiseless simulation. Overall this means that we\n",
    "compute $\\frac{1}{2}(N^2-N)$ kernel values for $N$ datapoints. To\n",
    "include the variational parameters, we construct a `lambda` function\n",
    "that fixes them to the values we sampled above.\n"
   ]
  },
  {
   "cell_type": "code",
   "execution_count": 13,
   "metadata": {
    "collapsed": false
   },
   "outputs": [
    {
     "name": "stdout",
     "output_type": "stream",
     "text": [
      "[[1.    0.093 0.012 0.721 0.149 0.055]\n",
      " [0.093 1.    0.056 0.218 0.73  0.213]\n",
      " [0.012 0.056 1.    0.032 0.191 0.648]\n",
      " [0.721 0.218 0.032 1.    0.391 0.226]\n",
      " [0.149 0.73  0.191 0.391 1.    0.509]\n",
      " [0.055 0.213 0.648 0.226 0.509 1.   ]]\n"
     ]
    }
   ],
   "source": [
    "init_kernel = lambda x1, x2: kernel(x1, x2, init_params)\n",
    "K_init = qml.kernels.square_kernel_matrix(X, init_kernel, assume_normalized_kernel=True)\n",
    "\n",
    "with np.printoptions(precision=3, suppress=True):\n",
    "    print(K_init)"
   ]
  },
  {
   "cell_type": "markdown",
   "metadata": {},
   "source": [
    "## Using the Quantum Embedding Kernel for predictions\n",
    "\n",
    "The quantum kernel alone can not be used to make predictions on a\n",
    "dataset, becaues it is essentially just a tool to measure the similarity\n",
    "between two datapoints. To perform an actual prediction we will make use\n",
    "of scikit-learn\\'s Support Vector Classifier (SVC).\n"
   ]
  },
  {
   "cell_type": "code",
   "execution_count": 14,
   "metadata": {
    "collapsed": false
   },
   "outputs": [],
   "source": [
    "from sklearn.svm import SVC"
   ]
  },
  {
   "cell_type": "markdown",
   "metadata": {},
   "source": [
    "To construct the SVM, we need to supply `sklearn.svm.SVC` with a function that takes two sets of datapoints and returns the associated kernel matrix. We can make use of the function `qml.kernels.kernel_matrix` that provides this functionality. It expects the kernel to not have additional parameters besides the datapoints, which is why we again supply the variational parameters via the `lambda` function from above. Once we have this, we can let scikit-learn adjust the SVM from our Quantum Embedding Kernel.\n",
    "\n",
    "Note:\n",
    "This step does *not* modify the variational parameters in our circuit ansatz. What it does is solving a different optimization task for the $\\alpha$ and $b$ vectors we introduced in the beginning.\n"
   ]
  },
  {
   "cell_type": "code",
   "execution_count": 15,
   "metadata": {
    "collapsed": false
   },
   "outputs": [],
   "source": [
    "svm = SVC(kernel=lambda X1, X2: qml.kernels.kernel_matrix(X1, X2, init_kernel)).fit(X, Y)"
   ]
  },
  {
   "cell_type": "markdown",
   "metadata": {},
   "source": [
    "To see how well our classifier performs we will measure which percentage of the dataset it classifies correctly.\n"
   ]
  },
  {
   "cell_type": "code",
   "execution_count": 16,
   "metadata": {
    "collapsed": false
   },
   "outputs": [
    {
     "name": "stdout",
     "output_type": "stream",
     "text": [
      "The accuracy of the kernel with random parameters is 0.833\n"
     ]
    }
   ],
   "source": [
    "def accuracy(classifier, X, Y_target):\n",
    "    return 1 - np.count_nonzero(classifier.predict(X) - Y_target) / len(Y_target)\n",
    "\n",
    "\n",
    "accuracy_init = accuracy(svm, X, Y)\n",
    "print(f\"The accuracy of the kernel with random parameters is {accuracy_init:.3f}\")"
   ]
  },
  {
   "cell_type": "markdown",
   "metadata": {},
   "source": [
    "We are also interested in seeing what the decision boundaries in this classification look like. This could help us spotting overfitting issues visually in more complex data sets. To this end we will introduce a second helper method.\n"
   ]
  },
  {
   "cell_type": "code",
   "execution_count": 17,
   "metadata": {
    "collapsed": false
   },
   "outputs": [],
   "source": [
    "def plot_decision_boundaries(classifier, ax, N_gridpoints=14):\n",
    "    _xx, _yy = np.meshgrid(np.linspace(-1, 1, N_gridpoints), np.linspace(-1, 1, N_gridpoints))\n",
    "\n",
    "    _zz = np.zeros_like(_xx)\n",
    "    for idx in np.ndindex(*_xx.shape):\n",
    "        _zz[idx] = classifier.predict(np.array([_xx[idx], _yy[idx]])[np.newaxis, :])\n",
    "\n",
    "    plot_data = {\"_xx\": _xx, \"_yy\": _yy, \"_zz\": _zz}\n",
    "    ax.contourf(\n",
    "        _xx,\n",
    "        _yy,\n",
    "        _zz,\n",
    "        cmap=mpl.colors.ListedColormap([\"#FF0000\", \"#0000FF\"]),\n",
    "        alpha=0.2,\n",
    "        levels=[-1, 0, 1],\n",
    "    )\n",
    "    plot_double_cake_data(X, Y, ax)\n",
    "\n",
    "    return plot_data"
   ]
  },
  {
   "cell_type": "markdown",
   "metadata": {},
   "source": [
    "With that done, let\\'s have a look at the decision boundaries for our initial classifier:\n"
   ]
  },
  {
   "cell_type": "code",
   "execution_count": 18,
   "metadata": {
    "collapsed": false
   },
   "outputs": [
    {
     "data": {
      "text/plain": "<Figure size 640x480 with 1 Axes>",
      "image/png": "[encoded data removed]"
     },
     "metadata": {},
     "output_type": "display_data"
    }
   ],
   "source": [
    "init_plot_data = plot_decision_boundaries(svm, plt.gca())"
   ]
  },
  {
   "cell_type": "markdown",
   "metadata": {},
   "source": [
    "We see the outer points in the dataset can be correctly classified, but we still struggle with the inner circle. But remember we have a circuit\n",
    "with many free parameters! It is reasonable to believe we can give values to those variational parameters which improve the overall accuracy of our SVC.\n",
    "\n",
    "## Training the Quantum Embedding Kernel\n",
    "\n",
    "\n",
    "To be able to train the Quantum Embedding Kernel we need some measure of how well it fits the dataset in question. Performing an exhaustive search in parameter space is not a good solution because it is very\n",
    "resource intensive, and since the accuracy is a discrete quantity we would not be able to detect small improvements.\n",
    "\n",
    "We can, however, resort to a more specialized measure, the *kernel-target alignment*. The kernel-target alignment compares the similarity predicted by the quantum kernel to the actual labels of the training data. It is based on *kernel alignment*, a similiarity measure between two kernels with given kernel matrices $K_1$ and $K_2$:\n",
    "\n",
    "$$\\operatorname{KA}(K_1, K_2) = \\frac{\\operatorname{Tr}(K_1 K_2)}{\\sqrt{\\operatorname{Tr}(K_1^2)\\operatorname{Tr}(K_2^2)}}.$$\n",
    "\n",
    "Note\n",
    "\n",
    "Seen from a more theoretical side, $\\operatorname{KA}$ is nothing else than the cosine of the angle between the kernel matrices $K_1$ and $K_2$\n",
    "if we see them as vectors in the space of matrices with the Hilbert-Schmidt (or Frobenius) scalar product $\\langle A, B \\rangle = \\operatorname{Tr}(A^T B)$. This reinforces the\n",
    "geometric picture of how this measure relates to objects, namely two kernels, being aligned in a vector space.\n",
    "\n",
    "The training data enters the picture by defining an *ideal* kernel function that expresses the original labelling in the vector $\\boldsymbol{y}$ by assigning to two datapoints the product of the\n",
    "corresponding labels:\n",
    "\n",
    "$$k_{\\boldsymbol{y}}(\\boldsymbol{x}_i, \\boldsymbol{x}_j) = y_i y_j.$$\n",
    "\n",
    "The assigned kernel is thus $+1$ if both datapoints lie in the same\n",
    "class and $-1$ otherwise and its kernel matrix is simply given by the\n",
    "outer product $\\boldsymbol{y}\\boldsymbol{y}^T$. The kernel-target\n",
    "alignment is then defined as the kernel alignment of the kernel matrix\n",
    "$K$ generated by the quantum kernel and\n",
    "$\\boldsymbol{y}\\boldsymbol{y}^T$:\n",
    "\n",
    "$$\\operatorname{KTA}_{\\boldsymbol{y}}(K)\n",
    "= \\frac{\\operatorname{Tr}(K \\boldsymbol{y}\\boldsymbol{y}^T)}{\\sqrt{\\operatorname{Tr}(K^2)\\operatorname{Tr}((\\boldsymbol{y}\\boldsymbol{y}^T)^2)}}\n",
    "= \\frac{\\boldsymbol{y}^T K \\boldsymbol{y}}{\\sqrt{\\operatorname{Tr}(K^2)} N}$$\n",
    "\n",
    "where $N$ is the number of elements in $\\boldsymbol{y}$, that is the\n",
    "number of datapoints in the dataset.\n",
    "\n",
    "In summary, the kernel-target alignment effectively captures how well\n",
    "the kernel you chose reproduces the actual similarities of the data. It\n",
    "does have one drawback, however: having a high kernel-target alignment\n",
    "is only a necessary but not a sufficient condition for a good\n",
    "performance of the kernel. This means having good alignment is\n",
    "guaranteed for good performance, but optimal alignment will not always\n",
    "bring optimal training accuracy with it.\n",
    "\n",
    "Let\\'s now come back to the actual implementation. PennyLane\\'s\n",
    "`kernels` module allows you to easily evaluate the kernel target\n",
    "alignment:\n"
   ]
  },
  {
   "cell_type": "code",
   "execution_count": 19,
   "metadata": {
    "collapsed": false
   },
   "outputs": [
    {
     "name": "stdout",
     "output_type": "stream",
     "text": [
      "The kernel-target alignment for our dataset and random parameters is 0.081\n"
     ]
    }
   ],
   "source": [
    "kta_init = qml.kernels.target_alignment(X, Y, init_kernel, assume_normalized_kernel=True)\n",
    "\n",
    "print(f\"The kernel-target alignment for our dataset and random parameters is {kta_init:.3f}\")"
   ]
  },
  {
   "cell_type": "markdown",
   "metadata": {},
   "source": [
    "Now let\\'s code up an optimization loop and improve the kernel-target\n",
    "alignment!\n",
    "\n",
    "We will make use of regular gradient descent optimization. To speed up\n",
    "the optimization we will not use the entire training set to compute\n",
    "$\\operatorname{KTA}$ but rather sample smaller subsets of the data at\n",
    "each step, we choose $4$ datapoints at random. Remember that\n",
    "PennyLane\\'s built-in optimizer works to *minimize* the cost function\n",
    "that is given to it, which is why we have to multiply the kernel target\n",
    "alignment by $-1$ to actually *maximize* it in the process.\n",
    "\n",
    "\n",
    "Note\n",
    "\n",
    "Currently, the function `qml.kernels.target_alignment` is not\n",
    "differentiable yet, making it unfit for gradient descent optimization.\n",
    "We therefore first define a differentiable version of this function.\n"
   ]
  },
  {
   "cell_type": "code",
   "execution_count": 20,
   "metadata": {
    "collapsed": false
   },
   "outputs": [
    {
     "name": "stdout",
     "output_type": "stream",
     "text": [
      "Step 50 - Alignment = 0.098\n",
      "Step 100 - Alignment = 0.121\n",
      "Step 150 - Alignment = 0.141\n",
      "Step 200 - Alignment = 0.173\n",
      "Step 250 - Alignment = 0.196\n",
      "Step 300 - Alignment = 0.224\n",
      "Step 350 - Alignment = 0.245\n",
      "Step 400 - Alignment = 0.261\n",
      "Step 450 - Alignment = 0.276\n",
      "Step 500 - Alignment = 0.289\n"
     ]
    }
   ],
   "source": [
    "def target_alignment(\n",
    "    X,\n",
    "    Y,\n",
    "    kernel,\n",
    "    assume_normalized_kernel=False,\n",
    "    rescale_class_labels=True,\n",
    "):\n",
    "    \"\"\"Kernel-target alignment between kernel and labels.\"\"\"\n",
    "\n",
    "    K = qml.kernels.square_kernel_matrix(\n",
    "        X,\n",
    "        kernel,\n",
    "        assume_normalized_kernel=assume_normalized_kernel,\n",
    "    )\n",
    "\n",
    "    if rescale_class_labels:\n",
    "        nplus = np.count_nonzero(np.array(Y) == 1)\n",
    "        nminus = len(Y) - nplus\n",
    "        _Y = np.array([y / nplus if y == 1 else y / nminus for y in Y])\n",
    "    else:\n",
    "        _Y = np.array(Y)\n",
    "\n",
    "    T = np.outer(_Y, _Y)\n",
    "    inner_product = np.sum(K * T)\n",
    "    norm = np.sqrt(np.sum(K * K) * np.sum(T * T))\n",
    "    inner_product = inner_product / norm\n",
    "\n",
    "    return inner_product\n",
    "\n",
    "\n",
    "params = init_params\n",
    "opt = qml.GradientDescentOptimizer(0.2)\n",
    "\n",
    "for i in range(500):\n",
    "    # Choose subset of datapoints to compute the KTA on.\n",
    "    subset = np.random.choice(list(range(len(X))), 4)\n",
    "    # Define the cost function for optimization\n",
    "    cost = lambda _params: -target_alignment(\n",
    "        X[subset],\n",
    "        Y[subset],\n",
    "        lambda x1, x2: kernel(x1, x2, _params),\n",
    "        assume_normalized_kernel=True,\n",
    "    )\n",
    "    # Optimization step\n",
    "    params = opt.step(cost, params)\n",
    "\n",
    "    # Report the alignment on the full dataset every 50 steps.\n",
    "    if (i + 1) % 50 == 0:\n",
    "        current_alignment = target_alignment(\n",
    "            X,\n",
    "            Y,\n",
    "            lambda x1, x2: kernel(x1, x2, params),\n",
    "            assume_normalized_kernel=True,\n",
    "        )\n",
    "        print(f\"Step {i+1} - Alignment = {current_alignment:.3f}\")"
   ]
  },
  {
   "cell_type": "markdown",
   "metadata": {},
   "source": [
    "We want to assess the impact of training the parameters of the quantum\n",
    "kernel. Thus, let\\'s build a second support vector classifier with the\n",
    "trained kernel:\n"
   ]
  },
  {
   "cell_type": "code",
   "execution_count": 21,
   "metadata": {
    "collapsed": false
   },
   "outputs": [],
   "source": [
    "# First create a kernel with the trained parameter baked into it.\n",
    "trained_kernel = lambda x1, x2: kernel(x1, x2, params)\n",
    "\n",
    "# Second create a kernel matrix function using the trained kernel.\n",
    "trained_kernel_matrix = lambda X1, X2: qml.kernels.kernel_matrix(X1, X2, trained_kernel)\n",
    "\n",
    "# Note that SVC expects the kernel argument to be a kernel matrix function.\n",
    "svm_trained = SVC(kernel=trained_kernel_matrix).fit(X, Y)"
   ]
  },
  {
   "cell_type": "markdown",
   "metadata": {},
   "source": [
    "We expect to see an accuracy improvement vs. the SVM with random\n",
    "parameters:\n"
   ]
  },
  {
   "cell_type": "code",
   "execution_count": 22,
   "metadata": {
    "collapsed": false
   },
   "outputs": [
    {
     "name": "stdout",
     "output_type": "stream",
     "text": [
      "The accuracy of a kernel with trained parameters is 1.000\n"
     ]
    }
   ],
   "source": [
    "accuracy_trained = accuracy(svm_trained, X, Y)\n",
    "print(f\"The accuracy of a kernel with trained parameters is {accuracy_trained:.3f}\")"
   ]
  },
  {
   "cell_type": "markdown",
   "metadata": {},
   "source": [
    "We have now achieved perfect classification!\n",
    "\n",
    "Following on the results that SVM\\'s have proven good generalisation\n",
    "behavior, it will be interesting to inspect the decision boundaries of\n",
    "our classifier:\n"
   ]
  },
  {
   "cell_type": "code",
   "execution_count": 23,
   "metadata": {
    "collapsed": false
   },
   "outputs": [
    {
     "data": {
      "text/plain": "<Figure size 640x480 with 1 Axes>",
      "image/png": "[encoded data removed]"
     },
     "metadata": {},
     "output_type": "display_data"
    }
   ],
   "source": [
    "trained_plot_data = plot_decision_boundaries(svm_trained, plt.gca())"
   ]
  },
  {
   "cell_type": "markdown",
   "metadata": {},
   "source": [
    "Indeed, we see that now not only every data instance falls within the\n",
    "correct class, but also that there are no strong artifacts that would\n",
    "make us distrust the model. In this sense, our approach benefits from\n",
    "both: on one hand it can adjust itself to the dataset, and on the other\n",
    "hand is not expected to suffer from bad generalisation.\n"
   ]
  },
  {
   "cell_type": "markdown",
   "metadata": {},
   "source": [
    "# How to approximate a classical kernel with a quantum computer\n",
    "\n",
    "\n",
    "Forget about advantages, supremacies, or speed-ups. Let us understand better what we can and cannot do with a quantum computer. More specifically, in this demo, we want to look into quantum kernels and ask whether we can replicate classical kernel functions with a quantum  computer. Lots of researchers have lengthily stared at the opposite question, namely that of classical simulation of quantum algorithms. Yet, by studying what classes of functions we can realize with quantum kernels, we can gain some insight into their inner workings.\n",
    "\n",
    "Usually, in quantum machine learning (QML), we use parametrized quantum circuits (PQCs) to find good functions, whatever *good* means here. Since kernels are just one specific kind of well-defined functions, the task of finding a quantum kernel (QK) that approximates a given classical one could be posed as an optimization problem. One way to attack this task is to define a loss function quantifying the distance between both functions (the classical kernel function and the PQC-based hypothesis). This sort of approach does not help us much to gain theoretical insights about the structure of kernel-emulating quantum circuits, though.\n",
    "\n",
    "In order to build intuition, we will instead study the link between classical and quantum kernels through the lens of the Fourier representation of a kernel, which is a common tool in classical machine learning. Two functions can only have the same Fourier spectrum if they are the same function. It turns out that, for certain classes of quantum circuits, [we can theoretically describe the Fourier spectrum rather well](https://pennylane.ai/qml/demos/tutorial_expressivity_fourier_series.html).\n",
    "\n",
    "Using this theory, together with some good old-fashioned convex optimization, we will derive a quantum circuit that approximates the famous Gaussian kernel.\n",
    "\n",
    "In order to keep the demo short and sweet, we focus on one simple example. The same ideas apply to more general scenarios. So tag along if you\\'d like to see how we build\n",
    "a quantum kernel that approximates the well-known Gaussian kernel function!\n",
    "\n",
    "| \n",
    "\n",
    "![Schematic of the steps covered in this\n",
    "demo.](images/classical_kernels_flowchart.PNG)\n",
    "\n",
    "## Kernel-based Machine Learning\n",
    "\n",
    "\n",
    "For the purposes of this demo, a *kernel* is a real-valued function of two variables $k(x_1,x_2)$ from a given data domain $x_1, x_2\\in\\mathcal{X}$. In this demo, we\\'ll deal with real vector spaces as the data domain $\\mathcal{X}\\subseteq\\mathbb{R}^d$, of some dimension $d$. A kernel has to be symmetric with respect to exchanging both variables $k(x_1,x_2) = k(x_2,x_1)$. We also enforce kernels to be positive semi-definite, but let\\'s avoid getting lost in mathematical lingo. You can trust that all kernels featured in this demo are positive semi-definite.\n",
    "\n",
    "## Shift-invariant kernels\n",
    "\n",
    "Some kernels fulfill another important restriction, called *shift-invariance*. Shift-invariant kernels are those whose value doesn\\'t change if we add a shift to both inputs. Explicitly, for any suitable shift vector $\\zeta\\in\\mathcal{X}$, shift-invariant kernels are those for which $k(x_1+\\zeta,x_2+\\zeta)=k(x_1,x_2)$ holds. Having this property means the function can be written in terms of only one variable, which we call the *lag vector* $\\delta:=x_1-x_2\\in\\mathcal{X}$. Abusing notation a bit:\n",
    "\n",
    "$$k(x_1,x_2)=k(x_1-x_2,0) = k(\\delta).$$\n",
    "\n",
    "For shift-invariant kernels, the exchange symmetry property $k(x_1,x_2)=k(x_2,x_1)$ translates into reflection symmetry$k(\\delta)=k(-\\delta)$. Accordingly, we say $k$ is an *even function*.\n",
    "\n",
    "## Warm up: Implementing the Gaussian kernel\n",
    "\n",
    "First, let\\'s introduce a simple classical kernel that we will approximate on the quantum computer. Start importing the usual suspects:"
   ]
  },
  {
   "cell_type": "code",
   "execution_count": 24,
   "metadata": {
    "collapsed": false
   },
   "outputs": [],
   "source": [
    "import pennylane as qml\n",
    "from pennylane import numpy as np\n",
    "import matplotlib.pyplot as plt\n",
    "import math\n",
    "np.random.seed(53173)"
   ]
  },
  {
   "cell_type": "markdown",
   "metadata": {},
   "source": [
    "We\\'ll look at the Gaussian kernel:\n",
    "$k_\\sigma(x_1,x_2):=e^{-\\lVert x_1-x_2\\rVert^2/2\\sigma^2}$. This\n",
    "function is clearly shift-invariant:\n",
    "\n",
    "$$\\begin{aligned}\n",
    "k_\\sigma(x_1+\\zeta,x_2+\\zeta) &= e^{-\\lVert(x_1+\\zeta)-(x_2+\\zeta)\\rVert^2/2\\sigma^2} \\\\\n",
    "& = e^{-\\lVert x_1-x_2\\rVert^2/2\\sigma^2} \\\\\n",
    "& = k_\\sigma(x_1,x_2).\n",
    "\\end{aligned}$$\n",
    "\n",
    "The object of our study will be a simple version of the Gaussian kernel, where we consider $1$-dimensional data, so $\\lVert x_1-x_2\\rVert^2=(x_1-x_2)^2$. Also, we take $\\sigma=1/\\sqrt{2}$ so that we further simplify the exponent. We can always re-introduce it later by rescaling the data. Again, we can write the function in terms of the lag vector only:\n",
    "\n",
    "$$k(\\delta)=e^{-\\delta^2}.$$\n",
    "\n",
    "Now let\\'s write a few lines to plot the Gaussian kernel:\n"
   ]
  },
  {
   "cell_type": "code",
   "execution_count": 25,
   "metadata": {
    "collapsed": false
   },
   "outputs": [
    {
     "data": {
      "text/plain": "<Figure size 640x480 with 1 Axes>",
      "image/png": "[encoded data removed]"
     },
     "metadata": {},
     "output_type": "display_data"
    }
   ],
   "source": [
    "def gaussian_kernel(delta):\n",
    "    return math.exp(-delta ** 2)\n",
    "\n",
    "def make_data(n_samples, lower=-np.pi, higher=np.pi):\n",
    "    x = np.linspace(lower, higher, n_samples)\n",
    "    y = np.array([gaussian_kernel(x_) for x_ in x])\n",
    "    return x,y\n",
    "\n",
    "X, Y_gaussian = make_data(100)\n",
    "\n",
    "plt.plot(X, Y_gaussian)\n",
    "plt.suptitle(\"The Gaussian kernel with $\\sigma=1/\\sqrt{2}$\")\n",
    "plt.xlabel(\"$\\delta$\")\n",
    "plt.ylabel(\"$k(\\delta)$\")\n",
    "plt.show();"
   ]
  },
  {
   "cell_type": "markdown",
   "metadata": {},
   "source": [
    "In this demo, we will consider only this one example. However, the\n",
    "arguments we make and the code we use are also amenable to any kernel\n",
    "with the following mild restrictions:\n",
    "\n",
    "1.  Shift-invariance\n",
    "2.  Normalization $k(0)=1$.\n",
    "3.  Smoothness (in the sense of a quickly decaying Fourier spectrum).\n",
    "\n",
    "Note that is a very large class of kernels! And also an important one\n",
    "for practical applications.\n",
    "\n",
    "## Fourier analysis of the Gaussian kernel\n",
    "\n",
    "The next step will be to find the Fourier spectrum of the Gaussian kernel, which is an easy problem for classical computers. Once we\\'ve found it, we\\'ll build a QK that produces a finite Fourier series approximation to that spectrum.\n",
    "\n",
    "Let\\'s briefly recall that a Fourier series is the representation of a periodic function using the sine and cosine functions. Fourier analysis tells us that we can write any given periodic function as\n",
    "\n",
    "$$f(x) = a_0 + \\sum_{n=1}^\\infty a_n\\cos(n\\omega_0x) + b_n\\sin(n\\omega_0x).$$\n",
    "\n",
    "For that, we only need to find the suitable base frequency $\\omega_0$ and coefficients $a_0, a_1, \\ldots, b_0, b_1,\\ldots$.\n",
    "\n",
    "But the Gaussian kernel is an aperiodic function, whereas the Fourier series only makes sense for periodic functions!\n",
    "\n",
    "*What can we do?!*\n",
    "\n",
    "We can cook up a periodic extension to the Gaussian kernel, for a given period $2L$ (we take $L=\\pi$ as default):\n"
   ]
  },
  {
   "cell_type": "code",
   "execution_count": 26,
   "metadata": {
    "collapsed": false
   },
   "outputs": [],
   "source": [
    "def Gauss_p(x, L=np.pi):\n",
    "    # Send x to x_mod in the period around 0\n",
    "    x_mod = np.mod(x+L, 2*L) - L\n",
    "    return gaussian_kernel(x_mod)"
   ]
  },
  {
   "cell_type": "markdown",
   "metadata": {},
   "source": [
    "which we can now plot\n"
   ]
  },
  {
   "cell_type": "code",
   "execution_count": 27,
   "metadata": {
    "collapsed": false
   },
   "outputs": [
    {
     "data": {
      "text/plain": "<Figure size 640x480 with 1 Axes>",
      "image/png": "[encoded data removed]"
     },
     "metadata": {},
     "output_type": "display_data"
    }
   ],
   "source": [
    "x_func = np.linspace(-10, 10, 321)\n",
    "y_func = [Gauss_p(x) for x in x_func]\n",
    "\n",
    "plt.plot(x_func, y_func)\n",
    "plt.xlabel(\"$\\delta$\")\n",
    "plt.suptitle(\"Periodic extension to the Gaussian kernel\")\n",
    "plt.show();"
   ]
  },
  {
   "cell_type": "markdown",
   "metadata": {},
   "source": [
    "In practice, we would construct several periodic extensions of the aperiodic function, with increasing periods. This way, we can study the behaviour when the period approaches infinity, i.e. the regime where the function stops being periodic.\n",
    "\n",
    "Next up, how does the Fourier spectrum of such an object look like? We can find out using PennyLane\\'s `fourier` module!\n"
   ]
  },
  {
   "cell_type": "code",
   "execution_count": 28,
   "metadata": {
    "collapsed": false
   },
   "outputs": [],
   "source": [
    "from pennylane.fourier import coefficients"
   ]
  },
  {
   "cell_type": "markdown",
   "metadata": {},
   "source": [
    "The function `coefficients` computes for us the coefficients of the Fourier series up to a fixed term. One tiny detail here: `coefficients` returns one complex number $c_n$ for each frequency $n$. The real part corresponds to the $a_n$ coefficient, and the imaginary part to the $b_n$ coefficient: $c_n=a_n+ib_n$. Because the Gaussian kernel is an even function, we know that the imaginary part of every coefficient will be zero, so $c_n=a_n$.\n"
   ]
  },
  {
   "cell_type": "code",
   "execution_count": 29,
   "metadata": {
    "collapsed": false
   },
   "outputs": [],
   "source": [
    "def fourier_p(d):\n",
    "    \"\"\"\n",
    "    We only take the first d coefficients [:d]\n",
    "    because coefficients() treats the negative frequencies\n",
    "    as different from the positive ones.\n",
    "    For real functions, they are the same.\n",
    "    \"\"\"\n",
    "    return np.real(coefficients(Gauss_p, 1, d-1)[:d])"
   ]
  },
  {
   "cell_type": "markdown",
   "metadata": {},
   "source": [
    "We are restricted to considering only a finite number of Fourier terms. But isn\\'t that problematic, one may say? Well, maybe. Since we know the Gaussian kernel is a smooth function, we expect that the coefficients\n",
    "converge to $0$ at some point, and we will only need to consider terms up to this point. Let\\'s look at the coefficients we obtain by setting a low value for the number of coefficients and then slowly letting it grow:\n"
   ]
  },
  {
   "cell_type": "code",
   "execution_count": 30,
   "metadata": {
    "collapsed": false
   },
   "outputs": [
    {
     "data": {
      "text/plain": "<Figure size 640x480 with 1 Axes>",
      "image/png": "[encoded data removed]"
     },
     "metadata": {},
     "output_type": "display_data"
    }
   ],
   "source": [
    "N = [0]\n",
    "for n in range(2,7):\n",
    "    N.append(n)\n",
    "    F = fourier_p(n)\n",
    "    plt.plot(N, F, 'x', label='{}'.format(n))\n",
    "\n",
    "plt.legend()\n",
    "plt.xlabel(\"frequency $n$\")\n",
    "plt.ylabel(\"Fourier coefficient $c_n$\")\n",
    "plt.show();"
   ]
  },
  {
   "cell_type": "markdown",
   "metadata": {},
   "source": [
    "What do we see? For very small coefficient counts, like $2$ and $3$, we see that the last allowed coefficient is still far from $0$. That\\'s a very clear indicator that we need to consider more frequencies. At the same time, it seems like starting at $5$ or $6$ all the non-zero contributions have already been well captured. This is important for us, since it tells us the minimum number of qubits we should use. One can see that every new qubit doubles the number of frequencies we can use, so for $n$ qubits, we will have $2^n$. At minimum of $6$ frequencies means at least $3$ qubits, corresponding to $2^3=8$ frequencies. As we\\'ll see later, we\\'ll work with $5$ qubits, so $32$ frequencies. That means the spectrum we will be trying to replicate will be the following:"
   ]
  },
  {
   "cell_type": "code",
   "execution_count": 31,
   "metadata": {
    "collapsed": false
   },
   "outputs": [
    {
     "data": {
      "text/plain": "<Figure size 640x480 with 1 Axes>",
      "image/png": "[encoded data removed]"
     },
     "metadata": {},
     "output_type": "display_data"
    }
   ],
   "source": [
    "plt.plot(range(32), fourier_p(32), 'x')\n",
    "plt.xlabel(\"frequency $n$\")\n",
    "plt.ylabel(\"Fourier coefficient $c_n$\")\n",
    "plt.suptitle(\"Fourier spectrum of the Gaussian kernel\")\n",
    "plt.show();"
   ]
  },
  {
   "cell_type": "markdown",
   "metadata": {},
   "source": [
    "We just need a QK with the same Fourier spectrum!\n",
    "\n",
    "## Designing a suitable QK\n",
    "\n",
    "\n",
    "Designing a suitable QK amounts to designing a suitable parametrized quantum circuit. Let\\'s take a moment to refresh the big scheme of things with the following picture:\n",
    "\n",
    "![The quantum kernel considered in this demo.](images/QEK.jpg)\n",
    "\n",
    "We construct the quantum kernel from a quantum embedding. The quantum embedding circuit will consist of two parts. The first one, trainable, will be a parametrized general state preparation scheme $W_a$, with parameters $a$. In the second one, we input the data, denoted by $S(x)$.\n",
    "\n",
    "Start with the non-trainable gate we\\'ll use to encode the data $S(x)$. It consists of applying one Pauli-$Z$ rotation to each qubit with rotation parameter $x$ times some constant $\\vartheta_i$, for the $i^\\text{th}$ qubit.\n"
   ]
  },
  {
   "cell_type": "code",
   "execution_count": 32,
   "metadata": {
    "collapsed": false
   },
   "outputs": [],
   "source": [
    "def S(x, thetas, wires):\n",
    "    for (i, wire) in enumerate(wires):\n",
    "        qml.RZ(thetas[i] * x, wires = [wire])"
   ]
  },
  {
   "cell_type": "markdown",
   "metadata": {},
   "source": [
    "By setting the `thetas` properly, we achieve the integer-valued spectrum, as required by the Fourier series expansion of a function of period $2\\pi$: $\\{0, 1, \\ldots, 2^n-2, 2^n-1\\}$, for $n$ qubits. Some math shows that setting $\\vartheta_i=2^{n-i}$, for $\\{1,\\ldots,n\\}$ produces the desired outcome.\n"
   ]
  },
  {
   "cell_type": "code",
   "execution_count": 33,
   "metadata": {
    "collapsed": false
   },
   "outputs": [],
   "source": [
    "def make_thetas(n_wires):\n",
    "    return [2 ** i for i in range(n_wires-1, -1, -1)]"
   ]
  },
  {
   "cell_type": "markdown",
   "metadata": {},
   "source": [
    "Next, we introduce the only trainable gate we need to make use of. Contrary to the usual Ansätze used in supervised and unsupervised learning, we use a state preparation template called `MottonenStatePreparation`. This is one option for amplitude encoding already implemented in PennyLane, so we don\\'t need to code it ourselves. Amplitude encoding is a common way of embedding classical data into a quantum system in QML. The unitary associated to this\n",
    "template transforms the $\\lvert0\\rangle$ state into a state with amplitudes $a=(a_0,a_1,\\ldots,a_{2^n-1})$, namely $\\lvert a\\rangle=\\sum_j a_j\\lvert j\\rangle$, provided $\\lVert a\\rVert^2=1$.\n"
   ]
  },
  {
   "cell_type": "code",
   "execution_count": 34,
   "metadata": {
    "collapsed": false
   },
   "outputs": [],
   "source": [
    "def W(features, wires):\n",
    "    qml.templates.state_preparations.MottonenStatePreparation(features, wires)"
   ]
  },
  {
   "cell_type": "markdown",
   "metadata": {},
   "source": [
    "With that, we have the feature map onto the Hilbert space of the quantum computer:\n",
    "\n",
    "$$\\lvert x_a\\rangle = S(x)W_a\\lvert0\\rangle,$$\n",
    "\n",
    "for a given $a$, which we will specify later.\n",
    "\n",
    "Accordingly, we can build the QK corresponding to this feature map as\n",
    "\n",
    "$$\\begin{aligned}\n",
    "k_a(x_1,x_2) &= \\lvert\\langle0\\rvert W_a^\\dagger S^\\dagger(x_1)\n",
    "S(x_2)W_a\\lvert0\\rangle\\rvert^2 \\\\\n",
    "&= \\lvert\\langle0\\rvert W_a^\\dagger S(x_2-x_1) W_a\\lvert0\\rangle\\rvert^2.\n",
    "\\end{aligned}$$\n",
    "\n",
    "In the code below, the variable `amplitudes` corresponds to our set $a$.\n"
   ]
  },
  {
   "cell_type": "code",
   "execution_count": 35,
   "metadata": {
    "collapsed": false
   },
   "outputs": [],
   "source": [
    "def ansatz(x1, x2, thetas, amplitudes, wires):\n",
    "    W(amplitudes, wires)\n",
    "    S(x1 - x2, thetas, wires)\n",
    "    qml.adjoint(W)(amplitudes, wires)"
   ]
  },
  {
   "cell_type": "markdown",
   "metadata": {},
   "source": [
    "Since this kernel is by construction real-valued, we also have\n",
    "\n",
    "$$\\begin{aligned}\n",
    "(k_a(x_1,x_2))^\\ast &= k_a(x_1,x_2) \\\\\n",
    "&= \\lvert\\langle0\\rvert W_a^\\dagger S(x_1-x_2) W_a\\lvert0\\rangle\\rvert^2 \\\\\n",
    "&= k_a(x_2,x_1).\n",
    "\\end{aligned}$$\n",
    "\n",
    "Further, this QK is also shift-invariant $k_a(x_1,x_2) = k_a(x_1+\\zeta,\n",
    "x_2+\\zeta)$ for any $\\zeta\\in\\mathbb{R}$. So we can also write it in\n",
    "terms of the lag $\\delta=x_1-x_2$:\n",
    "\n",
    "$$k_a(\\delta) = \\lvert\\langle0\\rvert W_a^\\dagger\n",
    "S(\\delta)W_a\\lvert0\\rangle\\rvert^2.$$\n",
    "\n",
    "So far, we only wrote the gate layout for the quantum circuit, no measurement! We need a few more functions for that!\n",
    "\n",
    "## Computing the QK function on a quantum device\n",
    "\n",
    "\n",
    "Also, at this point, we need to set the number of qubits of our computer. For this example, we\\'ll use the variable `n_wires`, and set it to $5$.\n"
   ]
  },
  {
   "cell_type": "code",
   "execution_count": 36,
   "metadata": {
    "collapsed": false
   },
   "outputs": [],
   "source": [
    "n_wires = 5"
   ]
  },
  {
   "cell_type": "markdown",
   "metadata": {},
   "source": [
    "We initialize the quantum simulator:\n"
   ]
  },
  {
   "cell_type": "code",
   "execution_count": 37,
   "metadata": {
    "collapsed": false
   },
   "outputs": [],
   "source": [
    "dev = qml.device(\"default.qubit\", wires = n_wires, shots = None)"
   ]
  },
  {
   "cell_type": "markdown",
   "metadata": {},
   "source": [
    "Next, we construct the quantum node:\n"
   ]
  },
  {
   "cell_type": "code",
   "execution_count": 38,
   "metadata": {
    "collapsed": false
   },
   "outputs": [],
   "source": [
    "@qml.qnode(dev)\n",
    "def QK_circuit(x1, x2, thetas, amplitudes):\n",
    "    ansatz(x1, x2, thetas, amplitudes, wires = range(n_wires))\n",
    "    return qml.probs(wires = range(n_wires))"
   ]
  },
  {
   "cell_type": "markdown",
   "metadata": {},
   "source": [
    "Recall that the output of a QK is defined as the probability of\n",
    "obtaining the outcome $\\lvert0\\rangle$ when measuring in the\n",
    "computational basis. That corresponds to the $0^\\text{th}$ entry of\n",
    "`qml.probs`:\n"
   ]
  },
  {
   "cell_type": "code",
   "execution_count": 39,
   "metadata": {
    "collapsed": false
   },
   "outputs": [],
   "source": [
    "def QK_2(x1, x2, thetas, amplitudes):\n",
    "    return QK_circuit(x1, x2, thetas, amplitudes)[0]"
   ]
  },
  {
   "cell_type": "markdown",
   "metadata": {},
   "source": [
    "As a couple of quality-of-life improvements, we write a function that\n",
    "implements the QK with the lag $\\delta$ as its argument, and one that\n",
    "implements it on a given set of data:\n"
   ]
  },
  {
   "cell_type": "code",
   "execution_count": 40,
   "metadata": {
    "collapsed": false
   },
   "outputs": [],
   "source": [
    "def QK(delta, thetas, amplitudes):\n",
    "    return QK_2(delta, 0, thetas, amplitudes)\n",
    "\n",
    "def QK_on_dataset(deltas, thetas, amplitudes):\n",
    "    y = np.array([QK(delta, thetas, amplitudes) for delta in deltas])\n",
    "    return y"
   ]
  },
  {
   "cell_type": "markdown",
   "metadata": {},
   "source": [
    "This is also a good place to fix the `thetas` array, so that we don\\'t\n",
    "forget later.\n"
   ]
  },
  {
   "cell_type": "code",
   "execution_count": 41,
   "metadata": {
    "collapsed": false
   },
   "outputs": [],
   "source": [
    "thetas = make_thetas(n_wires)"
   ]
  },
  {
   "cell_type": "markdown",
   "metadata": {},
   "source": [
    "Let\\'s see how this looks like for one particular choice of\n",
    "`amplitudes`. We need to make sure the array fulfills the normalization\n",
    "conditions.\n"
   ]
  },
  {
   "cell_type": "code",
   "execution_count": 42,
   "metadata": {
    "collapsed": false
   },
   "outputs": [
    {
     "data": {
      "text/plain": "<Figure size 640x480 with 1 Axes>",
      "image/png": "[encoded data removed]"
     },
     "metadata": {},
     "output_type": "display_data"
    }
   ],
   "source": [
    "test_features = np.asarray([1./(1+i) for i in range(2 ** n_wires)])\n",
    "test_amplitudes = test_features / np.sqrt(np.sum(test_features ** 2))\n",
    "\n",
    "Y_test = QK_on_dataset(X, thetas, test_amplitudes)\n",
    "\n",
    "plt.plot(X, Y_test)\n",
    "plt.xlabel(\"$\\delta$\")\n",
    "plt.suptitle(\"QK with test amplitudes\")\n",
    "plt.show();"
   ]
  },
  {
   "cell_type": "markdown",
   "metadata": {},
   "source": [
    "One can see that the stationary kernel with this particular initial state has a decaying spectrum that looks similar to $1/\\lvert x\\rvert$ --- but not yet like a Gaussian.\n",
    "\n",
    "## How to find the amplitudes emulating a Gaussian kernel\n",
    "\n",
    "\n",
    "If we knew exactly which amplitudes to choose in order to build a given Fourier spectrum, our job would be done here. However, the equations derived in the literature are not trivial to solve.\n",
    "\n",
    "As mentioned in the introduction, one could just \\\"learn\\\" this relation, that is, tune the parameters of the quantum kernel in a gradient-based manner until it matches the classical one.\n",
    "\n",
    "We want to take an intermediate route between analytical solution and black-box optimization. For that, we derive an equation that links the amplitudes to the spectrum we want to construct and then use\n",
    "old-fashioned convex optimization to find the solution. If you are not interested in the details, you can just jump to the last plots of this demo and confirm that we can to emulate the Gaussian kernel using the ansatz for our QK constructed above.\n",
    "\n",
    "In order to simplify the formulas, we introduce new variables, which we call `probabilities` $(p_0, p_1, p_2, \\ldots, p_{2^n-1})$, and we define as $p_j=\\lvert a_j\\rvert^2$. Following the normalization property above, we have $\\sum_j p_j=1$. Don\\'t get too fond of them, we only need them for this step! Remember we introduced the vector $a$ for the `MottonenStatePreparation` as the *amplitudes* of a quantum state? Then it makes sense that we call its squares *probabilities*, doesn\\'t it?\n",
    "\n",
    "There is a crazy formula that matches the entries of *probabilities* with the Fourier series of the resulting QK function:\n",
    "\n",
    "$$\\begin{aligned}\n",
    "\\text{probabilities} &\\longrightarrow \\text{Fourier coefficients} \\\\\n",
    "\\begin{pmatrix} p_0 \\\\ p_1 \\\\ p_2 \\\\ \\vdots \\\\ p_{2^n-1} \\end{pmatrix}\n",
    "&\\longmapsto \\begin{pmatrix} \\sum_{j=0}^{2^n-1} p_j^2 \\\\ \\sum_{j=1}^{2^n-1}\n",
    "p_j p_{j-1} \\\\ \\sum_{j=2}^{2^n-1} p_j p_{j-2} \\\\ \\vdots \\\\ p_{2^n-1} p_0\n",
    "\\end{pmatrix}\n",
    "\\end{aligned}$$\n",
    "\n",
    "This looks a bit scary, it follows from expanding the matrix product $W_a^\\dagger S(\\delta)W_a$, and then collecting terms according to Fourier basis monomials. In this sense, the formula is general and it applies to any shift-invariant kernel we might want to approximate, not only the Gaussian kernel.\n",
    "\n",
    "Our goal is to find the set of $p_j$\\'s that produces the Fourier coefficients of a given kernel function (in our case, the Gaussian kernel), namely its spectrum $(s_0, s_1, s_2, \\ldots, s_{2^n-1})$. We consider now a slightly different map $F_s$, for a given spectrum $(s_0, s_1, \\ldots, s_{2^n-1})$:\n",
    "\n",
    "$$\\begin{aligned}\n",
    "F_s: \\text{probabilities} &\\longrightarrow \\text{Difference between Fourier\n",
    "coefficients} \\\\\n",
    "\\begin{pmatrix} p_0 \\\\ p_1 \\\\ p_2 \\\\ \\vdots \\\\ p_{2^n-1} \\end{pmatrix}\n",
    "&\\longmapsto \\begin{pmatrix} \\sum_{j=0}^{2^n-1} p_j^2 - s_0 \\\\\n",
    "\\sum_{j=1}^{2^n-1} p_j p_{j-1} - s_1 \\\\ \\sum_{j=2}^{2^n-1} p_j\n",
    "p_{j-2} - s_2 \\\\ \\vdots \\\\ p_{2^n-1}p_0 - s_{2^n-1} \\end{pmatrix}.\n",
    "\\end{aligned}$$\n",
    "\n",
    "If you look at it again, you\\'ll see that the zero (or solution) of this second map $F_s$ is precisely the array of *probabilities* we are looking for. We can write down the first map as:\n"
   ]
  },
  {
   "cell_type": "code",
   "execution_count": 43,
   "metadata": {
    "collapsed": false
   },
   "outputs": [],
   "source": [
    "def predict_spectrum(probabilities):\n",
    "    d = len(probabilities)\n",
    "    spectrum = []\n",
    "    for s in range(d):\n",
    "        s_ = 0\n",
    "\n",
    "        for j in range(s, d):\n",
    "            s_ += probabilities[j] * probabilities[j - s]\n",
    "\n",
    "        spectrum.append(s_)\n",
    "\n",
    "    # This is to make the output have the same format as\n",
    "    # the output of pennylane.fourier.coefficients\n",
    "    for s in range(1,d):\n",
    "        spectrum.append(spectrum[d - s])\n",
    "\n",
    "    return spectrum"
   ]
  },
  {
   "cell_type": "markdown",
   "metadata": {},
   "source": [
    "And then $F_s$ is just `predict_spectrum` minus the spectrum we want to predict:\n"
   ]
  },
  {
   "cell_type": "code",
   "execution_count": 44,
   "metadata": {
    "collapsed": false
   },
   "outputs": [],
   "source": [
    "def F(probabilities, spectrum):\n",
    "    d = len(probabilities)\n",
    "    return predict_spectrum(probabilities)[:d] - spectrum[:d]"
   ]
  },
  {
   "cell_type": "markdown",
   "metadata": {},
   "source": [
    "These closed-form equations allow us to find the solution numerically, using Newton\\'s method! Newton\\'s method is a classical one from convex optimization theory. For our case, since the formula is quadratic, we rest assured that we are within the realm of convex functions.\n",
    "\n",
    "## Finding the solution\n",
    "\n",
    "In order to use Newton\\'s method we need the Jacobian of $F_s$.\n"
   ]
  },
  {
   "cell_type": "code",
   "execution_count": 45,
   "metadata": {
    "collapsed": false
   },
   "outputs": [],
   "source": [
    "def J_F(probabilities):\n",
    "    d = len(probabilities)\n",
    "    J = np.zeros(shape=(d,d))\n",
    "    for i in range(d):\n",
    "        for j in range(d):\n",
    "            if (i + j < d):\n",
    "                J[i][j] += probabilities[i + j]\n",
    "            if(i - j <= 0):\n",
    "                J[i][j] += probabilities[j - i]\n",
    "    return J"
   ]
  },
  {
   "cell_type": "markdown",
   "metadata": {},
   "source": [
    "Showing that this is indeed $\\nabla F_s$ is left as an exercise for the reader. For Newton\\'s method, we also need an initial guess. Finding a\n",
    "good initial guess requires some tinkering; different problems will benefit from different ones. Here is a tame one that works for the Gaussian kernel.\n"
   ]
  },
  {
   "cell_type": "code",
   "execution_count": 46,
   "metadata": {
    "collapsed": false
   },
   "outputs": [],
   "source": [
    "def make_initial_probabilities(d):\n",
    "    probabilities = np.ones(d)\n",
    "    deg = np.array(range(1, d + 1))\n",
    "    probabilities = probabilities / deg\n",
    "    return probabilities\n",
    "\n",
    "probabilities = make_initial_probabilities(2 ** n_wires)"
   ]
  },
  {
   "cell_type": "markdown",
   "metadata": {},
   "source": [
    "Recall the `spectrum` we want to match is that of the periodic extension of the Gaussian kernel.\n"
   ]
  },
  {
   "cell_type": "code",
   "execution_count": 47,
   "metadata": {
    "collapsed": false
   },
   "outputs": [],
   "source": [
    "spectrum = fourier_p(2 ** n_wires)"
   ]
  },
  {
   "cell_type": "markdown",
   "metadata": {},
   "source": [
    "We fix the hyperparameters for Newton\\'s method:\n"
   ]
  },
  {
   "cell_type": "code",
   "execution_count": 48,
   "metadata": {
    "collapsed": false
   },
   "outputs": [],
   "source": [
    "d = 2 ** n_wires\n",
    "max_steps = 100\n",
    "tol = 1.e-20"
   ]
  },
  {
   "cell_type": "markdown",
   "metadata": {},
   "source": [
    "And we\\'re good to go!\n"
   ]
  },
  {
   "cell_type": "code",
   "execution_count": 49,
   "metadata": {
    "collapsed": false
   },
   "outputs": [
    {
     "name": "stdout",
     "output_type": "stream",
     "text": [
      "Error norm at step  10: 7.231526379770506e-14\n",
      "Error norm at step  20: 5.551115536294438e-17\n",
      "Error norm at step  30: 9.2815769223824e-21\n",
      "Tolerance trespassed! This is the end.\n"
     ]
    }
   ],
   "source": [
    "for step in range(max_steps):\n",
    "    inc = np.linalg.solve(J_F(probabilities), -F(probabilities, spectrum))\n",
    "    probabilities = probabilities + inc\n",
    "    if (step+1) % 10 == 0:\n",
    "        print(\"Error norm at step {0:3}: {1}\".format(step + 1,\n",
    "                                               np.linalg.norm(F(probabilities,\n",
    "                                                                spectrum))))\n",
    "        if np.linalg.norm(F(probabilities, spectrum)) < tol:\n",
    "            print(\"Tolerance trespassed! This is the end.\")\n",
    "            break"
   ]
  },
  {
   "cell_type": "markdown",
   "metadata": {},
   "source": [
    "The tolerance we set was fairly low, one should expect good things to\n",
    "come out of this. Let\\'s have a look at the solution:\n"
   ]
  },
  {
   "cell_type": "code",
   "execution_count": 50,
   "metadata": {
    "collapsed": false
   },
   "outputs": [
    {
     "data": {
      "text/plain": "<Figure size 640x480 with 1 Axes>",
      "image/png": "[encoded data removed]"
     },
     "metadata": {},
     "output_type": "display_data"
    }
   ],
   "source": [
    "plt.plot(range(d), probabilities, 'x')\n",
    "plt.xlabel(\"array entry $j$\")\n",
    "plt.ylabel(\"probabilities $p_j$\")\n",
    "plt.show();"
   ]
  },
  {
   "cell_type": "markdown",
   "metadata": {},
   "source": [
    "Would you be able to tell whether this is correct? Me neither! But all those probabilities being close to $0$ should make us fear some of them must\\'ve turned negative. That would be fatal for us. For `MottonenStatePreparation`, we\\'ll need to give `amplitudes` as one of the arguments, which is the component-wise square root of `probabilities`. And hence the problem! Even if they are very small values, if any entry of `probabilities` is negative, the square root will give `nan`. In order to avoid that, we use a simple thresholding where we replace very small entries by $0$.\n"
   ]
  },
  {
   "cell_type": "code",
   "execution_count": 51,
   "metadata": {
    "collapsed": false
   },
   "outputs": [],
   "source": [
    "def probabilities_threshold_normalize(probabilities, thresh = 1.e-10):\n",
    "    d = len(probabilities)\n",
    "    p_t = probabilities.copy()\n",
    "    for i in range(d):\n",
    "        if np.abs(probabilities[i] < thresh):\n",
    "            p_t[i] = 0.0\n",
    "\n",
    "    p_t = p_t / np.sum(p_t)\n",
    "\n",
    "    return p_t"
   ]
  },
  {
   "cell_type": "markdown",
   "metadata": {},
   "source": [
    "Then, we need to take the square root:\n"
   ]
  },
  {
   "cell_type": "code",
   "execution_count": 52,
   "metadata": {
    "collapsed": false
   },
   "outputs": [],
   "source": [
    "probabilities = probabilities_threshold_normalize(probabilities)\n",
    "amplitudes = np.sqrt(probabilities)"
   ]
  },
  {
   "cell_type": "markdown",
   "metadata": {},
   "source": [
    "A little plotting never killed nobody\n"
   ]
  },
  {
   "cell_type": "code",
   "execution_count": 53,
   "metadata": {
    "collapsed": false
   },
   "outputs": [
    {
     "data": {
      "text/plain": "<Figure size 640x480 with 1 Axes>",
      "image/png": "[encoded data removed]"
     },
     "metadata": {},
     "output_type": "display_data"
    }
   ],
   "source": [
    "plt.plot(range(d), probabilities, '+', label = \"probability $p_j = |a_j|^2$\")\n",
    "plt.plot(range(d), amplitudes, 'x', label = \"amplitude $a_j$\")\n",
    "plt.xlabel(\"array entry $j$\")\n",
    "plt.legend()\n",
    "plt.show();"
   ]
  },
  {
   "cell_type": "markdown",
   "metadata": {},
   "source": [
    "## Visualizing the solution\n",
    "\n",
    "And the moment of truth! Does the solution really match the spectrum? We try it first using `predict_spectrum` only\n"
   ]
  },
  {
   "cell_type": "code",
   "execution_count": 54,
   "metadata": {
    "collapsed": false
   },
   "outputs": [
    {
     "data": {
      "text/plain": "<Figure size 640x480 with 1 Axes>",
      "image/png": "[encoded data removed]"
     },
     "metadata": {},
     "output_type": "display_data"
    }
   ],
   "source": [
    "plt.plot(range(d), fourier_p(d)[:d], '+', label = \"Gaussian kernel\")\n",
    "plt.plot(range(d), predict_spectrum(probabilities)[:d], 'x', label = \"QK predicted\")\n",
    "plt.xlabel(\"frequency $n$\")\n",
    "plt.ylabel(\"Fourier coefficient\")\n",
    "plt.suptitle(\"Fourier spectrum of the Gaussian kernel\")\n",
    "plt.legend()\n",
    "plt.show();"
   ]
  },
  {
   "cell_type": "markdown",
   "metadata": {},
   "source": [
    "It seems like it does! But as we just said, this is still only the predicted spectrum. We haven\\'t called the quantum computer at all yet!\n",
    "\n",
    "Let\\'s see what happens when we call the function `coefficients` on the QK function we defined earlier. Good coding practice tells us we should probably turn this step into a function itself, in case it is of use later:\n"
   ]
  },
  {
   "cell_type": "code",
   "execution_count": 55,
   "metadata": {
    "collapsed": false
   },
   "outputs": [],
   "source": [
    "def fourier_q(d, thetas, amplitudes):\n",
    "    return np.real(coefficients(lambda x: QK(x, thetas, amplitudes), 1, d-1))"
   ]
  },
  {
   "cell_type": "markdown",
   "metadata": {},
   "source": [
    "And with this, we can finally visualize how the Fourier spectrum of the QK function compares to that of the Gaussian kernel:\n"
   ]
  },
  {
   "cell_type": "code",
   "execution_count": 56,
   "metadata": {
    "collapsed": false
   },
   "outputs": [
    {
     "data": {
      "text/plain": "<Figure size 640x480 with 1 Axes>",
      "image/png": "[encoded data removed]"
     },
     "metadata": {},
     "output_type": "display_data"
    }
   ],
   "source": [
    "plt.plot(range(d), fourier_p(d)[:d], '+', label = \"Gaussian kernel\")\n",
    "plt.plot(range(d), predict_spectrum(probabilities)[:d], 'x', label=\"QK predicted\")\n",
    "plt.plot(range(d), fourier_q(d, thetas, amplitudes)[:d], '.', label = \"QK computer\")\n",
    "plt.xlabel(\"frequency $n$\")\n",
    "plt.ylabel(\"Fourier coefficient\")\n",
    "plt.suptitle(\"Fourier spectrum of the Gaussian kernel\")\n",
    "plt.legend()\n",
    "plt.show();"
   ]
  },
  {
   "cell_type": "markdown",
   "metadata": {},
   "source": [
    "It seems it went well! Matching spectra should mean matching kernel functions, right?\n"
   ]
  },
  {
   "cell_type": "code",
   "execution_count": 57,
   "metadata": {
    "collapsed": false
   },
   "outputs": [
    {
     "data": {
      "text/plain": "<Figure size 640x480 with 1 Axes>",
      "image/png": "[encoded data removed]"
     },
     "metadata": {},
     "output_type": "display_data"
    }
   ],
   "source": [
    "Y_learned = QK_on_dataset(X, thetas, amplitudes)\n",
    "Y_truth = [Gauss_p(x_) for x_ in X]\n",
    "\n",
    "plt.plot(X, Y_learned, '-.', label = \"QK\")\n",
    "plt.plot(X, Y_truth, '--', label = \"Gaussian kernel\")\n",
    "plt.xlabel(\"$\\delta$\")\n",
    "plt.ylabel(\"$k(\\delta)$\")\n",
    "plt.legend()\n",
    "plt.show();"
   ]
  },
  {
   "cell_type": "markdown",
   "metadata": {},
   "source": [
    "Yeah! We did it!\n",
    "\n",
    "![](images/salesman.PNG)\n"
   ]
  },
  {
   "cell_type": "markdown",
   "metadata": {},
   "source": [
    "# Kernel-based training of quantum models with scikit-learn\n",
    "\n",
    "\n",
    "Over the last few years, quantum machine learning research has provided a lot of insights on how we can understand and train quantum circuits as machine learning models. While many connections to neural networks have been made, it becomes increasingly clear that their mathematical foundation is intimately related to so-called *kernel methods*, the most famous of which is the [support vector machine (SVM)](https://en.wikipedia.org/wiki/Support-vector_machine) (see for example [Schuld and Killoran (2018)](https://arxiv.org/abs/1803.07128), [Havlicek et al. (2018)](https://arxiv.org/abs/1804.11326), [Liu et al. (2020)](https://arxiv.org/abs/2010.02174), [Huang et al. (2020)](https://arxiv.org/pdf/2011.01938), and, for a systematic summary which we will follow here, [Schuld (2021)](https://arxiv.org/abs/2101.11020)).\n",
    "\n",
    "The link between quantum models and kernel methods has important practical implications: we can replace the common [variational approach](https://pennylane.ai/qml/glossary/variational_circuit.html) to quantum machine learning with a classical kernel method where the kernel---a small building block of the overall algorithm---is computed by a quantum device. In many situations there are guarantees that we get better or at least equally good results.\n",
    "\n",
    "This demonstration explores how kernel-based training compares with [variational training](https://pennylane.ai/qml/demos/tutorial_variational_classifier.html) in terms of the number of quantum circuits that have to be evaluated.\n",
    "For this we train a quantum machine learning model with a kernel-based approach using a combination of PennyLane and the [scikit-learn](https://scikit-learn.org/) machine learning library. We compare this strategy with a variational quantum circuit trained via stochastic gradient descent using [PyTorch](https://pennylane.readthedocs.io/en/stable/introduction/interfaces/torch.html).\n",
    "\n",
    "We will see that in a typical small-scale example, kernel-based training requires only a fraction of the number of quantum circuit evaluations used by variational circuit training, while each evaluation runs a much shorter circuit. In general, the relative efficiency of kernel-based methods compared to variational circuits depends on the number of parameters used in the variational model.\n",
    "\n",
    "![](images/scaling.png)\n",
    "\n",
    "If the number of variational parameters remains small, e.g., there is a square-root-like scaling with the number of data samples (green line), variational circuits are almost as efficient as neural networks (blue line), and require much fewer circuit evaluations than the quadratic scaling of kernel methods (red line). However, with current hardware-compatible training strategies, kernel methods scale much better than variational circuits that require a number of parameters of the order of the training set size (orange line).\n",
    "\n",
    "In conclusion, **for quantum machine learning applications with many parameters, kernel-based training can be a great alternative to the variational approach to quantum machine learning**.\n",
    "\n",
    "After working through this demo, you will:\n",
    "\n",
    "-   be able to use a support vector machine with a quantum kernel\n",
    "    computed with PennyLane, and\n",
    "-   be able to compare the scaling of quantum circuit evaluations\n",
    "    required in kernel-based versus variational training.\n"
   ]
  },
  {
   "cell_type": "markdown",
   "metadata": {},
   "source": [
    "## Background\n",
    "\n",
    "\n",
    "Let us consider a *quantum model* of the form\n",
    "\n",
    "$$f(x) = \\langle \\phi(x) | \\mathcal{M} | \\phi(x)\\rangle,$$\n",
    "\n",
    "where $| \\phi(x)\\rangle$ is prepared by a fixed [embedding circuit](https://pennylane.ai/qml/glossary/quantum_embedding.html) that encodes data inputs $x$, and $\\mathcal{M}$ is an arbitrary observable.\n",
    "This model includes variational quantum machine learning models, since the observable can effectively be implemented by a simple measurement that is preceded by a variational circuit:\n",
    "\n",
    "![](images/quantum_model.png)\n",
    "\n",
    "For example, applying a circuit $G(\\theta)$ and then measuring the Pauli-Z observable $\\sigma^0_z$ of the first qubit implements the trainable measurement $\\mathcal{M}(\\theta) = G^{\\dagger}(\\theta) \\sigma^0_z G(\\theta)$.\n",
    "\n",
    "The main practical consequence of approaching quantum machine learning with a kernel approach is that instead of training $f$ variationally, we can often train an equivalent classical kernel method with a kernel\n",
    "executed on a quantum device. This *quantum kernel* is given by the mutual overlap of two data-encoding quantum states,\n",
    "\n",
    "$$\\kappa(x, x') = | \\langle \\phi(x') | \\phi(x)\\rangle|^2.$$\n",
    "\n",
    "Kernel-based training therefore bypasses the processing and measurement parts of common variational circuits, and only depends on the data encoding.\n",
    "\n",
    "If the loss function $L$ is the [hinge loss](https://en.wikipedia.org/wiki/Hinge_loss), the kernel method corresponds to a standard [support vector machine](https://en.wikipedia.org/wiki/Support-vector_machine) (SVM) in\n",
    "the sense of a maximum-margin classifier. Other convex loss functions lead to more general variations of support vector machines.\n",
    "\n",
    "Note:\n",
    "\n",
    "More precisely, we can replace variational with kernel-based training if\n",
    "the optimisation problem can be written as minimizing a cost of the form\n",
    "\n",
    "$$\\min_f  \\lambda\\;  \\mathrm{tr}\\{\\mathcal{M}^2\\} + \\frac{1}{M}\\sum_{m=1}^M L(f(x^m), y^m),$$\n",
    "\n",
    "which is a regularized empirical risk with training data samples\n",
    "$(x^m, y^m)_{m=1\\dots M}$, regularization strength\n",
    "$\\lambda \\in \\mathbb{R}$, and loss function $L$.\n",
    "\n",
    "Theory predicts that kernel-based training will always find better or\n",
    "equally good minima of this risk. However, to show this here we would\n",
    "have to either regularize the variational training by the trace of the\n",
    "squared observable, or switch off regularization in the classical SVM,\n",
    "which removes a lot of its strength. The kernel-based and the\n",
    "variational training in this demonstration therefore optimize slightly\n",
    "different cost functions, and it is out of our scope to establish\n",
    "whether one training method finds a better minimum than the other.\n",
    "\n"
   ]
  },
  {
   "cell_type": "markdown",
   "metadata": {},
   "source": [
    "## Kernel-based training\n",
    "\n",
    "\n",
    "First, we will turn to kernel-based training of quantum models. As stated above, an example implementation is a standard support vector machine with a kernel computed by a quantum circuit.\n"
   ]
  },
  {
   "cell_type": "markdown",
   "metadata": {},
   "source": [
    "We begin by importing all sorts of useful methods:\n"
   ]
  },
  {
   "cell_type": "code",
   "execution_count": 58,
   "metadata": {
    "collapsed": false
   },
   "outputs": [
    {
     "ename": "ModuleNotFoundError",
     "evalue": "No module named 'torch'",
     "output_type": "error",
     "traceback": [
      "\u001B[0;31m---------------------------------------------------------------------------\u001B[0m",
      "\u001B[0;31mModuleNotFoundError\u001B[0m                       Traceback (most recent call last)",
      "Input \u001B[0;32mIn [58]\u001B[0m, in \u001B[0;36m<cell line: 2>\u001B[0;34m()\u001B[0m\n\u001B[1;32m      1\u001B[0m \u001B[38;5;28;01mimport\u001B[39;00m \u001B[38;5;21;01mnumpy\u001B[39;00m \u001B[38;5;28;01mas\u001B[39;00m \u001B[38;5;21;01mnp\u001B[39;00m\n\u001B[0;32m----> 2\u001B[0m \u001B[38;5;28;01mimport\u001B[39;00m \u001B[38;5;21;01mtorch\u001B[39;00m\n\u001B[1;32m      3\u001B[0m \u001B[38;5;28;01mfrom\u001B[39;00m \u001B[38;5;21;01mtorch\u001B[39;00m\u001B[38;5;21;01m.\u001B[39;00m\u001B[38;5;21;01mnn\u001B[39;00m\u001B[38;5;21;01m.\u001B[39;00m\u001B[38;5;21;01mfunctional\u001B[39;00m \u001B[38;5;28;01mimport\u001B[39;00m relu\n\u001B[1;32m      5\u001B[0m \u001B[38;5;28;01mfrom\u001B[39;00m \u001B[38;5;21;01msklearn\u001B[39;00m\u001B[38;5;21;01m.\u001B[39;00m\u001B[38;5;21;01msvm\u001B[39;00m \u001B[38;5;28;01mimport\u001B[39;00m SVC\n",
      "\u001B[0;31mModuleNotFoundError\u001B[0m: No module named 'torch'"
     ]
    }
   ],
   "source": [
    "import numpy as np\n",
    "import torch\n",
    "from torch.nn.functional import relu\n",
    "\n",
    "from sklearn.svm import SVC\n",
    "from sklearn.datasets import load_iris\n",
    "from sklearn.preprocessing import StandardScaler\n",
    "from sklearn.model_selection import train_test_split\n",
    "from sklearn.metrics import accuracy_score\n",
    "\n",
    "import pennylane as qml\n",
    "from pennylane.templates import AngleEmbedding, StronglyEntanglingLayers\n",
    "from pennylane.operation import Tensor\n",
    "\n",
    "import matplotlib.pyplot as plt\n",
    "\n",
    "np.random.seed(42)"
   ]
  },
  {
   "cell_type": "markdown",
   "metadata": {},
   "source": [
    "The second step is to define a data set. Since the performance of the models is not the focus of this demo, we can just use the first two classes of the famous [Iris data set](https://en.wikipedia.org/wiki/Iris_flower_data_set). Dating back to as far as 1936, this toy data set consists of 100 samples of four features each, and gives rise to a very simple classification problem.\n"
   ]
  },
  {
   "cell_type": "code",
   "execution_count": null,
   "metadata": {
    "collapsed": false
   },
   "outputs": [],
   "source": [
    "X, y = load_iris(return_X_y=True)\n",
    "\n",
    "# pick inputs and labels from the first two classes only,\n",
    "# corresponding to the first 100 samples\n",
    "X = X[:100]\n",
    "y = y[:100]\n",
    "\n",
    "# scaling the inputs is important since the embedding we use is periodic\n",
    "scaler = StandardScaler().fit(X)\n",
    "X_scaled = scaler.transform(X)\n",
    "\n",
    "# scaling the labels to -1, 1 is important for the SVM and the\n",
    "# definition of a hinge loss\n",
    "y_scaled = 2 * (y - 0.5)\n",
    "\n",
    "X_train, X_test, y_train, y_test = train_test_split(X_scaled, y_scaled)"
   ]
  },
  {
   "cell_type": "markdown",
   "metadata": {},
   "source": [
    "We use the [angle-embedding template](https://pennylane.readthedocs.io/en/stable/code/api/pennylane.templates.embeddings.AngleEmbedding.html) which needs as many qubits as there are features:\n"
   ]
  },
  {
   "cell_type": "code",
   "execution_count": null,
   "metadata": {
    "collapsed": false
   },
   "outputs": [],
   "source": [
    "n_qubits = len(X_train[0])\n",
    "n_qubits"
   ]
  },
  {
   "cell_type": "markdown",
   "metadata": {},
   "source": [
    "To implement the kernel we could prepare the two states $| \\phi(x) \\rangle$, $| \\phi(x') \\rangle$ on different sets of qubits with angle-embedding routines $S(x), S(x')$, and measure their overlap\n",
    "with a small routine called a [SWAP test](https://en.wikipedia.org/wiki/Swap_test).\n",
    "\n",
    "However, we need only half the number of qubits if we prepare $| \\phi(x)\\rangle$ and then apply the inverse embedding with $x'$ on the same qubits. We then measure the projector onto the initial state\n",
    "$|0..0\\rangle \\langle 0..0|$.\n",
    "\n",
    "![](images/kernel_circuit.png){.align-center}\n",
    "\n",
    "To verify that this gives us the kernel:\n",
    "\n",
    "$$\\begin{aligned}\n",
    "\\begin{align*}\n",
    "    \\langle 0..0 |S(x') S(x)^{\\dagger} \\mathcal{M} S(x')^{\\dagger} S(x)  | 0..0\\rangle &= \\langle 0..0 |S(x') S(x)^{\\dagger} |0..0\\rangle \\langle 0..0| S(x')^{\\dagger} S(x)  | 0..0\\rangle  \\\\\n",
    "    &= |\\langle 0..0| S(x')^{\\dagger} S(x)  | 0..0\\rangle |^2\\\\\n",
    "    &= | \\langle \\phi(x') | \\phi(x)\\rangle|^2 \\\\\n",
    "    &= \\kappa(x, x').\n",
    "\\end{align*}\n",
    "\\end{aligned}$$\n",
    "\n",
    "Note that a projector $|0..0 \\rangle \\langle 0..0|$ can be constructed using the `qml.Hermitian` observable in PennyLane.\n",
    "\n",
    "Altogether, we use the following quantum node as a *quantum kernel evaluator*:\n"
   ]
  },
  {
   "cell_type": "code",
   "execution_count": null,
   "metadata": {
    "collapsed": false
   },
   "outputs": [],
   "source": [
    "dev_kernel = qml.device(\"default.qubit\", wires=n_qubits)\n",
    "\n",
    "projector = np.zeros((2**n_qubits, 2**n_qubits))\n",
    "projector[0, 0] = 1\n",
    "\n",
    "@qml.qnode(dev_kernel)\n",
    "def kernel(x1, x2):\n",
    "    \"\"\"The quantum kernel.\"\"\"\n",
    "    AngleEmbedding(x1, wires=range(n_qubits))\n",
    "    qml.adjoint(AngleEmbedding)(x2, wires=range(n_qubits))\n",
    "    return qml.expval(qml.Hermitian(projector, wires=range(n_qubits)))"
   ]
  },
  {
   "cell_type": "markdown",
   "metadata": {},
   "source": [
    "A good sanity check is whether evaluating the kernel of a data point and itself returns 1:\n"
   ]
  },
  {
   "cell_type": "code",
   "execution_count": null,
   "metadata": {
    "collapsed": false
   },
   "outputs": [],
   "source": [
    "kernel(X_train[0], X_train[0])"
   ]
  },
  {
   "cell_type": "markdown",
   "metadata": {},
   "source": [
    "The way an SVM with a custom kernel is implemented in scikit-learn requires us to pass a function that computes a matrix of kernel evaluations for samples in two different datasets A, B. If A=B, this is the [Gram matrix](https://en.wikipedia.org/wiki/Gramian_matrix).\n"
   ]
  },
  {
   "cell_type": "code",
   "execution_count": null,
   "metadata": {
    "collapsed": false
   },
   "outputs": [],
   "source": [
    "def kernel_matrix(A, B):\n",
    "    \"\"\"Compute the matrix whose entries are the kernel\n",
    "       evaluated on pairwise data from sets A and B.\"\"\"\n",
    "    return np.array([[kernel(a, b) for b in B] for a in A])"
   ]
  },
  {
   "cell_type": "markdown",
   "metadata": {},
   "source": [
    "Training the SVM optimizes internal parameters that basically weigh kernel functions. It is a breeze in scikit-learn, which is designed as a high-level machine learning library:\n"
   ]
  },
  {
   "cell_type": "code",
   "execution_count": null,
   "metadata": {
    "collapsed": false
   },
   "outputs": [],
   "source": [
    "svm = SVC(kernel=kernel_matrix).fit(X_train, y_train)"
   ]
  },
  {
   "cell_type": "markdown",
   "metadata": {},
   "source": [
    "Let's compute the accuracy on the test set.\n"
   ]
  },
  {
   "cell_type": "code",
   "execution_count": null,
   "metadata": {
    "collapsed": false
   },
   "outputs": [],
   "source": [
    "predictions = svm.predict(X_test)\n",
    "accuracy_score(predictions, y_test)"
   ]
  },
  {
   "cell_type": "markdown",
   "metadata": {},
   "source": [
    "The SVM predicted all test points correctly. How many times was the quantum device evaluated?\n"
   ]
  },
  {
   "cell_type": "code",
   "execution_count": null,
   "metadata": {
    "collapsed": false
   },
   "outputs": [],
   "source": [
    "dev_kernel.num_executions"
   ]
  },
  {
   "cell_type": "markdown",
   "metadata": {},
   "source": [
    "This number can be derived as follows: For $M$ training samples, the SVM must construct the $M \\times M$ dimensional kernel gram matrix for training. To classify $M_{\\rm pred}$ new samples, the SVM needs to evaluate the kernel at most $M_{\\rm pred}M$ times to get the pairwise distances between training vectors and test samples.\n",
    "\n",
    "Note\n",
    "\n",
    "Depending on the implementation of the SVM, only $S \\leq M_{\\rm pred}$ *support vectors* are needed.\n",
    "\n",
    "Let us formulate this as a function, which can be used at the end of the demo to construct the scaling plot shown in the introduction.\n"
   ]
  },
  {
   "cell_type": "code",
   "execution_count": null,
   "metadata": {
    "collapsed": false
   },
   "outputs": [],
   "source": [
    "def circuit_evals_kernel(n_data, split):\n",
    "    \"\"\"Compute how many circuit evaluations one needs for kernel-based\n",
    "       training and prediction.\"\"\"\n",
    "\n",
    "    M = int(np.ceil(split * n_data))\n",
    "    Mpred = n_data - M\n",
    "\n",
    "    n_training = M * M\n",
    "    n_prediction = M * Mpred\n",
    "\n",
    "    return n_training + n_prediction"
   ]
  },
  {
   "cell_type": "markdown",
   "metadata": {},
   "source": [
    "With $M = 75$ and $M_{\\rm pred} = 25$, the number of kernel evaluations can therefore be estimated as:\n"
   ]
  },
  {
   "cell_type": "code",
   "execution_count": null,
   "metadata": {
    "collapsed": false
   },
   "outputs": [],
   "source": [
    "circuit_evals_kernel(n_data=len(X), split=len(X_train) /(len(X_train) + len(X_test)))"
   ]
  },
  {
   "cell_type": "markdown",
   "metadata": {},
   "source": [
    "The single additional evaluation can be attributed to evaluating the kernel once above as a sanity check.\n"
   ]
  },
  {
   "cell_type": "markdown",
   "metadata": {},
   "source": [
    "## A similar example using variational training\n",
    "\n"
   ]
  },
  {
   "cell_type": "markdown",
   "metadata": {},
   "source": [
    "Using the variational principle of training, we can propose an *ansatz* for the variational circuit and train it directly. By increasing the number of layers of the ansatz, its expressivity increases. Depending on\n",
    "the ansatz, we may only search through a subspace of all measurements for the best candidate.\n",
    "\n",
    "Remember from above, the variational training does not optimize *exactly* the same cost as the SVM, but we try to match them as closely as possible. For this we use a bias term in the quantum model, and train on the hinge loss.\n",
    "\n",
    "We also explicitly use the [parameter-shift](https://pennylane.ai/qml/glossary/parameter_shift.html) differentiation method in the quantum node, since this is a method which works on hardware as well. While `diff_method='backprop'` or `diff_method='adjoint'` would reduce the number of circuit evaluations significantly, they are based on tricks that are only suitable for simulators, and can therefore not scale to more than a few dozen qubits.\n"
   ]
  },
  {
   "cell_type": "code",
   "execution_count": null,
   "metadata": {
    "collapsed": false
   },
   "outputs": [],
   "source": [
    "dev_var = qml.device(\"default.qubit\", wires=n_qubits)\n",
    "\n",
    "@qml.qnode(dev_var, interface=\"torch\", diff_method=\"parameter-shift\")\n",
    "def quantum_model(x, params):\n",
    "    \"\"\"A variational quantum model.\"\"\"\n",
    "\n",
    "    # embedding\n",
    "    AngleEmbedding(x, wires=range(n_qubits))\n",
    "\n",
    "    # trainable measurement\n",
    "    StronglyEntanglingLayers(params, wires=range(n_qubits))\n",
    "    return qml.expval(qml.PauliZ(0))\n",
    "\n",
    "def quantum_model_plus_bias(x, params, bias):\n",
    "    \"\"\"Adding a bias.\"\"\"\n",
    "    return quantum_model(x, params) + bias\n",
    "\n",
    "def hinge_loss(predictions, targets):\n",
    "    \"\"\"Implements the hinge loss.\"\"\"\n",
    "    all_ones = torch.ones_like(targets)\n",
    "    hinge_loss = all_ones - predictions * targets\n",
    "    # trick: since the max(0,x) function is not differentiable,\n",
    "    # use the mathematically equivalent relu instead\n",
    "    hinge_loss = relu(hinge_loss)\n",
    "    return hinge_loss"
   ]
  },
  {
   "cell_type": "markdown",
   "metadata": {},
   "source": [
    "We now summarize the usual training and prediction steps into two functions similar to scikit-learn\\'s `fit()` and `predict()`. While it feels cumbersome compared to the one-liner used to train the kernel method, PennyLane---like other differentiable programming libraries---provides a lot more control over the particulars of training.\n",
    "\n",
    "In our case, most of the work is to convert between numpy and torch, which we need for the differentiable `relu` function used in the hinge loss.\n"
   ]
  },
  {
   "cell_type": "code",
   "execution_count": null,
   "metadata": {
    "collapsed": false
   },
   "outputs": [],
   "source": [
    "def quantum_model_train(n_layers, steps, batch_size):\n",
    "    \"\"\"Train the quantum model defined above.\"\"\"\n",
    "\n",
    "    params = np.random.random((n_layers, n_qubits, 3))\n",
    "    params_torch = torch.tensor(params, requires_grad=True)\n",
    "    bias_torch = torch.tensor(0.0)\n",
    "\n",
    "    opt = torch.optim.Adam([params_torch, bias_torch], lr=0.1)\n",
    "\n",
    "    loss_history = []\n",
    "    for i in range(steps):\n",
    "\n",
    "        batch_ids = np.random.choice(len(X_train), batch_size)\n",
    "\n",
    "        X_batch = X_train[batch_ids]\n",
    "        y_batch = y_train[batch_ids]\n",
    "\n",
    "        X_batch_torch = torch.tensor(X_batch, requires_grad=False)\n",
    "        y_batch_torch = torch.tensor(y_batch, requires_grad=False)\n",
    "\n",
    "        def closure():\n",
    "            opt.zero_grad()\n",
    "            preds = torch.stack(\n",
    "                [quantum_model_plus_bias(x, params_torch, bias_torch) for x in X_batch_torch]\n",
    "            )\n",
    "            loss = torch.mean(hinge_loss(preds, y_batch_torch))\n",
    "\n",
    "            # bookkeeping\n",
    "            current_loss = loss.detach().numpy().item()\n",
    "            loss_history.append(current_loss)\n",
    "            if i % 10 == 0:\n",
    "                print(\"step\", i, \", loss\", current_loss)\n",
    "\n",
    "            loss.backward()\n",
    "            return loss\n",
    "\n",
    "        opt.step(closure)\n",
    "\n",
    "    return params_torch, bias_torch, loss_history\n",
    "\n",
    "\n",
    "def quantum_model_predict(X_pred, trained_params, trained_bias):\n",
    "    \"\"\"Predict using the quantum model defined above.\"\"\"\n",
    "\n",
    "    p = []\n",
    "    for x in X_pred:\n",
    "\n",
    "        x_torch = torch.tensor(x)\n",
    "        pred_torch = quantum_model_plus_bias(x_torch, trained_params, trained_bias)\n",
    "        pred = pred_torch.detach().numpy().item()\n",
    "        if pred > 0:\n",
    "            pred = 1\n",
    "        else:\n",
    "            pred = -1\n",
    "\n",
    "        p.append(pred)\n",
    "    return p"
   ]
  },
  {
   "cell_type": "markdown",
   "metadata": {},
   "source": [
    "Let's train the variational model and see how well we are doing on the test set.\n"
   ]
  },
  {
   "cell_type": "code",
   "execution_count": null,
   "metadata": {
    "collapsed": false
   },
   "outputs": [],
   "source": [
    "n_layers = 2\n",
    "batch_size = 20\n",
    "steps = 100\n",
    "trained_params, trained_bias, loss_history = quantum_model_train(n_layers, steps, batch_size)\n",
    "\n",
    "pred_test = quantum_model_predict(X_test, trained_params, trained_bias)\n",
    "print(\"accuracy on test set:\", accuracy_score(pred_test, y_test))\n",
    "\n",
    "plt.plot(loss_history)\n",
    "plt.ylim((0, 1))\n",
    "plt.xlabel(\"steps\")\n",
    "plt.ylabel(\"cost\")\n",
    "plt.show()"
   ]
  },
  {
   "cell_type": "markdown",
   "metadata": {},
   "source": [
    "The variational circuit has a slightly lower accuracy than the SVM---but this depends very much on the training settings we used. Different random parameter initializations, more layers, or more steps may indeed get perfect test accuracy.\n",
    "\n",
    "How often was the device executed?\n"
   ]
  },
  {
   "cell_type": "code",
   "execution_count": null,
   "metadata": {
    "collapsed": false
   },
   "outputs": [],
   "source": [
    "dev_var.num_executions"
   ]
  },
  {
   "cell_type": "markdown",
   "metadata": {},
   "source": [
    "That is a lot more than the kernel method took!\n",
    "\n",
    "Let's try to understand this value. In each optimization step, the variational circuit needs to compute the partial derivative of all trainable parameters for each sample in a batch. Using parameter-shift\n",
    "rules, we require roughly two circuit evaluations per partial derivative. Prediction uses only one circuit evaluation per sample.\n",
    "\n",
    "We can formulate this as another function that will be used in the scaling plot below.\n"
   ]
  },
  {
   "cell_type": "code",
   "execution_count": null,
   "metadata": {
    "collapsed": false
   },
   "outputs": [],
   "source": [
    "def circuit_evals_variational(n_data, n_params, n_steps, shift_terms, split, batch_size):\n",
    "    \"\"\"Compute how many circuit evaluations are needed for\n",
    "       variational training and prediction.\"\"\"\n",
    "\n",
    "    M = int(np.ceil(split * n_data))\n",
    "    Mpred = n_data - M\n",
    "\n",
    "    n_training = n_params * n_steps * batch_size * shift_terms\n",
    "    n_prediction = Mpred\n",
    "\n",
    "    return n_training + n_prediction"
   ]
  },
  {
   "cell_type": "markdown",
   "metadata": {},
   "source": [
    "This estimates the circuit evaluations in variational training as:\n"
   ]
  },
  {
   "cell_type": "code",
   "execution_count": null,
   "metadata": {
    "collapsed": false
   },
   "outputs": [],
   "source": [
    "circuit_evals_variational(\n",
    "    n_data=len(X),\n",
    "    n_params=len(trained_params.flatten()),\n",
    "    n_steps=steps,\n",
    "    shift_terms=2,\n",
    "    split=len(X_train) /(len(X_train) + len(X_test)),\n",
    "    batch_size=batch_size,\n",
    ")"
   ]
  },
  {
   "cell_type": "markdown",
   "metadata": {},
   "source": [
    "The estimate is a bit higher because it does not account for some optimizations that PennyLane performs under the hood.\n",
    "\n",
    "It is important to note that while they are trained in a similar manner, the number of variational circuit evaluations differs from the number of neural network model evaluations in classical machine learning, which would be given by:\n"
   ]
  },
  {
   "cell_type": "code",
   "execution_count": null,
   "metadata": {
    "collapsed": false
   },
   "outputs": [],
   "source": [
    "def model_evals_nn(n_data, n_params, n_steps, split, batch_size):\n",
    "    \"\"\"Compute how many model evaluations are needed for neural\n",
    "       network training and prediction.\"\"\"\n",
    "\n",
    "    M = int(np.ceil(split * n_data))\n",
    "    Mpred = n_data - M\n",
    "\n",
    "    n_training = n_steps * batch_size\n",
    "    n_prediction = Mpred\n",
    "\n",
    "    return n_training + n_prediction"
   ]
  },
  {
   "cell_type": "markdown",
   "metadata": {},
   "source": [
    "In each step of neural network training, and due to the clever implementations of automatic differentiation, the backpropagation algorithm can compute a gradient for all parameters in (more-or-less) a single run. For all we know at this stage, the no-cloning principle prevents variational circuits from using these tricks, which leads to `n_training` in `circuit_evals_variational` depending on the number of parameters, but not in `model_evals_nn`.\n",
    "\n",
    "For the same example as used here, a neural network would therefore have far fewer model evaluations than both variational and kernel-based training:\n"
   ]
  },
  {
   "cell_type": "code",
   "execution_count": null,
   "metadata": {
    "collapsed": false
   },
   "outputs": [],
   "source": [
    "model_evals_nn(\n",
    "    n_data=len(X),\n",
    "    n_params=len(trained_params.flatten()),\n",
    "    n_steps=steps,\n",
    "    split=len(X_train) /(len(X_train) + len(X_test)),\n",
    "    batch_size=batch_size,\n",
    ")"
   ]
  },
  {
   "cell_type": "markdown",
   "metadata": {},
   "source": [
    "## Which method scales best?\n",
    "\n"
   ]
  },
  {
   "cell_type": "markdown",
   "metadata": {},
   "source": [
    "The answer to this question depends on how the variational model is set up, and we need to make a few assumptions:\n",
    "\n",
    "1.  Even if we use single-batch stochastic gradient descent, in which\n",
    "    every training step uses exactly one training sample, we would want\n",
    "    to see every training sample at least once on average. Therefore,\n",
    "    the number of steps should scale at least linearly with the number\n",
    "    of training data samples.\n",
    "\n",
    "2.  Modern neural networks often have many more parameters than training\n",
    "    samples. But we do not know yet whether variational circuits really\n",
    "    need that many parameters as well. We will therefore use two cases\n",
    "    for comparison:\n",
    "\n",
    "    2a) the number of parameters grows linearly with the training data,\n",
    "    or `n_params = M`,\n",
    "\n",
    "    2b) the number of parameters saturates at some point, which we model\n",
    "    by setting `n_params = sqrt(M)`.\n",
    "\n",
    "Note that compared to the example above with 75 training samples and 24 parameters, a) overestimates the number of evaluations, while b) underestimates it.\n"
   ]
  },
  {
   "cell_type": "markdown",
   "metadata": {},
   "source": [
    "This is how the three methods compare:\n"
   ]
  },
  {
   "cell_type": "code",
   "execution_count": null,
   "metadata": {
    "collapsed": false
   },
   "outputs": [],
   "source": [
    "variational_training1 = []\n",
    "variational_training2 = []\n",
    "kernelbased_training = []\n",
    "nn_training = []\n",
    "x_axis = range(0, 2000, 100)\n",
    "\n",
    "for M in x_axis:\n",
    "\n",
    "    var1 = circuit_evals_variational(\n",
    "        n_data=M, n_params=M, n_steps=M,  shift_terms=2, split=0.75, batch_size=1\n",
    "    )\n",
    "    variational_training1.append(var1)\n",
    "\n",
    "    var2 = circuit_evals_variational(\n",
    "        n_data=M, n_params=round(np.sqrt(M)), n_steps=M,\n",
    "        shift_terms=2, split=0.75, batch_size=1\n",
    "    )\n",
    "    variational_training2.append(var2)\n",
    "\n",
    "    kernel = circuit_evals_kernel(n_data=M, split=0.75)\n",
    "    kernelbased_training.append(kernel)\n",
    "\n",
    "    nn = model_evals_nn(\n",
    "        n_data=M, n_params=M, n_steps=M, split=0.75, batch_size=1\n",
    "    )\n",
    "    nn_training.append(nn)\n",
    "\n",
    "\n",
    "plt.plot(x_axis, nn_training, linestyle='--', label=\"neural net\")\n",
    "plt.plot(x_axis, variational_training1, label=\"var. circuit (linear param scaling)\")\n",
    "plt.plot(x_axis, variational_training2, label=\"var. circuit (srqt param scaling)\")\n",
    "plt.plot(x_axis, kernelbased_training, label=\"(quantum) kernel\")\n",
    "plt.xlabel(\"size of data set\")\n",
    "plt.ylabel(\"number of evaluations\")\n",
    "plt.legend()\n",
    "plt.tight_layout()\n",
    "plt.show()"
   ]
  },
  {
   "cell_type": "markdown",
   "metadata": {},
   "source": [
    "This is the plot we saw at the beginning. With current hardware-compatible training methods, whether kernel-based training requires more or fewer quantum circuit evaluations than variational training depends on how many parameters the latter needs. If variational circuits turn out to be as parameter-hungry as neural networks, kernel-based training will outperform them for common machine learning tasks. However, if variational learning only turns out to require few parameters (or if more efficient training methods are found), variational circuits could in principle match the linear scaling of neural networks trained with backpropagation.\n",
    "\n",
    "The practical take-away from this demo is that unless your variational circuit has significantly fewer parameters than training data, kernel methods could be a much faster alternative!\n",
    "\n",
    "Finally, it is important to note that fault-tolerant quantum computers may change the picture for both quantum and classical machine learning. As mentioned in [Schuld (2021)](https://arxiv.org/abs/2101.11020), early results from the quantum machine learning literature show that larger quantum computers will most likely enable us to reduce the quadratic scaling of kernel methods to linear scaling, which may make classical as well as quantum kernel methods a strong alternative to neural networks for big data processing one day.\n",
    "\n"
   ]
  }
 ],
 "metadata": {
  "kernelspec": {
   "display_name": "Python 3",
   "language": "python",
   "name": "python3"
  },
  "language_info": {
   "codemirror_mode": {
    "name": "ipython",
    "version": 3
   },
   "file_extension": ".py",
   "mimetype": "text/x-python",
   "name": "python",
   "nbconvert_exporter": "python",
   "pygments_lexer": "ipython3",
   "version": "3.9.15"
  }
 },
 "nbformat": 4,
 "nbformat_minor": 0
}
