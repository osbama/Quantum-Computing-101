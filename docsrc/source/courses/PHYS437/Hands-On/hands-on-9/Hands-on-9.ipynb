{
 "cells": [
  {
   "cell_type": "markdown",
   "metadata": {
    "pycharm": {
     "name": "#%% md\n"
    }
   },
   "source": [
    "\n",
    "# Quantum information with polarized light\n",
    "\n",
    "*Author: Nicolás Quesada*\n",
    "\n",
    "In this tutorial we will explore how to model quantum photonic\n",
    "experiments involving \"internal\" degrees of freedom of light, such as\n",
    "polarization. Note that by default Strawberry Fields deals with\n",
    "qumodes without an explicit commitment to what degree of freedom those\n",
    "qumodes correspond to. Using polarization degrees of freedom allows us\n",
    "to encode quantum information more densely. For example, one can use\n",
    "the two orthogonal polarizations of a single photon to encode a single qubit.\n",
    "\n",
    "Polarization is the ability of fields to oscillate in more than one\n",
    "direction as they propagate. One can think of light as a transverse\n",
    "field, meaning that it does not oscillate in the direction of\n",
    "propagation. This implies that in our three-dimensional world light has\n",
    "two directions in which it can oscillate that are perpendicular to its direction of propagation.\n",
    "Because of this, a photon propagating in a certain direction $k$\n",
    "can have two orthogonal polarizations. This is schematically shown below:\n",
    "\n",
    "![](Figures/polarization.png)\n",
    "\n",
    "In this tutorial, we will show how polarization \"gates\" implemented by half-wave plates\n",
    "and polarizing beamsplitters can be mapped into the usual quantum\n",
    "operations from Strawberry Fields. Then we will use this knowledge to simulate the generation\n",
    "of a maximally entangled Bell state encoded in polarization degrees of\n",
    "freedom.\n",
    "\n",
    "\n",
    "\n",
    "## Manipulating polarization degrees of freedom\n",
    "\n",
    "It turns out that the polarization degree of freedom of photons can be used\n",
    "to encode information, and this information is typically manipulated\n",
    "using so-called half-wave plates and polarizing beamsplitters.\n",
    "\n",
    "### Half-wave plates\n",
    "\n",
    "A half-wave plate (HWP) allows us to rotate the polarization of a photon. For\n",
    "example,\n",
    "\n",
    "\\begin{align}\\text{HWP} |1_H 0_V \\rangle &= \\frac{1}{\\sqrt{2}} \\left( |1_H 0_V \\rangle + |0_H 1_V \\rangle \\right), \\quad \\text{(A)}\\\\\n",
    "    \\text{HWP} |0_H 1_V \\rangle &= \\frac{1}{\\sqrt{2}} \\left( |1_H 0_V \\rangle - |0_H 1_V \\rangle \\right), \\quad \\text{(B)}\\end{align}\n",
    "\n",
    "where $\\text{HWP}$ is a unitary operator representing\n",
    "a half-wave plate, $|1_H \\rangle$ is a single horizontally-polarized photon\n",
    "and, similarly, $|1_V \\rangle$ is a single vertically-polarized photon\n",
    "The states in the right hand sides of the last\n",
    "equation can be understood as single photons polarized along the diagonal\n",
    "($+45^\\circ$) and antidiagonal ($-45^\\circ$) directions, as depicted below:\n",
    "\n",
    "![](Figures/HWP.png)\n",
    "\n",
    "The transformation above is written in the Schrödinger picture for\n",
    "single photon inputs. It is often more fruitful to write it in the\n",
    "Heisenberg picture as follows:\n",
    "\n",
    "\\begin{align}\\text{HWP} ^\\dagger a_H^\\dagger \\text{HWP} &= \\frac{1}{\\sqrt{2}}\\left( a_H^\\dagger + a_V^\\dagger \\right),\\\\\n",
    "    \\text{HWP} ^\\dagger a_V^\\dagger \\text{HWP} &= \\frac{1}{\\sqrt{2}}\\left( a_H^\\dagger - a_V^\\dagger \\right),\\end{align}\n",
    "\n",
    "where we transformed the creation operators $a_{H/V}^\\dagger$ of the modes.\n",
    "\n",
    "### Polarizing beamsplitters\n",
    "\n",
    "A polarizing beamsplitter (PBS) will transmit light of a certain\n",
    "polarization while reflecting light from the orthogonal polarization.\n",
    "This operation acts on two paths each having two polarizations. For two\n",
    "spatial modes with two polarizations (a total of $4 = 2 \\times 2$\n",
    "creation operators) we can write its Heisenberg action as\n",
    "\n",
    "\\begin{align}\\text{PBS}^\\dagger a_{1,H}^\\dagger \\text{PBS} &= a_{1,H}^\\dagger, \\quad \\text{(a)}\\\\\n",
    "   \\text{PBS}^\\dagger a_{1,V}^\\dagger \\text{PBS} &= a_{2,V}^\\dagger, \\quad \\text{(b)}\\\\\n",
    "   \\text{PBS}^\\dagger a_{2,H}^\\dagger \\text{PBS} &= a_{2,H}^\\dagger, \\quad \\text{(c)}\\\\\n",
    "   \\text{PBS}^\\dagger a_{2,V}^\\dagger \\text{PBS} &= a_{1,V}^\\dagger. \\quad \\text{(d)}\\end{align}\n",
    "\n",
    "Note that the horizontal polarizations of both modes are\n",
    "unaffected (they are \"transmitted\") and that the vertical polarizations\n",
    "are swapped (they are \"reflected\"). The action of the PBS is schematically shown below\n",
    "for the different path and polarization modes:\n",
    "\n",
    "![](Figures/PBS.png)\n",
    "\n",
    "We can use a PBS to separate two photons with orthogonal polarizations\n",
    "in the same path into two photons in different paths:\n",
    "\n",
    "\\begin{align}\\text{PBS}|1_H 1_V, 0_H 0_V \\rangle = |1_H 0_V, 0_H 1_V \\rangle,\\end{align}\n",
    "\n",
    "where we used the notation $|x_H y_V,a_H b_V \\rangle$\n",
    "to indicate $x$ ($y$) horizontal (vertical) photons in mode\n",
    "1, $a$ ($b$) horizontal (vertical) photons in mode 2.\n",
    "\n",
    "## Mapping to Strawberry Fields gates\n",
    "\n",
    "With the notation we developed above we are ready to simulate basic\n",
    "polarization optical primitives using Strawberry Fields. We simply need\n",
    "to recall that each optical path with two polarizations can be\n",
    "represented using 2 qumodes.\n",
    "For each path $i$, we associate qumodes $2i$ and $2i+1$ to its horizontal and vertical polarization respectively.\n",
    "\n",
    "We can the associate Strawberry Fields gates with the polarization primitives discussed\n",
    "above as follows:\n",
    "\n",
    "\\begin{align}\\text{HWP}_i &\\leftrightarrow \\text{BSgate}_{2i,2i+1}\\\\\n",
    "   \\text{PBS}_{i,j} &\\leftrightarrow \\text{Permute}_{2i+1,2j+1} = \\text{Interferometer}\\left(\\left[\\begin{smallmatrix} 0&1 \\\\1&0 \\end{smallmatrix} \\right]\\right)_{2i+1,2j+1}\\end{align}\n",
    "\n",
    "To see why the first association is true recall that a\n",
    "HWP maps the creation operators of two polarizations in the same path to\n",
    "linear combinations of the same operators, which is precisely what the\n",
    "``BSgate`` does when applied to modes $2i$ and $2i+1$\n",
    "representing the two orthogonal polarizations of path $i$.\n",
    "\n",
    "To understand the second expression recall that a\n",
    "$\\text{PBS}$ simply swaps the vertical polarization of the two\n",
    "paths, which correspond precisely to qumodes $2i+1$ and\n",
    "$2j+1$. Finally, note that a swap is readily implemented in Strawberry Fields by\n",
    "using the ``Interferometer`` gate with argument\n",
    "$\\left[\\begin{smallmatrix} 0&1 \\\\1&0 \\end{smallmatrix} \\right]$.\n",
    "\n",
    "## Simulating the generation of event-ready photon pairs\n",
    "\n",
    "Zhang et al. [[#zhang]_] propose a method for generating postselected photonic maximally\n",
    "entangled Bell states by using single photons input into an\n",
    "interferometer. Their method uses a 4 spatial-path interferometer where\n",
    "each path takes advantage of the two polarizations (vertical and\n",
    "horizontal) of a photon. The circuit starts with four horizontal photons\n",
    "in each of the paths and then proceeds as shown below\n",
    "\n",
    "![](Figures/circuit_path.png)\n",
    "\n",
    "Conditioned in two of the detectors collecting a single photon each and\n",
    "the other two measuring vacuum, Zhang et al. show that the state of\n",
    "modes 1 and 4 collapses to a two-photon maximally entangled Bell\n",
    "state of the form\n",
    "\n",
    "\\begin{align}|\\phi^+ \\rangle \\propto \\left( |1_H 0_V, 1_H 0_V \\rangle + |0_H 1_V, 0_H 1_V \\rangle \\right).\\end{align}\n",
    "\n",
    "With the rules established in the last section we can translate the\n",
    "2-polarization 4-path circuit into a circuit with 8 qumodes as shown below\n",
    "\n",
    "\n",
    "\n",
    "We are now ready to do the simulations!\n"
   ]
  },
  {
   "cell_type": "code",
   "execution_count": 1,
   "metadata": {
    "pycharm": {
     "name": "#%%\n"
    }
   },
   "outputs": [
    {
     "name": "stderr",
     "output_type": "stream",
     "text": [
      "2022-06-01 22:24:18.021186: W tensorflow/stream_executor/platform/default/dso_loader.cc:64] Could not load dynamic library 'libcudart.so.11.0'; dlerror: libcudart.so.11.0: cannot open shared object file: No such file or directory\n",
      "2022-06-01 22:24:18.021205: I tensorflow/stream_executor/cuda/cudart_stub.cc:29] Ignore above cudart dlerror if you do not have a GPU set up on your machine.\n",
      "/tmp/ipykernel_37897/2018987820.py:10: DeprecationWarning: `np.complex` is a deprecated alias for the builtin `complex`. To silence this warning, use `complex` by itself. Doing this will not modify any behavior and is safe. If you specifically wanted the numpy scalar type, use `np.complex128` here.\n",
      "Deprecated in NumPy 1.20; for more details and guidance: https://numpy.org/devdocs/release/1.20.0-notes.html#deprecations\n"
     ]
    },
    {
     "name": "stdout",
     "output_type": "stream",
     "text": [
      "The norm of the ket is  1.0\n"
     ]
    }
   ],
   "source": [
    "# Import and preliminaries\n",
    "import strawberryfields as sf\n",
    "from strawberryfields.ops import Ket, BSgate, Interferometer\n",
    "import numpy as np\n",
    "\n",
    "cutoff_dim = 5  # (1+ total number of photons)\n",
    "paths = 4\n",
    "modes = 2 * paths\n",
    "\n",
    "initial_state = np.zeros([cutoff_dim] * modes, dtype=np.complex)\n",
    "# The ket below corresponds to a single horizontal photon in each of the modes\n",
    "initial_state[1, 0, 1, 0, 1, 0, 1, 0] = 1\n",
    "# Permutation matrix\n",
    "X = np.array([[0, 1], [1, 0]])\n",
    "\n",
    "# Here is the main program\n",
    "# We create the input state and then send it through a network of beamsplitters and swaps.\n",
    "prog = sf.Program(8)\n",
    "with prog.context as q:\n",
    "    Ket(initial_state) | q  # Initial state preparation\n",
    "    for i in range(paths):\n",
    "        BSgate() | (q[2 * i], q[2 * i + 1])  # First layer of beamsplitters\n",
    "    Interferometer(X) | (q[1], q[3])\n",
    "    Interferometer(X) | (q[5], q[7])\n",
    "    BSgate() | (q[2], q[3])\n",
    "    BSgate() | (q[4], q[5])\n",
    "    Interferometer(X) | (q[3], q[5])\n",
    "    BSgate().H | (q[2], q[3])\n",
    "    BSgate().H | (q[4], q[5])\n",
    "\n",
    "# We run the simulation\n",
    "eng = sf.Engine(\"fock\", backend_options={\"cutoff_dim\": cutoff_dim})\n",
    "result = eng.run(prog)\n",
    "state = result.state\n",
    "ket = state.ket()\n",
    "\n",
    "# Check the normalization of the ket.\n",
    "# This does give the exact answer because of the cutoff we chose.\n",
    "print(\"The norm of the ket is \", np.linalg.norm(ket))"
   ]
  },
  {
   "cell_type": "markdown",
   "metadata": {
    "pycharm": {
     "name": "#%% md\n"
    }
   },
   "source": [
    "## Postselection\n",
    "\n",
    "Let's consider the case where one horizontally-polarized photon is detected in both paths\n",
    "2 and 3.\n",
    "\n",
    "\n"
   ]
  },
  {
   "cell_type": "code",
   "execution_count": 2,
   "metadata": {
    "pycharm": {
     "name": "#%%\n"
    }
   },
   "outputs": [
    {
     "name": "stdout",
     "output_type": "stream",
     "text": [
      "The probability is  0.03125\n",
      "The expected probability is  0.03125\n",
      "The indices of the nonzero components are \n",
      "  [[0 1 0 1]\n",
      " [1 0 1 0]]\n",
      "The nonzero components have values  [(0.125-0j), (0.125-0j)]\n"
     ]
    }
   ],
   "source": [
    "sub_ket1 = np.round(ket[:, :, 1, 0, 1, 0, :, :], 14)  # postselect on correct pattern\n",
    "p1 = np.round(np.linalg.norm(sub_ket1) ** 2, 14)  # Check the probability of this event\n",
    "print(\"The probability is \", p1)\n",
    "print(\"The expected probability is \", 1 / 32)\n",
    "\n",
    "# These are the only nonzero components\n",
    "ind1 = np.array(np.nonzero(np.real_if_close(sub_ket1))).T\n",
    "print(\"The indices of the nonzero components are \\n \", ind1)\n",
    "\n",
    "# And these are their coefficients\n",
    "print(\"The nonzero components have values \", [sub_ket1[tuple(ind)] for ind in ind1])"
   ]
  },
  {
   "cell_type": "markdown",
   "metadata": {
    "pycharm": {
     "name": "#%% md\n"
    }
   },
   "source": [
    "Thus up to normalization the postselected state is indeed $|\\phi^+ \\rangle$.\n",
    "\n",
    "\n"
   ]
  },
  {
   "cell_type": "markdown",
   "metadata": {
    "pycharm": {
     "name": "#%% md\n"
    }
   },
   "source": [
    "We can study all the successful postselections. To simplify tensor\n",
    "manipulation we will move the modes in which we measure to be the first\n",
    "4 modes of the tensor by using a transposition:\n",
    "\n",
    "\n"
   ]
  },
  {
   "cell_type": "code",
   "execution_count": 3,
   "metadata": {
    "pycharm": {
     "name": "#%%\n"
    }
   },
   "outputs": [],
   "source": [
    "# Transpose the ket\n",
    "ket_t = ket.transpose(2, 3, 4, 5, 0, 1, 6, 7)\n",
    "# Postselection patterns:\n",
    "patterns = [\n",
    "    [1, 1, 0, 0],\n",
    "    [1, 0, 1, 0],\n",
    "    [1, 0, 0, 1],\n",
    "    [0, 1, 1, 0],\n",
    "    [0, 1, 0, 1],\n",
    "    [0, 0, 1, 1],\n",
    "]"
   ]
  },
  {
   "cell_type": "markdown",
   "metadata": {
    "pycharm": {
     "name": "#%% md\n"
    }
   },
   "source": [
    "For each pattern we can construct the postselected ket, and find which\n",
    "components are nonzero. Note that for each postselection there are only\n",
    "two nonzero components, as expected for a Bell state.\n",
    "\n",
    "\n"
   ]
  },
  {
   "cell_type": "code",
   "execution_count": 4,
   "metadata": {
    "pycharm": {
     "name": "#%%\n"
    }
   },
   "outputs": [
    {
     "name": "stdout",
     "output_type": "stream",
     "text": [
      "The indices of the nonzero components for the six different postselections are \n",
      " [[[0 0 1 1]\n",
      "  [1 1 0 0]]\n",
      "\n",
      " [[0 1 0 1]\n",
      "  [1 0 1 0]]\n",
      "\n",
      " [[0 1 1 0]\n",
      "  [1 0 0 1]]\n",
      "\n",
      " [[0 1 1 0]\n",
      "  [1 0 0 1]]\n",
      "\n",
      " [[0 1 0 1]\n",
      "  [1 0 1 0]]\n",
      "\n",
      " [[0 0 1 1]\n",
      "  [1 1 0 0]]]\n",
      "The success probabilities for each pattern are the same \n",
      " [0.03125 0.03125 0.03125 0.03125 0.03125 0.03125]\n"
     ]
    }
   ],
   "source": [
    "sub_kets = [np.round(ket_t[tuple(ind)], 15) for ind in patterns]\n",
    "ps = np.array(list(map(np.linalg.norm, sub_kets))) ** 2\n",
    "indices = np.array([np.array(np.nonzero(sub_ket)).T for sub_ket in sub_kets])\n",
    "print(\n",
    "    \"The indices of the nonzero components for the six different postselections are \\n\",\n",
    "    indices,\n",
    ")\n",
    "\n",
    "# The successful postselection events occur with the same probability\n",
    "print(\"The success probabilities for each pattern are the same \\n\", ps)"
   ]
  },
  {
   "cell_type": "markdown",
   "metadata": {
    "pycharm": {
     "name": "#%% md\n"
    }
   },
   "source": [
    "## Conclusion\n",
    "\n",
    "We have examined how to map the evolution of photonic systems with path\n",
    "and polarization degrees of freedom into qumodes evolving under unitary\n",
    "operations. The main takeaway is that a system with $N$ paths and\n",
    "2 polarization degrees of freedom can be mapped into a system of\n",
    "$2N$ qumodes. We have also explored in detail how the typical\n",
    "optical elements used to couple path and polarization can be mapped to\n",
    "qumode simulations. Finally, we used these identifications to\n",
    "simulate the generation of event-ready (i.e. postselected) Bell states.\n",
    "\n",
    "\n"
   ]
  },
  {
   "cell_type": "markdown",
   "metadata": {
    "pycharm": {
     "name": "#%% md\n"
    }
   },
   "source": [
    "## References\n",
    "\n",
    ".. [#zhang]\n",
    "\n",
    "    Q. Zhang, X.-H. Bao, C.-Y. Lu, X.-Q. Zhou, T. Yang, T. Rudolph, and J.-W. Pan\n",
    "    Physical Review A 77, 062316, 2008. doi:10.1103/PhysRevA.77.062316 .\n",
    "\n"
   ]
  },
  {
   "cell_type": "markdown",
   "metadata": {
    "pycharm": {
     "name": "#%% md\n"
    }
   },
   "source": [
    "\n",
    "\n",
    "# Quantum teleportation\n",
    "\n",
    "To see how to construct and simulate a simple continuous-variable (CV) quantum circuit in Strawberry\n",
    "Fields, let's consider the case of **state teleportation**.\n",
    "\n",
    "## Background theory\n",
    "\n",
    "Quantum teleportation - sometimes referred to as state teleportation to avoid confusion\n",
    "with gate teleportation - is the reliable transfer of an unknown quantum state across\n",
    "spatially separated qubits or qumodes, through the use of a classical transmission channel\n",
    "and quantum entanglement [[2]_]. Considered a fundamental quantum information\n",
    "protocol, it has applications ranging from quantum communication to enabling distributed\n",
    "information processing in quantum computation [[3]_].\n",
    "\n",
    "In general, all quantum teleportation circuits work on the same basic principle. Two\n",
    "distant observers, Alice and Bob, share a maximally entangled quantum state (in discrete\n",
    "variables, any one of the four `Bell states <https://en.wikipedia.org/wiki/Bell_state>`_;\n",
    "or in CV, a maximally entangled state for a fixed energy), and have access to a classical\n",
    "communication channel. Alice, in possession of an unknown state which she wishes to\n",
    "transport to Bob, makes a joint measurement of the unknown state and her half of the\n",
    "entangled state, by projecting onto the Bell basis. By transmitting the results of her\n",
    "measurement to Bob, Bob is then able to transform his half of the entangled state to\n",
    "an accurate replica of the original unknown state, by performing a conditional phase\n",
    "flip (for qubits) or displacement (for qumodes) [[4]_].\n",
    "\n",
    "While originally designed for discrete-variable quantum computation with qubits, the\n",
    "(spatially separated) quantum teleportation algorithm described above can be easily\n",
    "translated to CV qumodes; the result is shown in the following circuit:\n",
    "\n",
    "![](Figures/teleport.png)\n",
    "\n",
    "This process can be explained as follows:\n",
    "\n",
    "1. Here, qumodes $q_1$ and $q_2$ are initially prepared as (the unphysical)\n",
    "   infinitely squeezed vacuum states in momentum and position space respectively,\n",
    "\n",
    "   $$\n",
    "       &\\ket{0}_x \\sim \\lim_{z\\rightarrow\\infty} S(z)\\ket{0}\\\\ &\\ket{0}_p \\sim\n",
    "       \\lim_{z\\rightarrow-\\infty} S(z)\\ket{0}=\\frac{1}{\\sqrt{\\pi}}\\int_{-\\infty}^\\infty \\ket{x}~dx\n",
    "   $$\n",
    "\n",
    "   before being maximally entangled by a 50-50 beamsplitter:\n",
    "\n",
    "   $ BS(\\pi/4,0)(\\ket{0}_p\\otimes\\ket{0}_x)$\n",
    "\n",
    "\n",
    "2. These two qumodes are now spatially separated, with $\\ket{q_1}$ held by\n",
    "   Alice, and $\\ket{q_2}$ held by Bob, with the two connected via the classical\n",
    "   communication channels $c_0$ and $c_1$.\n",
    "\n",
    "\n",
    "3. To teleport her unknown state $\\ket{\\psi}$ to Bob, Alice now performs a projective\n",
    "   measurement of her entire system onto the maximally entangled basis states. This is done\n",
    "   by entangling $\\ket{\\psi}$ and $\\ket{q_1}$ via another 50-50 beamsplitter,\n",
    "   before performing two homodyne measurements, in the $x$ and $p$ quadratures respectively.\n",
    "\n",
    "\n",
    "4. The results of these measurements are then transmitted to Bob, who performs both a\n",
    "   position displacement (conditional on the $x$ measurement) and a momentum\n",
    "   displacement (conditional on the $p$ measurement) to recover exactly the\n",
    "   transmitted state $\\ket{\\psi}$.\n",
    "\n",
    "\n",
    "## Importing Strawberry Fields\n",
    "\n",
    "The first thing we need to do is import Strawberry Fields; we do this with the following import\n",
    "statements:\n"
   ]
  },
  {
   "cell_type": "code",
   "execution_count": 5,
   "metadata": {
    "pycharm": {
     "name": "#%%\n"
    }
   },
   "outputs": [],
   "source": [
    "import strawberryfields as sf\n",
    "from strawberryfields.ops import *\n",
    "\n",
    "import numpy as np\n",
    "from numpy import pi, sqrt\n",
    "\n",
    "# set the random seed\n",
    "np.random.seed(42)"
   ]
  },
  {
   "cell_type": "markdown",
   "metadata": {
    "pycharm": {
     "name": "#%% md\n"
    }
   },
   "source": [
    "The first import statement imports Strawberry Fields as ``sf``, allowing us to access the engine\n",
    "and backends; the second import statement imports all available CV gates into the global\n",
    "namespace. Finally, we import $\\pi$ and the square root from ``NumPy`` so that we can pass angle\n",
    "parameters to gates such as beamsplitters, and perform some custom classical processing.\n",
    "\n",
    "## Program initialization\n",
    "\n",
    "We can now initialize our quantum program by instantiating a\n",
    "`~strawberryfields.Program`\n",
    "\n",
    "``sf.Program(num_subsystems, name=None)``\n",
    "\n",
    "where\n",
    "\n",
    "* ``num_subsystems`` (*int*) is the number of modes we want to initialize in our quantum register\n",
    "* ``name`` (*str*) is the name of the program (optional)\n",
    "\n",
    "> **Note:** By default, Strawberry Fields uses the convention $\\hbar=2$ for the commutation relation\n",
    "    $[\\x,\\p]=i\\hbar$.\n",
    "\n",
    "    Other conventions can also be chosen by setting the global variable\n",
    "    ``sf.hbar`` at the beginning of a session.\n",
    "\n",
    "    The value of $\\hbar$ chosen modifies the application of the\n",
    "    :class:`~strawberryfields.ops.Xgate` and :class:`~strawberryfields.ops.Zgate`, as well as the\n",
    "    measurements returned by Homodyne measurement :class:`~strawberryfields.ops.MeasureHomodyne`, so this must be\n",
    "    taken into account if the value of $\\hbar$ is modified. All other gates are\n",
    "    unaffected.\n",
    "\n",
    "    See `conventions` for more details.\n",
    "\n",
    "Therefore, to initialize a program on three quantum registers, we write:\n",
    "\n"
   ]
  },
  {
   "cell_type": "code",
   "execution_count": 6,
   "metadata": {
    "pycharm": {
     "name": "#%%\n"
    }
   },
   "outputs": [],
   "source": [
    "prog = sf.Program(3)"
   ]
  },
  {
   "cell_type": "markdown",
   "metadata": {
    "pycharm": {
     "name": "#%% md\n"
    }
   },
   "source": [
    "## Circuit construction\n",
    "\n",
    "To prepare states and apply gates to the quantum register ``q``, we must be inside the context of\n",
    "the program we initialized using the ``with`` statement. Everything within the program context is\n",
    "written using the `Blackbird quantum programming language <blackbird>`. For example, to\n",
    "construct the following state teleportation circuit\n",
    "\n",
    "![](Figures/teleport.png)\n",
    "\n",
    "to teleport the coherent state $\\ket{\\alpha}$ where $\\alpha=1+0.5i$:\n",
    "\n"
   ]
  },
  {
   "cell_type": "code",
   "execution_count": 7,
   "metadata": {
    "pycharm": {
     "name": "#%%\n"
    }
   },
   "outputs": [],
   "source": [
    "alpha = 1+0.5j\n",
    "r = np.abs(alpha)\n",
    "phi = np.angle(alpha)\n",
    "\n",
    "with prog.context as q:\n",
    "    # prepare initial states\n",
    "    Coherent(r, phi) | q[0]\n",
    "    Squeezed(-2) | q[1]\n",
    "    Squeezed(2) | q[2]\n",
    "\n",
    "    # apply gates\n",
    "    BS = BSgate(pi/4, pi)\n",
    "    BS | (q[1], q[2])\n",
    "    BS | (q[0], q[1])\n",
    "\n",
    "    # Perform homodyne measurements\n",
    "    MeasureX | q[0]\n",
    "    MeasureP | q[1]\n",
    "\n",
    "    # Displacement gates conditioned on\n",
    "    # the measurements\n",
    "    Xgate(sqrt(2) * q[0].par) | q[2]\n",
    "    Zgate(-sqrt(2) * q[1].par) | q[2]"
   ]
  },
  {
   "cell_type": "markdown",
   "metadata": {
    "pycharm": {
     "name": "#%% md\n"
    }
   },
   "source": [
    "A couple of things to note here:\n",
    "\n",
    "* **The quantum register returned from the** ``prog.context`` **context manager is a sequence**.\n",
    "  Individual modes can be accessed via standard Python indexing and slicing techniques.\n",
    "\n",
    "* **Preparing initial states, measurements, and gate operations all make use of the following\n",
    "  syntax:**\n",
    "\n",
    "  ``Operation([arg1, arg2, ...]) | reg``\n",
    "\n",
    "  where the number of arguments depends on the specific operation, and ``reg`` is either a\n",
    "  single mode or a sequence of modes, depending on how many modes the operation acts on. For a full\n",
    "  list of operations and gates available, see the `quantum gates <gates>` documentation.\n",
    "\n",
    "* **Every time a operation is applied it is added to the command queue**, ready to be simulated by\n",
    "  the backend.\n",
    "\n",
    "* **Operations must be applied in temporal order**. Different operation orderings can result in the\n",
    "  same quantum circuit, providing the operations do not apply sequentially to the same mode. For\n",
    "  example, we can permute the line containing ``MeasureX`` and ``MeasureP`` without changing the\n",
    "  result.\n",
    "\n",
    "* **Gates are standard Python objects, and can be treated as such**. In this case, since both\n",
    "  beamsplitters use the same parameters, a single instance is being instantiated and stored under\n",
    "  variable ``BS``.\n",
    "\n",
    "* **The results of measured modes are passed to gates simply by passing the measured mode as an\n",
    "  argument.** In order to perform additional classical processing to the measured mode ``q[i]``, and\n",
    "  use the result to control a subsequent quantum operation, we can use the ``q[i].par`` attribute\n",
    "  within the operation argument.\n",
    "\n",
    "<div class=\"alert alert-info\"><h4>Note</h4><p>By choosing a different phase for the 50-50 beamsplitter, that is, ``BSgate(pi/4,0)``, we can\n",
    "    avoid having to negate the :class:`~strawberryfields.ops.Zgate` correction at the end of the\n",
    "    circuit.</p></div>\n",
    "\n",
    "## Executing the program\n",
    "\n",
    "Once the program is constructed, we then must initialize an **engine**, which is responsible for\n",
    "executing the program on a specified **backend** (which can be either a local simulator, or a\n",
    "remote simulator/hardware device). Engines are initialized as follows:\n",
    "\n",
    "``sf.Engine(backend, backend_options={})``\n",
    "\n",
    "where\n",
    "\n",
    "* ``backend``: a string or :class:`~strawberryfields.backends.BaseBackend` object representing\n",
    "  the Strawberry Fields backend we wish to use; we have the choice of two Fock backends [[#]_], the\n",
    "  NumPy based (``'fock'``) and TensorFlow (``'tf'``), and one Gaussian backend [[#]_]\n",
    "  (``'gaussian'``).\n",
    "\n",
    "  This argument is *required* when creating the engine.\n",
    "\n",
    "* ``backend_options`` is a dictionary containing options specific to the chosen backend.\n",
    "\n",
    "Let's choose the Fock backend for this particular example. Since we are working in the Fock basis,\n",
    "we must also specify the Fock basis *cutoff dimension*; let's choose ``cutoff_dim=15``, such that\n",
    "a state $\\ket{\\psi}$ has approximation\n",
    "\n",
    "\\begin{align}\\ket{\\psi} = \\sum_{n=0}^\\infty c_n\\ket{n} \\approx \\sum_{n=0}^{\\texttt{cutoff_dim}-1}\n",
    "    c_n\\ket{n}\\end{align}\n",
    "\n",
    "in our truncated Fock basis. We now have all the parameters ready to initialize the engine:\n",
    "\n"
   ]
  },
  {
   "cell_type": "code",
   "execution_count": 8,
   "metadata": {
    "pycharm": {
     "name": "#%%\n"
    }
   },
   "outputs": [],
   "source": [
    "eng = sf.Engine('fock', backend_options={\"cutoff_dim\": 15})"
   ]
  },
  {
   "cell_type": "markdown",
   "metadata": {
    "pycharm": {
     "name": "#%% md\n"
    }
   },
   "source": [
    "<div class=\"alert alert-danger\"><h4>Warning</h4><p>To avoid significant numerical error when working with the Fock backend, we need to make sure\n",
    "    from now on that all initial states and gates we apply result in negligible amplitude in the\n",
    "    Fock basis for Fock states $\\ket{n}, ~~n\\geq \\texttt{cutoff_dim}$. For example, to\n",
    "    prepare a squeezed vacuum state in the $x$ quadrature with ``cutoff_dim=10``, a\n",
    "    squeezing factor of $r=1$ provides an acceptable approximation, since\n",
    "    $|\\braketD{n}{z}|^2<0.02$ for $n\\geq 10$.</p></div>\n",
    "\n",
    "We can now execute our quantum program ``prog`` on the engine via the\n",
    ":meth:`~strawberryfields.Engine.run` method:\n",
    "\n"
   ]
  },
  {
   "cell_type": "code",
   "execution_count": 9,
   "metadata": {
    "pycharm": {
     "name": "#%%\n"
    }
   },
   "outputs": [],
   "source": [
    "result = eng.run(prog, shots=1, modes=None, compile_options={})"
   ]
  },
  {
   "cell_type": "markdown",
   "metadata": {
    "pycharm": {
     "name": "#%% md\n"
    }
   },
   "source": [
    "The `eng.run <strawberryfields.Engine.run>` method accepts the arguments:\n",
    "* ``program``: The `~strawberryfields.Program` to execute.\n",
    "* ``shots``: A positive integer that specifies the number of times the program measurement\n",
    "  evaluation is to be repeated.\n",
    "* ``modes``: An optional list of integers that specifies which modes we wish the backend to\n",
    "  return for the quantum state. If the state is a mixed state represented by a density matrix,\n",
    "  then the backend will automatically perform a partial trace to return only the modes\n",
    "  specified. Note that this only affects the returned state object---all modes remain in the\n",
    "  backend circuit.\n",
    "* ``compile_options``: A dictionary of keyword arguments to be used for program compilation. To\n",
    "  ensure the ``~strawberryfields.Program`` will run on the specified backend, the engine will\n",
    "  perform **program compilation**, by calling the `~strawberryfields.Program.compile`\n",
    "  method.\n",
    "\n",
    ">**Note:**A ``shots`` value different than 1 is currently only supported for one specific case: the\n",
    "   `MeasureFock/Measure` operation executed on the Gaussian backend.\n",
    "\n",
    "Other useful engine methods that can be called at any time include:\n",
    "\n",
    "* `eng.print_applied() <strawberryfields.engine.BaseEngine.print_applied>`: Prints all\n",
    "  commands applied using :meth:`eng.run <strawberryfields.engine.LocalEngine.run>` since the last\n",
    "  backend reset/initialisation.\n",
    "\n",
    "  - This may differ from your original constructed program due to program compilation. As a\n",
    "    result, this shows all applied gate decompositions, which may differ depending on the backend.\n",
    "\n",
    "* `eng.reset() <strawberryfields.engine.BaseEngine.reset>`: Resets the backend circuit to\n",
    "  the vacuum state.\n",
    "\n",
    "## Results and visualization\n",
    "\n",
    "The returned `~strawberryfields.Result` object provides several useful properties for accessing the results\n",
    "of your program execution:\n",
    "* ``result.state``: The quantum state object contains details and methods for manipulation of the\n",
    "  final circuit state.\n",
    "\n",
    "  Note that only local simulators will return a state object. Remote simulators and hardware\n",
    "  backends will return `measurement samples <strawberryfields.Result.samples>`, but the\n",
    "  return value of ``state`` will be ``None``.\n",
    "\n",
    "  Depending on backend used, the state returned might be a\n",
    "  `~strawberryfields.backends.BaseFockState`, which represents the state using the\n",
    "  Fock/number basis, or might be a `~strawberryfields.backends.BaseGaussianState`, which\n",
    "  represents the state using Gaussian representation, as a vector of means and a covariance\n",
    "  matrix. Many methods are provided for state manipulation, see `introduction/states` for\n",
    "  more details.\n",
    "* ``result.samples``: Measurement samples from any measurements performed. Returned measurement\n",
    "  samples will have shape ``(shots, modes)``.\n",
    "\n",
    "Once the engine has been run, we can extract results of measurements and the quantum state from\n",
    "the circuit. Any measurements performed on a mode are stored attribute `result.samples\n",
    "<strawberryfields.Result.samples>`:\n",
    "\n"
   ]
  },
  {
   "cell_type": "code",
   "execution_count": 10,
   "metadata": {
    "pycharm": {
     "name": "#%%\n"
    }
   },
   "outputs": [
    {
     "name": "stdout",
     "output_type": "stream",
     "text": [
      "[[0.19890199 0.17330173]]\n"
     ]
    }
   ],
   "source": [
    "print(result.samples)"
   ]
  },
  {
   "cell_type": "markdown",
   "metadata": {
    "pycharm": {
     "name": "#%% md\n"
    }
   },
   "source": [
    "If a mode has not been measured, this attribute simply returns ``None``.\n",
    "\n",
    "In this particular example, we are using the Fock backend, and so the state that was returned by\n",
    "``result.state`` is in the Fock basis. To double check this, we can inspect it with the ``print``\n",
    "function:\n",
    "\n"
   ]
  },
  {
   "cell_type": "code",
   "execution_count": 11,
   "metadata": {
    "pycharm": {
     "name": "#%%\n"
    }
   },
   "outputs": [
    {
     "name": "stdout",
     "output_type": "stream",
     "text": [
      "<FockState: num_modes=3, cutoff=15, pure=False, hbar=2>\n"
     ]
    }
   ],
   "source": [
    "print(result.state)\n",
    "state = result.state"
   ]
  },
  {
   "cell_type": "markdown",
   "metadata": {
    "pycharm": {
     "name": "#%% md\n"
    }
   },
   "source": [
    "In addition to the parameters we have already configured when creating and running the engine, the\n",
    "line ``pure=False``, indicates that this is a mixed state represented as a density matrix, and not\n",
    "a state vector.\n",
    "\n",
    "To return the density matrix representing the Fock state, we can use the method `state.dm\n",
    "<strawberryfields.backends.BaseFockState.dm>` [[#]_]. In this case, the density matrix has dimension\n",
    "\n"
   ]
  },
  {
   "cell_type": "code",
   "execution_count": 12,
   "metadata": {
    "pycharm": {
     "name": "#%%\n"
    }
   },
   "outputs": [
    {
     "name": "stdout",
     "output_type": "stream",
     "text": [
      "(15, 15, 15, 15, 15, 15)\n"
     ]
    }
   ],
   "source": [
    "print(state.dm().shape)"
   ]
  },
  {
   "cell_type": "markdown",
   "metadata": {
    "pycharm": {
     "name": "#%% md\n"
    }
   },
   "source": [
    "Here, we use the convention that every pair of consecutive dimensions corresponds to a subsystem;\n",
    "i.e.,\n",
    "\n",
    "\\begin{align}\\rho_{\\underbrace{ij}_{q[0]}~\\underbrace{kl}_{q[1]}~\\underbrace{mn}_{q[2]}}\\end{align}\n",
    "\n",
    "Thus we can calculate the reduced density matrix for mode ``q[2]``, $\\rho_2$:\n",
    "\n"
   ]
  },
  {
   "cell_type": "code",
   "execution_count": 13,
   "metadata": {
    "pycharm": {
     "name": "#%%\n"
    }
   },
   "outputs": [
    {
     "name": "stdout",
     "output_type": "stream",
     "text": [
      "(15, 15)\n"
     ]
    }
   ],
   "source": [
    "rho2 = np.einsum('kkllij->ij', state.dm())\n",
    "print(rho2.shape)"
   ]
  },
  {
   "cell_type": "markdown",
   "metadata": {
    "pycharm": {
     "name": "#%% md\n"
    }
   },
   "source": [
    "<div class=\"alert alert-info\"><h4>Note</h4><p>The Fock state also provides the method\n",
    "    :meth:`~strawberryfields.backends.BaseFockState.reduced_dm` for extracting the reduced density\n",
    "    matrix automatically.</p></div>\n",
    "\n",
    "The diagonal values of the reduced density matrix contain the marginal Fock state probabilities\n",
    "$|\\braketD{i}{\\rho_2}|^2,~~ 0\\leq i\\leq 14$:\n",
    "\n"
   ]
  },
  {
   "cell_type": "code",
   "execution_count": 14,
   "metadata": {
    "pycharm": {
     "name": "#%%\n"
    }
   },
   "outputs": [
    {
     "name": "stdout",
     "output_type": "stream",
     "text": [
      "[3.10694907e-01 3.62467630e-01 2.11807608e-01 8.23802050e-02\n",
      " 2.43874177e-02 5.83556629e-03 1.26776314e-03 2.37656289e-04\n",
      " 8.43934922e-05 1.78787082e-06 1.52342119e-04 1.07036413e-05\n",
      " 3.36055927e-04 1.47426072e-05 1.92773805e-04]\n"
     ]
    }
   ],
   "source": [
    "probs = np.real_if_close(np.diagonal(rho2))\n",
    "print(probs)"
   ]
  },
  {
   "cell_type": "markdown",
   "metadata": {
    "pycharm": {
     "name": "#%% md\n"
    }
   },
   "source": [
    "We can then use a package such as matplotlib to plot the marginal Fock state probability\n",
    "distributions for the first 6 Fock states, for the teleported mode ``q[2]``:\n",
    "\n"
   ]
  },
  {
   "cell_type": "code",
   "execution_count": 15,
   "metadata": {
    "pycharm": {
     "name": "#%%\n"
    }
   },
   "outputs": [
    {
     "data": {
      "image/png": "[encoded data removed]",
      "text/plain": [
       "<Figure size 432x288 with 1 Axes>"
      ]
     },
     "metadata": {
      "needs_background": "light"
     },
     "output_type": "display_data"
    }
   ],
   "source": [
    "from matplotlib import pyplot as plt\n",
    "plt.bar(range(7), probs[:7])\n",
    "plt.xlabel('Fock state')\n",
    "plt.ylabel('Marginal probability')\n",
    "plt.title('Mode 2')\n",
    "plt.show()"
   ]
  },
  {
   "cell_type": "markdown",
   "metadata": {
    "pycharm": {
     "name": "#%% md\n"
    }
   },
   "source": [
    "Note that this information can also be extracted automatically via the Fock state method\n",
    "`~strawberryfields.backends.BaseFockState.all_fock_probs`:\n",
    "\n"
   ]
  },
  {
   "cell_type": "code",
   "execution_count": 16,
   "metadata": {
    "pycharm": {
     "name": "#%%\n"
    }
   },
   "outputs": [
    {
     "data": {
      "text/plain": [
       "array([3.10694907e-01, 3.62467630e-01, 2.11807608e-01, 8.23802050e-02,\n",
       "       2.43874177e-02, 5.83556629e-03, 1.26776314e-03, 2.37656289e-04,\n",
       "       8.43934922e-05, 1.78787082e-06, 1.52342119e-04, 1.07036413e-05,\n",
       "       3.36055927e-04, 1.47426072e-05, 1.92773805e-04])"
      ]
     },
     "execution_count": 16,
     "metadata": {},
     "output_type": "execute_result"
    }
   ],
   "source": [
    "fock_probs = state.all_fock_probs()\n",
    "fock_probs.shape\n",
    "np.sum(fock_probs, axis=(0,1))"
   ]
  },
  {
   "cell_type": "markdown",
   "metadata": {
    "pycharm": {
     "name": "#%% md\n"
    }
   },
   "source": [
    "## Full program\n",
    "\n",
    "The full Strawberry Fields program for teleportation is given by:\n",
    "\n",
    ".. code-block:: python\n",
    "\n",
    "    import strawberryfields as sf\n",
    "    from strawberryfields.ops import *\n",
    "\n",
    "    import numpy as np\n",
    "    from numpy import pi, sqrt\n",
    "\n",
    "    prog = sf.Program(3)\n",
    "\n",
    "    alpha = 1+0.5j\n",
    "    r = np.abs(alpha)\n",
    "    phi = np.angle(alpha)\n",
    "\n",
    "    with prog.context as q:\n",
    "        # prepare initial states\n",
    "        Coherent(r, phi) | q[0]\n",
    "        Squeezed(-2) | q[1]\n",
    "        Squeezed(2) | q[2]\n",
    "\n",
    "        # apply gates\n",
    "        BS = BSgate(pi/4, pi)\n",
    "        BS | (q[1], q[2])\n",
    "        BS | (q[0], q[1])\n",
    "\n",
    "        # Perform homodyne measurements\n",
    "        MeasureX | q[0]\n",
    "        MeasureP | q[1]\n",
    "\n",
    "        # Displacement gates conditioned on\n",
    "        # the measurements\n",
    "        Xgate(sqrt(2) * q[0].par) | q[2]\n",
    "        Zgate(sqrt(2) * q[1].par) | q[2]\n",
    "\n",
    "    eng = sf.Engine('fock', backend_options={'cutoff_dim': 15})\n",
    "    result = eng.run(prog, shots=1, modes=None, compile_options={})\n",
    "\n"
   ]
  },
  {
   "cell_type": "markdown",
   "metadata": {
    "pycharm": {
     "name": "#%% md\n"
    }
   },
   "source": [
    "## Footnotes\n",
    "\n",
    ".. [#] Fock backends are backends which represent the quantum state and operations via the Fock\n",
    "       basis. These can represent *all* possible CV states and operations, but also introduce\n",
    "       numerical error due to truncation of the Fock space, and consume more memory.\n",
    "\n",
    ".. [#] The Gaussian backend, due to its ability to represent states and operations as Gaussian\n",
    "       objects/transforms in the phase space, consumes less memory and is less computationally intensive\n",
    "       then the Fock backends. However, it cannot represent non-Gaussian operations and states (such as\n",
    "       the cubic phase gate, and Fock states, amongst others). The only exception is Fock measurements.\n",
    "       The Gaussian backend can simulate these, but it does not update the post-measurement quantum\n",
    "       state, which would be non-Gaussian.\n",
    "\n",
    ".. [#] If using the Gaussian backend, state methods and attributes available for extracting the\n",
    "       state information include:\n",
    "\n",
    "       * :meth:`~strawberryfields.backends.BaseGaussianState.means` and\n",
    "         :meth:`~strawberryfields.backends.BaseGaussianState.cov` for returning the vector of\n",
    "         means and the covariance matrix of the specified modes\n",
    "       * :meth:`~strawberryfields.backends.BaseState.fock_prob` for returning the probability that\n",
    "         the photon counting pattern specified by ``n`` occurs\n",
    "       * :meth:`~strawberryfields.backends.BaseState.reduced_dm` for returning the reduced density\n",
    "         matrix in the fock basis of mode ``n``\n",
    "\n",
    "## References\n",
    "\n",
    ".. [1] Dagmar Bruß. Characterizing entanglement. Journal of Mathematical Physics,\n",
    "       43(9):4237-4251, Sep 2002. URL: https://doi.org/10.1063/1.1494474, doi:10.1063/1.1494474.\n",
    "\n",
    ".. [2] Charles H. Bennett, Gilles Brassard, Claude Crépeau, Richard Jozsa, Asher Peres, and\n",
    "       William K. Wootters. Teleporting an unknown quantum state via dual classical and\n",
    "       Einstein-Podolsky-Rosen channels. Physical Review Letters, 70:1895-1899, Mar 1993.\n",
    "       doi:10.1103/PhysRevLett.70.1895.\n",
    "\n",
    ".. [3] A. Furusawa and P. van Loock. Quantum Teleportation and Entanglement:\n",
    "       A Hybrid Approach to Optical Quantum Information Processing. Wiley, 2011.\n",
    "       ISBN 9783527635290. URL: https://books.google.ca/books?id=eKxHZ0UHEU4C.\n",
    "\n",
    ".. [4] W.H. Steeb and Y. Hardy. Problems and Solutions in Quantum Computing and\n",
    "       Quantum Information. World Scientific, 2006. ISBN 9789812567406.\n",
    "       URL: https://books.google.ca/books?id=HGMy\\_dSmfbkC.\n",
    "\n"
   ]
  },
  {
   "cell_type": "markdown",
   "metadata": {
    "pycharm": {
     "name": "#%% md\n"
    }
   },
   "source": [
    "# CV quantum gate visualizations\n"
   ]
  },
  {
   "cell_type": "markdown",
   "metadata": {
    "pycharm": {
     "name": "#%% md\n"
    }
   },
   "source": [
    "*Author: Brianna Gopaul*"
   ]
  },
  {
   "cell_type": "markdown",
   "metadata": {
    "pycharm": {
     "name": "#%% md\n"
    }
   },
   "source": [
    "In a conventional quantum circuit, qubits represented by wires are\n",
    "operated on by quantum gates which collectively perform computations.\n",
    "Similarily, continuous variable quantum computing uses qumodes that\n",
    "represent bundles of interacting photons. To perform computations on\n",
    "qumodes, we leverage Gaussian and non-Gaussian gates.\n",
    "\n",
    "Gaussian and non-Gaussian gates can be described within the phase space.\n",
    "This space is shown by the position and momentum axes.\n",
    "\n",
    "Gaussian gates such as the squeezing and rotation gate act linearly on\n",
    "modes. These gates can only reach positive quasi-probability\n",
    "distributions and can be classically simulated. On the other hand,\n",
    "non-Gaussian gates such as the Kerr gate and Cubic Phase gate act\n",
    "nonlinearly. This property allows them to be in negative\n",
    "quasi-probability distributions and not be classically simulated.\n",
    "\n",
    "**In this notebook, we’ll learn about various single mode Gaussian and\n",
    "non-Gaussian gates and apply them to a state using Strawberry Fields.**\n",
    "\n",
    "\n"
   ]
  },
  {
   "cell_type": "code",
   "execution_count": 17,
   "metadata": {
    "pycharm": {
     "name": "#%%\n"
    }
   },
   "outputs": [],
   "source": [
    "import strawberryfields as sf\n",
    "from strawberryfields.ops import *\n",
    "\n",
    "import numpy as np\n",
    "import matplotlib.pyplot as plt\n",
    "from mpl_toolkits.mplot3d import Axes3D"
   ]
  },
  {
   "cell_type": "markdown",
   "metadata": {
    "pycharm": {
     "name": "#%% md\n"
    }
   },
   "source": [
    "## Vacuum State\n",
    "\n",
    "\n"
   ]
  },
  {
   "cell_type": "markdown",
   "metadata": {
    "pycharm": {
     "name": "#%% md\n"
    }
   },
   "source": [
    "The vacuum state is the lowest energy Gaussian state. It has no\n",
    "displacement or squeezing in phase space.\n",
    "\n",
    "\n"
   ]
  },
  {
   "cell_type": "markdown",
   "metadata": {
    "pycharm": {
     "name": "#%% md\n"
    }
   },
   "source": [
    "Here we learn how to create the vacuum state on a quantum circuit with\n",
    "one qumode.\n",
    "\n",
    "\n"
   ]
  },
  {
   "cell_type": "markdown",
   "metadata": {
    "pycharm": {
     "name": "#%% md\n"
    }
   },
   "source": [
    "We initialize the Strawberry Fields program. ``q`` represents a qumode\n",
    "and below we start with one qumode for our circuit.\n",
    "\n",
    "\n"
   ]
  },
  {
   "cell_type": "code",
   "execution_count": 18,
   "metadata": {
    "pycharm": {
     "name": "#%%\n"
    }
   },
   "outputs": [],
   "source": [
    "prog = sf.Program(1)"
   ]
  },
  {
   "cell_type": "markdown",
   "metadata": {
    "pycharm": {
     "name": "#%% md\n"
    }
   },
   "source": [
    "We declare our quantum circuit using the engine. We can prepare the\n",
    "Vacuum state on one qumode using ``|``.\n",
    "\n",
    "\n"
   ]
  },
  {
   "cell_type": "code",
   "execution_count": 19,
   "metadata": {
    "pycharm": {
     "name": "#%%\n"
    }
   },
   "outputs": [],
   "source": [
    "with prog.context as q:\n",
    "    Vac | q[0]\n",
    "\n",
    "eng = sf.Engine('gaussian')\n",
    "state = eng.run(prog).state"
   ]
  },
  {
   "cell_type": "markdown",
   "metadata": {
    "pycharm": {
     "name": "#%% md\n"
    }
   },
   "source": [
    "It should be noted that the default state in strawberry fields is the\n",
    "vacuum state. The above gate is listed to show the operation.\n",
    "\n",
    "\n"
   ]
  },
  {
   "cell_type": "markdown",
   "metadata": {
    "pycharm": {
     "name": "#%% md\n"
    }
   },
   "source": [
    "In Strawberry Fields, there are three main backends that can be used to\n",
    "perform computations. The backend selected will depend on the task you\n",
    "want to perform. Above, we’ve used the Gaussian backend to run our\n",
    "vacuum state circuit. We can also alternatively use the Fock backend to\n",
    "run the circuit. The third backend is the tensorflow backend ‘tf’. It\n",
    "leverages tensorflow to create quantum machine learning models.\n",
    "\n",
    "\n"
   ]
  },
  {
   "cell_type": "markdown",
   "metadata": {
    "pycharm": {
     "name": "#%% md\n"
    }
   },
   "source": [
    "Using matplotlib, we then plot the Wigner function of the vacuum state,\n",
    "which is a Gaussian distribution. The Wigner function quasi-probability\n",
    "illustrates negative and positive regions in phase space. We’ll notice\n",
    "below that Gaussian states such as the vacuum and squeezed state are in\n",
    "positive regions of phase space while non-Gaussian states can reach\n",
    "negative regions of the phase space. The y-axis on this plot can\n",
    "describe the $\\hat {p}$ quadrature or momentum operator and the\n",
    "x-axis describes the $\\hat{x}$ quadrature or position operator of\n",
    "the state.\n",
    "\n",
    "\n"
   ]
  },
  {
   "cell_type": "code",
   "execution_count": 20,
   "metadata": {
    "pycharm": {
     "name": "#%%\n"
    }
   },
   "outputs": [
    {
     "data": {
      "image/png": "[encoded data removed]",
      "text/plain": [
       "<Figure size 345.6x360 with 1 Axes>"
      ]
     },
     "metadata": {
      "needs_background": "light"
     },
     "output_type": "display_data"
    }
   ],
   "source": [
    "fig = plt.figure()\n",
    "X = np.linspace(-5, 5, 100)\n",
    "P = np.linspace(-5, 5, 100)\n",
    "Z = state.wigner(0, X, P)\n",
    "X, P = np.meshgrid(X, P)\n",
    "ax = fig.add_subplot(111, projection=\"3d\")\n",
    "ax.plot_surface(X, P, Z, cmap=\"RdYlGn\", lw=0.5, rstride=1, cstride=1)\n",
    "fig.set_size_inches(4.8, 5)\n",
    "ax.set_axis_off()"
   ]
  },
  {
   "cell_type": "markdown",
   "metadata": {
    "pycharm": {
     "name": "#%% md\n"
    }
   },
   "source": [
    "We can make a couple of observations from the Gaussian distribution\n",
    "above. We notice that it has positive quasi-probability everywhere.\n",
    "Later on, we’ll have a look at non-Gaussian gates that have regions of\n",
    "negative quasi-probability. The vacuum state is also centered at 0 on\n",
    "both the position axis $\\hat {x}$ and momentum axis\n",
    "$\\hat {p}$.\n",
    "\n",
    "\n"
   ]
  },
  {
   "cell_type": "markdown",
   "metadata": {
    "pycharm": {
     "name": "#%% md\n"
    }
   },
   "source": [
    "## Squeezing Gate\n",
    "\n",
    "\n"
   ]
  },
  {
   "cell_type": "markdown",
   "metadata": {
    "pycharm": {
     "name": "#%% md\n"
    }
   },
   "source": [
    "The squeezing gate can also be thought of as a transformation on the\n",
    "position and momentum axes. The squeezing gate scales $x$ to\n",
    "$e^{ - r}\\hat{x} _\\phi$ and scales $p$ with\n",
    "$e^{r}\\hat{p} _\\phi$. In the Wigner function, we can see the\n",
    "probability distribution being lengthened on the momentum axis and being\n",
    "pinched on the position axis. As the squeezing gate is a Gaussian gate,\n",
    "there are no regions of negative quasi-probabilty.\n",
    "\n",
    "\n"
   ]
  },
  {
   "cell_type": "code",
   "execution_count": 21,
   "metadata": {
    "pycharm": {
     "name": "#%%\n"
    }
   },
   "outputs": [
    {
     "data": {
      "image/png": "[encoded data removed]",
      "text/plain": [
       "<Figure size 345.6x360 with 1 Axes>"
      ]
     },
     "metadata": {
      "needs_background": "light"
     },
     "output_type": "display_data"
    }
   ],
   "source": [
    "prog = sf.Program(1)\n",
    "with prog.context as q:\n",
    "    S = Sgate(1)\n",
    "    S | q[0]\n",
    "\n",
    "\n",
    "state = eng.run(prog).state\n",
    "fig = plt.figure()\n",
    "X = np.linspace(-5, 5, 100)\n",
    "P = np.linspace(-5, 5, 100)\n",
    "Z = state.wigner(0, X, P)\n",
    "X, P = np.meshgrid(X, P)\n",
    "ax = fig.add_subplot(111, projection=\"3d\")\n",
    "fig.set_size_inches(4.8, 5)\n",
    "ax.plot_surface(X, P, Z, cmap=\"RdYlGn\", lw=0.5, rstride=1, cstride=1)\n",
    "ax.set_axis_off()"
   ]
  },
  {
   "cell_type": "markdown",
   "metadata": {
    "pycharm": {
     "name": "#%% md\n"
    }
   },
   "source": [
    "The below animation shows the squeezing gate acting on the vacuum state\n",
    "with increasing strengths of parameters. |squeezing|\n",
    "\n",
    ".. |squeezing| image:: /tutorials/images/squeezinggif.gif\n",
    "\n",
    "\n",
    "\n"
   ]
  },
  {
   "cell_type": "markdown",
   "metadata": {
    "pycharm": {
     "name": "#%% md\n"
    }
   },
   "source": [
    "## Rotation Gate\n",
    "\n",
    "\n"
   ]
  },
  {
   "cell_type": "markdown",
   "metadata": {
    "pycharm": {
     "name": "#%% md\n"
    }
   },
   "source": [
    "The rotation gate shifts the $\\hat{x}$ quadrature to\n",
    "$\\hat{x}$ $\\cos \\phi$ - $\\hat{p}\\sin$ $\\phi$ and\n",
    "$\\hat{p}$ to $\\hat{p}$ $\\cos \\phi$ +\n",
    "$\\hat{x}\\sin$ $\\phi$. In other words, the gate simply\n",
    "rotates the phase space.\n",
    "\n",
    "\n"
   ]
  },
  {
   "cell_type": "code",
   "execution_count": 22,
   "metadata": {
    "pycharm": {
     "name": "#%%\n"
    }
   },
   "outputs": [
    {
     "data": {
      "image/png": "[encoded data removed]",
      "text/plain": [
       "<Figure size 345.6x360 with 1 Axes>"
      ]
     },
     "metadata": {
      "needs_background": "light"
     },
     "output_type": "display_data"
    }
   ],
   "source": [
    "prog = sf.Program(1)\n",
    "with prog.context as q:\n",
    "    Dgate(1) | q[0]\n",
    "    Rgate(np.pi/2) | q[0]\n",
    "\n",
    "eng.reset()\n",
    "state = eng.run(prog).state\n",
    "fig = plt.figure()\n",
    "X = np.linspace(-5, 5, 100)\n",
    "P = np.linspace(-5, 5, 100)\n",
    "Z = state.wigner(0, X, P)\n",
    "X, P = np.meshgrid(X, P)\n",
    "ax = fig.add_subplot(111, projection=\"3d\")\n",
    "ax.plot_surface(X, P, Z, cmap=\"RdYlGn\", lw=0.5, rstride=1, cstride=1)\n",
    "fig.set_size_inches(4.8, 5)\n",
    "ax.set_axis_off()"
   ]
  },
  {
   "cell_type": "markdown",
   "metadata": {
    "pycharm": {
     "name": "#%% md\n"
    }
   },
   "source": [
    "Above we apply the rotation gate to a coherent state. When compared to\n",
    "the squeezed state in the previous example, the rotation gate simply\n",
    "makes a rotation.\n",
    "\n",
    "\n"
   ]
  },
  {
   "cell_type": "markdown",
   "metadata": {
    "pycharm": {
     "name": "#%% md\n"
    }
   },
   "source": [
    "Similarily, the rotation gate is applied with an increasing parameter in\n",
    "the below animation. |rotation|\n",
    "\n",
    ".. |rotation| image:: /tutorials/images/rotation.gif\n",
    "\n",
    "\n",
    "\n"
   ]
  },
  {
   "cell_type": "markdown",
   "metadata": {
    "pycharm": {
     "name": "#%% md\n"
    }
   },
   "source": [
    "## Displacement Gate\n",
    "\n",
    "\n"
   ]
  },
  {
   "cell_type": "markdown",
   "metadata": {
    "pycharm": {
     "name": "#%% md\n"
    }
   },
   "source": [
    "The displacement gate has a specified complex value $\\alpha$. It\n",
    "shifts $\\hat{x}$ by a value porportional to $Re(\\alpha)$ and\n",
    "the $\\hat {p}$ by a value $Im({\\alpha})$.\n",
    "\n",
    "\n"
   ]
  },
  {
   "cell_type": "code",
   "execution_count": 23,
   "metadata": {
    "pycharm": {
     "name": "#%%\n"
    }
   },
   "outputs": [
    {
     "data": {
      "image/png": "[encoded data removed]",
      "text/plain": [
       "<Figure size 345.6x360 with 1 Axes>"
      ]
     },
     "metadata": {
      "needs_background": "light"
     },
     "output_type": "display_data"
    }
   ],
   "source": [
    "prog = sf.Program(1)\n",
    "with prog.context as q:\n",
    "    Dgate(0.55) | q[0]\n",
    "\n",
    "eng.reset()\n",
    "state = eng.run(prog).state\n",
    "fig = plt.figure()\n",
    "X = np.linspace(-5, 5, 100)\n",
    "P = np.linspace(-5, 5, 100)\n",
    "Z = state.wigner(0, X, P)\n",
    "X, P = np.meshgrid(X, P)\n",
    "ax = fig.add_subplot(111, projection=\"3d\")\n",
    "ax.plot_surface(X, P, Z, cmap=\"RdYlGn\", lw=0.5, rstride=1, cstride=1)\n",
    "fig.set_size_inches(4.8, 5)\n",
    "ax.set_axis_off()"
   ]
  },
  {
   "cell_type": "markdown",
   "metadata": {
    "pycharm": {
     "name": "#%% md\n"
    }
   },
   "source": [
    "As $\\alpha$ increases in value, the state is displaced more to the\n",
    "right. |disp|\n",
    "\n",
    ".. |disp| image:: /tutorials/images/displacementgif.gif\n",
    "\n",
    "\n",
    "\n"
   ]
  },
  {
   "cell_type": "markdown",
   "metadata": {
    "pycharm": {
     "name": "#%% md\n"
    }
   },
   "source": [
    "## Cubic Phase Gate\n",
    "\n",
    "\n"
   ]
  },
  {
   "cell_type": "markdown",
   "metadata": {
    "pycharm": {
     "name": "#%% md\n"
    }
   },
   "source": [
    "The cubic phase gate shifts $\\hat{p}$ by $\\gamma\\hat{x}^2$\n",
    "where $\\gamma$ is a definable parameter but does not transform\n",
    "$\\hat{x}$ in the phase space. Below, we decide to set\n",
    "$\\gamma=2$.\n",
    "\n",
    "\n"
   ]
  },
  {
   "cell_type": "markdown",
   "metadata": {
    "pycharm": {
     "name": "#%% md\n"
    }
   },
   "source": [
    "When running a circuit that contains any non-Gaussian gates, we use the\n",
    "Fock backend. Depending on the backend used, different arguments will\n",
    "have to be called. In this example, we define ‘cutoff_dim’ which tells\n",
    "Strawberry Fields where to limit the Fock space.\n",
    "\n",
    "\n"
   ]
  },
  {
   "cell_type": "code",
   "execution_count": 24,
   "metadata": {
    "pycharm": {
     "name": "#%%\n"
    }
   },
   "outputs": [
    {
     "data": {
      "image/png": "[encoded data removed]",
      "text/plain": [
       "<Figure size 345.6x360 with 1 Axes>"
      ]
     },
     "metadata": {
      "needs_background": "light"
     },
     "output_type": "display_data"
    }
   ],
   "source": [
    "prog = sf.Program(1)\n",
    "with prog.context as q:\n",
    "    gamma = 2\n",
    "    Vgate(gamma) | q[0]\n",
    "\n",
    "#We use the fock backend and define the argument cutoff_dim\n",
    "eng = sf.Engine('fock', backend_options={\"cutoff_dim\": 10})\n",
    "state = eng.run(prog).state\n",
    "\n",
    "fig = plt.figure()\n",
    "X = np.linspace(-5, 5, 100)\n",
    "P = np.linspace(-5, 5, 100)\n",
    "Z = state.wigner(0, X, P)\n",
    "X, P = np.meshgrid(X, P)\n",
    "ax = fig.add_subplot(111, projection=\"3d\")\n",
    "ax.plot_surface(X, P, Z, cmap=\"RdYlGn\", lw=0.5, rstride=1, cstride=1)\n",
    "fig.set_size_inches(4.8, 5)\n",
    "ax.set_axis_off()"
   ]
  },
  {
   "cell_type": "markdown",
   "metadata": {
    "pycharm": {
     "name": "#%% md\n"
    }
   },
   "source": [
    "Here we can see that the vacuum state has been shifted to a state where\n",
    "it reaches negative quasi-probability distributions. |cubic|\n",
    "\n",
    ".. |cubic| image:: /tutorials/images/cubicphasegif.gif\n",
    "\n",
    "\n",
    "\n"
   ]
  },
  {
   "cell_type": "markdown",
   "metadata": {
    "pycharm": {
     "name": "#%% md\n"
    }
   },
   "source": [
    "## Kerr Gate\n",
    "\n",
    "\n"
   ]
  },
  {
   "cell_type": "markdown",
   "metadata": {
    "pycharm": {
     "name": "#%% md\n"
    }
   },
   "source": [
    "Before we understand how the Kerr gate operates, we should first take\n",
    "another look at the rotation gate. In the Fock basis, the rotation gate\n",
    "acts with $e^{ i\\phi \\hat{n}}$. In comparison, the Kerr gates\n",
    "transforms with $e^{ i\\phi k \\hat{n}^2}$. The $^2$ value is\n",
    "what makes this state non-Gaussian and thus transforms the shape of the\n",
    "state significantly.\n",
    "\n",
    "\n"
   ]
  },
  {
   "cell_type": "code",
   "execution_count": 25,
   "metadata": {
    "pycharm": {
     "name": "#%%\n"
    }
   },
   "outputs": [
    {
     "data": {
      "image/png": "[encoded data removed]",
      "text/plain": [
       "<Figure size 345.6x360 with 1 Axes>"
      ]
     },
     "metadata": {
      "needs_background": "light"
     },
     "output_type": "display_data"
    }
   ],
   "source": [
    "prog = sf.Program(1)\n",
    "with prog.context as q:\n",
    "    kappa = 1\n",
    "    Dgate(1) | q[0]\n",
    "    Kgate(kappa) | q[0]\n",
    "\n",
    "eng.reset()\n",
    "state = eng.run(prog).state\n",
    "\n",
    "fig = plt.figure()\n",
    "X = np.linspace(-5, 5, 100)\n",
    "P = np.linspace(-5, 5, 100)\n",
    "Z = state.wigner(0, X, P)\n",
    "X, P = np.meshgrid(X, P)\n",
    "ax = fig.add_subplot(111, projection=\"3d\")\n",
    "ax.plot_surface(X, P, Z, cmap=\"RdYlGn\", lw=0.5, rstride=1, cstride=1)\n",
    "fig.set_size_inches(4.8, 5)\n",
    "ax.set_axis_off()"
   ]
  },
  {
   "cell_type": "markdown",
   "metadata": {
    "pycharm": {
     "name": "#%% md\n"
    }
   },
   "source": [
    "In the below Wigner function, the state is initially in a coherent\n",
    "state. |kerr|\n",
    "\n",
    "We can see it’s coherent structure morphing after the Kerr gate is\n",
    "applied at different strengths.\n",
    "\n",
    ".. |kerr| image:: /tutorials/images/kerrgif.gif\n",
    "\n",
    "\n",
    "\n"
   ]
  },
  {
   "cell_type": "markdown",
   "metadata": {
    "pycharm": {
     "name": "#%% md\n"
    }
   },
   "source": [
    "For more information about CV gates, see `the CV gates\n",
    "section <https://strawberryfields.ai/photonics/conventions/gates.html>`__\n",
    "in the Strawberry Fields documentation.\n",
    "\n",
    "\n"
   ]
  },
  {
   "cell_type": "code",
   "execution_count": 26,
   "metadata": {
    "pycharm": {
     "name": "#%%\n"
    }
   },
   "outputs": [],
   "source": [
    "# This cell is added by sphinx-gallery\n",
    "# It can be customized to whatever you like\n",
    "%matplotlib inline"
   ]
  },
  {
   "cell_type": "markdown",
   "metadata": {
    "pycharm": {
     "name": "#%% md\n"
    }
   },
   "source": [
    "\n",
    ".. role:: html(raw)\n",
    "    :format: html\n",
    "\n",
    "\n",
    "# Gate teleportation\n",
    "\n",
    "In the quantum state teleportation algorithm, the quantum state is transferred from the sender\n",
    "to the receiver exactly. However, quantum teleportation can be used in a much more powerful\n",
    "manner, by simultaneously processing and manipulating the teleported state; this is known as\n",
    "**gate teleportation**.\n",
    "\n",
    "But the biggest departure from its namesake is the method in which the gate to be 'teleported'\n",
    "is applied; rather than applying a quantum unitary directly to the first qumode in the system,\n",
    "the unitary is applied via the projective measurement of the first qumode onto a particular basis.\n",
    "This measurement-based approach provides significant advantages over applying unitary gates\n",
    "directly, for example by reducing resources, and in the application of experimentally\n",
    "hard-to-implement gates [[1]_]. In fact, gate teleportation forms a universal\n",
    "quantum computing primitive, and is a precursor to cluster state models of quantum computation\n",
    "[[2]_][[3]_].\n",
    "\n",
    "\n",
    "## Implementation\n",
    "\n",
    "First described by Gottesman and Chuang [[2]_] in the case of qubits, gate\n",
    "teleportation was generalized for the CV case by Bartlett and Munro in 2003 [[4]_].\n",
    "In an analogous process to the discrete-variable case, you begin with the algorithm for\n",
    "**local state teleportation**:\n",
    "\n",
    "![](Figures/gate_teleport1.png)\n",
    "\n",
    "Note that:\n",
    "\n",
    "* Unlike the spatially-separated quantum state teleportation we considered in the previous section,\n",
    "  **local teleportation** can transport the state using only two qumodes; the state we are\n",
    "  teleporting is entangled directly with the squeezed vacuum state in the momentum space through\n",
    "  the use of a controlled-phase gate.\n",
    "\n",
    "\n",
    "* The state is then teleported to qumode $q_1$ via a homodyne measurement in the computational\n",
    "  basis (the position quadrature).\n",
    "\n",
    "\n",
    "* Like in the previous section, to recover the teleported state exactly, we must perform Weyl-Heisenberg\n",
    "  corrections to $q_1$; here, that would be $F^\\dagger X(m)^\\dagger$. However, for convenience and\n",
    "  simplicity, we write the circuit without the corrections applied explicitly.\n",
    "\n",
    "Rather than simply teleporting the state as-is, we can introduce an arbitrary unitary $U$ that\n",
    "acts upon $\\ket{\\psi}$, as follows:\n",
    "\n",
    "![](Figures/gate_teleport2.png)\n",
    "\n",
    "Now, the action of the unitary $U$ is similarly teleported along with the initial state\n",
    "--- this is a trivial extension of the local teleportation circuit. In order to view this in\n",
    "as a measurement-based universal quantum computing primitive, we make a couple of important changes:\n",
    "\n",
    "* The inverse Fourier gate is absorbed into the measurement, making it a homodyne detector in\n",
    "  the momentum quadrature\n",
    "\n",
    "* The unitary gate $U$, if diagonal in the computational basis (i.e., it is of the form\n",
    "  $U=e^{i f(\\hat{x}^i)}$), commutes with the controlled-phase gate\n",
    "  ($CZ(s)=e^{i s ~\\hat{x_1}\\otimes\\hat{x_2}/\\hbar}$), and can be moved to the right of it.\n",
    "  It is then also absorbed into the projective measurement.\n",
    "\n",
    "![](Figures/gate_teleport3.png)\n",
    "\n",
    "Additional gates can now be added simply by introducing additional qumodes with the appropriate\n",
    "projective measurements, all 'stacked vertically' (i.e., coupled to the each consecutive qumode\n",
    "via a controlled-phase gate). From this primitive, the model of cluster state quantum computation\n",
    "can be derived [[3]_].\n",
    "\n",
    "> **Note** What happens if the unitary is *not* diagonal in the computational basis? In this case,\n",
    "    **feedforward** is required; additional qumodes and projective measurements are introduced,\n",
    "    with successive measurements dependent on the previous result [[5]_].\n",
    "\n",
    "\n",
    "## Code\n",
    "\n",
    "Consider the following gate teleportation circuit,\n",
    "\n",
    "![](Figures/gate_teleport_ex.png)\n",
    "\n",
    "Here, the state $\\ket{\\psi}$, a squeezed state with $r=0.1$, is teleported to the\n",
    "final qumode, with the quadratic phase gate (:class:`~strawberryfields.ops.Pgate`)\n",
    "$P(s)=e^{is\\hat{x}^2/2\\hbar}$ teleported to act on it - with the quadratic phase gate\n",
    "chosen as it is diagonal in the $\\x$ quadrature. This can be easily implemented\n",
    "using Strawberry Fields:\n"
   ]
  },
  {
   "cell_type": "code",
   "execution_count": 27,
   "metadata": {
    "pycharm": {
     "name": "#%%\n"
    }
   },
   "outputs": [],
   "source": [
    "import numpy as np\n",
    "\n",
    "# set the random seed\n",
    "np.random.seed(42)\n",
    "\n",
    "import strawberryfields as sf\n",
    "from strawberryfields.ops import *\n",
    "\n",
    "gate_teleportation = sf.Program(3)\n",
    "\n",
    "with gate_teleportation.context as q:\n",
    "    # create initial states\n",
    "    Squeezed(0.1) | q[0]\n",
    "    Squeezed(-2)  | q[1]\n",
    "    Squeezed(-2)  | q[2]\n",
    "\n",
    "    # apply the gate to be teleported\n",
    "    Pgate(0.5) | q[1]\n",
    "\n",
    "    # conditional phase entanglement\n",
    "    CZgate(1) | (q[0], q[1])\n",
    "    CZgate(1) | (q[1], q[2])\n",
    "\n",
    "    # projective measurement onto\n",
    "    # the position quadrature\n",
    "    Fourier.H | q[0]\n",
    "    MeasureX  | q[0]\n",
    "    Fourier.H | q[1]\n",
    "    MeasureX  | q[1]"
   ]
  },
  {
   "cell_type": "markdown",
   "metadata": {
    "pycharm": {
     "name": "#%% md\n"
    }
   },
   "source": [
    "Some important notes:\n",
    "\n",
    "* As with the :doc:`state teleportation circuit <run_teleportation>`, perfectly squeezed vacuum states\n",
    "  are not physically realizable; preparing the states with a squeezing factor of $|r|=2$\n",
    "  ($\\sim 18\\text{dB}$) is a reasonable approximation.\n",
    "* The Blackbird notation ``Operator.H`` denotes the Hermitian conjugate of the corresponding\n",
    "  operator.\n",
    "* Here, we do not make the corrections to the final state; this is left as an exercise to the reader.\n",
    "  For additional details, see the gate teleportation commutation relations derived by van Loock\n",
    "  [[5]_].\n",
    "\n",
    "Since all operations in the above gate teleportation circuit are Gaussian, we can use the\n",
    "``\"gaussian\"`` backend:\n",
    "\n"
   ]
  },
  {
   "cell_type": "code",
   "execution_count": 28,
   "metadata": {
    "pycharm": {
     "name": "#%%\n"
    }
   },
   "outputs": [],
   "source": [
    "eng = sf.Engine(backend=\"gaussian\")"
   ]
  },
  {
   "cell_type": "markdown",
   "metadata": {
    "pycharm": {
     "name": "#%% md\n"
    }
   },
   "source": [
    "Running the engine, and printing out the reduced state of modes 2\n",
    "and 3:\n",
    "\n"
   ]
  },
  {
   "cell_type": "code",
   "execution_count": 29,
   "metadata": {
    "pycharm": {
     "name": "#%%\n"
    }
   },
   "outputs": [
    {
     "name": "stdout",
     "output_type": "stream",
     "text": [
      "Covariance matrix:\n",
      " [[ 1.11257261 -0.5851662 ]\n",
      " [-0.5851662   1.20659044]]\n"
     ]
    }
   ],
   "source": [
    "results = eng.run(gate_teleportation)\n",
    "_, cov = results.state.reduced_gaussian([2])\n",
    "print(\"Covariance matrix:\\n\", cov)"
   ]
  },
  {
   "cell_type": "markdown",
   "metadata": {
    "pycharm": {
     "name": "#%% md\n"
    }
   },
   "source": [
    "We can also extract the measurement results of modes 0 and 1:\n",
    "\n"
   ]
  },
  {
   "cell_type": "code",
   "execution_count": 30,
   "metadata": {
    "pycharm": {
     "name": "#%%\n"
    }
   },
   "outputs": [
    {
     "name": "stdout",
     "output_type": "stream",
     "text": [
      "-1.0330069405382953 10.86483685522621\n"
     ]
    }
   ],
   "source": [
    "m0, m1 = results.samples[0]\n",
    "print(m0, m1)"
   ]
  },
  {
   "cell_type": "markdown",
   "metadata": {
    "pycharm": {
     "name": "#%% md\n"
    }
   },
   "source": [
    "To easily check that the output of the circuit is as expected, we can make sure that it agrees\n",
    "with the (uncorrected) state\n",
    "\n",
    "\\begin{align}X({q_1})FP(0.5)X(q_0)F \\ket{z}.\\end{align}\n",
    "\n"
   ]
  },
  {
   "cell_type": "code",
   "execution_count": 31,
   "metadata": {
    "pycharm": {
     "name": "#%%\n"
    }
   },
   "outputs": [
    {
     "name": "stdout",
     "output_type": "stream",
     "text": [
      "Expected covariance matrix:\n",
      " [[ 1.12408144 -0.61070138]\n",
      " [-0.61070138  1.22140276]]\n"
     ]
    }
   ],
   "source": [
    "check = sf.Program(1)\n",
    "\n",
    "with check.context as q:\n",
    "    # compare against the expected output\n",
    "    # X(q1/sqrt(2)).F.P(0.5).X(q0/sqrt(0.5)).F.|z>\n",
    "    # not including the corrections\n",
    "    Squeezed(0.1) | q[0]\n",
    "    Fourier       | q[0]\n",
    "    Xgate(m0)     | q[0]\n",
    "    Pgate(0.5)    | q[0]\n",
    "    Fourier       | q[0]\n",
    "    Xgate(m1)     | q[0]\n",
    "\n",
    "eng = sf.Engine(backend=\"gaussian\")\n",
    "results = eng.run(check)\n",
    "expected_cov = results.state.cov()\n",
    "\n",
    "print(\"Expected covariance matrix:\\n\", expected_cov)"
   ]
  },
  {
   "cell_type": "markdown",
   "metadata": {
    "pycharm": {
     "name": "#%% md\n"
    }
   },
   "source": [
    "These two states should be identical:\n",
    "\n"
   ]
  },
  {
   "cell_type": "code",
   "execution_count": 32,
   "metadata": {
    "pycharm": {
     "name": "#%%\n"
    }
   },
   "outputs": [
    {
     "name": "stdout",
     "output_type": "stream",
     "text": [
      "True\n"
     ]
    }
   ],
   "source": [
    "print(np.allclose(cov, expected_cov, atol=0.05, rtol=0))"
   ]
  },
  {
   "cell_type": "markdown",
   "metadata": {
    "pycharm": {
     "name": "#%% md\n"
    }
   },
   "source": [
    "## References\n",
    "\n",
    ".. [1] A. Furusawa and P. van Loock. Quantum Teleportation and Entanglement:\n",
    "       A Hybrid Approach to Optical Quantum Information Processing. Wiley, 2011.\n",
    "       ISBN 9783527635290. URL: https://books.google.ca/books?id=eKxHZ0UHEU4C.\n",
    "\n",
    ".. [2] D. Gottesman and I. L. Chuang. Demonstrating the viability of universal quantum\n",
    "       computation using teleportation and single-qubit operations. Nature,\n",
    "       402:390–393, Nov 1999. arXiv:quant-ph/9908010, doi:10.1038/46503.\n",
    "\n",
    ".. [3] Mile Gu, Christian Weedbrook, Nicolas C. Menicucci, Timothy C. Ralph, and\n",
    "       Peter van Loock. Quantum computing with continuous-variable clusters.\n",
    "       Physical Review A, 79:062318, Jun 2009. doi:10.1103/PhysRevA.79.062318.\n",
    "\n",
    ".. [4] Stephen D. Bartlett and William J. Munro. Quantum teleportation of\n",
    "       optical quantum gates. Physical Review Letters, 90:117901, Mar 2003.\n",
    "       doi:10.1103/PhysRevLett.90.117901.\n",
    "\n",
    ".. [5] Peter van Loock. Examples of gaussian cluster computation. Journal of the\n",
    "       Optical Society of America B, 24(2):340–346, Feb 2007. doi:10.1364/JOSAB.24.000340.\n",
    "\n"
   ]
  },
  {
   "cell_type": "markdown",
   "metadata": {
    "pycharm": {
     "name": "#%% md\n"
    }
   },
   "source": [
    "# Gaussian cloning\n",
    "\n",
    "\n",
    "A fundamental concept in quantum mechanics, the `no-cloning theorem\n",
    "<https://en.wikipedia.org/wiki/No-cloning_theorem>`_ states that an unknown quantum\n",
    "state cannot be copied exactly [[2]_] - in effect, ruling out any algorithm\n",
    "that attempts to produce or relies upon the production of perfect copies of an arbitrary\n",
    "quantum state [[3]_]. Nevertheless, the no-cloning theorem does not rule out\n",
    "the production of *approximate* quantum state clones. This has led to the development\n",
    "of so called 'quantum cloning algorithms', unitary cloning transformations which provide\n",
    "identical copies of an arbitrary input state, at the cost of a non-unity fidelity.\n",
    "\n",
    "## Implementation\n",
    "\n",
    "The first approximate cloning algorithm was introduced in the context of discrete-variable\n",
    "quantum computing by Buzek and Hillery [[4]_], and quickly followed up with a CV\n",
    "implementation by Cerf et al. [[5]_]. Here, a class of cloning machines\n",
    "satisfying *displacement covariance* are introduced; that is, for two input states\n",
    "$\\ket{\\psi}$ and $\\ket{\\phi}$, with approximate cloned states $\\ket{\\psi'}$\n",
    "and $\\ket{\\phi'}$ respectively,\n",
    "\n",
    "\\begin{align}D(\\alpha)\\ket{\\psi}=\\ket{\\phi}~~~\\Rightarrow~~~D(\\alpha)\\ket{\\psi'}=\\ket{\\phi'}\\end{align}\n",
    "\n",
    "In other words, cloning fidelity is **invariant** under displacements in the phase space,\n",
    "and the position and momentum uncertainties of the two clones satisfies the uncertainty inequality\n",
    "\n",
    "\\begin{align}\\Delta x_1\\Delta p_2 \\geq \\frac{1}{2}\\hbar\\end{align}\n",
    "\n",
    "where $\\Delta x_1$ is the $x$ quadrature variance of state $\\ket{\\psi}$\n",
    "and $\\Delta p_2$ is the $p$ quadrature variance of state $\\ket{\\phi}$.\n",
    "\n",
    "**Gaussian cloning algorithms**, those with the ability to produce two approximate and\n",
    "identical clones of the input state with theoretically optimum fidelity, are a subclass\n",
    "of the displacement covariant cloners that also exhibit **rotational covariance**. As a\n",
    "result, Gaussian cloning fidelity is invariant under both displacement and rotation in the\n",
    "phase space, and the resulting cloned states have identical $x$ and $p$\n",
    "quadrature variances, $\\Delta x_1=\\Delta p_1=\\Delta x_2=\\Delta p_2$. It is this\n",
    "subclass which is shown to be the CV equivalent to the universal qubit cloner of Buzek\n",
    "and Hillery [[5]_].\n",
    "\n",
    "### Circuit analysis\n",
    "\n",
    "Working within this framework, Andersen et al. [[6]_] presented a symmetric\n",
    "Gaussian cloning algorithm (in addition to experimental results) for optimum theoretical\n",
    "cloning of coherent states:\n",
    "\n",
    "![](Figures/cloning.png)\n",
    "\n",
    "Here, $\\ket{\\alpha_0}$ represents an input coherent state, $\\ket{\\alpha'}_1$\n",
    "and $\\ket{\\alpha'}_3$ represent the two identical but approximate clones, and the\n",
    "beamsplitters are 50-50 beamsplitters (hence the 'symmetric' in symmetric cloning algorithm).\n",
    "Let's walk through the various stages of the circuit above, and examine what is occuring.\n",
    "\n",
    "1. The action of a 50-50 beamsplitter on a coherent state $\\ket{\\alpha}$ and a vacuum\n",
    "   state $\\ket{0}$ is\n",
    "   $BS(\\ket{\\alpha}\\otimes\\ket{0}) = \\ket{\\frac{1}{\\sqrt{2}}\\alpha}\\otimes \\ket{\\frac{1}{\\sqrt{2}}\\alpha}$.\n",
    "   As such, after the two beamsplitters, the circuit exists in the following state:\n",
    "\n",
    "   $$\n",
    "\n",
    "       \\ket{\\frac{1}{\\sqrt{2}}\\alpha_0}\\otimes \\ket{\\frac{1}{2}\\alpha_0}\\otimes \\ket{\\frac{1}{2}\\alpha_0}.\n",
    "   $$\n",
    "\n",
    "2. Performing the homodyne detection on modes $q_1$ and $q_2$ results in\n",
    "   the two normally distributed measurement variables $u$ and $v$ respectively:\n",
    "\n",
    "   $$\n",
    "       u\\sim N\\left(\\sqrt{\\frac{\\hbar}{2}}\\text{Re}(\\alpha_0),\n",
    "       \\frac{\\hbar}{2}\\right), ~~~ v\\sim N\\left(\\sqrt{\\frac{\\hbar}{2}}\\text{Im}(\\alpha_0),\n",
    "       \\frac{\\hbar}{2}\\right).\n",
    "   $$\n",
    "\n",
    "3. Two controlled displacements $X(\\sqrt{2}u)=D(u/\\sqrt{\\hbar})$ and\n",
    "   $Z(\\sqrt{2}v)=D(iv/\\sqrt{\\hbar})$ are then performed on mode $q_0$:\n",
    "\n",
    "   $$\n",
    "\n",
    "       D\\left(\\frac{1}{\\sqrt{\\hbar}}(u+iv)\\right)\\ket{\\frac{1}{\\sqrt{2}}\\alpha_0}\n",
    "       = \\ket{\\frac{1}{\\sqrt{2}}\\alpha_0 + \\frac{1}{\\sqrt{\\hbar}}(u+iv)} = \\ket{\\tilde{\\alpha_0}}\n",
    "   $$\n",
    "\n",
    "   Since we are displacing a coherent state, the result of the controlled displacements\n",
    "   remains a pure coherent state. However, since the parameters of the controlled displacements\n",
    "   are themselves random variables, we must describe the resulting coherent state by a rando\n",
    "   variable $\\tilde{\\alpha_0} \\sim N(\\mu, \\text{cov})$.\n",
    "\n",
    "   Here, $\\tilde{\\alpha_0}$ is randomly distributed as per a multivariate normal\n",
    "   distribution with vector of means $\\mu=\\sqrt{2}(\\text{Re}(\\alpha_0), \\text{Im}(\\alpha_0))$\n",
    "   and covariance matrix $\\text{cov}=\\I/2$.\n",
    "\n",
    "\n",
    "4. Finally, we apply another beamsplitter to mode $q_0$ and mode $q_3$ in the\n",
    "   vacuum state, to get our two cloned outputs:\n",
    "\n",
    "   $$\n",
    "\n",
    "       BS(\\ket{\\tilde{\\alpha_0}}\\otimes\\ket{0}) = \\ket{\\frac{1}{\\sqrt{2}}\\tilde{\\alpha_0}}\\otimes\n",
    "       \\ket{\\frac{1}{\\sqrt{2}}\\tilde{\\alpha_0}} = \\ket{\\alpha'}\\otimes \\ket{\\alpha'}.\n",
    "   $$\n",
    "\n",
    "   where $\\alpha' \\sim N(\\mu, \\text{cov}), ~~\\mu=(\\text{Re}(\\alpha_0), \\text{Im}(\\alpha_0)), ~~\\text{cov}=\\I/4$.\n",
    "\n",
    "### Coherent average fidelity\n",
    "\n",
    "If we were to perform the Guassian cloning circuit over an ensemble of identical input\n",
    "states $\\ket{\\alpha_0}$, the cloned output can be described by the following mixed state,\n",
    "\n",
    "\\begin{align}\\rho = \\iint d^2 \\alpha' \\frac{2}{\\pi}e^{-2|\\alpha'-\\alpha_0|^2}\\ket{\\alpha'}\\bra{\\alpha'},\\end{align}\n",
    "\n",
    "where the exponential term is the PDF of the random variable $\\alpha'$ from (4) above.\n",
    "To calculate the average fidelity over the ensemble of the cloned states, it is sufficient\n",
    "to calculate the inner product\n",
    "\n",
    "\\begin{align}F = \\braketT{\\alpha_0}{\\rho}{\\alpha_0}.\\end{align}\n",
    "\n",
    "From the Fock basis decomposition of the coherent state (see `coherent_state`), it can\n",
    "be easily seen that $|\\braketD{\\alpha_0}{\\alpha'}|^2 = e^{-|\\alpha_0-\\alpha'|^2}$.\n",
    "Therefore,\n",
    "\n",
    "\\begin{align}F = \\frac{2}{\\pi}\\iint d^2 \\alpha' e^{-2|\\alpha'-\\alpha_0|^2}\n",
    "    |\\braketD{\\alpha_0}{\\alpha'}|^2 = \\frac{2}{\\pi}\\iint d^2 \\alpha ~e^{-3|\\alpha|^2} = \\frac{2}{3},\\end{align}\n",
    "\n",
    "where we have made the substitution $\\alpha=\\alpha'-\\alpha_0$. Note that the\n",
    "average fidelity is independent of the initial state $\\alpha_0$.\n",
    "\n",
    ">**Note** The above is calculated in the case of unity quantum efficiency $\\eta=1$.\n",
    "    When $\\eta<1$, there is non-zero uncertainty in the homodyne measurement,\n",
    "    $\\sigma_H=\\frac{1-\\eta}{\\eta}$, and in practice the symmetric Gaussian cloning\n",
    "    scheme has coherent state average cloning fidelity given by\n",
    "\n",
    "    $$\n",
    "     F(\\sigma_H)=\\frac{2}{3+\\sigma_H}\n",
    "    $$\n",
    "\n",
    "    In the case of the Gaussian backend, $\\sigma_H=2\\times 10^{-4}$\n",
    "    (see `GaussianBackend.measure_homodyne\n",
    "    <strawberryfields.backends.GaussianBackend.measure_homodyne>`).\n",
    "\n",
    "\n",
    "### Displaced squeezed states\n",
    "\n",
    "In addition to coherent states, this cloning scheme was further analysed by\n",
    "Olivares et al. [[7]_] in the cases of other Gaussian input states,\n",
    "such as squeezed states and thermal states. In particular, when the input Gaussian\n",
    "state is a **displaced squeezed state**,\n",
    "\n",
    "\\begin{align}\\ket{\\psi} = \\ket{\\alpha,z} = D(\\alpha)S(z)\\ket{0},\\end{align}\n",
    "\n",
    "this scheme provides an optimum fidelity of $2/3$ *only* if the squeezing parameter\n",
    "is known beforehand, as this allows the application of the unitary operation $S(z)^{-1}$\n",
    "to recover a coherent state prior to cloning. Of course, this is not possible if we wish\n",
    "to clone an arbitrary unknown displaced squeezed state; in this case, the scheme described\n",
    "above leads to the following fidelity:\n",
    "\n",
    "\\begin{align}F(r,\\sigma_H) = \\frac{4}{\\sqrt{(6+2\\sigma_H)^2+32(1+\\sigma_H)\\sinh^2(r)}}\\end{align}\n",
    "\n",
    "where $z=re^{i\\phi}$ and $\\sigma_H$ is the uncertainty in the homodyne\n",
    "measurement. Note that $F\\rightarrow0$ as $r\\rightarrow\\infty$; i.e.,\n",
    "the more highly squeezed the state, the lower the cloning fidelity.\n",
    "\n",
    "## Code\n",
    "\n",
    "The symmetric Gaussian cloning circuit displayed above can be implemented using\n",
    "Strawberry Fields:\n"
   ]
  },
  {
   "cell_type": "code",
   "execution_count": 33,
   "metadata": {
    "pycharm": {
     "name": "#%%\n"
    }
   },
   "outputs": [],
   "source": [
    "import strawberryfields as sf\n",
    "from strawberryfields.ops import *\n",
    "from numpy import pi, sqrt\n",
    "import numpy as np\n",
    "\n",
    "gaussian_cloning = sf.Program(4)\n",
    "\n",
    "with gaussian_cloning.context as q:\n",
    "    # state to be cloned\n",
    "    alpha = 0.7+1.2j\n",
    "    Coherent(np.abs(alpha), np.angle(alpha)) | q[0]\n",
    "\n",
    "    # 50-50 beamsplitter\n",
    "    BS = BSgate(pi/4, 0)\n",
    "\n",
    "    # symmetric Gaussian cloning scheme\n",
    "    BS | (q[0], q[1])\n",
    "    BS | (q[1], q[2])\n",
    "    MeasureX | q[1]\n",
    "    MeasureP | q[2]\n",
    "    Xgate(q[1].par * sqrt(2)) | q[0]\n",
    "    Zgate(q[2].par * sqrt(2)) | q[0]\n",
    "\n",
    "    # after the final beamsplitter, modes q[0] and q[3]\n",
    "    # will contain identical approximate clones of the\n",
    "    # initial state Coherent(0.1+0j)\n",
    "    BS | (q[0], q[3])"
   ]
  },
  {
   "cell_type": "markdown",
   "metadata": {
    "pycharm": {
     "name": "#%% md\n"
    }
   },
   "source": [
    "Since all operations and measurements are Gaussian, we can use\n",
    "the Gaussian backend:\n",
    "\n"
   ]
  },
  {
   "cell_type": "code",
   "execution_count": 34,
   "metadata": {
    "pycharm": {
     "name": "#%%\n"
    }
   },
   "outputs": [],
   "source": [
    "eng = sf.Engine(backend=\"gaussian\")"
   ]
  },
  {
   "cell_type": "markdown",
   "metadata": {
    "pycharm": {
     "name": "#%% md\n"
    }
   },
   "source": [
    "Modes 1 and 2 are ancilla modes; we are interested in extracting modes\n",
    "0 and 3.\n",
    "\n"
   ]
  },
  {
   "cell_type": "code",
   "execution_count": 35,
   "metadata": {
    "pycharm": {
     "name": "#%%\n"
    }
   },
   "outputs": [],
   "source": [
    "results = eng.run(gaussian_cloning, modes=[0, 3])"
   ]
  },
  {
   "cell_type": "markdown",
   "metadata": {
    "pycharm": {
     "name": "#%% md\n"
    }
   },
   "source": [
    "After constructing the circuit and running the engine,\n",
    "we can call the :doc:`state method <introduction/states>`\n",
    ":meth:`~strawberryfields.backends.BaseState.fidelity_coherent`\n",
    "to calculate the fidelity of the two cloned output states compared to the input coherent\n",
    "state $\\alpha=0.7+1.2j$.\n",
    "\n",
    "Note that we take the square root since the\n",
    "method is returning the fidelity of both modes multiplied.\n",
    "\n"
   ]
  },
  {
   "cell_type": "code",
   "execution_count": 36,
   "metadata": {
    "pycharm": {
     "name": "#%%\n"
    }
   },
   "outputs": [
    {
     "name": "stdout",
     "output_type": "stream",
     "text": [
      "0.8513397014072269\n"
     ]
    }
   ],
   "source": [
    "fidelity = sqrt(results.state.fidelity_coherent([0.7+1.2j, 0.7+1.2j]))\n",
    "print(fidelity)"
   ]
  },
  {
   "cell_type": "markdown",
   "metadata": {
    "pycharm": {
     "name": "#%% md\n"
    }
   },
   "source": [
    "While ``fidelity_coherent`` is supported by both the Gaussian and the Fock\n",
    "backends, the ``'gaussian'`` backend additionally supports extracting\n",
    "the mean displacement of output states, using\n",
    ":meth:`~strawberryfields.backends.BaseGaussianState.displacement`:\n",
    "\n"
   ]
  },
  {
   "cell_type": "code",
   "execution_count": 37,
   "metadata": {
    "pycharm": {
     "name": "#%%\n"
    }
   },
   "outputs": [],
   "source": [
    "alpha = results.state.displacement()"
   ]
  },
  {
   "cell_type": "markdown",
   "metadata": {
    "pycharm": {
     "name": "#%% md\n"
    }
   },
   "source": [
    "Checking that they are identical clones up to numerical error:\n",
    "\n"
   ]
  },
  {
   "cell_type": "code",
   "execution_count": 38,
   "metadata": {
    "pycharm": {
     "name": "#%%\n"
    }
   },
   "outputs": [
    {
     "name": "stdout",
     "output_type": "stream",
     "text": [
      "True\n"
     ]
    }
   ],
   "source": [
    "print(alpha[0] - alpha[1] <= 1e-15)"
   ]
  },
  {
   "cell_type": "markdown",
   "metadata": {
    "pycharm": {
     "name": "#%% md\n"
    }
   },
   "source": [
    "In order to calculate the average fidelity over an ensemble, we will need to run\n",
    "the circuit multiple times, and calculate the mean fidelity over all runs:\n",
    "\n"
   ]
  },
  {
   "cell_type": "code",
   "execution_count": 39,
   "metadata": {
    "pycharm": {
     "name": "#%%\n"
    }
   },
   "outputs": [
    {
     "name": "stdout",
     "output_type": "stream",
     "text": [
      "Fidelity of cloned state: 0.6598444030393031\n",
      "Mean displacement of cloned state: (0.7128811228904935+1.2138191837988184j)\n",
      "Mean covariance matrix of cloned state: [[0.25603526 0.00118158]\n",
      " [0.00118158 0.25295683]]\n"
     ]
    }
   ],
   "source": [
    "# run the engine over an ensemble\n",
    "reps = 1000\n",
    "f = np.empty([reps])\n",
    "a = np.empty([reps], dtype=np.complex128)\n",
    "\n",
    "for i in range(reps):\n",
    "    eng.reset()\n",
    "    results = eng.run(gaussian_cloning, modes=[0])\n",
    "    f[i] = results.state.fidelity_coherent([0.7+1.2j])\n",
    "    a[i] = results.state.displacement()\n",
    "\n",
    "print(\"Fidelity of cloned state:\", np.mean(f))\n",
    "print(\"Mean displacement of cloned state:\", np.mean(a))\n",
    "print(\"Mean covariance matrix of cloned state:\", np.cov([a.real, a.imag]))"
   ]
  },
  {
   "cell_type": "markdown",
   "metadata": {
    "pycharm": {
     "name": "#%% md\n"
    }
   },
   "source": [
    "Plotting the scatter plot of ``a.real`` vs. ``a.imag``, we see that they are indeed\n",
    "distributed as a multivariate normal distribution, with a mean of $\\sim 0.7+1.2j$,\n",
    "and covariance $\\sim I/4$:\n",
    "\n"
   ]
  },
  {
   "cell_type": "code",
   "execution_count": 40,
   "metadata": {
    "pycharm": {
     "name": "#%%\n"
    }
   },
   "outputs": [
    {
     "ename": "ModuleNotFoundError",
     "evalue": "No module named 'seaborn'",
     "output_type": "error",
     "traceback": [
      "\u001b[0;31m---------------------------------------------------------------------------\u001b[0m",
      "\u001b[0;31mModuleNotFoundError\u001b[0m                       Traceback (most recent call last)",
      "Input \u001b[0;32mIn [40]\u001b[0m, in \u001b[0;36m<cell line: 1>\u001b[0;34m()\u001b[0m\n\u001b[0;32m----> 1\u001b[0m \u001b[38;5;28;01mimport\u001b[39;00m \u001b[38;5;21;01mseaborn\u001b[39;00m \u001b[38;5;28;01mas\u001b[39;00m \u001b[38;5;21;01msns\u001b[39;00m\n\u001b[1;32m      2\u001b[0m sns\u001b[38;5;241m.\u001b[39mset(style\u001b[38;5;241m=\u001b[39m\u001b[38;5;124m\"\u001b[39m\u001b[38;5;124mticks\u001b[39m\u001b[38;5;124m\"\u001b[39m)\n\u001b[1;32m      3\u001b[0m sns\u001b[38;5;241m.\u001b[39mjointplot(a\u001b[38;5;241m.\u001b[39mreal, a\u001b[38;5;241m.\u001b[39mimag, color\u001b[38;5;241m=\u001b[39m\u001b[38;5;124m\"\u001b[39m\u001b[38;5;124m#4CB391\u001b[39m\u001b[38;5;124m\"\u001b[39m)\n",
      "\u001b[0;31mModuleNotFoundError\u001b[0m: No module named 'seaborn'"
     ]
    }
   ],
   "source": [
    "import seaborn as sns\n",
    "sns.set(style=\"ticks\")\n",
    "sns.jointplot(a.real, a.imag, color=\"#4CB391\")"
   ]
  },
  {
   "cell_type": "markdown",
   "metadata": {
    "pycharm": {
     "name": "#%% md\n"
    }
   },
   "source": [
    "## References\n",
    "\n",
    ".. [1] P. van Loock and Samuel L. Braunstein. Telecloning of continuous quantum variables.\n",
    "       Physical Review Letters, Nov 2001. doi:10.1103/physrevlett.87.247901.\n",
    "\n",
    ".. [2] W. K. Wootters and W. H. Zurek. A single quantum cannot be cloned.\n",
    "       Nature, 299(5886):802–803, Oct 1982. doi:10.1038/299802a0.\n",
    "\n",
    ".. [3] D. Dieks. Communication by EPR devices. Physics Letters A, 92(6):271–272,\n",
    "       Nov 1982. doi:10.1016/0375-9601(82)90084-6.\n",
    "\n",
    ".. [4] V. Bužek and M. Hillery. Quantum copying: beyond the no-cloning theorem.\n",
    "       Physical Review A, 54(3):1844–1852, Sep 1996. doi:10.1103/physreva.54.1844.\n",
    "\n",
    ".. [5] N. J. Cerf, A. Ipe, and X. Rottenberg. Cloning of continuous quantum variables.\n",
    "       Physical Review Letters, 85(8):1754–1757, Aug 2000. doi:10.1103/physrevlett.85.1754.\n",
    "\n",
    ".. [6] Ulrik L. Andersen, Vincent Josse, and Gerd Leuchs. Unconditional quantum cloning\n",
    "       of coherent states with linear optics. Physical Review Letters, Jun 2005.\n",
    "       doi:10.1103/physrevlett.94.240503.\n",
    "\n",
    ".. [7] Stefano Olivares, Matteo G. A. Paris, and Ulrik L. Andersen. Cloning of gaussian\n",
    "       states by linear optics. Physical Review A, Jun 2006. doi:10.1103/physreva.73.062330.\n",
    "\n"
   ]
  },
  {
   "cell_type": "markdown",
   "metadata": {
    "pycharm": {
     "name": "#%% md\n"
    }
   },
   "source": [
    "# Hamiltonian simulation\n",
    "\n",
    "    \"The problem of simulating the dynamics of quantum systems was the original motivation for quantum\n",
    "    computers and remains one of their major potential applications.\" - Berry et al. [[1]_]\n",
    "\n",
    "The simulation of atoms, molecules and other biochemical systems is another application uniquely\n",
    "suited to quantum computation. For example, the ground state energy of large systems, the dynamical\n",
    "behaviour of an ensemble of molecules, or complex molecular behaviour such as protein folding, are\n",
    "often computationally hard or downright impossible to determine via classical computation or\n",
    "experimentation [[2]_][[3]_].\n",
    "\n",
    "In the discrete-variable qubit model, efficient methods of Hamiltonian simulation have been\n",
    "discussed at-length, providing several implementations depending on properties of the Hamiltonian,\n",
    "and resulting in a linear simulation time [[4]_][[5]_].\n",
    "Efficient implementations of Hamiltonian simulation also exist in the CV formulation\n",
    "[[6]_], with specific application to `Bose-Hubbard Hamiltonians\n",
    "<https://en.wikipedia.org/wiki/Bose%E2%80%93Hubbard_model>`_ (describing a system of interacting\n",
    "bosonic particles on a lattice of orthogonal position states [[7]_]). As\n",
    "such, this method is ideally suited to photonic quantum computation.\n",
    "\n",
    "## Implementation\n",
    "\n",
    "For a quick example, consider a lattice composed of two adjacent nodes:\n",
    "\n",
    "![](Figures/graph.png)\n",
    "\n",
    "This graph is represented by the $2\\times 2$ adjacency matrix\n",
    "$A=\\begin{bmatrix}0&1\\\\1&0\\end{bmatrix}$. Here, each node in the graph represents a qumode, so\n",
    "we can model the dynamics of Bosons on this structure via a 2-qumode CV circuit.\n",
    "\n",
    "The `Bose-Hubbard Hamiltonian <https://en.wikipedia.org/wiki/Bose%E2%80%93Hubbard_model>`_ with\n",
    "on-site interactions is given by\n",
    "\n",
    "\\begin{align}H = J\\sum_{i}\\sum_j A_{ij} \\ad_i\\a_j + \\frac{1}{2}U\\sum_i \\hat{n}_i(\\hat{n}_i-1)= J(\\ad_1 \\a_2 +\n",
    "    \\ad_2\\a_1) + \\frac{1}{2}U (  \\hat{n}_1^2 - \\hat{n}_1 + \\hat{n}_2^2 - \\hat{n}_2)\\end{align}\n",
    "\n",
    "where $J$ represents the transfer integral or hopping term of the boson between nodes, and\n",
    "$U$ is the on-site interaction potential. Here, $\\ad_1 \\a_2$ represents a boson\n",
    "transitioning from node 1 to node 2, while $\\ad_2\\a_1$ represents a boson transitioning from\n",
    "node 2 to node 1, and $\\hat{n}_i=\\ad_i\\a_i$ is the number operator applied to mode $i$.\n",
    "Applying the Lie-product formula, we find that\n",
    "\n",
    "\\begin{align}e^{-iHt} = \\left[\\exp\\left({-i\\frac{ J t}{k}(\\ad_1 \\a_2 +\n",
    "    \\ad_2\\a_1)}\\right)\\exp\\left(-i\\frac{Ut}{2k}\\hat{n}_1^2\\right)\\exp\\left(-i\\frac{Ut}{2k}\\hat{n}_2^2\\right)\n",
    "    \\exp\\left(i\\frac{Ut}{2k}\\hat{n}_1\\right)\\exp\\left(i\\frac{Ut}{2k}\\hat{n}_2\\right)\\right]^k+\\mathcal{O}\\left(t^2/k\\right),\\end{align}\n",
    "\n",
    "where $\\mathcal{O}\\left(t^2/k\\right)$ is the order of the error term, derived from the Lie\n",
    "product formula. Comparing this to the form of various CV gates, we can write this as the product of\n",
    "`symmetric beamsplitters <beamsplitter>` (`~strawberryfields.ops.BSgate`), `Kerr gates <kerr>`\n",
    "(`~strawberryfields.ops.Kgate`), and `rotation gates <rotation>`\n",
    "(`~strawberryfields.ops.Rgate`):\n",
    "\n",
    "$$\n",
    "\\begin{align}e^{iHt} = \\left[BS\\left(\\theta,\\phi\\right)\\left(K(r)R(-r)\\otimes\n",
    "    K(r)R(-r)\\right)\\right]^k+\\mathcal{O}\\left(t^2/k\\right).\\end{align}\n",
    "$$\n",
    "\n",
    "where $\\theta=-Jt/k$, $\\phi=\\pi/2$, and $r=-Ut/2k$.\n",
    "\n",
    "For the case $k=2$, this can be drawn as the circuit diagram\n",
    "\n",
    "![](Figures/hamsim.png)\n",
    "\n",
    "For more complex CV decompositions, including those with interactions, see Kalajdzievski et al.\n",
    "[[6]_] for more details.\n",
    "\n",
    "## Code\n",
    "\n",
    "The Hamiltonian simulation circuit displayed above for the 2-node lattice, can be implemented using\n",
    "Strawberry Fields:\n"
   ]
  },
  {
   "cell_type": "code",
   "execution_count": null,
   "metadata": {
    "pycharm": {
     "name": "#%%\n"
    }
   },
   "outputs": [],
   "source": [
    "import numpy as np\n",
    "\n",
    "# set the random seed\n",
    "np.random.seed(42)\n",
    "\n",
    "import strawberryfields as sf\n",
    "from strawberryfields.ops import *\n",
    "\n",
    "ham_simulation = sf.Program(2)\n",
    "\n",
    "# set the Hamiltonian parameters\n",
    "J = 1           # hopping transition\n",
    "U = 1.5         # on-site interaction\n",
    "k = 20          # Lie product decomposition terms\n",
    "t = 1.086       # timestep\n",
    "theta = -J*t/k\n",
    "r = -U*t/(2*k)\n",
    "\n",
    "with ham_simulation.context as q:\n",
    "    # prepare the initial state\n",
    "    Fock(2) | q[0]\n",
    "\n",
    "    # Two node tight-binding\n",
    "    # Hamiltonian simulation\n",
    "\n",
    "    for i in range(k):\n",
    "        BSgate(theta, np.pi/2) | (q[0], q[1])\n",
    "        Kgate(r)  | q[0]\n",
    "        Rgate(-r) | q[0]\n",
    "        Kgate(r)  | q[1]\n",
    "        Rgate(-r) | q[1]"
   ]
  },
  {
   "cell_type": "markdown",
   "metadata": {
    "pycharm": {
     "name": "#%% md\n"
    }
   },
   "source": [
    "where, for this example, we have set ``J=1``, ``U=1.5``, ``k=20``, ``t=1.086``, ``theta =\n",
    "-J*t/k``, and ``r = -U*t/(2*k)``.\n",
    "\n",
    "Since are initial state is non-Gaussian, we will initialize the ``\"fock\"``\n",
    "backend, with a cutoff of 5:\n",
    "\n"
   ]
  },
  {
   "cell_type": "code",
   "execution_count": null,
   "metadata": {
    "pycharm": {
     "name": "#%%\n"
    }
   },
   "outputs": [],
   "source": [
    "eng = sf.Engine(backend=\"fock\", backend_options={\"cutoff_dim\": 5})"
   ]
  },
  {
   "cell_type": "markdown",
   "metadata": {
    "pycharm": {
     "name": "#%% md\n"
    }
   },
   "source": [
    "After constructing the circuit and running the engine,\n",
    "\n"
   ]
  },
  {
   "cell_type": "code",
   "execution_count": null,
   "metadata": {
    "pycharm": {
     "name": "#%%\n"
    }
   },
   "outputs": [],
   "source": [
    "results = eng.run(ham_simulation)"
   ]
  },
  {
   "cell_type": "markdown",
   "metadata": {
    "pycharm": {
     "name": "#%% md\n"
    }
   },
   "source": [
    "the site occupation probabilities can be calculated via the\n",
    "``fock_prob`` state method, which returns the probability of\n",
    "measuring some output Fock state:\n",
    "\n"
   ]
  },
  {
   "cell_type": "code",
   "execution_count": null,
   "metadata": {
    "pycharm": {
     "name": "#%%\n"
    }
   },
   "outputs": [],
   "source": [
    "state = results.state\n",
    "print(\"P(|0, 2>) = \", state.fock_prob([0, 2]))\n",
    "print(\"P(|1, 1>) = \", state.fock_prob([1, 1]))\n",
    "print(\"P(|2, 0>) = \", state.fock_prob([2, 0]))"
   ]
  },
  {
   "cell_type": "markdown",
   "metadata": {
    "pycharm": {
     "name": "#%% md\n"
    }
   },
   "source": [
    "As Hamiltonian simulation is particle preserving, these probabilities should add up to one:\n",
    "\n"
   ]
  },
  {
   "cell_type": "code",
   "execution_count": null,
   "metadata": {
    "pycharm": {
     "name": "#%%\n"
    }
   },
   "outputs": [],
   "source": [
    "result = [state.fock_prob([0, 2]), state.fock_prob([1, 1]), state.fock_prob([2, 0])]\n",
    "print(np.sum(result))"
   ]
  },
  {
   "cell_type": "markdown",
   "metadata": {
    "pycharm": {
     "name": "#%% md\n"
    }
   },
   "source": [
    "We can compare this result to the analytic matrix exponential $e^{-iHt}$, where the matrix\n",
    "elements of $H$ can be computed in the Fock basis. Considering the diagonal interaction\n",
    "terms,\n",
    "\n",
    "\\begin{align}& \\braketT{0,2}{H}{0,2} = \\frac{1}{2}U\\braketT{0}{(\\hat{n}^2-\\hat{n})}{0} +\n",
    "    \\frac{1}{2}U\\braketT{2}{(\\hat{n}^2-\\hat{n})}{2} = \\frac{1}{2}U(2^2-2) = U\\\\[7pt] &\n",
    "    \\braketT{1,1}{H}{1,1} = 0\\\\[7pt] & \\braketT{2,0}{H}{2,0} = U\\end{align}\n",
    "\n",
    "as well as the off-diagonal hopping terms,\n",
    "\n",
    "\\begin{align}& \\braketT{1,1}{H}{0,2} = J\\braketT{1,1}{\\left(\\ad_1\\a_2 + \\a_1\\ad_2\\right)}{0,2} =\n",
    "    J(\\sqrt{1}\\sqrt{2} + \\sqrt{0}\\sqrt{3}) = J\\sqrt{2}\\\\[7pt] & \\braketT{1,1}{H}{2,0} = J\\sqrt{2}\\end{align}\n",
    "\n",
    "and taking into account the Hermiticity of the system, we arrive at\n",
    "\n",
    "\\begin{align}H = \\begin{bmatrix}U&J\\sqrt{2}&0\\\\ J\\sqrt{2} & 0 & J\\sqrt{2}\\\\ 0 & J\\sqrt{2} & U\\end{bmatrix}\\end{align}\n",
    "\n",
    "which acts on the Fock basis $\\{\\ket{0,2},\\ket{1,1},\\ket{2,0}\\}$. Using the SciPy matrix\n",
    "exponential function ``scipy.linalg.expm``:\n",
    "\n"
   ]
  },
  {
   "cell_type": "code",
   "execution_count": null,
   "metadata": {
    "pycharm": {
     "name": "#%%\n"
    }
   },
   "outputs": [],
   "source": [
    "from scipy.linalg import expm\n",
    "\n",
    "H = J*np.sqrt(2)*np.array([[0,1,0],[1,0,1],[0,1,0]]) + U*np.diag([1,0,1])\n",
    "init_state = np.array([0,0,1])\n",
    "\n",
    "theoretical_result = np.abs(np.dot(expm(-1j*t*H), init_state))**2\n",
    "print(theoretical_result)"
   ]
  },
  {
   "cell_type": "markdown",
   "metadata": {
    "pycharm": {
     "name": "#%% md\n"
    }
   },
   "source": [
    "which agrees, within the expected error margin, with our Strawberry Fields Hamiltonian simulation:\n",
    "\n"
   ]
  },
  {
   "cell_type": "code",
   "execution_count": null,
   "metadata": {
    "pycharm": {
     "name": "#%%\n"
    }
   },
   "outputs": [],
   "source": [
    "print(np.all(np.abs(theoretical_result - result) < 1e-2))"
   ]
  },
  {
   "cell_type": "markdown",
   "metadata": {
    "pycharm": {
     "name": "#%% md\n"
    }
   },
   "source": [
    "## References\n",
    "\n",
    ".. [1] Dominic W. Berry, Andrew M. Childs, and Robin Kothari. Hamiltonian simulation with nearly optimal\n",
    "       dependence on all parameters. In 2015 IEEE 56th Annual Symposium on Foundations of Computer Science.\n",
    "       IEEE, Oct 2015. doi:10.1109/focs.2015.54.\n",
    "\n",
    ".. [2] Alán Aspuru-Guzik, Anthony D. Dutoi, Peter J. Love, and Martin Head-Gordon. Simulated quantum\n",
    "       computation of molecular energies. Science, 309(5741):1704–1707, 2005. doi:10.1126/science.1113479.\n",
    "\n",
    ".. [3] James D. Whitfield, Jacob Biamonte, and Alán Aspuru-Guzik. Simulation of electronic structure\n",
    "       Hamiltonians using quantum computers. Molecular Physics, 109(5):735–750, 2011.\n",
    "       doi:10.1080/00268976.2011.552441.\n",
    "\n",
    ".. [4] Andrew M. Childs and Nathan Wiebe. Hamiltonian simulation using linear combinations of unitary\n",
    "       operations. Quantum Information and Computation, 12(11-12):901–924, 2012. arXiv:1202.5822.\n",
    "\n",
    ".. [5] Dominic W. Berry, Graeme Ahokas, Richard Cleve, and Barry C. Sanders. Efficient quantum algorithms\n",
    "       for simulating sparse Hamiltonians. Communications in Mathematical Physics, 270(2):359–371, 2006.\n",
    "       doi:10.1007/s00220-006-0150-x.\n",
    "\n",
    ".. [6] Timjan Kalajdzievski, Christian Weedbrook, and Patrick Rebentrost. Continuous-variable gate\n",
    "       decomposition for the Bose-Hubbard model. 2018. arXiv:1801.06565.\n",
    "\n",
    ".. [7] Tomasz Sowiński, Omjyoti Dutta, Philipp Hauke, Luca Tagliacozzo, and Maciej Lewenstein. Dipolar\n",
    "       molecules in optical lattices. Physical Review Letters, 108:115301, 2012.\n",
    "       doi:10.1103/PhysRevLett.108.115301.\n",
    "\n"
   ]
  },
  {
   "cell_type": "markdown",
   "metadata": {
    "pycharm": {
     "name": "#%% md\n"
    }
   },
   "source": [
    "# Time-domain photonic circuits\n",
    "\n",
    "*Authors: Fabian Laudenbach, Josh Izaac, Theodor Isacsson, and Nicolas\n",
    "Quesada*\n",
    "\n",
    "In this tutorial, we will introduce the basic concepts of time-domain photonic circuits\n",
    "--- the same technology underpinning Xanadu's :doc:`quantum computational advantage hardware </demos/tutorial_borealis_beginner>`, Borealis [[#advantage2022]_] --- \n",
    "using the time-domain module of StrawberryFields, ``strawberryfields.tdm``. \n",
    "Time-domain multiplexing allows for the creation of massive quantum systems having \n",
    "millions of entangled modes as shown in a number of recent experimental demonstrations [[#takeda2019]_],\n",
    "[[#yoshikawa2016]_], [[#larsen2019]_], [[#asavanant2019]_].\n",
    "To motivate this architecture we follow Takeda et al. [[#takeda2019]_] and\n",
    "study the one loop setup shown in the picture below:\n",
    "\n",
    "![](Figures/oneloop.png)\n",
    "\n",
    "We will first write a short standard StrawberryFields program implementing\n",
    "this. Then we will progressively modify the way this circuit is\n",
    "implemented until we are able to write it directly as a :class:`~strawberryfields.TDMProgram`.\n",
    "\n",
    "Having understood the basics of time-domain programs we will then construct a generic\n",
    "single-loop function that can be used to simulate arbitrary long programs using only two\n",
    "modes! We will use this machinery to investigate bipartite EPR states and then\n",
    "multipartite GHZ states. An important take away of this tutorial is that one can sample\n",
    "efficiently Gaussian circuits containing millions of modes with the equivalent\n",
    "computation effort of sampling Gaussian circuits with just a handful of modes.\n"
   ]
  },
  {
   "cell_type": "markdown",
   "metadata": {
    "pycharm": {
     "name": "#%% md\n"
    }
   },
   "source": [
    "## An instruction set for the time-domain architecture\n",
    "\n",
    "To introduce the time domain architecture we will simulate the setup in\n",
    "the figure. We can summarize the setup as the following set of\n",
    "intructions:\n",
    "\n",
    "1. The ``i+1`` mode is squeezed by a certain amount ``r``.\n",
    "2. The ``i+1`` mode undergoes a beamsplitter transformation with its\n",
    "   preceding mode, labeled by ``i``, by a certain angle ``alpha[i]``.\n",
    "   This beamsplitter has the effect of switching in and out of the loop\n",
    "   the modes ``i+1`` and ``i`` respectively.\n",
    "3. The ``i+1`` mode has entered the loop after the beamsplitter\n",
    "   transformation and is rotated by angle ``phi[i]``.\n",
    "4. After interacting with the ``i+1`` mode, the mode in the previous\n",
    "   time bin ``i`` leaves the loop and then its rotated quadrature (by angle\n",
    "   ``theta[i]``) is measured using a homodyne detector.\n",
    "\n",
    "\n",
    "\n",
    "This circuit falls within the time-domain description because we are\n",
    "implicitly assuming that the modes are flying through the optical elements\n",
    "(squeezer, beamsplitter, rotation, measurement) in the figure above.\n",
    "Note that the loop in the figure corresponds physically to a delay line,\n",
    "typically implemented using propagation in free space or in an optical fiber.\n",
    "Thus unlike in many other physical implementations\n",
    "our modes are not labeled by a position in space but by a time label that\n",
    "tells us when they arrived to a particular optical element.\n",
    "\n",
    "Before actually trying to take advantage of the time-domain description\n",
    "of the circuit we will write a brute force simulation using the\n",
    "standard :class:`~strawberryfields.Program`.\n",
    "\n",
    "We will use ``n`` modes to represent ``n`` timebins and implement the\n",
    "setup described by the figure using a standard StrawberryFields\n",
    "program.\n",
    "\n",
    "Since we will be using a Gaussian circuit this implies that we will be using\n",
    "a covariance matrix of size ``2n`` times ``2n`` to represent our state. Thus,\n",
    "if we have for example ``n=1000`` modes we will have on the order of four million\n",
    "real numbers stored in memory. We will however, just stick to ``n=20`` for this\n",
    "concrete example.\n",
    "\n",
    "\n"
   ]
  },
  {
   "cell_type": "code",
   "execution_count": null,
   "metadata": {
    "pycharm": {
     "name": "#%%\n"
    }
   },
   "outputs": [],
   "source": [
    "import strawberryfields as sf\n",
    "from strawberryfields.ops import Sgate, BSgate, Rgate, MeasureHomodyne\n",
    "import numpy as np"
   ]
  },
  {
   "cell_type": "markdown",
   "metadata": {
    "pycharm": {
     "name": "#%% md\n"
    }
   },
   "source": [
    "Below we assume that the parameters of the squeezing gate $(S)$\n",
    "and the angles of the beamsplitter $(BS)$ and rotation $R$\n",
    "do not change with the timebin.\n",
    "\n",
    "\n"
   ]
  },
  {
   "cell_type": "code",
   "execution_count": null,
   "metadata": {
    "pycharm": {
     "name": "#%%\n"
    }
   },
   "outputs": [],
   "source": [
    "# We set the seed to facilitate later comparison\n",
    "# since the samples are stochastic.\n",
    "np.random.seed(42)\n",
    "n = 20\n",
    "\n",
    "r = 1.0\n",
    "length = n - 1\n",
    "alpha = [np.pi / 4] * length\n",
    "phi = [0] * length\n",
    "theta = [0] * length\n",
    "\n",
    "prog0 = sf.Program(n)\n",
    "with prog0.context as q:\n",
    "    for i in range(n - 1):\n",
    "        Sgate(r) | q[i + 1]\n",
    "        BSgate(alpha[i]) | (q[i], q[i + 1])\n",
    "        Rgate(phi[i]) | q[i + 1]\n",
    "        MeasureHomodyne(theta[i]) | q[i]\n",
    "eng0 = sf.Engine(\"gaussian\")\n",
    "result0 = eng0.run(prog0)"
   ]
  },
  {
   "cell_type": "markdown",
   "metadata": {
    "pycharm": {
     "name": "#%% md\n"
    }
   },
   "source": [
    "We can look at an unrolled version of the program above in terms of\n",
    "a circuit diagram as\n",
    "\n",
    "![](Figures/unrolled.png)\n",
    "\n",
    "where, for clarity, we have reduced the number of displayed modes to ``n=5``.\n",
    "\n",
    "Finally, we can also look at the samples:\n",
    "\n"
   ]
  },
  {
   "cell_type": "code",
   "execution_count": null,
   "metadata": {
    "pycharm": {
     "name": "#%%\n"
    }
   },
   "outputs": [],
   "source": [
    "print(result0.samples)"
   ]
  },
  {
   "cell_type": "markdown",
   "metadata": {
    "pycharm": {
     "name": "#%% md\n"
    }
   },
   "source": [
    "In this program we follow each and every time-bin mode (a total of\n",
    "``n=20`` modes) as they progress through the different operations.\n",
    "However, at most only two modes are interacting at the same time. The\n",
    "rest of the modes either have not been squeezed (and thus are in the\n",
    "vacuum state) or have been measured (and thus reset to vacuum).\n",
    "\n",
    "### Reducing simulation resources: shifting modes\n",
    "\n",
    "Instead of keeping track of the modes using labels telling us their time\n",
    "bin, we can label them in terms of the position that they occupy in the\n",
    "circuit above. A convenient choice of labels is to look at the two modes\n",
    "that enter into the beamsplitter. We can use ``0`` for the mode that\n",
    "enters in the top port of the beamsplitter and which has been\n",
    "circulating in the loop. We can use the label ``1`` for the mode that\n",
    "has just been squeezed and is about to enter the beamsplitter in the\n",
    "bottom port. These two modes, which have fixed positions in the circuit,\n",
    "we call concurrent modes; they are, at all times, the only two modes\n",
    "that are not in vacuum in the circuit.\n",
    "\n",
    "To make a closed loop of modes going in and out of the circuit one can\n",
    "recycle the mode that is measured (mode ``0``) and plug it back in as a\n",
    "vacuum mode re-entering the circuit. As it turns out the Gaussian\n",
    "backend of Strawberry Fields automatically resets to vacuum a mode that\n",
    "has been measured thus the resetting is automatically taken care of.\n",
    "\n",
    "To implement the recycling we will need a function that takes the mode\n",
    "that is measured (which sits at the  beginning of the mode list ``q``)\n",
    "and moves it back to the end of the list after it is measured.\n",
    "This functionality is\n",
    "provided by the function ``shift_by`` in the module\n",
    "``strawberryfields.tdm`` as illustrated below:\n",
    "\n",
    "\n"
   ]
  },
  {
   "cell_type": "code",
   "execution_count": null,
   "metadata": {
    "pycharm": {
     "name": "#%%\n"
    }
   },
   "outputs": [],
   "source": [
    "from strawberryfields.tdm import shift_by\n",
    "\n",
    "l = [0, 1, 2, 3, 4]\n",
    "shift_by(l, 1)"
   ]
  },
  {
   "cell_type": "markdown",
   "metadata": {
    "pycharm": {
     "name": "#%% md\n"
    }
   },
   "source": [
    "We are now ready to simulate an ``n=20`` mode circuit using only two\n",
    "concurrent modes:\n",
    "\n",
    "\n"
   ]
  },
  {
   "cell_type": "code",
   "execution_count": null,
   "metadata": {
    "pycharm": {
     "name": "#%%\n"
    }
   },
   "outputs": [],
   "source": [
    "np.random.seed(42)  # We set the seed to facilitate comparison\n",
    "prog1 = sf.Program(2)\n",
    "n = 20\n",
    "with prog1.context as q:\n",
    "    for i in range(n - 1):\n",
    "        Sgate(r) | q[1]\n",
    "        BSgate(alpha[i]) | (q[0], q[1])\n",
    "        Rgate(phi[i]) | q[1]\n",
    "        MeasureHomodyne(theta[i]) | q[0]\n",
    "        # Note that only position 0 of q is measured\n",
    "        q = shift_by(q, 1)\n",
    "eng1 = sf.Engine(\"gaussian\")\n",
    "result1 = eng1.run(prog1)\n",
    "print(result1.samples)"
   ]
  },
  {
   "cell_type": "markdown",
   "metadata": {
    "pycharm": {
     "name": "#%% md\n"
    }
   },
   "source": [
    "Even though we measured ``n-1`` times we only get 2 values. This is\n",
    "because the ``samples`` attribute only contains the last ever measured\n",
    "value(s) in our modes; since we only have two concurrent modes we only get\n",
    "two numbers. To obtain the complete sample record we use the attribute\n",
    "``samples_dict``, which contains all measured samples inside of a dict.\n",
    "\n",
    "\n"
   ]
  },
  {
   "cell_type": "code",
   "execution_count": null,
   "metadata": {
    "pycharm": {
     "name": "#%%\n"
    }
   },
   "outputs": [],
   "source": [
    "print(result1.samples_dict)"
   ]
  },
  {
   "cell_type": "markdown",
   "metadata": {
    "pycharm": {
     "name": "#%% md\n"
    }
   },
   "source": [
    "Note that we obtain the same samples as in ``result0.samples`` except\n",
    "that they are ordered in a slightly different arrangement. We can put\n",
    "them in the correct order by using ``reshape_samples``\n",
    "\n",
    "\n"
   ]
  },
  {
   "cell_type": "code",
   "execution_count": null,
   "metadata": {
    "pycharm": {
     "name": "#%%\n"
    }
   },
   "outputs": [],
   "source": [
    "from strawberryfields.tdm import reshape_samples\n",
    "\n",
    "reshape_samples(result1.samples_dict, [0], [2], n - 1)"
   ]
  },
  {
   "cell_type": "markdown",
   "metadata": {
    "pycharm": {
     "name": "#%% md\n"
    }
   },
   "source": [
    "The second argument ``[0]`` gives the label of the\n",
    "concurrent mode where a measurement happened,\n",
    "while the third argument ``[2]`` indicates, for this simple one loop program,\n",
    "that there are only two concurrent modes in a single loop.\n",
    "Finally, the last argument gives the information on the number of\n",
    "time bins measured. Notice that it is ``n-1`` and not ``n``.\n",
    "\n"
   ]
  },
  {
   "cell_type": "markdown",
   "metadata": {
    "pycharm": {
     "name": "#%% md\n"
    }
   },
   "source": [
    "All the measurement outcomes are now attached to the only mode\n",
    "that we ever measured, namely ``0``. Note that in ``result1.samples_dict``\n",
    "the samples are attached to different modes. This is an artifact of the\n",
    "recycling.\n",
    "\n",
    "\n"
   ]
  },
  {
   "cell_type": "markdown",
   "metadata": {
    "pycharm": {
     "name": "#%% md\n"
    }
   },
   "source": [
    "By recycling the modes we are now able to simulate very long circuits\n",
    "with just two modes. Going back to our hypothetical one thousand mode example,\n",
    "we would need to keep in memory millions of real numbers, instead by using\n",
    "a time-domain strategy where we only worry about concurrent modes we only ever\n",
    "need to consider covariances matrices of size four by four, which results\n",
    "in massive speed and memory gains!\n",
    "\n",
    "\n",
    "### The TDMProgram\n",
    "\n",
    "Rather than performing the mode shifting and sample reshaping manually,\n",
    "Strawberry Fields provides the `~strawberryfields.TDMProgram` program class\n",
    "for automating this procedure, making it easy to construct and simulate time-domain\n",
    "multiplexing algorithms.\n",
    "\n",
    "In this class one needs to specify the number of\n",
    "active modes (``N=2`` for the example above) and then the class takes\n",
    "care of automatically shifting the modes and reshaping the samples. Thus\n",
    "the program above could have been rewritten as\n",
    "\n",
    "\n"
   ]
  },
  {
   "cell_type": "code",
   "execution_count": null,
   "metadata": {
    "pycharm": {
     "name": "#%%\n"
    }
   },
   "outputs": [],
   "source": [
    "np.random.seed(42)  # We set the seed to facilitate comparison\n",
    "N = 2  # Number of concurrent modes\n",
    "prog2 = sf.TDMProgram(N=N)\n",
    "\n",
    "with prog2.context(alpha, phi, theta) as (p, q):\n",
    "    Sgate(r, 0) | q[1]\n",
    "    BSgate(p[0]) | (q[0], q[1])\n",
    "    Rgate(p[1]) | q[1]\n",
    "    MeasureHomodyne(p[2]) | q[0]\n",
    "eng2 = sf.Engine(\"gaussian\")\n",
    "result2 = eng2.run(prog2)\n",
    "print(result2.samples)"
   ]
  },
  {
   "cell_type": "markdown",
   "metadata": {
    "pycharm": {
     "name": "#%% md\n"
    }
   },
   "source": [
    "In a ``TDMProgram`` we need to specify the number of concurrent modes\n",
    "``N``. Then we pass to the ``context`` the sequences of\n",
    "the different parameters that will be used in the program, in our case\n",
    "the lists ``alpha``, ``phi`` and ``theta``. The three variables in the\n",
    "list ``p`` will cycle through the corresponding values of these lists.\n",
    "For example, ``p[0]`` will go through the values of ``alpha`` as the\n",
    "simulation progresses.\n",
    "\n",
    "\n"
   ]
  },
  {
   "cell_type": "markdown",
   "metadata": {
    "pycharm": {
     "name": "#%% md\n"
    }
   },
   "source": [
    "## A single-loop architecture\n",
    "\n",
    "We will now write a simple function that\n",
    "encapsulates the single loop architecture using a ``TDMprogram``. Then we\n",
    "will use it to generate samples of interesting quantum states and\n",
    "investigate their correlations.\n",
    "\n",
    "\n"
   ]
  },
  {
   "cell_type": "code",
   "execution_count": null,
   "metadata": {
    "pycharm": {
     "name": "#%%\n"
    }
   },
   "outputs": [],
   "source": [
    "def singleloop(r, alpha, phi, theta, shots):\n",
    "    \"\"\"Single loop program.\n",
    "\n",
    "    Args:\n",
    "        r (float): squeezing parameter\n",
    "        alpha (Sequence[float]): beamsplitter angles\n",
    "        phi (Sequence[float]): rotation angles\n",
    "        theta (Sequence[float]): homodyne measurement angles\n",
    "        shots (int): number of times the circuit is sampled\n",
    "    Returns:\n",
    "        list: homodyne samples from the single loop simulation\n",
    "    \"\"\"\n",
    "\n",
    "    prog = sf.TDMProgram(N=2)\n",
    "    with prog.context(alpha, phi, theta) as (p, q):\n",
    "        Sgate(r, 0) | q[1]\n",
    "        BSgate(p[0]) | (q[0], q[1])\n",
    "        Rgate(p[1]) | q[1]\n",
    "        MeasureHomodyne(p[2]) | q[0]\n",
    "    eng = sf.Engine(\"gaussian\")\n",
    "    result = eng.run(prog, shots=shots)\n",
    "    # We only want the samples from concurrent mode 0\n",
    "    return result.samples_dict[0]"
   ]
  },
  {
   "cell_type": "markdown",
   "metadata": {
    "pycharm": {
     "name": "#%% md\n"
    }
   },
   "source": [
    "We can use the function we just developed to reproduce for the fourth\n",
    "time the results of our very simple experiment:\n",
    "\n",
    "\n"
   ]
  },
  {
   "cell_type": "code",
   "execution_count": null,
   "metadata": {
    "pycharm": {
     "name": "#%%\n"
    }
   },
   "outputs": [],
   "source": [
    "np.random.seed(42)  # We set the seed to facilitate comparison\n",
    "singleloop(r, alpha, phi, theta, 1)  # We want 1 shot"
   ]
  },
  {
   "cell_type": "markdown",
   "metadata": {
    "pycharm": {
     "name": "#%% md\n"
    }
   },
   "source": [
    "### Generation of EPR states\n",
    "\n",
    "\n"
   ]
  },
  {
   "cell_type": "markdown",
   "metadata": {
    "pycharm": {
     "name": "#%% md\n"
    }
   },
   "source": [
    "With the single loop architecture we can easily generate\n",
    "Einstein-Podolsky-Rosen (EPR) states [[#einstein1935]_]. In this section we will create\n",
    "this bipartite state and probe it using homodyne measurements.\n",
    "\n",
    "\n"
   ]
  },
  {
   "cell_type": "code",
   "execution_count": null,
   "metadata": {
    "pycharm": {
     "name": "#%%\n"
    }
   },
   "outputs": [],
   "source": [
    "r = 2.0\n",
    "alpha = [np.pi / 4, 0]\n",
    "phi = [0, np.pi / 2]\n",
    "theta = [0, 0]  # We will measure the positions by setting theta = [0,0]\n",
    "shots = 2500\n",
    "\n",
    "samplesEPRxx = singleloop(r, alpha, phi, theta, shots)"
   ]
  },
  {
   "cell_type": "markdown",
   "metadata": {
    "pycharm": {
     "name": "#%% md\n"
    }
   },
   "source": [
    "To process the samples we simply transpose the array in which they\n",
    "are stored. This gives us easier access to the values corresponding\n",
    "to the two halves of an EPR state.\n",
    "\n"
   ]
  },
  {
   "cell_type": "code",
   "execution_count": null,
   "metadata": {
    "pycharm": {
     "name": "#%%\n"
    }
   },
   "outputs": [],
   "source": [
    "samplesxx = samplesEPRxx.T\n",
    "x0 = samplesxx[0]\n",
    "x1 = samplesxx[1]\n",
    "\n",
    "# We now want to look at the samples\n",
    "import matplotlib.pyplot as plt\n",
    "\n",
    "plt.figure(figsize=(5, 5))\n",
    "plt.plot(x0, x1, \".\")\n",
    "plt.xlabel(r\"$x_0$\")\n",
    "plt.ylabel(r\"$x_{1}$\")\n",
    "plt.show()"
   ]
  },
  {
   "cell_type": "markdown",
   "metadata": {
    "pycharm": {
     "name": "#%% md\n"
    }
   },
   "source": [
    "We can put this observation in more quantitative terms by looking at the\n",
    "variance of $x_1-x_0$:\n",
    "\n",
    "\n"
   ]
  },
  {
   "cell_type": "code",
   "execution_count": null,
   "metadata": {
    "pycharm": {
     "name": "#%%\n"
    }
   },
   "outputs": [],
   "source": [
    "sample_var_xx = np.var(x0 - x1)\n",
    "sample_var_xx"
   ]
  },
  {
   "cell_type": "markdown",
   "metadata": {
    "pycharm": {
     "name": "#%% md\n"
    }
   },
   "source": [
    "As it turns out the variance of the operator $N_1 = x_1 - x_0$ is\n",
    "related to the amount of squeezing used to prepare the state. One can\n",
    "easily find that $\\text{Var}(N_1) = 2 e^{-2 r}$.\n",
    "\n",
    "\n"
   ]
  },
  {
   "cell_type": "code",
   "execution_count": null,
   "metadata": {
    "pycharm": {
     "name": "#%%\n"
    }
   },
   "outputs": [],
   "source": [
    "expected_var_xx = 2 * np.exp(-2 * r)\n",
    "expected_var_xx"
   ]
  },
  {
   "cell_type": "markdown",
   "metadata": {
    "pycharm": {
     "name": "#%% md\n"
    }
   },
   "source": [
    "In the literature, the operator $N$ for which one finds a relation\n",
    "like the one above, is called a *Nullifier* of the state. A way to\n",
    "understand this name is that the variance of this operator approaches\n",
    "zero (or *nullifies*) as the squeezing in the state grows [[#takeda2019]_].\n",
    "\n",
    "\n"
   ]
  },
  {
   "cell_type": "markdown",
   "metadata": {
    "pycharm": {
     "name": "#%% md\n"
    }
   },
   "source": [
    "The EPR state has a second nullifier, $N_2 = p_1+p_2$. We can\n",
    "confirm this by running our circuit again, but this time measuring\n",
    "in the $P$ quadrature\n",
    "\n",
    "\n"
   ]
  },
  {
   "cell_type": "code",
   "execution_count": null,
   "metadata": {
    "pycharm": {
     "name": "#%%\n"
    }
   },
   "outputs": [],
   "source": [
    "theta = [\n",
    "    np.pi / 2,\n",
    "    np.pi / 2,\n",
    "]  # Now we homodyne the p-quadratures by setting thr angle to pi/2\n",
    "samplesEPRpp = singleloop(r, alpha, phi, theta, shots)\n",
    "\n",
    "samplespp = samplesEPRpp.T\n",
    "p0 = samplespp[0]\n",
    "p1 = samplespp[1]\n",
    "\n",
    "plt.figure(figsize=(5, 5))\n",
    "plt.plot(p0, p1, \".\")\n",
    "plt.xlabel(r\"$p_0$\")\n",
    "plt.ylabel(r\"$p_{1}$\")\n",
    "plt.show()"
   ]
  },
  {
   "cell_type": "markdown",
   "metadata": {
    "pycharm": {
     "name": "#%% md\n"
    }
   },
   "source": [
    "We now calculate the sample variance and the expected variance,\n",
    "except for the effect of finite size statistics, they are almost identical\n",
    "\n",
    "\n"
   ]
  },
  {
   "cell_type": "code",
   "execution_count": null,
   "metadata": {
    "pycharm": {
     "name": "#%%\n"
    }
   },
   "outputs": [],
   "source": [
    "np.var(p0 + p1), 2 * np.exp(-2 * r)"
   ]
  },
  {
   "cell_type": "markdown",
   "metadata": {
    "pycharm": {
     "name": "#%% md\n"
    }
   },
   "source": [
    "### Generating GHZ states\n",
    "\n",
    "The GHZ states (named after Greenberger, Horne and Zeilinger) [[#greenberger2007]_] can be\n",
    "thought as an $n$-partite generalization of the EPR states [[#vanloock1999]_]. We\n",
    "will prepare these states using the single loop architecture\n",
    "encapsulated in the function ``singleloop`` defined before.\n",
    "\n",
    "\n"
   ]
  },
  {
   "cell_type": "code",
   "execution_count": null,
   "metadata": {
    "pycharm": {
     "name": "#%%\n"
    }
   },
   "outputs": [],
   "source": [
    "n = 10\n",
    "vac_modes = 1  # This is an ancilla mode that is used at the beginning of the protocol\n",
    "shots = 1\n",
    "r = 4\n",
    "alpha = [\n",
    "    np.arccos(np.sqrt(1 / (n - i + 1))) if i != n + 1 else 0\n",
    "    for i in range(n + vac_modes)\n",
    "]\n",
    "alpha[0] = 0.0\n",
    "phi = [0] * (n + vac_modes)\n",
    "phi[0] = np.pi / 2\n",
    "theta = [0] * (\n",
    "    n + vac_modes\n",
    ")  # We will measure first all the states in the X quadrature\n",
    "\n",
    "singleloop(r, alpha, phi, theta, shots)"
   ]
  },
  {
   "cell_type": "markdown",
   "metadata": {
    "pycharm": {
     "name": "#%% md\n"
    }
   },
   "source": [
    "Note that all the *sampled* positions are the\n",
    "same. We can also sample our state in the $p$ basis\n",
    "\n",
    "\n"
   ]
  },
  {
   "cell_type": "code",
   "execution_count": null,
   "metadata": {
    "pycharm": {
     "name": "#%%\n"
    }
   },
   "outputs": [],
   "source": [
    "theta = [np.pi / 2] * (n + vac_modes)  # Now we measure in p quadrature\n",
    "\n",
    "samplep = singleloop(r, alpha, phi, theta, shots)\n",
    "samplep"
   ]
  },
  {
   "cell_type": "markdown",
   "metadata": {
    "pycharm": {
     "name": "#%% md\n"
    }
   },
   "source": [
    "There does not seem to be anything interesting going on when we look at\n",
    "the $p$ quadratures, yet if we consider the sum of the sampled\n",
    "values of the momenta we find that the momenta add up to approximately\n",
    "zero:\n",
    "\n",
    "\n"
   ]
  },
  {
   "cell_type": "code",
   "execution_count": null,
   "metadata": {
    "pycharm": {
     "name": "#%%\n"
    }
   },
   "outputs": [],
   "source": [
    "np.sum(samplep[1:])  # Note that we exclude the first element, the \"vacuum mode\""
   ]
  },
  {
   "cell_type": "markdown",
   "metadata": {
    "pycharm": {
     "name": "#%% md\n"
    }
   },
   "source": [
    "Indeed, like for the EPR state defined before, one can introduce\n",
    "nullifiers for the GHZ states such as\n",
    "$N_k = x_k - x_n$ for $1 \\leq k < n$,\n",
    "\n",
    "\n"
   ]
  },
  {
   "cell_type": "markdown",
   "metadata": {
    "pycharm": {
     "name": "#%% md\n"
    }
   },
   "source": [
    "We now generate many samples and statistically verify that the variances\n",
    "of the nullifier decay exponentially with the amount of squeezing\n",
    "\n",
    "\n"
   ]
  },
  {
   "cell_type": "code",
   "execution_count": null,
   "metadata": {
    "pycharm": {
     "name": "#%%\n"
    }
   },
   "outputs": [],
   "source": [
    "# Collect x-samples\n",
    "shots = 1000\n",
    "theta = [0] * (n + vac_modes)\n",
    "samplesGHZx = singleloop(r, alpha, phi, theta, shots)\n",
    "\n",
    "nullifier_X = lambda sample: (sample - sample[-1])[vac_modes:-1]\n",
    "val_nullifier_X = np.var([nullifier_X(x) for x in samplesGHZx], axis=0)"
   ]
  },
  {
   "cell_type": "markdown",
   "metadata": {
    "pycharm": {
     "name": "#%% md\n"
    }
   },
   "source": [
    "The sample variances of the X nullifiers are\n",
    "\n"
   ]
  },
  {
   "cell_type": "code",
   "execution_count": null,
   "metadata": {
    "pycharm": {
     "name": "#%%\n"
    }
   },
   "outputs": [],
   "source": [
    "val_nullifier_X"
   ]
  },
  {
   "cell_type": "markdown",
   "metadata": {
    "pycharm": {
     "name": "#%% md\n"
    }
   },
   "source": [
    "While their expected value is\n",
    "\n"
   ]
  },
  {
   "cell_type": "code",
   "execution_count": null,
   "metadata": {
    "pycharm": {
     "name": "#%%\n"
    }
   },
   "outputs": [],
   "source": [
    "2 * np.exp(-2 * r)"
   ]
  },
  {
   "cell_type": "markdown",
   "metadata": {
    "pycharm": {
     "name": "#%% md\n"
    }
   },
   "source": [
    "## Conclusion and final remarks\n",
    "We have introduced the basic ideas of time-domain circuits by gradually\n",
    "transforming a simple one-loop ``n``-mode optical setup from a brute\n",
    "force simulator to a time-domain simulator using the :class:`~strawberryfields.TDMProgram`.\n",
    "Using the later class we achieve significant computational savings: a brute force\n",
    "Gaussian simulator requires resources scaling quadratically with the number of modes,\n",
    "a time-domain approach requires only constant (and very modest) resources.\n",
    "We have used this highly efficient implementation to study the correlations\n",
    "of EPR and GHZ states, the canonical bipartite and multipartite entangled\n",
    "states in the continuous-variable domain.\n",
    "\n"
   ]
  },
  {
   "cell_type": "markdown",
   "metadata": {
    "pycharm": {
     "name": "#%% md\n"
    }
   },
   "source": [
    "## References\n",
    "\n",
    ".. [#advantage2022]\n",
    "\n",
    "    `Quantum computational advantage with a programmable photonic processor <https://xanadu.ai/qca-paper>`__.\n",
    "\n",
    ".. [#takeda2019]\n",
    "\n",
    "    S. Takeda, T. Kan and A. Furusawa. On-demand photonic entanglement synthesizer.\n",
    "    Science Advances, 2019. doi:10.1126/sciadv.aaw4530 .\n",
    "\n",
    ".. [#yoshikawa2016]\n",
    "\n",
    "    J. Yoshikawa, S. Yokoyama, T. Kaji, C. Sornphiphatphong, Y. Shiozawa, K. Makino and A. Furusawa.\n",
    "    Generation of one-million-mode continuous-variable cluster state by unlimited time-domain multiplexing.\n",
    "    APL Photonics, 2016. doi:10.1063/1.4962732 .\n",
    "\n",
    ".. [#larsen2019]\n",
    "\n",
    "    M. V. Larsen, X. Guo, C. R. Breum, J. S. Neergaard-Nielsen and U. L. Andersen.\n",
    "    Deterministic generation of a two-dimensional cluster state.\n",
    "    Science, 2019. doi:10.1126/science.aay4354 .\n",
    "\n",
    ".. [#asavanant2019]\n",
    "\n",
    "    W.Asavanant, Y. Shiozawa, S. Yokoyama, B. Charoensombutamon, H. Emura, R. N. Alexander, S. Takeda, J. Yoshikawa, N. C. Menicucci, H. Yonezawa and A. Furusawa.\n",
    "    Generation of time-domain-multiplexed two-dimensional cluster state.\n",
    "    Science, 2019. doi:10.1126/science.aay2645 .\n",
    "\n",
    ".. [#einstein1935]\n",
    "\n",
    "    A. Einstein, B. Podolsky and N. Rosen. Can quantum-mechanical description of physical reality be considered complete?\n",
    "    Physical Review, 1935. doi:10.1103/PhysRev.47.777 .\n",
    "\n",
    ".. [#greenberger2007]\n",
    "\n",
    "    D. M. Greenberger, M. A. Horne and A. Zeilinger. Going beyond Bell's Theorem\n",
    "    arXiv:0712.0921, 2007.\n",
    "\n",
    ".. [#vanloock1999]\n",
    "\n",
    "    P. van Loock, S. L. Braunstein. Multipartite Entanglement for Continuous Variables: A Quantum Teleportation Network\n",
    "    Physical Review Letters, 2000. doi:10.1103/PhysRevLett.84.3482 .\n",
    "\n"
   ]
  }
 ],
 "metadata": {
  "kernelspec": {
   "display_name": "Python 3 (ipykernel)",
   "language": "python",
   "name": "python3"
  },
  "language_info": {
   "codemirror_mode": {
    "name": "ipython",
    "version": 3
   },
   "file_extension": ".py",
   "mimetype": "text/x-python",
   "name": "python",
   "nbconvert_exporter": "python",
   "pygments_lexer": "ipython3",
   "version": "3.8.13"
  }
 },
 "nbformat": 4,
 "nbformat_minor": 1
}
