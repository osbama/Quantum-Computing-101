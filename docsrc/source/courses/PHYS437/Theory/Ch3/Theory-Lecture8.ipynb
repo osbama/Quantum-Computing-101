{
 "cells": [
  {
   "cell_type": "markdown",
   "source": [
    "# Ch3-Lecture 8\n",
    "\n",
    "## Functions as oracles\n",
    "The first thing we’ll need to do is understand how to model functions in the quantum circuit model. What makes the task slightly non-trivial is that, recall by Postulate 2 of quantum mechanics, all quantum operations must be unitary and hence reversible. In general, however, given the output $f(x)$ of a function, it is not always possible to *invert* $f$ to obtain the input $x$. In other words, we have to compute $f(x)$ in such a way as to guarantee that the computation can be undone. In the case of binary functions, this is achieved via the following setup:"
   ],
   "metadata": {
    "collapsed": false,
    "pycharm": {
     "name": "#%% md\n"
    }
   }
  },
  {
   "cell_type": "markdown",
   "source": [
    "![Oracle](images/oracle_fig-k.png  \"Oracle\")"
   ],
   "metadata": {
    "collapsed": false,
    "pycharm": {
     "name": "#%% md\n"
    }
   }
  },
  {
   "cell_type": "markdown",
   "source": [
    "Here, $U_f  \\in  \\mathcal{U} \\left( \\left( \\mathbb{C}^2\\right)^{ \\otimes 2} \\right)$  is a unitary operator mapping $ \\left|x\\right\\rangle \\left|y\\right\\rangle \\mapsto  \\left|x\\right\\rangle  \\left|x \\oplus y\\right\\rangle  $ for any $x, y  \\in  \\{0, 1\\}$ (i.e. $ \\left|x\\right\\rangle $, $ \\left|y\\right\\rangle $ denote standard basis states), and where $ \\oplus $ denotes XOR or addition modulo 2. Note that by linearity, once we define the action of $U_f$ on standard basis states, we immediately know how it acts on any input state $ \\left|\\psi\\right\\rangle   \\in  \\left( \\mathbb{C}^2 \\right)^{ \\otimes 2} $. Observe now that $U_f$ is reversible — this is because running $U_f$ again on its output, $\\left|x\\right\\rangle  \\left|y \\oplus f(x)\\right\\rangle$, yields state $\\left|x\\right\\rangle  \\left|y \\oplus f(x)\\oplus f(x)\\right\\rangle= \\left|x\\right\\rangle  \\left|y\\right\\rangle $, since $f(x) \\oplus f(x)=0$ (adding the same bit twice and dividing by 2 leaves remainder zero). Second, note that we have not specified the inner workings of $U_f$ (i.e. we have not given a circuit implementing the functionality stated above); in this course, we shall treat $U_f$ as a “black box” or “oracle” which we presume we can run, but cannot “look inside” to see its implementation details.\n"
   ],
   "metadata": {
    "collapsed": false,
    "pycharm": {
     "name": "#%% md\n"
    }
   }
  },
  {
   "cell_type": "markdown",
   "source": [
    "## The phase kickback trick\n",
    "\n",
    "To explain the trick, consider for any $x  \\in  \\{0, 1\\}$ what happens if we run $U_f$ on input $ \\left|x\\right\\rangle  \\left|-\\right\\rangle $:\n",
    "\n",
    "$$\n",
    " \\left|\\psi\\right\\rangle =U_f \\left|x\\right\\rangle  \\left|-\\right\\rangle = \\frac{1}{\\sqrt{2}}  \\left(U_f \\left|x\\right\\rangle  \\left|0\\right\\rangle -U_f \\left|x\\right\\rangle  \\left|1\\right\\rangle \\right)= \\frac{1}{\\sqrt{2}} \\left( \\left|x\\right\\rangle  \\left|f(x)\\right\\rangle-\\left|x\\right\\rangle  \\left|1 \\oplus f(x)\\right\\rangle \\right)= \\left|x\\right\\rangle  \\otimes  \\frac{1}{\\sqrt{2}}  \\left( \\left|f(x)\\right\\rangle-\\left|1 \\oplus f(x)\\right\\rangle \\right)\n",
    "$$\n",
    "\n",
    "Now, there are two possibilities: Either $f(x) = 0$, or $f(x) = 1$. If $f (x) = 0$, the equation above simplifies to\n",
    "\n",
    "$$\n",
    " \\left|\\psi\\right\\rangle =\\left|x\\right\\rangle  \\otimes  \\frac{1}{\\sqrt{2}}  \\left( \\left|0\\right\\rangle-\\left|1 \\right\\rangle \\right)= \\left|x\\right\\rangle  \\left|-\\right\\rangle\n",
    "$$\n",
    "\n",
    "i.e. the input state is unchanged by the action of $U_f$ . If, on the other hand, $f (x) = 1$, we instead have\n",
    "\n",
    "$$\n",
    " \\left|\\psi\\right\\rangle =\\left|x\\right\\rangle  \\otimes  \\frac{1}{\\sqrt{2}}  \\left( \\left|1\\right\\rangle-\\left|0 \\right\\rangle \\right)= -\\left|x\\right\\rangle  \\left|-\\right\\rangle\n",
    "$$\n",
    "\n",
    "i.e. a $−1$ phase factor is produced. We can summarize both these cases in a single equation:\n",
    "\n",
    "$$\n",
    "U_f \\left|x\\right\\rangle  \\left|-\\right\\rangle = \\left(-1\\right)^{f(x)} \\left|x\\right\\rangle  \\left|-\\right\\rangle\n",
    "$$\n"
   ],
   "metadata": {
    "collapsed": false,
    "pycharm": {
     "name": "#%% md\n"
    }
   }
  },
  {
   "cell_type": "markdown",
   "source": [
    "## Grover search and approximate counting\n",
    "\n",
    "Discovered by Lov Grover in 1996, Grover search is more specifically a quantum algorithm for solving the following general problem: Given query access to an oracle containing $N$ items, one of which is “marked”, find the marked item. For example, the “oracle” could be implemented by a 3-SAT formula $\\phi$, indexed by $n$-bit assignments $x$, and the aim is to find a satisfying assignment $x$ (which would be considered “marked”). Grover’s algorithm solves this problem with high probability using $O(\\sqrt{N})$ queries to the database (which turns out to be optimal for a quantum algorithm), whereas a classical algorithm would require $\\Omega(N)$ queries in the worst case. Thus, Grover search solves 3-SAT in $O \\left(\\sqrt{2^n}\\right) $ time."
   ],
   "metadata": {
    "collapsed": false,
    "pycharm": {
     "name": "#%% md\n"
    }
   }
  },
  {
   "cell_type": "markdown",
   "source": [
    "### The unstructured search problem\n",
    "\n",
    "We begin by formalizing the unstructured search problem.\n",
    "\n",
    "**Unstructured search (SEARCH)**\n",
    "* Input: Query access to an oracle $U_f$ for $f : \\{0, 1\\}^n   \\mapsto  \\{0, 1\\}$ an unknown Boolean function, meaning the ability to compute (at unit cost) map\n",
    "  $\n",
    "  \\left|x\\right\\rangle \\left|y\\right\\rangle \\mapsto\\left|x\\right\\rangle  \\left|y \\oplus f(x)\\right\\rangle\n",
    "  $\n",
    "  for any $x, y  \\in  \\{0, 1\\}^n$ , and $ \\oplus $ the bit-wise XOR operation.\n",
    "* Output: An index $x  \\in  \\{0, 1\\}^n$ such that $f (x) = 1$, if one exists.\n",
    "\n",
    "\n",
    "Note that no assumptions about $U_f$ are made, other than the requirement that we have superposition query access to the input/output behavior of $f$.\n",
    "\n",
    "#### Application to 3-SAT and the Exponential-Time Hypothesis.\n",
    "\n",
    "As alluded to in the introduction, we may view a 3-SAT formula φ as a function f : {0, 1}n 7→ {0, 1}, i.e. which maps n-bit\n",
    "assignment x to φ(x). Thus, finding a satisfying assignment to φ is √\n",
    "a special case of SEARCH\n",
    "with f = φ. As we shall see shortly, SEARCH can be solved in O( 2n ) time quantumly, and\n",
    "this turns out to be optimal. Thus, quantumly one can apply\n",
    "Grover search as a black box to\n",
    "√\n",
    "3-SAT to find a satisfying assignment (if one exists) in O( 2n ) time. Does this saying anything\n",
    "about the complexity of 3-SAT itself?\n",
    "Maybe, maybe not. It is generally believed that 3-SAT cannot be solved in subexponential\n",
    "time, at least on a classical computer. This is the premise of the Exponential-Time Hypothesis\n",
    "of Impagliazzo and Paturi from 1999, stated as follows.\n",
    "Claim 11.3 (Exponential-Time Hypothesis (ETH)). There exists a constant \u000F > 0 such that\n",
    "3-SAT requires time Ω(2\u000Fn ) on a deterministic Turing machine.\n",
    "While the runtime of Grover’s algorithm√does not contradict ETH, if one does believe ETH, then\n",
    "it is perhaps not too surprising that O( 2n ) turns out to be the optimal worst-case runtime for\n",
    "a black-box quantum search algorithm.\n",
    "Is ETH true? Again, this is not clear, but assuming the truth of the ETH has led to matching\n",
    "runtime lower bounds in an area known as fine-grained complexity. Roughly, the latter aims to\n",
    "pin down the precise complexity of problems which are known to be in P (e.g. is the optimal\n",
    "worst-case runtime, say, O(n3 ) or O(n2 )?). For example, in the Orthogonal Vectors Problem\n",
    "(OV), given sets of vectors A, B ⊆ {0, 1}d with |A| = |B| = n, one is asked whether there exist\n",
    "|vi ∈ A and |wi ∈ B such that hv|wi = 0?\n",
    "Exercise 11.4. Show that OV can be solved in O(n2 d) time.\n",
    "It turns out that, assuming a stronger variant of ETH known as the Strong Exponential Time\n",
    "Hypothesis, the naive polynomial runtime of Exercise 11.4 is the best possible. The interested\n",
    "reader is referred to the accessible survey of Bringmann for details.\n"
   ],
   "metadata": {
    "collapsed": false,
    "pycharm": {
     "name": "#%% md\n"
    }
   }
  },
  {
   "cell_type": "markdown",
   "source": [],
   "metadata": {
    "collapsed": false,
    "pycharm": {
     "name": "#%% md\n"
    }
   }
  }
 ],
 "metadata": {
  "kernelspec": {
   "display_name": "Python 3",
   "language": "python",
   "name": "python3"
  },
  "language_info": {
   "codemirror_mode": {
    "name": "ipython",
    "version": 2
   },
   "file_extension": ".py",
   "mimetype": "text/x-python",
   "name": "python",
   "nbconvert_exporter": "python",
   "pygments_lexer": "ipython2",
   "version": "2.7.6"
  }
 },
 "nbformat": 4,
 "nbformat_minor": 0
}