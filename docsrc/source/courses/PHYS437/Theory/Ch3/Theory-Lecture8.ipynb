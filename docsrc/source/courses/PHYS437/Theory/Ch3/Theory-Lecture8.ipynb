{
 "cells": [
  {
   "cell_type": "markdown",
   "source": [
    "# Ch3-Lecture 8\n",
    "\n",
    "## Functions as oracles\n",
    "The first thing we’ll need to do is understand how to model functions in the quantum circuit model. What makes the task slightly non-trivial is that, recall by Postulate 2 of quantum mechanics, all quantum operations must be unitary and hence reversible. In general, however, given the output $f(x)$ of a function, it is not always possible to *invert* $f$ to obtain the input $x$. In other words, we have to compute $f(x)$ in such a way as to guarantee that the computation can be undone. In the case of binary functions, this is achieved via the following setup:"
   ],
   "metadata": {
    "collapsed": false,
    "pycharm": {
     "name": "#%% md\n"
    }
   }
  },
  {
   "cell_type": "markdown",
   "source": [
    "![Oracle](images/oracle_fig-k.png  \"Oracle\")"
   ],
   "metadata": {
    "collapsed": false,
    "pycharm": {
     "name": "#%% md\n"
    }
   }
  },
  {
   "cell_type": "markdown",
   "source": [
    "Here, Uf ∈ U((C2 )⊗2 ) is a unitary operator mapping |xi|yi 7→ |xi|x ⊕ yi for any x, y ∈ {0, 1}\n",
    "(i.e. |xi, |yi denote standard basis states), and where ⊕ denotes XOR or addition modulo 2.\n",
    "Note that by linearity, once we define the action of Uf on standard basis states, we immediately\n",
    "know how it acts on any input state |ψi ∈ (C2 )⊗2 . Observe now that Uf is reversible — this is because running Uf again on its output, |xi|y⊕f (x)i,\n",
    "yields state |xi|y ⊕ f (x) ⊕ f (x)i = |xi|yi, since f (x) ⊕ f (x) = 0 (adding the same bit twice\n",
    "and dividing by 2 leaves remainder zero). Second, note that we have not specified the inner\n",
    "workings of Uf (i.e. we have not given a circuit implementing the functionality stated above);\n",
    "in this course, we shall treat Uf as a “black box” or “oracle” which we presume we can run,\n",
    "but cannot “look inside” to see its implementation details."
   ],
   "metadata": {
    "collapsed": false,
    "pycharm": {
     "name": "#%% md\n"
    }
   }
  }
 ],
 "metadata": {
  "kernelspec": {
   "display_name": "Python 3",
   "language": "python",
   "name": "python3"
  },
  "language_info": {
   "codemirror_mode": {
    "name": "ipython",
    "version": 2
   },
   "file_extension": ".py",
   "mimetype": "text/x-python",
   "name": "python",
   "nbconvert_exporter": "python",
   "pygments_lexer": "ipython2",
   "version": "2.7.6"
  }
 },
 "nbformat": 4,
 "nbformat_minor": 0
}