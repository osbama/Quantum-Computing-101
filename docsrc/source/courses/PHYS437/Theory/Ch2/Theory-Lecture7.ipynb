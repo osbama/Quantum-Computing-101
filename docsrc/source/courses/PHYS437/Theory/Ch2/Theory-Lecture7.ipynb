{
 "cells": [
  {
   "cell_type": "markdown",
   "source": [
    "# Ch2-Lecture 7\n",
    "\n",
    "## Enropy and Entanglement Distillation\n",
    "\n",
    "The theme of the last two lectures has been of a quantum information theoretic nature — we have studied cloning (or rather, lack thereof), entanglement, and non-local correlations. Before progressing to our next main theme of quantum algorithms, we now give a brief taste of more advanced ideas in quantum information. In the process, we will continue getting used to working with quantum states in both the state vector and density operator formalisms.\n",
    "\n",
    "The main questions we ask in this lecture are the following:\n",
    "\n",
    "* How can we quantify the “amount” of entanglement in a composite quantum system?\n",
    "* Under what conditions can “less entangled” states be “converted” to “more entangled” states?\n",
    "\n",
    "The first question will require the foundational concept of entropy, introduced in the context of classical information theory by Claude Shannon in 1948. The entropy is worthy of a lecture in itself, being an extremely important quantity. The second question above is tied to the discovery of entanglement distillation, in which, similar to the age-old process of distilling potable water from salt water (or more fittingly for our analogy, “pure” water from “dirty” water), one can “distill” pure entanglement from noisy entanglement.\n",
    "\n",
    "## Entropy\n",
    "\n",
    "One of the most influential scientific contributions of the 20th century was the 1948 paper of Claude Shannon, “A Mathematical Theory of Communication”, which single-handed founded the field of information theory. Roughly, the aim of information theory is to study information transmission and compression. For this, Shannon introduced the notion of entropy, which intuitively quantifies “how random” a data source is, or the “average information content” of the source. It turns out that a quantum generalization of entropy will be vital to quantifying entanglement; as such, we begin by defining and motivating the classical Shannon entropy."
   ],
   "metadata": {
    "collapsed": false,
    "pycharm": {
     "name": "#%% md\n"
    }
   }
  },
  {
   "cell_type": "markdown",
   "source": [
    "### Shannon entropy\n",
    "\n",
    "Let $X$ be a discrete random variable taking values from set $ \\left\\{x_1,\\dots,x_n\\right\\} $, where $ \\text{Pr}\\left(x_i\\right) :=  \\text{Pr}\\left(X=x_i\\right)$ denotes the probability that $X$ takes value $x_i$ . Then, the Shannon entropy $H(X)$ is defined as\n",
    "\n",
    "$$\n",
    "H(X)= \\sum_{i=1}^{n}- \\text{Pr}\\left(x_i\\right)\\log \\left( \\text{Pr}\\left(x_i\\right) \\right)\n",
    "$$\n",
    "\n",
    "Here, the logarithm is taken base 2, and we define $0.\\log\\left(0\\right)=0 $.\n",
    "\n",
    "Before getting our hands dirty understanding $H(x)$, let us step back and motivate it via data compression. Suppose we have a data source whose output we wish to transmit from (say) Germany to Canada. Naturally, we may wish to first _compress_ the data, so that we need to transmit as few bits as possible between the two countries. Furthermore, a compression scheme is useless unless we are later able to _recover_ or _uncompress_ the data in Canada. This raises the natural question: **How few bits can one transmit, so as to ensure recovery of the data on the receiving end?** Remarkably, Shannon’s noiseless coding theorem says that this quantity is given by the entropy! Roughly, the theorem says that in order to reliably transmit N i.i.d. (independently and identically distributed) random variables $X_i$ from a random source $X$, it is necessary and sufficient to instead send $H(X)$ bits of communication.\n",
    "\n",
    " We now explore the sense in which $H(X)$ indeed quantifies the “randomness” or “uncertainty” of $X$ by considering two boundary cases. In the first boundary case, $X$ models a fair coin flip, i.e. $X$ takes value HEADS or TAILS with probability 1/2 each. Then,\n",
    "\n",
    "$$\n",
    "H(X)=- \\frac{1}{2}  \\log\\left( \\frac{1}{2} \\right)- \\frac{1}}  \\log\\left( \\frac{1}{2} \\right)= \\frac{1}{2} + \\frac{1}{2} =1\n",
    "$$\n",
    "\n",
    "Therefore, we interpret a fair coin as encoding, on average, _one_ bit of information. Alternatively, in the information transmission setting, we would need to transmit a single bit to convey the answer of the coin flip from Germany to Canada. This intuitively makes sense — since the outcome of the coin flip is completely random, there is no way to guess its outcome in Canada with success probability greater than 1/2 (i.e. a random guess)."
   ],
   "metadata": {
    "collapsed": false,
    "pycharm": {
     "name": "#%% md\n"
    }
   }
  },
  {
   "cell_type": "markdown",
   "source": [
    "#### Send it after class 1\n",
    "Suppose random variable $Y$ models a biased coin, e.g. takes value HEADS and TAILS with probability 1 and 0, respectively. What is $H(Y)$?"
   ],
   "metadata": {
    "collapsed": false,
    "pycharm": {
     "name": "#%% md\n"
    }
   }
  },
  {
   "cell_type": "markdown",
   "source": [
    "In the above exercise, there is no “uncertainty”; we know the outcome will be HEADS. Thus, in the communication setting, one can interpret this as saying zero bits of communication are required to transmit the outcome of the coin flip from Germany to Canada (assuming both Germany and Canada know the probabilities of obtaining HEADS and TAILS beforehand). Indeed, the answer to the exercise above is $H(Y) = 0$."
   ],
   "metadata": {
    "collapsed": false,
    "pycharm": {
     "name": "#%% md\n"
    }
   }
  },
  {
   "cell_type": "markdown",
   "source": [
    "#### Send it after class 2\n",
    "\n",
    "Let random variable $Z$ take values in set $\\{0, 1, 2\\}$ with probabilities $\\{1/4, 1/4, 1/2\\}$, respectively. What is $H(Z)$"
   ],
   "metadata": {
    "collapsed": false,
    "pycharm": {
     "name": "#%% md\n"
    }
   }
  },
  {
   "cell_type": "markdown",
   "source": [
    "The entropy formula is odd-looking; to understand how it is derived, the key observation is the intuition behind the coin flip examples, which says that “when an event is _less_ likely to happen, it reveals _more_ information”. To capture this intuition, Shannon started with a formula for _information content_ $I(x_i)$, which for any possible event $x_i$ for random variable $X$, is given by\n",
    "\n",
    "$$\n",
    "I  \\left(x_i\\right)= \\log\\left( \\frac{1}{ \\text{Pr}\\left(x_i\\right) } \\right)=- \\log\\left( \\text{Pr}\\left(x_i\\right) \\right)\n",
    "$$\n",
    "\n",
    "Since the log function is strictly monotonically increasing (i.e. $I(x) > I(y)$ if $x > y$ for $x, y  \\in  (0, \\infty)$), it holds that $I(x_i)$ captures the idea that “rare events yield more information”. But $I(x)$ also has three other important properties we expect of an “information measure”; here are the first two:\n",
    "1. (Information is non-negative) $I(x)  \\geq  0$\n",
    "2. if $ \\text{Pr}\\left(x\\right)  = 1$, then $I(x) = 0$. (If an event occurs with certainty, said occurrence conveys no information)\n",
    "\n",
    "\n",
    "For the third important property, we ask — why did we use the log function? Why not any other monotonically increasing function satisfying properties (1) and (2) above? Recall that, by definition, two random variables $X$ and $Y$ are independent if\n",
    "\n",
    "$$\n",
    " \\text{Pr}\\left(X = x \\text{ and } Y = y\\right)=  \\text{Pr}\\left(X = x\\right)\\text{Pr}\\left(Y = y\\right) .\n",
    "$$\n",
    "\n",
    "Moreover, if $X$ and $Y$ are independent, then intuitively one expects the information conveyed by the joint event $z := (X = x \\text{ and } Y = y)$ to be _additive_, i.e. $I(z) = I(x) + I(y)$. But this is precisely what the information content I(x) satisfies, due to its use of the log function."
   ],
   "metadata": {
    "collapsed": false,
    "pycharm": {
     "name": "#%% md\n"
    }
   }
  },
  {
   "cell_type": "markdown",
   "source": [
    "### Send it after class 3\n",
    "\n",
    "Let $X$ and $Y$ be independent random variables. Then, for $z := (X = x \\text{ and } Y =y)$, express $I(z)$ in terms of $I(x)$ and $I(y)$."
   ],
   "metadata": {
    "collapsed": false,
    "pycharm": {
     "name": "#%% md\n"
    }
   }
  },
  {
   "cell_type": "markdown",
   "source": [
    "We can now use the information content to derive the formula for entropy — $H(X)$ is simply the _expected_ information content over all possible events $ \\left\\{  x_1 \\dots  x_n \\right\\} $. (Recall here that for random variable $X$ taking values $x  \\in  \\{x_i\\}$, its expectation $E[x]$ is given by $E[x] =  \\sum_{i} \\text{Pr}\\left(x_i\\right). xi$ ) This is precisely why at the start of this section, we referred to $H(x)$ as the **average** information content of a data source."
   ],
   "metadata": {
    "collapsed": false,
    "pycharm": {
     "name": "#%% md\n"
    }
   }
  },
  {
   "cell_type": "markdown",
   "source": [
    "### Von Neumann Entropy\n",
    "\n",
    "Recall the first aim of this lecture was to use entropy to measure entanglement. For this, we shall require a quantum generalization of the Shannon entropy $H(X)$, named as  the *von Neumann entropy* $S( \\rho )$, for density operator $ \\rho $. To motivate this definition, let us recall the “hierarchy of matrix classes” we introduced in discussing measurements:\n",
    "* Hermitian operators, $\\text{Herm}  \\left(\\mathbb{C}^d\\right) $ , which generalize the real numbers.\n",
    "* Positive semidefinite operators, $\\text{Pos} \\left(\\mathbb{C}^d\\right)$ , which generalize the non-negative real numbers.\n",
    "* Orthogonal projection operators, $\\Pi\\left(\\mathbb{C}^d\\right)$, which generalize the set $\\{0, 1\\}$.\n",
    "\n",
    "Note that $\\Pi\\left(\\mathbb{C}^d\\right) \\subseteq \\text{Pos} \\left(\\mathbb{C}^d\\right) \\subseteq \\text{Herm}  \\left(\\mathbb{C}^d\\right)$ , and that the notion of “generalize” above means the eigenvalues of the operators fall into the respective class the operators generalize. (For example, matrices in $\\text{Pos}  \\left(\\mathbb{C}^d\\right)$ have non-negative eigenvalues.) Applying this same interpretation to the set of *density operators* acting on $\\mathbb{C}^d$, $D  \\left(\\mathbb{C}^d\\right)$ , we thus have that density operators generalize the notion of a *probability distribution*. Indeed, any probability distribution can be embedded into a diagonal density matrix."
   ],
   "metadata": {
    "collapsed": false,
    "pycharm": {
     "name": "#%% md\n"
    }
   }
  },
  {
   "cell_type": "markdown",
   "source": [
    "#### Send it after class 4\n",
    "\n",
    "Let $ \\left\\{p_i\\right\\}^d_{i=1} $ denote a probability distribution. Define diagonal matrix $ \\rho  \\in  \\mathcal{L}  \\left( \\mathbb{C}^d\\right) $ such that $ \\rho  \\left(i,i\\right)=p_i $ . Show that $ \\rho $ is a density matrix."
   ],
   "metadata": {
    "collapsed": false,
    "pycharm": {
     "name": "#%% md\n"
    }
   }
  },
  {
   "cell_type": "markdown",
   "source": [
    "Since the eigenvalues $ \\lambda_i \\left( \\rho \\right) $ of a density operator $ \\rho  \\in D \\left( \\mathbb{C} ^d\\right) $ form a probability distribution, the natural approach for defining a quantum entropy formula is to apply the classical Shannon entropy to the spectrum of $ \\rho $:\n",
    "\n",
    "$$\n",
    "S \\left( \\rho \\right):=H \\left( \\left\\{ \\lambda _i \\left( \\rho \\right) \\right\\}_{i=1}^d \\right)= \\sum_{i=1}^{d}- \\lambda_i \\left(\\rho\\right) \\log\\left(\\lambda_i \\left(\\rho\\right)\\right)\n",
    "$$\n",
    "\n",
    "**Operator functions**. It is important to pause now and take stock of what we have done in defining $S( \\rho )$ : In order to apply a function $f :  \\mathbb{R}  \\mapsto  \\mathbb{R} $ to a Hermitian matrix $H  \\in  \\text{Herm}  \\left(\\mathbb{C}^d\\right)$ , we instead applied $f$ to the *eigenvalues* of $H$. Why does this “work”? Let us look at the Taylor series expansion of $f$ , which for e.g. $f = e^x$ is (the series converges for all x)\n",
    "\n",
    "$$\n",
    "e^x= \\sum_{i=1}^{\\infty} \\frac{x^n}{n!}=1+x+ \\frac{x^2}{2!}+\\frac{x^3}{3!}+\\dots\n",
    "$$\n",
    "\n",
    "This suggests an idea — to define $e^H$ , perhaps we can substitute $H$ in the right hand side of the Taylor series expansion of $e^x$ :\n",
    "\n",
    "$$\n",
    "e^H:= I+H+ \\frac{H^2}{2!}+\\frac{H^3}{3!}+\\dots\n",
    "$$\n",
    "\n",
    "Indeed, this leads to our desired definition; that to generalize the function $f(x) = e^x$ to Hermitian matrices, we apply $f$ to the eigenvalues of $H$."
   ],
   "metadata": {
    "collapsed": false,
    "pycharm": {
     "name": "#%% md\n"
    }
   }
  },
  {
   "cell_type": "markdown",
   "source": [
    "#### Send it after class 5\n",
    "\n",
    "Let $H$ have spectral decomposition $H =  \\sum_{i=1} \\lambda_i \\left| \\lambda_i \\right\\rangle\\!\\left\\langle \\lambda_i \\right|$. Show that\n",
    "\n",
    "$$\n",
    "e^H=\\sum_{i=1} e^{\\lambda_i} \\left| \\lambda_i \\right\\rangle\\!\\left\\langle \\lambda_i \\right|\n",
    "$$"
   ],
   "metadata": {
    "collapsed": false,
    "pycharm": {
     "name": "#%% md\n"
    }
   }
  },
  {
   "cell_type": "markdown",
   "source": [
    "This idea of applying functions $f :  \\mathbb{R}  \\mapsto  \\mathbb{R} $ to the eigenvalues of Hermitian operators is used so frequently in quantum information that we give such “generalized $f$ ” a name — *operator functions*. In the case of $S( \\rho )$, by setting $f(x) =  \\log\\left(x\\right)$, we can rewrite $S( \\rho )$ as\n",
    "\n",
    "$$\n",
    "S( \\rho )=- \\text{Tr}\\left( \\rho  \\log\\left( \\rho \\right) \\right)\n",
    "$$\n"
   ],
   "metadata": {
    "collapsed": false,
    "pycharm": {
     "name": "#%% md\n"
    }
   }
  },
  {
   "cell_type": "markdown",
   "source": [
    "#### Send it after class 6\n",
    "1. Verify $\\sum_{i=1}^{d}- \\lambda_i \\left(\\rho\\right) \\log\\left(\\lambda_i \\left(\\rho\\right)\\right)=- \\text{Tr}\\left( \\rho  \\log\\left( \\rho \\right) \\right)$\n",
    "2. Let $f (x) = x^2$ . What is $f(X)$, $X$ being the Pauli $X$ operator? Why does this yield the same results as multiplying $X$ by itself via matrix multiplication?\n",
    "3. Let $f (x) =\\sqrt{x}$. For any pure state $ \\left|\\psi\\right\\rangle  \\in  \\mathbb{C} ^d $ define rank one density operator $ \\rho = \\left| \\psi \\right\\rangle\\!\\left\\langle \\psi \\right| $. What is $\\sqrt{\\rho}$?\n",
    "4. What is $\\sqrt{Z}$ for the Pauli $Z$ operator? Is it uniquely defined?"
   ],
   "metadata": {
    "collapsed": false,
    "pycharm": {
     "name": "#%% md\n"
    }
   }
  },
  {
   "cell_type": "markdown",
   "source": [
    "#### Properties of the von Neumann entropy\n",
    "\n",
    "Let us now see how properties of $H(X)$ carry over to $S( \\rho )$. These will prove crucial in our understanding of quantifying entanglement shortly.\n",
    "\n",
    "1. *When does a quantum state have no entropy?*\n",
    "   Recall in our biased coin flip example that if an outcome occurs with probability 1 in our distribution, then $H(X) = 0$. Quantumly, the analogue of this statement is that $S( \\rho ) = 0$ if and only if $ \\rho $ is a pure state, i.e. $ \\rho = \\left| \\psi \\right\\rangle\\!\\left\\langle \\psi \\right| $ for some $ \\left|\\psi\\right\\rangle  \\in  \\mathbb{C}^d$ . This is because a recall a pure state is the special case of a mixed state in which one of the states in the preparation procedure is picked with certainty.\n",
    "2. *When does a quantum state have maximum entropy?*\n",
    "   We saw that when $X$ represents a fair coin flip, $H(X) = 1$. This is, in fact, the unique distribution maximizing $H$. Applying this directly to the definition of $S( \\rho )$, we find that $S( \\rho )$ is maximized over all $ \\rho  \\in D \\left( \\mathbb{C}^2\\right)$ if and only if both eigenvalues of $ \\rho $ are 1/2. This implies that $ \\rho  = I/2$. Moreover, this statement generalizes to any dimension $d  \\geq  2$ — for $ \\rho  \\in D \\left( \\mathbb{C}^d\\right)$ , $S( \\rho )$ is maximized if and only if $ \\rho  = I/d$.\n",
    "3. *Quantum information is non-negative.*\n",
    "   Since $H(X)  \\geq  0$, it immediately follows by definition that $S( \\rho )  \\geq  0$.\n",
    "4. *What is the quantum analogue of independent probability distributions $X$ and $Y$* ?\n",
    "   Recall that in defining information content, the log function was chosen so as to ensure information is additive when two random variables $X$ and $Y$ are independently distributed. The quantum analogue of this has a natural expression: Let $ \\rho, \\sigma  \\in D \\left( \\mathbb{C}^d\\right)  $, be density matrices. Then, $ \\rho $ and $ \\sigma $ are independent if their joint state is $ \\rho  \\otimes  \\sigma $. In the next exercise, you will prove that this indeed preserves our desired additivity property of information for independent quantum states.\n",
    "\n",
    "There are other important properties of $S( \\rho )$ which we do not wish to focus on at present; for completeness, however, let us briefly mention two more: (1) For arbitrary, possibly entangled, bipartite mixed states $ \\rho_{AB} $:$S \\left(\\rho_{AB}\\right) \\leq S \\left(\\rho_{A}\\right)+S \\left(\\rho_{B}\\right) $ (subadditivity), and (2) $S \\left( \\sum_{i=1}^{n} p_i \\rho_i\\right) \\geq \\sum_{i=1}^{n} p_i S \\left(\\rho_i\\right)  $ for $ \\left\\{p_i\\right\\}_{i=1}^{m} $ (concavity). Here, and henceforth in this course, we use the shorthand\n",
    "\n",
    "$$\n",
    " \\rho_A :=  \\text{Tr}_B\\left( \\rho_{AB}\\right)\n",
    "$$"
   ],
   "metadata": {
    "collapsed": false,
    "pycharm": {
     "name": "#%% md\n"
    }
   }
  },
  {
   "cell_type": "markdown",
   "source": [
    "### Send it after class 7\n",
    "1. Prove that for any pure state $ \\left|\\psi\\right\\rangle $, $S( \\left| \\psi \\right\\rangle\\!\\left\\langle \\psi \\right| ) = 0$.\n",
    "2. For $ \\rho =I/d$, what is $S( \\rho )$?\n",
    "3. Prove that $S( \\rho  \\otimes  \\sigma ) = S( \\rho ) + S( \\sigma )$"
   ],
   "metadata": {
    "collapsed": false,
    "pycharm": {
     "name": "#%% md\n"
    }
   }
  },
  {
   "cell_type": "markdown",
   "source": [
    "## Quantifying entanglement in composite quantum systems\n",
    "\n",
    "With the notion of entropy in hand, we return to the following fundamental question. Let\n",
    "$ \\rho_{AB} \\in D \\left( \\mathbb{C}^d \\otimes  \\mathbb{C}^d\\right)  $ be a bipartite quantum state. Can one efficiently determine if $\\rho_{AB}$ is entangled? (Recall this means that $\\rho_{AB}$ cannot be written $\\rho_{AB} =  \\sum_{i=1} p_i  \\rho_{A,i}  \\otimes  \\rho_{B,i}$ as a convex combination of product states.) Roughly, if one uses $d$ to encode the size of the input (i.e. the input is the entire $d^2\\times d^2$ matrix representing $\\rho_{A,B}$ ), then deciding this question turns out to be NP-hard. This directly implies that quantifying “how much” entanglement is in $\\rho_{A,B}$ is also NP-hard. However, there is a special case in which we _can_ do both tasks efficiently — the case of bipartite _pure_ states $ \\left|\\psi_{AB}\\right\\rangle \\in  \\mathbb{C}^d \\otimes  \\mathbb{C}^d $ . It is here in which the von Neumann entropy plays a role.\n",
    "\n",
    "In fact, a previous lecture already discussed an efficient test for entanglement for $\\left|\\psi_{AB}\\right\\rangle$ — the latter is entangled if and only if\n",
    "  $$\n",
    "   \\rho_A:= \\text{Tr}_B\\left( \\left| \\psi_{AB} \\right\\rangle\\!\\left\\langle \\psi_{AB} \\right| \\right)\n",
    "  $$\n",
    "has rank at least 2. This, in turn, followed because it immediately implies the Schmidt rank of $ \\left|\\psi_{AB}\\right\\rangle $ is at least 2. However, we can say more. Suppose we have Schmidt decomposition\n",
    "  $$\n",
    "   \\left|\\psi_{AB}\\right\\rangle= \\sum_{i=1}^{d}s_i \\left| a_i \\right\\rangle\\!\\left\\langle b_i \\right|\n",
    "  $$\n",
    "Then, intuitively, as with the example of a Bell pair, $ \\left|\\psi_{AB}\\right\\rangle $ is “highly entangled” if all the Schmidt coefficients $s_i$ are approximately equal in magnitude, and $ \\left|\\psi_{AB}\\right\\rangle $ is “weakly entangled” if there exists a single $s_i$ whose magnitude is approximately 1. Do we know of a function which quantifies precisely this sort of behavior on the set $\\{s_i\\}$? Indeed, the entropy function! This notion of $s_i$ being “spread out” versus “concentrated” is highly reminiscent of our fair versus biased coin flip example for the Shannon entropy. We can therefore use the von Neumann entropy to define an entanglement measure $E( \\left|\\psi_{AB}\\right\\rangle )$ as\n",
    "  $$\n",
    "  E \\left(\\left|\\psi_{AB}\\right\\rangle\\right):=S \\left( \\rho_A\\right)\n",
    "  $$\n",
    "\n",
    "Finally, let us close this section with a natural question — does $E \\left(\\left|\\psi_{AB}\\right\\rangle\\right)$ still measure entanglement when its input is allowed to be a mixed state $ \\rho_{AB} $ (as opposed to a pure state $ \\left|\\psi_{AB}\\right\\rangle $? This is the last question in the following exercise."
   ],
   "metadata": {
    "collapsed": false,
    "pycharm": {
     "name": "#%% md\n"
    }
   }
  },
  {
   "cell_type": "markdown",
   "source": [
    "### Send it after class 8\n",
    "1. What is $E \\left(\\left|  \\Phi^+_{AB}\\right\\rangle\\right) $ for $  \\left|\\Phi^+\\right\\rangle =  \\frac{1}{2}  \\left( \\left|00\\right\\rangle + \\left|11\\right\\rangle \\right)$ a Bell state?\n",
    "2. What is $E \\left( \\left|+\\right\\rangle_A \\left|-\\right\\rangle_B\\right) $?\n",
    "3. Unlike the example of the fair coin, the Schmidt coefficients $s_i$ of $ \\left|\\psi_{AB}\\right\\rangle $ are not probabilities, but amplitudes (i.e. we do not have $ \\sum_{i=1}  s_i = 1$, but rather $ \\sum_{i=1}  s_i^2 = 1$). Show, however, that the notion of probabilities is recovered in the formula $S( \\rho_A)$, i.e. show that the eigenvalues of $ \\rho_A$ are the precisely set $ \\left\\{s_i^2\\right\\}_{i=1}^d $, which *do* form a distribution.\n",
    "4. Define $E \\left( \\rho_{AB} \\right):=S \\left( \\text{Tr}_B\\left( \\rho_{AB} \\right) \\right)=S \\left( \\rho_A \\right)$. Recall that the maximally mixed state on two qubits is a product state, i.e. $I/4 = I/2  \\otimes  I/2$. Show that $E(I/4) = 1$. Why does this imply when cannot use $E$ as an entanglement measure for bipartite mixed states?"
   ],
   "metadata": {
    "collapsed": false,
    "pycharm": {
     "name": "#%% md\n"
    }
   }
  },
  {
   "cell_type": "markdown",
   "source": [
    "## Entanglement distillation\n",
    "\n",
    "Now that we have a notion of how to quantify entanglement in pure states, we can become greedy — under what circumstances is it possible to “increase” the amount of entanglement in a composite quantum system? This is a highly non-trivial question, as fundamental communication tasks such as teleportation require highly entangled Bell pairs as a resource. Unfortunately, experimentally producing such pure states is generally a difficult task due to noise from the environment. In other words, in a lab one is typically able to produce _mixed_ states, as opposed to pure states. Moreover, *even if* Alice could produce perfect Bell pairs in a lab on Earth, when she sends half of a Bell pair to Bob on Mars, the transmitted qubit will again typically be subject to noise, yielding a shared mixed state $ \\rho_{AB}$ between Alice and Bob. Do Alice and Bob have any hope of running the teleportation protocol given $ \\rho_{AB}$ ?\n",
    "\n",
    "**Local Operations and Classical Communication (LOCC).** To answer the question,it is important to first define the rules of the game. Since Alice and Bob are spatially separated, they are not able to apply joint quantum operations to both systems $A$ and $B$, e.g. they cannot apply a non-factorizable unitary $U_{AB}  \\in  U \\left( \\mathbb{C}^d \\otimes  \\mathbb{C}^d\\right)$ to $ \\rho_{AB}$ . However, they _can_ apply local unitaries and measurements, e.g. factorizable unitaries of the form $U_A \\otimes U_B$ for $U_A,UB  \\in  U( \\mathbb{C}^d)$ (i.e.\n",
    "Alice locally applies $U_A$ , Bob locally applies $U_B$ ). They can also pick up the phone and call one another to transmit classical information. Taken together, this set of allowed operations is given a name: Local Operations and Classical Communication (LOCC). The question is thus: *Given a shared mixed state $ \\rho_{AB}$ , can Alice and Bob use LOCC to “purify” or “distill” Bell states out of $ \\rho_{AB}$ ?* The answer is sometimes yes, and protocols accomplishing this are called distillation protocols, as they recover “pure” entanglement from “noisy” or mixed state entanglement.\n",
    "\n",
    "**A simple distillation protocol.** We shall discuss a simple distillation protocol, known as the *recurrence protocol*. Given as input a mixed two-qubit state $ \\rho_{AB} \\in D \\left( \\mathbb{C}^2 \\otimes  \\mathbb{C}^2 \\right) $  our aim is to distill the Bell state known as the *singlet*,   $\\left|\\Psi^-\\right\\rangle =  \\frac{1}{\\sqrt{2}}  \\left( \\left|01\\right\\rangle - \\left|10\\right\\rangle \\right)$  ; note $I \\otimes Y \\left|\\Psi^-\\right\\rangle =i \\left|\\Phi^+\\right\\rangle $, making it easy to convert one Bell state into the other for the teleportation scheme. There is a required precondition for the protocol to work — the input state $ \\rho_{AB}$ must have sufficient initial overlap with $ \\left|\\Psi^-\\right\\rangle $ i, i.e.\n",
    "\n",
    "$$\n",
    "F ( \\rho_{AB} ) :=  \\left\\langle \\Psi^- \\right| \\rho_{AB}\\left| \\Psi^- \\right\\rangle  > \\frac{1}{2}\n",
    "$$\n",
    "\n",
    "In other words, in transmitting half of $ \\left|\\Psi^-\\right\\rangle $ from Alice to Bob, the resulting mixed state $ \\rho_{AB}$ should not have deviated “too far” from $ \\left|\\Psi^-\\right\\rangle $. Henceforth, we shall use shorthand $F$ to denote $F ( \\rho_{AB} )$ for brevity.\n",
    "\n",
    "Suppose Alice and Bob share two copies of $ \\rho_{AB}$ ; let us label them $ \\rho_{A_1B_1}$ and $ \\rho_{A_2B_2}$ , where Alice holds systems $A_1 , A_2$ , and Bob holds $B_1 , B_2$ . Each round of the distillation protocol proceeds as follows.\n",
    "\n",
    "1. (Twirling operation) Alice picks a Pauli operator $U$ from set $\\{I, X, Y, Z\\}$ uniformly at random, and communicates this choice to Bob. They each locally apply operator $\\sqrt{U}$ to $ \\rho_{A_iB_i}$ for $i  \\in  \\{1, 2\\}$ (note that $U$ is defined using the notion of operator functions), obtaining\n",
    "\n",
    "   $$\n",
    "    \\sigma_{A_iB_i}:= \\left(\\sqrt{U_A} \\otimes\\sqrt{U_B} \\right) \\rho_{A_iB_i}\\left(\\sqrt{U_A}^\\dagger  \\otimes\\sqrt{U_B}^\\dagger  \\right)\n",
    "   $$\n",
    "\n",
    "   This random choice of Pauli and its subsequent local application is together called the *twirling map* $\\Phi:D \\left( \\mathbb{C}^2 \\otimes  \\mathbb{C}^2\\right) \\mapsto D \\left( \\mathbb{C}^2 \\otimes  \\mathbb{C}^2\\right) $, and is not a unitary map (due to the random choice over Pauli operators); nevertheless, it can clearly be implemented given the ability to flip random coins and apply arbitrary single qubit gates. (The formal framework for studying such operations is via *Trace Preserving Completely Positive Maps*, and is beyond the scope of this course.) The nice thing about the twirling operation is that, for any input $ \\rho_{AB}$ , $\\Phi \\left(\\rho_{AB}\\right) $ can be diagonalized in the Bell basis, i.e. can be written\n",
    "\n",
    "    $$\n",
    "    \\Phi \\left(\\rho_{AB}\\right)  = F  \\left| \\Psi^- \\right\\rangle\\!\\left\\langle \\Psi^- \\right|+  \\frac{1-F}{3} \\left| \\Psi^+ \\right\\rangle\\!\\left\\langle \\Psi^+ \\right| +  \\frac{1-F}{3} \\left| \\Phi^+ \\right\\rangle\\!\\left\\langle \\Phi^+ \\right| + \\frac{1-F}{3} \\left| \\Phi^- \\right\\rangle\\!\\left\\langle \\Phi^- \\right|\n",
    "    $$\n",
    "\n",
    "    for Bell basis $ \\left\\{ \\left|\\Phi^+\\right\\rangle , \\left|\\Phi^-\\right\\rangle , \\left|\\Psi^+\\right\\rangle , \\left|\\Psi^-\\right\\rangle \\right\\} $, where $F$ is given above\n",
    "2. (Convert from $ \\left|\\Psi^-\\right\\rangle $ to $ \\left|\\Phi^+\\right\\rangle $ Alice applies Pauli $Y$ to her half of each state to obtain states:\n",
    "\n",
    "   $$\n",
    "    \\sigma_{A_iB_i}=\\frac{1-F}{3} \\left| \\Psi^- \\right\\rangle\\!\\left\\langle \\Psi^- \\right| +  \\frac{1-F}{3} \\left| \\Psi^+ \\right\\rangle\\!\\left\\langle \\Psi^+ \\right| + F \\left| \\Phi^+ \\right\\rangle\\!\\left\\langle \\Phi^+ \\right| +\\frac{1-F}{3} \\left| \\Phi^- \\right\\rangle\\!\\left\\langle \\Phi^- \\right|\n",
    "   $$\n",
    "\n",
    "   This shifts most of the weight in $\\Phi( \\rho_{A_iB_i} $ from $ \\left|\\Psi^-\\right\\rangle $ to $ \\left|\\Phi^+\\right\\rangle $, since $F > 1/2$.\n",
    "\n",
    "3. (Application of CNOT gates) Alice applies a CNOT gate with qubit $A_1$ as the control and $A_2$ as the target. Bob does the same for $B_1$ and $B_2$ .\n",
    "\n",
    "4. (Local measurements) Alice and Bob each locally measure $A_2$ and $B_2$ in the standard basis, obtaining outcomes $a$ and $b$ in $\\{0, 1\\}$, respectively. They pick up the phone to compare their measurement results $a$ and $b$. If $a = b$, they keep the remaining composite system on $AB$, denoted $ \\sigma^\\prime_{A_1B_1}  $. Otherwise if $a \\neq b$, they throw out all systems and start again.\n",
    "\n",
    "5. (Convert from $ \\left|\\Phi^+\\right\\rangle $ to $ \\left|\\Psi^-\\right\\rangle $) Alice applies Pauli $Y$ to her half of $\\sigma^\\prime_{A_1B_1}$ to convert its $ \\left|\\Phi^+\\right\\rangle $ component back to $ \\left|\\Psi^-\\right\\rangle $.\n",
    "\n",
    "\n",
    "To get a better sense of this protocol in action, let us apply it to a concrete example. Suppose Alice sends half of the singlet to Bob, and along the way, the state |Ψ− i is injected with some completely random noise, denoted by the identity matrix:\n",
    "\n",
    "where the second equality follows by recalling the identity matrix diagonalizes in any basis, including the Bell basis. (The noise-inducing channel above is formally known as the depolarizing channel in quantum information theory.)\n",
    "\n",
    "\n",
    "Finally, Steps 3 and 4 are a bit messier. The intuition here is that the CNOT entangles σA1 B1\n",
    "with σA2 B2 , and the measurement forces the bits in the second system (formerly in state σA2 B2 )\n",
    "to match; via the entanglement just created, this increases the weight in Equation (6.17) on the\n",
    "terms where bits match, i.e. |Φ+ ihΦ+ | and |Φ− ihΦ− |. Thus, the final Step 5 will yield a state\n",
    "with higher overlap on the desired singlet state |Ψ− i.\n",
    "To run through the full technical analysis for Steps 3 and 4 would be tedious, so we analyze\n",
    "one term of the computation for brevity. Before Step 3 is run, Alice and Bob share state\n",
    "\u0001\n",
    "(6.18)\n",
    "σA1 B1 ⊗ σA2 B2 ∈ D C2 ⊗ C2 ⊗ C2 ⊗ C2 ,\n",
    "where recall Alice holds qubits A1 , A2 , and Bob holds B1 , B2 . Since each σAi Bi has 4 terms in its\n",
    "mixture, the tensor product in Equation (6.18) has 16 terms. By linearity, Step 3 then applies\n",
    "gates CNOTA1 A2 and CNOTB1 B2 to each of these 16 terms, where our notational convention is\n",
    "that CNOT12 has qubit 1 as the control and qubit 2 as the target. Let us analyze one of these\n",
    "16 terms: |Φ+ ihΦ+ |A1 B1 ⊗ |Φ+ ihΦ+ |A2 B2 .\n",
    "\n",
    "If Alice and Bob run Step 4 on this state and obtain matching outcomes a = b, what does the\n",
    "state on qubits A1 B1 collapse to?\n",
    "Finally, let us briefly state what this protocol buys us. A careful but tedious analysis yields\n",
    "that with probability at least 1/4, this protocol maps the input state ρA1 B1 ⊗ρA2 B2 to an output\n",
    "0\n",
    "state σA\n",
    "such that (for Fρ := F (ρA1 B1 ))\n",
    "1 B1\n",
    "0\n",
    "F (σA\n",
    ")=\n",
    "1 B1\n",
    "Fρ2 + 19 (1 − Fρ )2\n",
    "Fρ2 + 32 Fρ (1 − Fρ ) + 59 (1 − Fρ )2\n",
    ".\n",
    "(6.19)\n",
    "0\n",
    "So long as Fρ > 1/2, one can show F (σA\n",
    ") > Fρ ; thus, recursively applying this protocol\n",
    "1 B1\n",
    "(using many pairs of input states ρAB ) improves our overlap with our desired target state of\n",
    "|Ψ− i."
   ],
   "metadata": {
    "collapsed": false,
    "pycharm": {
     "name": "#%% md\n"
    }
   }
  },
  {
   "cell_type": "markdown",
   "source": [
    "Exercise 6.17. Show that Z ⊗ Z maps |Φ+ i to |Φ− i and vice  versa.  Using the additional identities that X ⊗ X maps |Φ+ i to |Ψ+ i and vice versa, and Y ⊗ Y maps |Φ− i to |Ψ+ i and vice versa, show that the twirling map leaves ρAB in Equation (6.16) invariant.\n",
    "Exercise 6.18. Show that applying YA ⊗ I to ρAB yields in Step 2 that\n",
    "Exercise 6.19. Show that\n",
    "(CNOTA1 A2 ⊗ CNOTB1 B2 )|Φ+ iA1 B1 ⊗|Φ+ iA2 B2 =\n",
    "1\n",
    "(|0000i + |0011i + |1100i + |1111i)A1 B1 A2 B2 .\n",
    "2"
   ],
   "metadata": {
    "collapsed": false,
    "pycharm": {
     "name": "#%% md\n"
    }
   }
  }
 ],
 "metadata": {
  "kernelspec": {
   "display_name": "Python 3",
   "language": "python",
   "name": "python3"
  },
  "language_info": {
   "codemirror_mode": {
    "name": "ipython",
    "version": 2
   },
   "file_extension": ".py",
   "mimetype": "text/x-python",
   "name": "python",
   "nbconvert_exporter": "python",
   "pygments_lexer": "ipython2",
   "version": "2.7.6"
  }
 },
 "nbformat": 4,
 "nbformat_minor": 0
}