{
 "cells": [
  {
   "cell_type": "markdown",
   "metadata": {
    "collapsed": true,
    "pycharm": {
     "name": "#%% md\n"
    }
   },
   "source": [
    "# Ch2-Lecture 5\n",
    "\n",
    "## No cloning theorem\n",
    "\n",
    "One of the most natural operations we perform daily on classical computers is the act of copying or _cloning_ classical bits. For example, you might make a copy of a file containing your -typed homework to keep as a backup. On the negative side, a criminal might copy a classical object like a banknote (though it is not easy) to use as forged money. However, in quantum it turns out that copying quantum bits is impossible — given an arbitrary, unknown quantum state $ \\left|\\psi\\right\\rangle  \\in  \\mathbb{C} ^2$ , there is no quantum circuit which creates a perfect copy of  $\\left|\\psi\\right\\rangle$ ! How can we formalize such a statement?\n",
    "\n",
    "\n",
    "We use proof by contradiction. Suppose there exists a unitary $U\\in \\mathcal L\\left(\\mathbb C^2 \\otimes \\mathbb C^2 \\right)$ which, for any $ \\left|\\psi\\right\\rangle $, maps $ \\left|\\psi\\right\\rangle  \\otimes  \\left|0\\right\\rangle $ to $ \\left|\\psi\\right\\rangle  \\otimes  \\left|\\psi\\right\\rangle $, i.e. creates a copy of $ \\left|\\psi\\right\\rangle $. To obtain the desired contradiction, we begin by applying $U$ to two arbitrary states $ \\left|\\psi_1\\right\\rangle , \\left|\\psi_2\\right\\rangle  \\in  \\mathbb{C} ^2$ , obtaining\n",
    "$$\n",
    " \\left|\\phi\\right\\rangle =U \\left( \\left|\\psi_1\\right\\rangle  \\otimes  \\left|0\\right\\rangle \\right)= \\left|\\psi_1\\right\\rangle  \\otimes  \\left|\\psi_1\\right\\rangle\n",
    "$$\n",
    "and\n",
    "$$\n",
    " \\left|\\phi^\\prime \\right\\rangle =U \\left( \\left|\\psi_2\\right\\rangle  \\otimes  \\left|0\\right\\rangle \\right)= \\left|\\psi_2\\right\\rangle  \\otimes  \\left|\\psi_2\\right\\rangle\n",
    "$$\n",
    "What happens if we now take the inner product $ \\left\\langle \\phi \\middle| \\phi^\\prime  \\right\\rangle $? The middle terms of these equations yield\n",
    "$$\n",
    " \\left( \\left\\langle \\psi_1 \\right|  \\otimes  \\left\\langle 0 \\right| \\right)U^\\dagger U \\left( \\left|\\psi_2\\right\\rangle  \\otimes  \\left|0\\right\\rangle \\right) = \\left( \\left\\langle \\psi_1 \\right|  \\otimes  \\left\\langle 0 \\right| \\right) \\left( \\left|\\psi_2\\right\\rangle  \\otimes  \\left|0\\right\\rangle \\right)  =  \\left\\langle \\psi_1 \\middle| \\psi_2 \\right\\rangle \\left\\langle 0 \\middle| 0 \\right\\rangle = \\left\\langle \\psi_1 \\middle| \\psi_2 \\right\\rangle\n",
    "$$\n",
    "On the other hand, the right sides of the equations yield\n",
    "$$\n",
    " \\left( \\left\\langle \\psi_1 \\right|  \\otimes  \\left\\langle \\psi_1 \\right| \\right) \\left( \\left|\\psi_2\\right\\rangle  \\otimes  \\left|\\psi_2\\right\\rangle \\right)= \\left\\langle \\psi_1 \\middle| \\psi_2 \\right\\rangle  \\left\\langle \\psi_1 \\middle| \\psi_2 \\right\\rangle =  \\left( \\left\\langle \\psi_1 \\middle| \\psi_2 \\right\\rangle \\right)^2\n",
    "$$\n",
    "\n",
    "Combining these two, we have that $ \\left\\langle \\psi_1 \\middle| \\psi_2 \\right\\rangle =  \\left( \\left\\langle \\psi_1 \\middle| \\psi_2 \\right\\rangle \\right)^2 $ for some complex number $ \\left\\langle \\psi_1 \\middle| \\psi_2 \\right\\rangle  \\in  \\mathbb{C} $. This is equivalent to saying $c = c^2$ for $c \\in  \\mathbb{C} $, which has only two solutions — either $c = 1$ or $c = 0$. In other words, unless  $\\left|\\psi_1\\right\\rangle$  i and $ \\left|\\psi_2\\right\\rangle $ are the same vector (in which case $ \\left\\langle \\psi_1 \\middle| \\psi_2 \\right\\rangle  = 1$) or are orthogonal (i.e. $ \\left\\langle \\psi_1 \\middle| \\psi_2 \\right\\rangle  = 0$), we have a contradiction. Thus, there does not exist a $U$ which can perform the mapping $ \\left|\\psi\\right\\rangle  \\otimes  \\left|0\\right\\rangle  \\mapsto  \\left|\\psi\\right\\rangle  \\otimes  \\left|\\psi\\right\\rangle $ for arbitrary $ \\left|\\psi\\right\\rangle $."
   ]
  },
  {
   "cell_type": "markdown",
   "source": [
    "#### Send it after class 1\n",
    "\n",
    "This section showed that cloning arbitrary states $ \\left|\\psi\\right\\rangle  \\in  \\mathbb{C} ^2 $ is impossible. However, the proof technique failed when the states $ \\left|\\psi_1\\right\\rangle $ and $ \\left|\\psi_2\\right\\rangle $ are orthogonal. Indeed, it turns out in this case cloning is possible. Give a quantum circuit which can clone states $ \\left|0\\right\\rangle $ and $ \\left|1\\right\\rangle$, i.e. maps $ \\left|0\\right\\rangle  \\left|0\\right\\rangle  \\mapsto  \\left|1\\right\\rangle  \\left|1\\right\\rangle $ and $ \\left|1\\right\\rangle  \\left|0\\right\\rangle  \\mapsto  \\left|1\\right\\rangle  \\left|1\\right\\rangle $. How about a circuit which clones $ \\left|+\\right\\rangle $ and $ \\left|-\\right\\rangle $? (Hint: Convert the $+/−$ basis into the standard basis first, then apply your cloning circuit for the standard basis.)"
   ],
   "metadata": {
    "collapsed": false
   }
  },
  {
   "cell_type": "markdown",
   "source": [
    "## Quantum entanglement\n",
    "\n",
    "We have already seen the concept of quantum entanglement, and in particular used Bell states such as $ \\left|\\Phi^+\\right\\rangle =  \\frac{1}{\\sqrt{2}}  \\left(\\left|00\\right\\rangle+\\left|11\\right\\rangle\\right)$ as a _resource_ for performing interesting tasks such as quantum teleportation. But what exactly _is_ entanglement, and how can we recognize whether a given state $ \\left|\\psi\\right\\rangle $ is entangled?\n",
    "\n",
    "**History**. The term “entanglement” was coined in 1935 by physicist Erwin Schrödinger, who used the term “Vershränkung”, which in colloquial “non-physicist” German means “folding of the arms”. As discussed in a previous lecture, the question of whether entanglement truly exists has been a subject of intense debate. The famous Einstein-Podolsky-Rosen paper of 1935, in particular, argued that quantum mechanics could not be a complete physical theory due to its prediction of entangled states such as |Φ+ i. In 1964, however, physicist John Bell proposed what is now known as a “Bell inequality” or “Bell test”; this test could in principle be run in a lab to confirm whether Nature indeed allows the strong type of correlations between qubits which entanglement would allow. Recently, such tests have been studied under the guise of “non-local games”, which is a topic we shall soon visit. Moreover, it is important to note that we nowadays know that any quantum computation (on pure quantum states) cannot achieve an exponential speedup over classical computers unless the amount of quantum entanglement in the system is “large”. Thus, entanglement is generally regarded as an important resource.\n",
    "\n",
    "\n",
    "### Bipartite entanglement\n",
    "In this lecture, we study the notion of bipartite entanglement, meaning entanglement between a pair of quantum systems. Let $ \\left|\\psi\\right\\rangle  \\in  \\mathbb{C}^{d_1} \\otimes \\mathbb{C}^{d_2}$ be an arbitrary bipartite state. How can we tell if $ \\left|\\psi\\right\\rangle $ is entangled? Strictly speaking, earlier we defined $ \\left|\\psi\\right\\rangle $ as _entangled_ if it cannot be written as the tensor product of two states $ \\left|\\psi_1\\right\\rangle \\in  \\mathbb{C} ^{d_1} $ and $ \\left|\\psi_2\\right\\rangle \\in  \\mathbb{C} ^{d_2} $ , i.e.\n",
    "\n",
    "$$\n",
    "\\forall \\left|\\psi_1\\right\\rangle \\in  \\mathbb{C} ^{d_1},\\left|\\psi_2\\right\\rangle \\in  \\mathbb{C} ^{d_2}\n",
    "$$\n",
    "we have\n",
    "$$\n",
    " \\left|\\psi_1\\right\\rangle  \\otimes  \\left|\\psi_2\\right\\rangle \\neq  \\left|\\psi\\right\\rangle\n",
    "$$\n",
    "\n",
    "For example, let us confirm that $ \\left|\\Phi^+\\right\\rangle = \\frac{1}{\\sqrt{2}}  \\left( \\left|00\\right\\rangle + \\left|11\\right\\rangle \\right) $ is entangled. Again, we give a proof\n",
    "by contradiction. Suppose there exist $ \\left|\\psi_1\\right\\rangle \\in  \\mathbb{C} ^2 $ , $ \\left|\\psi_2\\right\\rangle  \\in  \\mathbb{C} ^2$ such that $ \\left|\\psi_1\\right\\rangle  \\otimes  \\left|\\psi_2\\right\\rangle = \\left|\\Phi^+\\right\\rangle $. If we write $ \\left|\\psi_1\\right\\rangle = \\alpha_1  \\left|0\\right\\rangle + \\beta_1  \\left|1\\right\\rangle $ and $ \\left|\\psi_2\\right\\rangle = \\alpha_2  \\left|0\\right\\rangle + \\beta_2  \\left|1\\right\\rangle $, we have\n",
    "\n",
    "$$\n",
    " \\left|\\psi_1\\right\\rangle  \\otimes  \\left|\\psi_2\\right\\rangle= \\left(\\alpha_1  \\left|0\\right\\rangle + \\beta_1  \\left|1\\right\\rangle\\right) \\otimes  \\left(\\alpha_2  \\left|0\\right\\rangle + \\beta_2  \\left|1\\right\\rangle\\right)= \\alpha_1  \\alpha_2  \\left|00\\right\\rangle +  \\alpha_1  \\beta_2  \\left|01\\right\\rangle +  \\beta_1  \\alpha_2  \\left|10\\right\\rangle+ \\beta_1  \\beta_2  \\left|11\\right\\rangle\n",
    "$$\n",
    "\n",
    "Since this supposed to equal $ \\left|\\Phi^+\\right\\rangle = \\frac{1}{\\sqrt{2}}  \\left( \\left|00\\right\\rangle + \\left|11\\right\\rangle \\right) $, we must have $ \\alpha_1  \\beta_2 =  \\beta_1  \\alpha?2  =0$ (since the standard basis vectors $ \\left|00\\right\\rangle ,  \\left|01\\right\\rangle , \\left|10\\right\\rangle ,  \\left|11\\right\\rangle $ are orthogonal). Suppose, without loss of generality, that $ \\beta_2 =0$, so that $= \\alpha_1  \\beta_2 = 0$. Then, we must also have $ \\beta_1=0$ so that $ \\beta_1  \\alpha_2 =0$ (the other option is to set $ \\alpha_2= 0$, but this would yield $ \\alpha_2 = \\beta_2  = 0$, i.e. $ \\left|\\psi_2\\right\\rangle $ is not a unit vector). But if $ \\beta_1 = \\beta_2  = 0$, then $ \\left|\\psi_1\\right\\rangle= \\left|0\\right\\rangle  $ and $ \\left|\\psi_2\\right\\rangle = \\left|0\\right\\rangle $, so that $ \\left|\\psi_1\\right\\rangle  \\otimes  \\left|\\psi_2\\right\\rangle = \\left|00\\right\\rangle \\neq \\left|\\Phi^+\\right\\rangle $! Thus, we have a contradiction, and so $ \\left|\\Phi^+\\right\\rangle $ is entangled\n",
    "\n",
    "### The Schmidt decomposition.\n",
    "\n",
    "Rather than go through such proofs each time we wish to check if |ψi is entangled, there is a more elegant tool we can use known as the _Schmidt decomposition_. To keep our discussion simple, we shall restrict our attention to the setting of two qubits; the ideas here extend straightforwardly to arbitrary local dimensions $d_1$ and $d_2$ . The Schmidt decomposition states that any vector $ \\left|\\psi\\right\\rangle  \\in  \\mathbb{C}^2 \\otimes  \\mathbb{C}^2$ can be written in the following special form:\n",
    "\n",
    "$$\n",
    " \\left|\\psi\\right\\rangle = \\alpha_0 \\left|a_0\\right\\rangle \\left|b_0\\right\\rangle+ \\alpha_1\\left|a_1\\right\\rangle \\left|b_1\\right\\rangle\n",
    "$$\n",
    "\n",
    "where the $ \\alpha_i$ are real and satisfy $ \\alpha_i\\geq 0$, and where $ \\left\\{ \\left|a_i\\right\\rangle \\right\\}^2_{i=1} $ and $ \\left\\{ \\left|b_i\\right\\rangle \\right\\}^2_{i=1} $ are orthonormal bases for $ \\mathbb{C}^2$ . The number of non-zero $ \\alpha_i$ is called the _Schmidt rank_ of $ \\left|\\psi\\right\\rangle $.\n",
    "\n",
    "Observe now that if $ \\left|\\psi\\right\\rangle $ has Schmidt rank 1, then clearly it is not entangled, as its Schmidt decomposition is in tensor product form. And this is no coincidence — it turns out that an arbitrary state $ \\left|\\psi\\right\\rangle $ is entangled if and only if its Schmidt rank is strictly greater than 1.\n",
    "\n",
    "Let us close by pointing out a subtle fact about Schmidt decompositions. Note that any vector $ \\left|\\psi\\right\\rangle  \\in  \\mathbb{C}^2 \\otimes  \\mathbb{C}^2$ can be written as\n",
    "\n",
    "$$\n",
    " \\left|\\psi\\right\\rangle = \\alpha_{00} \\left|00\\right\\rangle  +\\alpha_{01} \\left|01\\right\\rangle+\\alpha_{10} \\left|10\\right\\rangle  +\\alpha_{11} \\left|11\\right\\rangle\n",
    "$$\n",
    "This decomposition requires four terms (i.e. one per standard basis vector for $ \\mathbb{C}^4$ ). Part of the power of the Schmidt decomposition is that it manages to write this same state using just two terms."
   ],
   "metadata": {
    "collapsed": false
   }
  }
 ],
 "metadata": {
  "kernelspec": {
   "display_name": "Python 3",
   "language": "python",
   "name": "python3"
  },
  "language_info": {
   "codemirror_mode": {
    "name": "ipython",
    "version": 2
   },
   "file_extension": ".py",
   "mimetype": "text/x-python",
   "name": "python",
   "nbconvert_exporter": "python",
   "pygments_lexer": "ipython2",
   "version": "2.7.6"
  }
 },
 "nbformat": 4,
 "nbformat_minor": 0
}