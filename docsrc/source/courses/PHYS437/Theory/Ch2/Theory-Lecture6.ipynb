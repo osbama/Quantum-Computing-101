{
 "cells": [
  {
   "cell_type": "markdown",
   "metadata": {
    "collapsed": true,
    "pycharm": {
     "name": "#%% md\n"
    }
   },
   "source": [
    "# Ch2-Lecture 6\n",
    "\n",
    "## Non-Local Games\n",
    "\n",
    "We have discussed measurements and entanglement, now let's combine these two topics to discuss one of the most fundamental questions in quantum theory: Does entanglement as we understand it actually exist in Nature? Recall that in 1935, Einstein, Podolsky and Rosen (EPR) argued that quantum mechanics could not be a complete physical theory due to its prediction of states such as the Bell state $  \\left|\\Phi^+\\right\\rangle =  \\frac{1}{\\sqrt{2}}  \\left( \\left|00\\right\\rangle + \\left|11\\right\\rangle \\right)  $. For example, as we will discuss shortly, the Bell state _appears_ to allow superluminal (i.e. faster than the speed of light) communication, which is impossible by the theory of relativity. Thus, EPR suggested that there must be more to Nature than what quantum theory prescribes — namely, that there must be “ hidden variables” which contain extra information missing in quantum mechanics about what is actually happening in the subatomic world. In other words, the moon is there even if you do not look at it — it’s just that we “do not have access” to the hidden variables prescribing the state of the moon. Moreover, this information must be “local”, in the sense that instantaneous communication between variables should not be possible. Such theories arehence called local hidden variable theories.\n",
    "\n",
    "Remarkably, in 1964, John Bell proved that no local hidden variable theory could ever reproduce the statistics predicted by quantum mechanics! Thus, either local hidden variables theories are wrong, or quantum mechanics is wrong. In fact, Bell went a step further — he proposed a “simple” experiment which could be run in a lab to test which of these two cases represents reality. This experiment was based on (what is now called) a Bell inequality, and was run for example by the celebrated effort of Aspect, Grangier, and Roger in 1981, who wrote about their findings:\n",
    "\n",
    "> Our results, in excellent agreement with the quantum mechanical predictions, strongly violate the generalized Bell’s inequalities, and rule out the whole class of realistic local theories\n",
    ">>Aspect, Grangier, Roger, PRL 1981.\n",
    "\n",
    "\n",
    "Thus, quantum mechanics, and not a local hidden variable theory, appears to be correct, and\n",
    "Bell states as we understand them really do exist. It should be mentioned that these experiments are not iron-clad results — it turns out there are conceivable “loopholes” in such experimental setups which could explain the outcomes of such experiments without ruling out local hidden variable theories. Nevertheless, over the years improved experimental setups have managed to close some of these “loopholes”, and it is probably fair to say that the general physics community regards this at least as strong evidence that local hidden variable theories are insufficient to model the subatomic world.\n",
    "\n",
    "The equivalent of Bell inequalities in computer science is called non-local games. In the process, we will further practice working with measurements, and see another instance of how the non-local nature of entanglement can be harnessed in a computational task to perform a classically impossible feat."
   ]
  },
  {
   "cell_type": "markdown",
   "metadata": {},
   "source": [
    "## Does entanglement allow superluminal signalling?\n",
    "\n",
    "Before discussing what entanglement can do, however, let us take a detour to point out what entanglement _cannot_ do. Consider the Bell state $  \\left|\\Phi^+\\right\\rangle =  \\frac{1}{\\sqrt{2}}  \\left( \\left|00\\right\\rangle + \\left|11\\right\\rangle \\right)  $. Suppose you take the first qubit of $ \\left|\\Phi^+\\right\\rangle $ and run off to Pluto, and your friend Bob keeps the second qubit here on Earth. If you now measure your qubit in the standard basis $ \\left\\{ \\left|0\\right\\rangle , \\left|1\\right\\rangle \\right\\} $, you will obtain outcome $ \\left|i\\right\\rangle $ with probability\n",
    "\n",
    "$$\n",
    "\\begin{align*}\n",
    "\\text{Pr}(\\text{outcome } i) &= \\text{Tr}\\left( \\left(\\left| i \\right\\rangle\\!\\left\\langle i \\right|  \\otimes I  \\right) \\left| \\Phi^+ \\right\\rangle\\!\\left\\langle \\Phi^+ \\right|  \\right)\\\\\n",
    "&= \\frac{1}{2} \\text{Tr}\\left( \\left(\\left| i \\right\\rangle\\!\\left\\langle i \\right|  \\otimes I  \\right)  \\left( \\left| 00 \\right\\rangle\\!\\left\\langle 00 \\right|  + \\left| 00 \\right\\rangle\\!\\left\\langle 11 \\right| +  \\left| 11 \\right\\rangle\\!\\left\\langle 00 \\right| +  \\left| 11 \\right\\rangle\\!\\left\\langle 11 \\right|  \\right)   \\right)\\\\\n",
    "&= \\frac{1}{2}\n",
    "\\end{align*}\n",
    "$$\n",
    "\n",
    "Moreover, having obtained outcome $ \\left|i\\right\\rangle  $, you know Bob’s qubit on Earth has instantly collapsed to state $ \\left|i\\right\\rangle $ as well, since your joint postmeasurement state (according to _your_ state of knowledge, not Bob’s!) is given by (the normalized version of)\n",
    "\n",
    "$$\n",
    " \\left( \\left| i \\right\\rangle\\!\\left\\langle i \\right|  \\otimes I\\right) \\left|\\Phi^+\\right\\rangle = \\frac{1}{\\sqrt{2}}\\left( \\left| i \\right\\rangle\\!\\left\\langle i \\right|  \\otimes I\\right) \\left(\\left|00\\right\\rangle + \\left|11\\right\\rangle\\right)= \\frac{1}{\\sqrt{2}}  \\left|i\\right\\rangle  \\left|i\\right\\rangle\n",
    "$$\n",
    "\n",
    "Does this mean you have managed to _instantly_ communicate the value of i to Bob? This would be a big no-no according to the theory of relativity!\n",
    "\n",
    "To resolve this paradox, we employ the density operator framework. First, observe that Bob’s state of knowledge before your measurement is given by the reduced density matrix of his qubit, which recall from last class satisfies\n",
    "\n",
    "$$\n",
    " \\rho _B= \\text{Tr}_A\\left( \\left| \\Phi^+ \\right\\rangle\\!\\left\\langle \\Phi^+ \\right| \\right)= \\frac{1}{2} I\n",
    "$$\n",
    "\n",
    "In other words, Bob’s qubit contains no information by itself. Now let us compute Bob’s reduced state after you’ve performed your measurement (assuming you have not communicated your result to Bob by some classical means such as via satellite phone). Since with probability 1/2, you obtain measurement outcome $ \\left|i\\right\\rangle $, resulting in joint state $ \\left|ii\\right\\rangle $, the density operator describing your joint post-measurement state is\n",
    "\n",
    "$$\n",
    " \\sigma_{AB}= \\frac{1}{2}  \\left| 00 \\right\\rangle\\!\\left\\langle 00 \\right| + \\frac{1}{2}  \\left| 11 \\right\\rangle\\!\\left\\langle 11 \\right|\n",
    "$$\n",
    "\n",
    "If we now check Bob’s reduced state, we find that again\n",
    "\n",
    "$$\n",
    " \\text{Tr}_A\\left( \\sigma_{AB}\\right)= \\frac{1}{2}  \\text{Tr}_A\\left(\\left| 00 \\right\\rangle\\!\\left\\langle 00 \\right| + \\left| 11 \\right\\rangle\\!\\left\\langle 11 \\right|\\right)= \\frac{1}{2}  \\left( \\text{Tr}_A\\left(\\left| 00 \\right\\rangle\\!\\left\\langle 00 \\right|\\right) +\\text{Tr}_A\\left(\\left| 11 \\right\\rangle\\!\\left\\langle 11 \\right|\\right)\\right)= \\frac{1}{2}  \\left( \\left| 0 \\right\\rangle\\!\\left\\langle 0 \\right| + \\left| 1 \\right\\rangle\\!\\left\\langle 1 \\right| \\right)= \\frac{1}{2} I\n",
    "$$\n",
    "\n",
    "Thus, Bob has learned nothing about the outcome of your measurement! In other words, although Bob’s state indeed changes instantly once you measure your qubit (i.e. a collapse occurs), he has no way of knowing it until classical information encoding the measurement outcome is sent from Pluto to Earth. Thus, no information is instantly transmitted."
   ]
  },
  {
   "cell_type": "code",
   "execution_count": null,
   "metadata": {
    "pycharm": {
     "name": "#%%\n"
    }
   },
   "outputs": [],
   "source": []
  }
 ],
 "metadata": {
  "kernelspec": {
   "display_name": "Python 3 (ipykernel)",
   "language": "python",
   "name": "python3"
  },
  "language_info": {
   "codemirror_mode": {
    "name": "ipython",
    "version": 3
   },
   "file_extension": ".py",
   "mimetype": "text/x-python",
   "name": "python",
   "nbconvert_exporter": "python",
   "pygments_lexer": "ipython3",
   "version": "3.8.12"
  }
 },
 "nbformat": 4,
 "nbformat_minor": 1
}