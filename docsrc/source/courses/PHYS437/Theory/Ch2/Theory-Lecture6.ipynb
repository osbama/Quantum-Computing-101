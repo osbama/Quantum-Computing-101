{
 "cells": [
  {
   "cell_type": "markdown",
   "metadata": {
    "collapsed": true,
    "pycharm": {
     "name": "#%% md\n"
    }
   },
   "source": [
    "# Ch2-Lecture 6\n",
    "\n",
    "## Non-Local Games\n",
    "\n",
    "We have discussed measurements and entanglement, now let's combine these two topics to discuss one of the most fundamental questions in quantum theory: Does entanglement as we understand it actually exist in Nature? Recall that in 1935, Einstein, Podolsky and Rosen (EPR) argued that quantum mechanics could not be a complete physical theory due to its prediction of states such as the Bell state $  \\left|\\Phi^+\\right\\rangle =  \\frac{1}{\\sqrt{2}}  \\left( \\left|00\\right\\rangle + \\left|11\\right\\rangle \\right)  $. For example, as we will discuss shortly, the Bell state _appears_ to allow superluminal (i.e. faster than the speed of light) communication, which is impossible by the theory of relativity. Thus, EPR suggested that there must be more to Nature than what quantum theory prescribes — namely, that there must be “ hidden variables” which contain extra information missing in quantum mechanics about what is actually happening in the subatomic world. In other words, the moon is there even if you do not look at it — it’s just that we “do not have access” to the hidden variables prescribing the state of the moon. Moreover, this information must be “local”, in the sense that instantaneous communication between variables should not be possible. Such theories arehence called local hidden variable theories.\n",
    "\n",
    "Remarkably, in 1964, John Bell proved that no local hidden variable theory could ever reproduce the statistics predicted by quantum mechanics! Thus, either local hidden variables theories are wrong, or quantum mechanics is wrong. In fact, Bell went a step further — he proposed a “simple” experiment which could be run in a lab to test which of these two cases represents reality. This experiment was based on (what is now called) a Bell inequality, and was run for example by the celebrated effort of Aspect, Grangier, and Roger in 1981, who wrote about their findings:\n",
    "\n",
    "> Our results, in excellent agreement with the quantum mechanical predictions, strongly violate the generalized Bell’s inequalities, and rule out the whole class of realistic local theories\n",
    ">>Aspect, Grangier, Roger, PRL 1981.\n",
    "\n",
    "\n",
    "Thus, quantum mechanics, and not a local hidden variable theory, appears to be correct, and\n",
    "Bell states as we understand them really do exist. It should be mentioned that these experiments are not iron-clad results — it turns out there are conceivable “loopholes” in such experimental setups which could explain the outcomes of such experiments without ruling out local hidden variable theories. Nevertheless, over the years improved experimental setups have managed to close some of these “loopholes”, and it is probably fair to say that the general physics community regards this at least as strong evidence that local hidden variable theories are insufficient to model the subatomic world.\n",
    "\n",
    "The equivalent of Bell inequalities in computer science is called non-local games. In the process, we will further practice working with measurements, and see another instance of how the non-local nature of entanglement can be harnessed in a computational task to perform a classically impossible feat."
   ]
  },
  {
   "cell_type": "markdown",
   "metadata": {},
   "source": [
    "## Does entanglement allow superluminal signalling?\n",
    "\n",
    "Before discussing what entanglement can do, however, let us take a detour to point out what entanglement _cannot_ do. Consider the Bell state $  \\left|\\Phi^+\\right\\rangle =  \\frac{1}{\\sqrt{2}}  \\left( \\left|00\\right\\rangle + \\left|11\\right\\rangle \\right)  $. Suppose you take the first qubit of $ \\left|\\Phi^+\\right\\rangle $ and run off to Pluto, and your friend Bob keeps the second qubit here on Earth. If you now measure your qubit in the standard basis $ \\left\\{ \\left|0\\right\\rangle , \\left|1\\right\\rangle \\right\\} $, you will obtain outcome $ \\left|i\\right\\rangle $ with probability\n",
    "\n",
    "$$\n",
    "\\begin{align*}\n",
    "\\text{Pr}(\\text{outcome } i) &= \\text{Tr}\\left( \\left(\\left| i \\right\\rangle\\!\\left\\langle i \\right|  \\otimes I  \\right) \\left| \\Phi^+ \\right\\rangle\\!\\left\\langle \\Phi^+ \\right|  \\right)\\\\\n",
    "&= \\frac{1}{2} \\text{Tr}\\left( \\left(\\left| i \\right\\rangle\\!\\left\\langle i \\right|  \\otimes I  \\right)  \\left( \\left| 00 \\right\\rangle\\!\\left\\langle 00 \\right|  + \\left| 00 \\right\\rangle\\!\\left\\langle 11 \\right| +  \\left| 11 \\right\\rangle\\!\\left\\langle 00 \\right| +  \\left| 11 \\right\\rangle\\!\\left\\langle 11 \\right|  \\right)   \\right)\\\\\n",
    "&= \\frac{1}{2}\n",
    "\\end{align*}\n",
    "$$\n",
    "\n",
    "Moreover, having obtained outcome $ \\left|i\\right\\rangle  $, you know Bob’s qubit on Earth has instantly collapsed to state $ \\left|i\\right\\rangle $ as well, since your joint postmeasurement state (according to _your_ state of knowledge, not Bob’s!) is given by (the normalized version of)\n",
    "\n",
    "$$\n",
    " \\left( \\left| i \\right\\rangle\\!\\left\\langle i \\right|  \\otimes I\\right) \\left|\\Phi^+\\right\\rangle = \\frac{1}{\\sqrt{2}}\\left( \\left| i \\right\\rangle\\!\\left\\langle i \\right|  \\otimes I\\right) \\left(\\left|00\\right\\rangle + \\left|11\\right\\rangle\\right)= \\frac{1}{\\sqrt{2}}  \\left|i\\right\\rangle  \\left|i\\right\\rangle\n",
    "$$\n",
    "\n",
    "Does this mean you have managed to _instantly_ communicate the value of i to Bob? This would be a big no-no according to the theory of relativity!\n",
    "\n",
    "To resolve this paradox, we employ the density operator framework. First, observe that Bob’s state of knowledge before your measurement is given by the reduced density matrix of his qubit, which recall from last class satisfies\n",
    "\n",
    "$$\n",
    " \\rho _B= \\text{Tr}_A\\left( \\left| \\Phi^+ \\right\\rangle\\!\\left\\langle \\Phi^+ \\right| \\right)= \\frac{1}{2} I\n",
    "$$\n",
    "\n",
    "In other words, Bob’s qubit contains no information by itself. Now let us compute Bob’s reduced state after you’ve performed your measurement (assuming you have not communicated your result to Bob by some classical means such as via satellite phone). Since with probability 1/2, you obtain measurement outcome $ \\left|i\\right\\rangle $, resulting in joint state $ \\left|ii\\right\\rangle $, the density operator describing your joint post-measurement state is\n",
    "\n",
    "$$\n",
    " \\sigma_{AB}= \\frac{1}{2}  \\left| 00 \\right\\rangle\\!\\left\\langle 00 \\right| + \\frac{1}{2}  \\left| 11 \\right\\rangle\\!\\left\\langle 11 \\right|\n",
    "$$\n",
    "\n",
    "If we now check Bob’s reduced state, we find that again\n",
    "\n",
    "$$\n",
    " \\text{Tr}_A\\left( \\sigma_{AB}\\right)= \\frac{1}{2}  \\text{Tr}_A\\left(\\left| 00 \\right\\rangle\\!\\left\\langle 00 \\right| + \\left| 11 \\right\\rangle\\!\\left\\langle 11 \\right|\\right)= \\frac{1}{2}  \\left( \\text{Tr}_A\\left(\\left| 00 \\right\\rangle\\!\\left\\langle 00 \\right|\\right) +\\text{Tr}_A\\left(\\left| 11 \\right\\rangle\\!\\left\\langle 11 \\right|\\right)\\right)= \\frac{1}{2}  \\left( \\left| 0 \\right\\rangle\\!\\left\\langle 0 \\right| + \\left| 1 \\right\\rangle\\!\\left\\langle 1 \\right| \\right)= \\frac{1}{2} I\n",
    "$$\n",
    "\n",
    "Thus, Bob has learned nothing about the outcome of your measurement! In other words, although Bob’s state indeed changes instantly once you measure your qubit (i.e. a collapse occurs), he has no way of knowing it until classical information encoding the measurement outcome is sent from Pluto to Earth. Thus, no information is instantly transmitted."
   ]
  },
  {
   "cell_type": "markdown",
   "source": [
    "## Non-local games\n",
    "\n",
    "As we just saw measuring half of a Bell state does not allow one to communicate information from Alice to Bob. Surprisingly, though, the story has only just begun — one can nevertheless use local measurements on both halves of a Bell state to generate a probability distribution which contains correlations stronger than those possible classically. It is precisely this principle which is harnessed in non-local games. The setup of a non-local game is as follows. Suppose you and a friend are charged with doing too much homework on school property, and taken to police headquarters, where you are separated into two different rooms (i.e. you cannot communicate with one another). An interrogator takes turns asking each of you a question, and subsequently compares and cross-checks your answers to verify that you are both telling the truth. It turns out that if you and your friend happened to share two halves of a Bell state before being taken to the police station, then by performing appropriate local measurement on your qubits based on the interrogator’s questions, you can sometimes convince the interrogator of your honesty with higher probability than you could hope to do so without the use of entanglement. Let us demonstrate this via the concrete example of the CHSH game.\n",
    "\n",
    "### The CHSH game\n",
    "\n",
    "In 1969, Clauser-Horne-Shimony-Holt gave an important variant of Bell’s inequality, nowadays named after its authors as the CHSH inequality. It turns out that this inequality can be recast as a non-local game, called the _CHSH game_. To specify this game, let us denote the two spatially separated players as Alice and Bob, each of which receives a single question consisting of a single bit, $q_A \\in  \\left\\{0,1\\right\\} $  for Alice and $q_B \\in  \\left\\{0,1\\right\\} $ for Bob. The questions are chosen uniformly at random. Alice and Bob now output a response consisting of a single bit each, $r_A \\in  \\left\\{0,1\\right\\} $ for Alice and $r_B \\in  \\left\\{0,1\\right\\} $ for Bob. We say they win if $q_A \\land q_B = r_A \\oplus r_B$ , where $\\land$ denotes the AND function and $\\oplus$ denotes XOR (recall XOR on two bits $b_1,b_2 \\in  \\left\\{0,1\\right\\} $ equals one if and only if precisely one of $b_1$ and $b_2$ is set to 1). In words, this says the following: If the questions are $q_Aq_B  \\in  \\left\\{00, 01, 10\\right\\} $, then Alice and Bob should answer with the same bit. Only if the questions are $q_Aq_B  \\in  \\left\\{11\\right\\} $ should they answer with different bits.\n",
    "\n",
    "\n",
    "\n",
    "#### Limits on classical strategies\n",
    "\n",
    "Let us convince ourselves that any deterministic classical strategy for this game can win with probability at most 3/4. Specifically, any deterministic strategy for Alice (similarly for Bob) falls into one of four cases, specifying what Alice does when she receives her question, $q_A$ : Output the same bit as $q_A$ , output the opposite of $q_A$ , ignore $q_A$ and always output 0, or ignore $q_A$ and always output 1. Let us consider one such strategy; the analysis of all other cases follows analogously. Suppose Alice and Bob always ignore their questions $q_A$ and $q_B$ and output $r_A = r_B = 0$. What is the probability of this strategy to win? Since $r_A = r_B = 0$, we have $r_A  \\oplus  r_B = 0$, meaning they win whenever $q_A  \\land  q_B = 0$. This happens so long as $q_Aq_B  \\in  \\left\\{00, 01, 10\\right\\} $, i.e. for 3 of the 4 possible pairs of questions they can receive. Since the questions are chosen uniformly at random, they win with probability 3/4, as claimed.\n",
    "\n",
    "Finally, you may wonder whether Alice and Bob can classically do better if they use a randomized strategy for selecting answers. It turns out the answer is no, as a randomized strategy may be viewed as an average over all deterministic strategies. Thus, they might as well choose the optimal deterministic strategy.\n",
    "\n",
    "\n",
    "#### A quantum strategy\n",
    "\n",
    "We now show that if Alice and Bob share the Bell pair $ \\left|\\Phi^+\\right\\rangle $ before the game starts, then by performing appropriate local measurements based their questions $q_A$ and $q_B$ , they can win the game with a higher probability of $\\cos^2(\\pi/8)\\approx0.854$ (compared to 3/4 in the classical case). This is equivalent to saying the original CHSH inequality is _violated_ by quantum mechanics, meaning a local hidden variable theory cannot explain the measurement statistics predicted by quantum mechanics (though we will not discuss these details here). To model Alice and Bob’s strategy, we introduce the concept of an _observable_.\n",
    "\n",
    "Observables\n",
    ": Recall that a projective measurement is given by a set of projectors $M= \\left\\{\\Pi_i \\right\\} $ such that $  \\sum_{i=1}\\Pi_i=I$. To each outcome we associate some label, $i \\in S  \\subset  \\mathbb{R} $ for some set $S$ such as $S = \\{1, . . . , d\\}$. An _observable_ is simply the matrix\n",
    "\n",
    "$$\n",
    "C= \\sum_{i\\in S} i.\\Pi_i\n",
    "$$\n",
    "\n",
    "For example, consider a measurement in the standard basis $ \\left\\{ \\left|0\\right\\rangle , \\left|1\\right\\rangle \\right\\} $, where the outcomes are labelled with set $S = {\\1, \\−1}$, respectively. Then, the corresponding observable is (for Pauli operator $Z$)\n",
    "\n",
    "$$\n",
    "C =  \\left| 0 \\right\\rangle\\!\\left\\langle 0 \\right| - \\left| 1 \\right\\rangle\\!\\left\\langle 1 \\right| =Z\n",
    "$$"
   ],
   "metadata": {
    "collapsed": false,
    "pycharm": {
     "name": "#%% md\n"
    }
   }
  },
  {
   "cell_type": "markdown",
   "source": [
    "\n",
    "### Send it after class 1\n",
    "\n",
    "Consider measurement $M =  \\left\\{ \\left| + \\right\\rangle\\!\\left\\langle + \\right| , \\left| - \\right\\rangle\\!\\left\\langle - \\right| \\right\\} $ with outcome labels $S = \\{1, −1}\\$. What is the corresponding observable?"
   ],
   "metadata": {
    "collapsed": false
   }
  },
  {
   "cell_type": "markdown",
   "source": [
    "Observables are useful in that they allow us to quickly calculate the expected value of a measurement. Recall that for a random variable $X$ distributed over set $Y$ , the expected value of $X$ is defined\n",
    "\n",
    "$$\n",
    "E[X] =  \\sum_{y\\in Y}  \\text{Pr}\\left(X=y\\right).y\n",
    "$$\n",
    "\n",
    "and captures what value $X$ takes on _average_. Similarly, the outcome of a measurement $M= \\left\\{\\Pi_i \\right\\}$ can be modelled by a random variable $X$ over possible outcome labels $i \\in S$, and we can\n",
    "ask what $E[X]$ is. For a measurement on density operator $ \\rho $, this is given by the formula\n",
    "\n",
    "$$\n",
    "E[X] =  \\sum_{i\\in S}  \\text{Pr}\\left(X=i\\right).i=\\sum_{i\\in S}  \\text{Tr}\\left( \\rho \\Pi_i\\right).i= \\text{Tr}\\left( \\rho  \\left( \\sum_{i}\\Pi_i . i \\right) \\right)= \\text{Tr}\\left( \\rho C\\right)\n",
    "$$\n",
    "\n",
    "for observable $C= \\sum_{i\\in S} i.\\Pi_i$ , and where the third equality follows by linearity of the trace."
   ],
   "metadata": {
    "collapsed": false
   }
  },
  {
   "cell_type": "markdown",
   "source": [
    "\n",
    "### Send it after class 2\n",
    "\n",
    "Suppose we measure in the standard basis $ \\left\\{ \\left|0\\right\\rangle , \\left|1\\right\\rangle \\right\\} \\subseteq  \\mathbb{C} ^2 $ with corresponding measurement labels $\\{1, −1\\}$, respectively. Convince yourself that the corresponding observable is Pauli $Z$. What is the expected value of measuring density operator $ \\rho = \\frac{2}{3} \\left| 0 \\right\\rangle\\!\\left\\langle 0 \\right| + \\frac{1}{3}  \\left| 1 \\right\\rangle\\!\\left\\langle 1 \\right| $  with observable $Z$?"
   ],
   "metadata": {
    "collapsed": false
   }
  },
  {
   "cell_type": "markdown",
   "source": [
    "**Alice and Bob’s strategy.** With observables in hand, we state Alice’s and Bob’s strategy. First, let us change the encoding of their output bits. Namely, instead of outputting $r_A,r_B  \\in  \\left\\{0,1\\right\\} $, in their measurements Alice and Bob use label 1 to mean output 0, and label −1 to mean output bit 1. Then, conditioned on questions $q_A$ and $q_B$ , Alice and Bob use observables $A_{q_A}$ and $B_{q_B}$ as follows:\n",
    "\n",
    "$$\n",
    "A_0=Z \\qquad A_1=X \\qquad B_0=H \\qquad B_1=ZHZ\n",
    "$$\n",
    "\n",
    "Note that all four of these observables have eigenvalues in set $S = \\{1, −1\\}$, and so they can be thought of as measurements in their respective eigenbases with outcomes labelled by $S$.\n",
    "\n",
    "_Calculating the success probability._ At first glance, it is likely unclear why such a strategy should be interesting at all. Let us first calculate the success probability of this strategy to demonstrate that it does work, and subsequently give an intuitive understanding of why it works. First, we claim that for arbitrary observables with spectral decompositions"
   ],
   "metadata": {
    "collapsed": false
   }
  }
 ],
 "metadata": {
  "kernelspec": {
   "display_name": "Python 3 (ipykernel)",
   "language": "python",
   "name": "python3"
  },
  "language_info": {
   "codemirror_mode": {
    "name": "ipython",
    "version": 3
   },
   "file_extension": ".py",
   "mimetype": "text/x-python",
   "name": "python",
   "nbconvert_exporter": "python",
   "pygments_lexer": "ipython3",
   "version": "3.8.12"
  }
 },
 "nbformat": 4,
 "nbformat_minor": 1
}