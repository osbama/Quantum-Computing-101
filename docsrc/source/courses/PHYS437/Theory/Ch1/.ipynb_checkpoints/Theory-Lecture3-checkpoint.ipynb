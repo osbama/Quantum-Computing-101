{
 "cells": [
  {
   "cell_type": "markdown",
   "metadata": {
    "collapsed": true,
    "pycharm": {
     "name": "#%% md\n"
    }
   },
   "source": [
    "# Ch1-Lecture 3\n",
    "\n",
    "#### $Z$ Gate\n",
    "\n",
    "The $Z$ gate, on the other hand, has no classical analogue. It acts as\n",
    "\n",
    "$$\n",
    "Z\\left|0\\right\\rangle=\\begin{pmatrix}1 & 0 \\\\0 & -1\\end{pmatrix}\\begin{pmatrix}1  \\\\ 0 \\end{pmatrix} =\\begin{pmatrix}1  \\\\ 0 \\end{pmatrix}=\\left|0\\right\\rangle \\qquad Z\\left|1\\right\\rangle=\\begin{pmatrix}1 & 0 \\\\0 & -1\\end{pmatrix}\\begin{pmatrix}0  \\\\ 1 \\end{pmatrix} =-\\begin{pmatrix}0  \\\\ 1 \\end{pmatrix}=-\\left|1\\right\\rangle\n",
    "$$\n",
    "\n",
    "In other words, Z leaves $\\left|0\\right\\rangle$ invariant, but injects a “phase” of −1 in front of $\\left|1\\right\\rangle$. This also immediately shows that $\\left|0\\right\\rangle$ and $\\left|1\\right\\rangle$ are eigenvectors of Z with eigenvalues 1 and −1, respectively.\n",
    "\n",
    "The Z gate is special in that it allows us to inject a relative phase into a quantum state. For example,\n",
    "\n",
    "$$\n",
    "Z\\left|+\\right\\rangle=Z\\left(\\frac{1}{\\sqrt 2} \\left|0\\right\\rangle+\\frac{1}{\\sqrt 2}\\left|1\\right\\rangle\\right)=\\frac{1}{\\sqrt 2} Z \\left|0\\right\\rangle+\\frac{1}{\\sqrt 2} Z \\left|1\\right\\rangle=\\frac{1}{\\sqrt 2} \\left|0\\right\\rangle-\\frac{1}{\\sqrt 2}\\left|1\\right\\rangle=\\left|-\\right\\rangle\n",
    "$$\n",
    "\n",
    "By relative phase, we mean that only the amplitude on $\\left|1\\right\\rangle$ had its sign changed (or more generally, was multiplied by a phase $e^{i\\pi} = −1$). If _all_ the amplitudes in the state were instead multiplied by $e^{i\\pi}$ , then we could simply factor out the eiπ from the entire state — in this case,we would call $e^{i\\pi}$ a global phase. It turns out that a global phase is insignificant in that it cannot be experimentally detected. A relative phase may seemingly also look unimportant - yet, as we shall see in this course, it is one of the features of quantum mechanics which allows quantum computers to outperform classical ones!\n",
    "\n",
    "#### Hadamard Gate\n",
    "\n",
    "Finally, we come to a fourth important unitary gate, the Hadamard gate:\n",
    "\n",
    "$$\n",
    "H=\n",
    "\\begin{pmatrix}\n",
    "1 & 1 \\\\\n",
    "1 & -1\n",
    "\\end{pmatrix}\n",
    "$$\n",
    "\n",
    "The Hadamard gate is special in that it creates superpositions for us. Namely, we have $H\\left|0\\right\\rangle =\\left|+\\right\\rangle$ and $H\\left|1\\right\\rangle =\\left|-\\right\\rangle$. It can also “erase” superpositions, i.e. $H\\left|+\\right\\rangle =\\left|0\\right\\rangle$ and $H\\left|-\\right\\rangle =\\left|1\\right\\rangle$ . In other words, $H$ is self-inverse — we have that $H^2 = I$ for $I$ the identity matrix. In fact, the Pauli matrices are also self-inverse."
   ]
  },
  {
   "cell_type": "markdown",
   "metadata": {},
   "source": [
    "### Send it after class 1\n",
    "Verify that $H\\left|0\\right\\rangle =\\left|+\\right\\rangle$ and $H\\left|1\\right\\rangle$. Also verify $H^2=I$"
   ]
  },
  {
   "cell_type": "markdown",
   "metadata": {},
   "source": [
    "#### Quantum Circuits\n",
    "\n",
    "A _quantum circuit_ is a graphical model for depicting quantum computation. The quantum computation is represented by a sequence of quantum gates, measurements, initializations of qubits to known values, and etc. For example, here are three circuits:\n",
    "\n",
    "<div>\n",
    "<img src=\"images/Lecture3-fig1.png\" alt=\"Three Circuit Examples\" width=\"100\"/>\n",
    "</div>\n",
    "    \n",
    "They correspond to evolutions X|ψi, H|ψi, and HX|ψi, respectively. Each wire in such a\n",
    "diagram denotes a quantum system, and a box labelled by gate U depicts the action of unitary\n",
    "U . We think of time going from left to right; for the last circuit above, note that the X appears\n",
    "on the “left” in the circuit diagram but on the “right” in the expression HX|ψi; this is because\n",
    "X should be applied first to |ψi, then H."
   ]
  },
  {
   "cell_type": "markdown",
   "metadata": {},
   "source": []
  }
 ],
 "metadata": {
  "kernelspec": {
   "display_name": "Python 3 (ipykernel)",
   "language": "python",
   "name": "python3"
  },
  "language_info": {
   "codemirror_mode": {
    "name": "ipython",
    "version": 3
   },
   "file_extension": ".py",
   "mimetype": "text/x-python",
   "name": "python",
   "nbconvert_exporter": "python",
   "pygments_lexer": "ipython3",
   "version": "3.8.12"
  }
 },
 "nbformat": 4,
 "nbformat_minor": 1
}
