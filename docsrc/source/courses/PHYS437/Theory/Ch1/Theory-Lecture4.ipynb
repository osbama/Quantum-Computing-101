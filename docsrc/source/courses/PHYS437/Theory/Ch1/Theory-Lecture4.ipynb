{
 "cells": [
  {
   "cell_type": "markdown",
   "metadata": {
    "collapsed": true,
    "pycharm": {
     "name": "#%% md\n"
    }
   },
   "source": [
    "# Ch1-Lecture 4\n",
    "\n",
    "## Delayed choice quantum eraser\n",
    "\n",
    "A delayed-choice quantum eraser experiment, first performed by Yoon-Ho Kim, R. Yu, S. P. Kulik, Y. H. Shih and Marlan O. Scully, and reported in early 1999, is an elaboration on the quantum eraser experiment that incorporates concepts considered in Wheeler's delayed-choice experiment from late 70s to early 80s . The experiment was designed to investigate peculiar consequences of the well-known double-slit experiment in quantum mechanics, as well as the consequences of quantum entanglement.\n",
    "\n",
    "\n",
    "![Delayed choice Quantum Eraser](images/Delayed-Choice-Quantum-Eraser-1.jpg)\n",
    "\n",
    "\n",
    " An argon laser generates individual 351.1 nm photons that pass through a double-slit apparatus (vertical black line in the upper left corner of the diagram).\n",
    "\n",
    "An individual photon goes through one (or both) of the two slits. In the illustration, the photon paths are color-coded as red or green lines to indicate which slit the photon came through (red indicates slit A, green indicates slit B).\n",
    "\n",
    "So far, the experiment is like a conventional two-slit experiment. However, after the slits, spontaneous parametric down-conversion (SPDC) is used to prepare an entangled two-photon state. This is done by a nonlinear optical crystal BBO (beta barium borate) that converts the photon (from either slit) into two identical, orthogonally polarized entangled photons with $\\frac{1}{2}$ the frequency of the original photon. The paths followed by these orthogonally polarized photons are caused to diverge by the Glan–Thompson prism.\n",
    "\n",
    "One of these 702.2 nm photons, referred to as the \"signal\" photon (look at the red and green lines going upwards from the Glan–Thompson prism) continues to the target detector called $D_0$. During an experiment, detector $D_0$ is scanned along its x axis, its motions controlled by a step motor. A plot of \"signal\" photon counts detected by $D_0$ versus x can be examined to discover whether the cumulative signal forms an interference pattern.\n",
    "\n",
    "The other entangled photon, referred to as the \"idler\" photon (look at the red and green lines going downwards from the Glan–Thompson prism), is deflected by prism PS that sends it along divergent paths depending on whether it came from slit A or slit B.\n",
    "\n",
    "Somewhat beyond the path split, the idler photons encounter beam splitters $S_a$, $S_b$, and $S_c$ that each have a 50% chance of allowing the idler photon to pass through and a 50% chance of causing it to be reflected. $M_a$ and $M_b$ are mirrors.\n",
    "\n",
    "The beam splitters and mirrors direct the idler photons towards detectors labeled $D_1$, $D_2$, $D_3$ and $D_4$. Note that:\n",
    "\n",
    "* If an idler photon is recorded at detector $D_3$, it can only have come from slit B.\n",
    "* If an idler photon is recorded at detector $D_4$, it can only have come from slit A.\n",
    "* If an idler photon is detected at detector $D_1$ or $D_2$, it might have come from slit A or slit B.\n",
    "* The optical path length measured from slit to $D_1$, $D_2$, $D_3$ and $D_4$ is 2.5 m longer than the optical path length from slit to $D_0$. This means that any information that one can learn from an idler photon must be approximately 8 ns later than what one can learn from its entangled signal photon."
   ]
  },
  {
   "cell_type": "markdown",
   "source": [
    "Let's call the green path $\\left|0\\right\\rangle$ and red path $\\left|1\\right\\rangle$. The double slit can be described by a Hadamard gate. The SPDC corresponds to a CNOT-gate. The state after the SPDC $\\frac{1}{2} \\left(\\left|00\\right\\rangle+\\left|11\\right\\rangle\\right)$. There is a phase $\\phi$ depending on the position $x$ of the detector $D_0$, which corresponds to a phase gate $R_\\phi$. The state before the measurement is\n",
    "\n",
    "$$\n",
    " \\frac{1}{2} \\left(\\left|00\\right\\rangle+\\left|10\\right\\rangle+e^{i\\phi}\\left|01\\right\\rangle-e^{i\\phi}\\left|11\\right\\rangle\\right)\n",
    " $$\n",
    " $$\n",
    " =\\frac{1}{2} \\left(  \\left(\\left(1+e^{i\\phi}\\right)\\left|0\\right\\rangle+\\left(1-e^{i\\phi}\\right)\\left|1\\right\\rangle \\right)\\left|+\\right\\rangle+\\left(\\left(1-e^{i\\phi}\\right)\\left|0\\right\\rangle+\\left(1+e^{i\\phi}\\right)\\left|1\\right\\rangle \\right)\\left|-\\right\\rangle   \\right)\n",
    " $$"
   ],
   "metadata": {
    "collapsed": false
   }
  },
  {
   "cell_type": "markdown",
   "source": [
    "Detection of the idler photon by $D_3$ or $D_4$ provides delayed \"which-path information\" indicating whether the signal photon with which it is entangled had gone through slit A or B. On the other hand, detection of the idler photon by $D_1$ or $D_2$ provides a delayed indication that such information is not available for its entangled signal photon. Insofar as which-path information had earlier potentially been available from the idler photon, it is said that the information has been subjected to a \"delayed erasure\".\n",
    "\n",
    "* When the experimenters looked at the signal photons whose entangled idlers were detected at $D_1$ or $D_2$, they detected interference patterns.\n",
    "* However, when they looked at the signal photons whose entangled idlers were detected at $D_3$ or $D_4$, they detected simple diffraction patterns with no interference.\n",
    "\n",
    "\n",
    "Let's look at the probability to measure the a photon in $D_0$.\n",
    "\n",
    "* If we measure the second photon in $D_3$ or $D_4$, the post measurement state collapses to $\\left|\\pm\\right\\rangle$ basis. Then the probability for a click in $D_0$ is $\\frac{1}{2}$ . This is independent of the phase: no interference.\n",
    "* If we measure the second photon in $D_1$ or $D_2$, the probability for a click at $D_0$ is $\\frac{1}{2}\\left(1\\mp \\cos\\phi\\right)$, so here we see the interference. Whether we see interference or not depends on the basis choice on the second system, which can be delayed.\n",
    "\n",
    "![Oversimplified delayed choice quantum eraser](images/oversimplified_delayed_choice_eraser_quantum.png)\n"
   ],
   "metadata": {
    "collapsed": false
   }
  },
  {
   "cell_type": "markdown",
   "source": [],
   "metadata": {
    "collapsed": false
   }
  }
 ],
 "metadata": {
  "kernelspec": {
   "display_name": "Python 3",
   "language": "python",
   "name": "python3"
  },
  "language_info": {
   "codemirror_mode": {
    "name": "ipython",
    "version": 2
   },
   "file_extension": ".py",
   "mimetype": "text/x-python",
   "name": "python",
   "nbconvert_exporter": "python",
   "pygments_lexer": "ipython2",
   "version": "2.7.6"
  }
 },
 "nbformat": 4,
 "nbformat_minor": 0
}