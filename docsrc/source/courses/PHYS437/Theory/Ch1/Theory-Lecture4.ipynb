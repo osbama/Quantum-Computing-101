{
 "cells": [
  {
   "cell_type": "markdown",
   "metadata": {
    "collapsed": true,
    "pycharm": {
     "name": "#%% md\n"
    }
   },
   "source": [
    "# Ch1-Lecture 4\n",
    "\n",
    "## Delayed choice quantum eraser\n",
    "\n",
    "A delayed-choice quantum eraser experiment, first performed by Yoon-Ho Kim, R. Yu, S. P. Kulik, Y. H. Shih and Marlan O. Scully, and reported in early 1999, is an elaboration on the quantum eraser experiment that incorporates concepts considered in Wheeler's delayed-choice experiment from late 70s to early 80s . The experiment was designed to investigate peculiar consequences of the well-known double-slit experiment in quantum mechanics, as well as the consequences of quantum entanglement.\n",
    "\n",
    "\n",
    "![Delayed choice Quantum Eraser](images/Delayed-Choice-Quantum-Eraser-1.jpg)\n",
    "\n",
    "\n",
    " An argon laser generates individual 351.1 nm photons that pass through a double-slit apparatus (vertical black line in the upper left corner of the diagram).\n",
    "\n",
    "An individual photon goes through one (or both) of the two slits. In the illustration, the photon paths are color-coded as red or green lines to indicate which slit the photon came through (red indicates slit A, green indicates slit B).\n",
    "\n",
    "So far, the experiment is like a conventional two-slit experiment. However, after the slits, spontaneous parametric down-conversion (SPDC) is used to prepare an entangled two-photon state. This is done by a nonlinear optical crystal BBO (beta barium borate) that converts the photon (from either slit) into two identical, orthogonally polarized entangled photons with $\\frac{1}{2}$ the frequency of the original photon. The paths followed by these orthogonally polarized photons are caused to diverge by the Glan–Thompson prism.\n",
    "\n",
    "One of these 702.2 nm photons, referred to as the \"signal\" photon (look at the red and green lines going upwards from the Glan–Thompson prism) continues to the target detector called $D_0$. During an experiment, detector $D_0$ is scanned along its x axis, its motions controlled by a step motor. A plot of \"signal\" photon counts detected by $D_0$ versus x can be examined to discover whether the cumulative signal forms an interference pattern.\n",
    "\n",
    "The other entangled photon, referred to as the \"idler\" photon (look at the red and green lines going downwards from the Glan–Thompson prism), is deflected by prism PS that sends it along divergent paths depending on whether it came from slit A or slit B.\n",
    "\n",
    "Somewhat beyond the path split, the idler photons encounter beam splitters $S_a$, $S_b$, and $S_c$ that each have a 50% chance of allowing the idler photon to pass through and a 50% chance of causing it to be reflected. $M_a$ and $M_b$ are mirrors.\n",
    "\n",
    "The beam splitters and mirrors direct the idler photons towards detectors labeled $D_1$, $D_2$, $D_3$ and $D_4$. Note that:\n",
    "\n",
    "* If an idler photon is recorded at detector $D_3$, it can only have come from slit B.\n",
    "* If an idler photon is recorded at detector $D_4$, it can only have come from slit A.\n",
    "* If an idler photon is detected at detector $D_1$ or $D_2$, it might have come from slit A or slit B.\n",
    "* The optical path length measured from slit to $D_1$, $D_2$, $D_3$ and $D_4$ is 2.5 m longer than the optical path length from slit to $D_0$. This means that any information that one can learn from an idler photon must be approximately 8 ns later than what one can learn from its entangled signal photon."
   ]
  },
  {
   "cell_type": "markdown",
   "source": [
    "Let's call the green path $\\left|0\\right\\rangle$ and red path $\\left|1\\right\\rangle$. The double slit can be described by a Hadamard gate. The SPDC corresponds to a CNOT-gate. The state after the SPDC $\\frac{1}{2} \\left(\\left|00\\right\\rangle+\\left|11\\right\\rangle\\right)$. There is a phase $\\phi$ depending on the position $x$ of the detector $D_0$, which corresponds to a phase gate $R_\\phi$. The state before the measurement is\n",
    "\n",
    "$$\n",
    " \\frac{1}{2} \\left(\\left|00\\right\\rangle+\\left|10\\right\\rangle+e^{i\\phi}\\left|01\\right\\rangle-e^{i\\phi}\\left|11\\right\\rangle\\right)\n",
    " $$\n",
    " $$\n",
    " =\\frac{1}{2} \\left(  \\left(\\left(1+e^{i\\phi}\\right)\\left|0\\right\\rangle+\\left(1-e^{i\\phi}\\right)\\left|1\\right\\rangle \\right)\\left|+\\right\\rangle+\\left(\\left(1-e^{i\\phi}\\right)\\left|0\\right\\rangle+\\left(1+e^{i\\phi}\\right)\\left|1\\right\\rangle \\right)\\left|-\\right\\rangle   \\right)\n",
    " $$"
   ],
   "metadata": {
    "collapsed": false
   }
  },
  {
   "cell_type": "markdown",
   "source": [
    "Detection of the idler photon by $D_3$ or $D_4$ provides delayed \"which-path information\" indicating whether the signal photon with which it is entangled had gone through slit A or B. On the other hand, detection of the idler photon by $D_1$ or $D_2$ provides a delayed indication that such information is not available for its entangled signal photon. Insofar as which-path information had earlier potentially been available from the idler photon, it is said that the information has been subjected to a \"delayed erasure\".\n",
    "\n",
    "* When the experimenters looked at the signal photons whose entangled idlers were detected at $D_1$ or $D_2$, they detected interference patterns.\n",
    "* However, when they looked at the signal photons whose entangled idlers were detected at $D_3$ or $D_4$, they detected simple diffraction patterns with no interference.\n",
    "\n",
    "\n",
    "Let's look at the probability to measure the a photon in $D_0$.\n",
    "\n",
    "* If we measure the second photon in $D_3$ or $D_4$, the post measurement state collapses to $\\left|\\pm\\right\\rangle$ basis. Then the probability for a click in $D_0$ is $\\frac{1}{2}$ . This is independent of the phase: no interference.\n",
    "* If we measure the second photon in $D_1$ or $D_2$, the probability for a click at $D_0$ is $\\frac{1}{2}\\left(1\\mp \\cos\\phi\\right)$, so here we see the interference. Whether we see interference or not depends on the basis choice on the second system, which can be delayed.\n",
    "\n",
    "![Oversimplified delayed choice quantum eraser](images/oversimplified_delayed_choice_eraser_quantum.png)\n",
    "\n",
    "![Simulated recordings](images/KimDelayedChoiceQuantumEraserGraphsGIF.gif)\n",
    "Simulated joint detection rates between $D_0$ and $D_1$, $D_2$, $D_3$, $D_4$ ($R_{01}$, $R_{02}$, $R_{03}$, $R_{04}$)."
   ],
   "metadata": {
    "collapsed": false
   }
  },
  {
   "cell_type": "markdown",
   "source": [
    "As you can see I have omitted the \"coincidence counter\" from the above description, similar to many people who talked about this experiment. Actually  this is a key element. The coincidence counter would appear as a purely electronic device that acts on measurements. So if you would cast it as a quantum circuit it would look like this:\n",
    "\n",
    "![Coincidence counter Reveal case ](images/cycle-revealed.gif)\n",
    "![Coincidence counter Erasure case](images/cycle-erased.gif)\n",
    "\n",
    "The data was always the same! The \"erasure\" only changes how we *analyse* the data, i.e. what we keep and what we discard. This is done after the measurement, using an electronic circuit. There's no time travel, no disproof of materialism, just plain 'ol correlation being mistaken for causation.\n",
    "\n",
    "In fact you can even make classical analogues:\n",
    "Bob has a six-sided die, a two-sided coin, and a small empty box to put the coin in. He rolls the die, gets a result between 1 and 6, and places the coin in the box in a way that depends on the die roll. If the die roll was even, the coin is placed heads up. If the die roll was odd, the coin is placed tails up. Bob then writes down his die roll, and carefully hands the box to Alice.\n",
    "\n",
    "Alice now has to decide to either a) just open the box or b) shake the box before opening it. (Shaking the box randomizes the coin.) Once the box is open, she writes down whether the coin was face up or face down, and also writes down whether or not she shook the box.\n",
    "\n",
    "![Classical erasure](images/classical-banded-choice.png)\n"
   ],
   "metadata": {
    "collapsed": false
   }
  },
  {
   "cell_type": "markdown",
   "source": [
    "The tweaked delayed choice quantum eraser so that there isn't a classical analogue is called a [Bell test](https://en.wikipedia.org/wiki/Bell_test), however it lacks the \"characteristics\" of the delayed choice quantum eraser.  For example, in order to avoid the signalling loophole, the choice can no longer be delayed."
   ],
   "metadata": {
    "collapsed": false
   }
  },
  {
   "cell_type": "markdown",
   "source": [
    "## Postulate 4: Measurement\n",
    "\n",
    "How do we mathematically model the act of measuring or observing a quantum system considering that the very act of looking at or observing a quantum system irreversibly alters the state of the system? To model this phenomenon, we shall use the notion of a projective or von Neumann measurement (named after Hungarian child prodigy and mathematician, John von Neumann, who was apparently already familiar with calculus at the age of 8). To do so, we must define three classes of linear operators, each of which is increasingly more restricted. All three classes will prove vital throughout this course.\n",
    "\n",
    " 1. *Hermitian operators*: An operator $M \\in \\mathcal L \\left(\\mathbb C^d \\right)$ is Hermitian if $M = M^\\dagger$ . Examples you are already familiar with are the Pauli $X$, $Y$ , and $Z$ gates, which are not only unitary, but also Hermitian. A Hermitian operator has the important property that all of its eigenvalues are real. Thus, Hermitian operators can be thought of as a higher dimensional generalization of the real numbers.\n",
    " 2. *Positive semi-definite operators*: If a Hermitian operator has only non-negative eigenvalues, then it is called positive-semidefinite. Thus, positive semi-definite (or positive for short) matrices generalize the non-negative real numbers.\n",
    " 3. *Orthogonal projection operators*: A Hermitian matrix $\\Pi \\in \\mathcal L \\left(\\mathbb C^d \\right)$ is an orthogonal projection operator (or projector for short) if $\\Pi^2=\\Pi$. This is equivalent to saying $\\Pi$ has only eigenvalues 0 and 1. Let us prove this equivalence briefly: Since $\\Pi$ is Hermitian, we can take its spectral decomposition, $\\Pi = \\sum_i \\lambda_i \\left|\\lambda_i\\right\\rangle\\left\\langle\\lambda_i\\right|$. Hence,\n",
    "   $$\n",
    "    \\sum_i \\lambda_i \\left|\\lambda_i\\right\\rangle\\left\\langle\\lambda_i\\right|=\\Pi =\\Pi^2=\\left(\\sum_i \\lambda_i \\left|\\lambda_i\\right\\rangle\\left\\langle\\lambda_i\\right|\\right)\\left(\\sum_i \\lambda_i \\left|\\lambda_i\\right\\rangle\\left\\langle\\lambda_i\\right|\\right)=\\sum_i \\lambda_i^2 \\left|\\lambda_i\\right\\rangle\\left\\langle\\lambda_i\\right|\n",
    "   $$\n",
    "   where the last equality follows since {|λi i} is an orthonormal basis. Since the |λi i are orthogonal, we thus have that for all i, λi = λ2i . But this can only hold if λi ∈ {0, 1}, as claimed.\n",
    "\n",
    "   It is important to note that since a projector $\\Pi$’s eigenvalues are all 0 or 1, its spectral decomposition must take the form $\\Pi=\\sum_i \\left|\\psi_i\\right\\rangle\\left\\langle\\psi_i\\right|$, where $\\left\\{\\left|\\psi_i\\right\\rangle\\right\\}$ are an orthonormal set. Conversely, summing any set of orthonormal $\\left\\{\\left|\\psi_i\\right\\rangle\\right\\}$ in this fashion yields projector. Observe that a projector $\\Pi$ has rank 1 if and only if $\\Pi=\\left|\\psi\\right\\rangle\\left\\langle\\psi\\right|$ for some $\\left|\\psi_i\\right\\rangle \\in \\mathbb C ^ d $ , since the rank of $\\Pi$ equals the number of non-zero eigenvalues of $\\Pi$, and here $\\Pi=\\left|\\psi\\right\\rangle\\left\\langle\\psi\\right|$ is a spectral decomposition of $\\Pi$. Finally,let us develop an intuition for what a projector actually *does* — for any projector $\\Pi=\\sum_i \\left|\\psi_i\\right\\rangle\\left\\langle\\psi_i\\right|$ and state $\\left|\\phi\\right\\rangle$ to be measured, we have\n",
    "   $$\n",
    "   \\Pi\\left|\\phi\\right\\rangle=\\left(\\sum_i \\left|\\psi_i\\right\\rangle\\left\\langle\\psi_i\\right|\\right)\\left|\\phi\\right\\rangle=\\sum_i \\left|\\psi_i\\right\\rangle\\left(\\left\\langle\\psi_i\\middle|\\phi\\right\\rangle\\right)=\\sum_i \\left(\\left\\langle\\psi_i\\middle|\\phi\\right\\rangle\\right)\\left|\\psi_i\\right\\rangle\\in\\text{Span}\\left\\{\\left|\\psi_i\\right\\rangle\\right\\}\n",
    "   $$\n",
    "\n",
    "   where note $\\left\\langle\\psi_i\\middle|\\phi\\right\\rangle\\in \\mathbb C$. Thus, \\Pi projects us down onto the span of the vectors $\\left\\{\\left|\\psi_i\\right\\rangle\\right\\}$."
   ],
   "metadata": {
    "collapsed": false
   }
  },
  {
   "cell_type": "markdown",
   "source": [
    "### Send it after class 1\n",
    "\n",
    "* Verify that $I$, $\\left|0\\right\\rangle\\left\\langle0\\right|$, and $\\left|1\\right\\rangle\\left\\langle1\\right|$ are all projectors. More generally, show that for arbitrary unit vector $\\left|\\psi\\right\\rangle \\in \\mathbb C ^ d $ , $\\left|\\psi\\right\\rangle\\left\\langle\\psi\\right|$ is a projector.\n",
    "* For $\\left\\{\\left|\\psi_i\\right\\rangle\\right\\}$ orthonormal set, proove that $\\Pi=\\sum_i \\left|\\psi_i\\right\\rangle\\left\\langle\\psi_i\\right|$ is a projector\n",
    "* Consider three-dimensional vector $\\left|\\phi\\right\\rangle= \\alpha\\left|0\\right\\rangle + \\beta\\left|1\\right\\rangle + \\gamma\\left|2\\right\\rangle \\in \\mathbb C^3$ and $\\Pi= \\left|0\\right\\rangle\\left\\langle0\\right|+\\left|1\\right\\rangle\\left\\langle1\\right|$. Compute $\\Pi\\left|\\phi\\right\\rangle$, and observe that the latter indeed lies in the two-dimensional space $\\text{Span}\\left(\\{\\left|0\\right\\rangle, \\left|1\\right\\rangle\\}\\right)$"
   ],
   "metadata": {
    "collapsed": false
   }
  }
 ],
 "metadata": {
  "kernelspec": {
   "display_name": "Python 3",
   "language": "python",
   "name": "python3"
  },
  "language_info": {
   "codemirror_mode": {
    "name": "ipython",
    "version": 2
   },
   "file_extension": ".py",
   "mimetype": "text/x-python",
   "name": "python",
   "nbconvert_exporter": "python",
   "pygments_lexer": "ipython2",
   "version": "2.7.6"
  }
 },
 "nbformat": 4,
 "nbformat_minor": 0
}