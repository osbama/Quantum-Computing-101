{
 "cells": [
  {
   "cell_type": "code",
   "execution_count": 1,
   "id": "eafaff34",
   "metadata": {
    "execution": {
     "iopub.execute_input": "2021-04-09T02:14:25.276011Z",
     "iopub.status.busy": "2021-04-09T02:14:25.275196Z",
     "iopub.status.idle": "2021-04-09T02:14:25.955835Z",
     "shell.execute_reply": "2021-04-09T02:14:25.955246Z"
    }
   },
   "outputs": [
    {
     "name": "stdout",
     "output_type": "stream",
     "text": [
      "{'0': 1024}\n"
     ]
    }
   ],
   "source": [
    "import qiskit\n",
    "\n",
    "#set up an empty program for one qubit.\n",
    "qr = qiskit.QuantumRegister(1)\n",
    "cr = qiskit.ClassicalRegister(1)\n",
    "program = qiskit.QuantumCircuit(qr, cr)\n",
    "\n",
    "#We don't want to do anything to the qubit, so we'll skip straight to reading it out.\n",
    "program.measure(qr,cr)\n",
    "\n",
    "#Tell the local simulator to execute this entirely trivial program.\n",
    "job = qiskit.execute( program, qiskit.BasicAer.get_backend('qasm_simulator') )\n",
    "\n",
    "print( job.result().get_counts() )\n",
    "#Since qubits are initialized as 0, and we did nothing to our qubit before readout, we'll just get the result 0 many times."
   ]
  }
 ],
 "metadata": {
  "kernelspec": {
   "display_name": "Python 3",
   "language": "python",
   "name": "python3"
  },
  "language_info": {
   "codemirror_mode": {
    "name": "ipython",
    "version": 3
   },
   "file_extension": ".py",
   "mimetype": "text/x-python",
   "name": "python",
   "nbconvert_exporter": "python",
   "pygments_lexer": "ipython3",
   "version": "3.9.2"
  }
 },
 "nbformat": 4,
 "nbformat_minor": 5
}